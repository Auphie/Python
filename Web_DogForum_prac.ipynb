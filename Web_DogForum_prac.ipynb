{
 "cells": [
  {
   "cell_type": "code",
   "execution_count": 50,
   "metadata": {},
   "outputs": [],
   "source": [
    "import re"
   ]
  },
  {
   "cell_type": "code",
   "execution_count": 51,
   "metadata": {},
   "outputs": [],
   "source": [
    "def get_header(url):\n",
    "    import requests\n",
    "    import json\n",
    "    from bs4 import BeautifulSoup\n",
    "\n",
    "    custom_headers = json.loads(r'''{\n",
    "    \"Cookie\":\"trctestcookie=ok; bb_sessionhash=b94e3be6625814799942c9b1b1531485; bb_lastvisit=1517315818; bb_lastactivity=0; __utma=35414334.739693991.1517315820.1517315820.1517315820.1; __utmc=35414334; __utmz=35414334.1517315820.1.1.utmcsr=(direct)|utmccn=(direct)|utmcmd=(none); __utmt=1; __gads=ID=25c408c519cdba54:T=1517315820:S=ALNI_MY0NqJY1t862NnxeIexu648Tu-jhQ; bb_forum_view=723e91efa9356f6ee94f01eba06127c2ac4c9a19a-1-%7Bi-3_i-1517315862_%7D; trc_cookie_storage=taboola%2520global%253Auser-id%3D9fb09c65-d038-47cc-aca3-9186c0df7852-tuct1686a87; __utmb=35414334.80.4.1517316250219\",\n",
    "    \"Host\":\"www.dogforums.com\",\n",
    "    \"Pragma\":\"no-cache\",\n",
    "    \"Referer\":\"http://www.dogforums.com/\",\n",
    "    \"Upgrade-Insecure-Requests\":\"1\",\n",
    "    \"User-Agent\":\"Mozilla/5.0 (X11; Linux x86_64) AppleWebKit/537.36 (KHTML, like Gecko) Chrome/64.0.3282.119 Safari/537.36\"\n",
    "    }''')\n",
    "\n",
    "    resp = requests.get(url, headers=custom_headers)\n",
    "    resp.encoding = 'utf-8'\n",
    "    soup = BeautifulSoup(resp.text, 'html5lib')\n",
    "    return soup"
   ]
  },
  {
   "cell_type": "markdown",
   "metadata": {},
   "source": [
    "## ※ Grab Discussion content pracitce"
   ]
  },
  {
   "cell_type": "code",
   "execution_count": 52,
   "metadata": {},
   "outputs": [],
   "source": [
    "# Main page -- to get discussion topics\n",
    "url = 'http://www.dogforums.com/dog-training-forum/'"
   ]
  },
  {
   "cell_type": "code",
   "execution_count": 53,
   "metadata": {
    "scrolled": false
   },
   "outputs": [],
   "source": [
    "soup = get_header(url)"
   ]
  },
  {
   "cell_type": "code",
   "execution_count": 54,
   "metadata": {},
   "outputs": [
    {
     "data": {
      "text/plain": [
       "[<a class=\"title\" href=\"http://www.dogforums.com/dog-training-forum/191506-links-books-blogs-etc.html\" id=\"thread_title_191506\">Links, books, blogs etc for reactive / leash aggressive dogs and similar</a>,\n",
       " <a class=\"title\" href=\"http://www.dogforums.com/dog-training-forum/83538-thyroid-can-alter-behavior.html\" id=\"thread_title_83538\">Thyroid can alter behavior</a>,\n",
       " <a class=\"title\" href=\"http://www.dogforums.com/dog-training-forum/72111-reccomended-reading.html\" id=\"thread_title_72111\">Reccomended reading...</a>,\n",
       " <a class=\"title\" href=\"http://www.dogforums.com/dog-training-forum/10583-useful-training-links.html\" id=\"thread_title_10583\">Useful Training Links</a>,\n",
       " <a class=\"title\" href=\"http://www.dogforums.com/dog-training-forum/40425-training-tactics.html\" id=\"thread_title_40425\">Training Tactics</a>]"
      ]
     },
     "execution_count": 54,
     "metadata": {},
     "output_type": "execute_result"
    }
   ],
   "source": [
    "soup.select('a.title')[:5]"
   ]
  },
  {
   "cell_type": "code",
   "execution_count": 55,
   "metadata": {},
   "outputs": [
    {
     "data": {
      "text/plain": [
       "'http://www.dogforums.com/dog-training-forum/494130-training-goals-2018-a.html'"
      ]
     },
     "execution_count": 55,
     "metadata": {},
     "output_type": "execute_result"
    }
   ],
   "source": [
    "soup.select('a.title')[10].get('href')"
   ]
  },
  {
   "cell_type": "markdown",
   "metadata": {},
   "source": [
    "##  ※ Grab Author page practice"
   ]
  },
  {
   "cell_type": "code",
   "execution_count": 56,
   "metadata": {},
   "outputs": [],
   "source": [
    "url2 = 'http://www.dogforums.com/members/list/index2.html'\n",
    "soup2 = get_header(url2)"
   ]
  },
  {
   "cell_type": "code",
   "execution_count": 57,
   "metadata": {},
   "outputs": [
    {
     "data": {
      "text/plain": [
       "<a class=\"username\" href=\"http://www.dogforums.com/members/-shell-.html\"><span style=\"color: brown;\">(:Shell:)</span></a>"
      ]
     },
     "execution_count": 57,
     "metadata": {},
     "output_type": "execute_result"
    }
   ],
   "source": [
    "soup2.select('a.username')[10]"
   ]
  },
  {
   "cell_type": "code",
   "execution_count": 58,
   "metadata": {},
   "outputs": [
    {
     "data": {
      "text/plain": [
       "['http://www.dogforums.com/members/-shell-.html']"
      ]
     },
     "execution_count": 58,
     "metadata": {},
     "output_type": "execute_result"
    }
   ],
   "source": [
    "re.findall(\"\"\"<a class=\"username\" href=\"(.*)\"><span\"\"\", str(soup2.select('a.username')[10]))"
   ]
  },
  {
   "cell_type": "code",
   "execution_count": 59,
   "metadata": {
    "scrolled": true
   },
   "outputs": [
    {
     "data": {
      "text/plain": [
       "['http://www.dogforums.com/members/-3-goldens.html',\n",
       " 'http://www.dogforums.com/members/-3-puppity.html',\n",
       " 'http://www.dogforums.com/members/-3dogs.html',\n",
       " 'http://www.dogforums.com/members/-3here-sjohnny-3.html',\n",
       " 'http://www.dogforums.com/members/-3jessica-3.html']"
      ]
     },
     "execution_count": 59,
     "metadata": {},
     "output_type": "execute_result"
    }
   ],
   "source": [
    "details = [url for url in re.findall(\"\"\"<a class=\"username\" href=\"(.*)\"><span\"\"\", str(soup2))]\n",
    "details[:5]"
   ]
  },
  {
   "cell_type": "markdown",
   "metadata": {},
   "source": [
    "#### Another method -> For loop to get lists of author's href"
   ]
  },
  {
   "cell_type": "code",
   "execution_count": 60,
   "metadata": {
    "scrolled": true
   },
   "outputs": [
    {
     "data": {
      "text/plain": [
       "'http://www.dogforums.com/members/-shell-.html'"
      ]
     },
     "execution_count": 60,
     "metadata": {},
     "output_type": "execute_result"
    }
   ],
   "source": [
    "soup2.select('a.username')[10].get('href')"
   ]
  },
  {
   "cell_type": "code",
   "execution_count": 61,
   "metadata": {},
   "outputs": [
    {
     "data": {
      "text/plain": [
       "['http://www.dogforums.com/members/-3-goldens.html',\n",
       " 'http://www.dogforums.com/members/-3-puppity.html',\n",
       " 'http://www.dogforums.com/members/-3dogs.html',\n",
       " 'http://www.dogforums.com/members/-3here-sjohnny-3.html',\n",
       " 'http://www.dogforums.com/members/-3jessica-3.html']"
      ]
     },
     "execution_count": 61,
     "metadata": {},
     "output_type": "execute_result"
    }
   ],
   "source": [
    "links=[]\n",
    "for link in soup2.select('a.username'):\n",
    "    links.append(link['href'])\n",
    "links[:5]"
   ]
  },
  {
   "cell_type": "markdown",
   "metadata": {},
   "source": [
    "## ※ Get Member's detail page"
   ]
  },
  {
   "cell_type": "code",
   "execution_count": 62,
   "metadata": {},
   "outputs": [],
   "source": [
    "url3 = 'http://www.dogforums.com/members/elrohwen.html'\n",
    "soup3 = get_header(url3)"
   ]
  },
  {
   "cell_type": "code",
   "execution_count": null,
   "metadata": {},
   "outputs": [],
   "source": [
    "\"\"\" 小技巧\n",
    "<div class=\"subsection\">\n",
    "<div align=\"center\"><i><b>Watson </b>- GCh. Truepenny Olympic Triumph RN CGC | Welsh Springer Spaniel | DOB 8.2.12\n",
    "</i></div><div align=\"center\"><i><b>Hazel </b>- Truepenny Bright Side of Life | Welsh Springer Spaniel | DOB 4.2.15</i></div>\n",
    "</div>\n",
    "\n",
    "\"\"\""
   ]
  },
  {
   "cell_type": "code",
   "execution_count": 63,
   "metadata": {
    "scrolled": false
   },
   "outputs": [
    {
     "data": {
      "text/plain": [
       "[<div align=\"center\"><i><b>Watson </b>- GCh. Truepenny Olympic Triumph RN CGC | Welsh Springer Spaniel | DOB 8.2.12</i></div>,\n",
       " <div align=\"center\"><i><b>Hazel </b>- Truepenny Bright Side of Life | Welsh Springer Spaniel | DOB 4.2.15</i></div>]"
      ]
     },
     "execution_count": 63,
     "metadata": {},
     "output_type": "execute_result"
    }
   ],
   "source": [
    "soup3.find_all('div', {'align': 'center'})"
   ]
  },
  {
   "cell_type": "code",
   "execution_count": 112,
   "metadata": {},
   "outputs": [
    {
     "data": {
      "text/plain": [
       "'elrohwen'"
      ]
     },
     "execution_count": 112,
     "metadata": {},
     "output_type": "execute_result"
    }
   ],
   "source": [
    "soup3.select_one('span.subsectiontitle').text.replace('About ','')"
   ]
  },
  {
   "cell_type": "code",
   "execution_count": 64,
   "metadata": {},
   "outputs": [
    {
     "data": {
      "text/plain": [
       "'elrohwen'"
      ]
     },
     "execution_count": 64,
     "metadata": {},
     "output_type": "execute_result"
    }
   ],
   "source": [
    "member = soup3.select_one('h5.profilecategorytitle').text.replace('About ','')\n",
    "member"
   ]
  },
  {
   "cell_type": "code",
   "execution_count": 65,
   "metadata": {
    "scrolled": true
   },
   "outputs": [
    {
     "data": {
      "text/plain": [
       "<div class=\"subsection\">\n",
       "\t<div align=\"center\"><i><b>Watson </b>- GCh. Truepenny Olympic Triumph RN CGC | Welsh Springer Spaniel | DOB 8.2.12</i></div><div align=\"center\"><i><b>Hazel </b>- Truepenny Bright Side of Life | Welsh Springer Spaniel | DOB 4.2.15</i></div>\n",
       "</div>"
      ]
     },
     "execution_count": 65,
     "metadata": {},
     "output_type": "execute_result"
    }
   ],
   "source": [
    "soup3.select('div.subsection')[1]"
   ]
  },
  {
   "cell_type": "code",
   "execution_count": 99,
   "metadata": {
    "scrolled": true
   },
   "outputs": [
    {
     "data": {
      "text/plain": [
       "'Signature'"
      ]
     },
     "execution_count": 99,
     "metadata": {},
     "output_type": "execute_result"
    }
   ],
   "source": [
    "soup3.find(text='Signature')"
   ]
  },
  {
   "cell_type": "code",
   "execution_count": 106,
   "metadata": {},
   "outputs": [
    {
     "data": {
      "text/plain": [
       "['<!--', 'var', 'SESSIONURL', '=', '\"\";']"
      ]
     },
     "execution_count": 106,
     "metadata": {},
     "output_type": "execute_result"
    }
   ],
   "source": [
    "soup3.text.split()[:5]"
   ]
  },
  {
   "cell_type": "code",
   "execution_count": 109,
   "metadata": {},
   "outputs": [
    {
     "data": {
      "text/plain": [
       "'Watson - GCh. Truepenny Olympic Triumph RN CGC | Welsh Springer Spaniel | DOB 8.2.12Hazel - Truepenny Bright Side of Life | Welsh Springer Spaniel | DOB 4.2.15'"
      ]
     },
     "execution_count": 109,
     "metadata": {},
     "output_type": "execute_result"
    }
   ],
   "source": [
    "if 'Signature' in soup3.text.split():\n",
    "    signature = soup3.select('div.subsection')[1].text.strip()\n",
    "signature"
   ]
  },
  {
   "cell_type": "code",
   "execution_count": 82,
   "metadata": {},
   "outputs": [
    {
     "data": {
      "text/plain": [
       "'Watson - GCh. Truepenny Olympic Triumph RN CGC | Welsh Springer Spaniel | DOB 8.2.12Hazel - Truepenny Bright Side of Life | Welsh Springer Spaniel | DOB 4.2.15'"
      ]
     },
     "execution_count": 82,
     "metadata": {},
     "output_type": "execute_result"
    }
   ],
   "source": [
    "signature = soup3.select('div.subsection')[1].text.strip()\n",
    "signature"
   ]
  },
  {
   "cell_type": "code",
   "execution_count": 67,
   "metadata": {},
   "outputs": [
    {
     "data": {
      "text/plain": [
       "<dl class=\"stats\">\n",
       "\t\t\t\t<dt>Join Date</dt>\n",
       "\t\t\t\t<dd> 11-10-2011</dd>\n",
       "\t\t\t</dl>"
      ]
     },
     "execution_count": 67,
     "metadata": {},
     "output_type": "execute_result"
    }
   ],
   "source": [
    "soup3.select('dl.stats')[0]"
   ]
  },
  {
   "cell_type": "code",
   "execution_count": 68,
   "metadata": {},
   "outputs": [
    {
     "data": {
      "text/plain": [
       "'Join Date'"
      ]
     },
     "execution_count": 68,
     "metadata": {},
     "output_type": "execute_result"
    }
   ],
   "source": [
    "key = soup3.select('dl.stats')[0].select_one('dt').text\n",
    "key"
   ]
  },
  {
   "cell_type": "code",
   "execution_count": 69,
   "metadata": {},
   "outputs": [
    {
     "data": {
      "text/plain": [
       "' 11-10-2011'"
      ]
     },
     "execution_count": 69,
     "metadata": {},
     "output_type": "execute_result"
    }
   ],
   "source": [
    "value = soup3.select('dl.stats')[0].select_one('dd').text\n",
    "value"
   ]
  },
  {
   "cell_type": "code",
   "execution_count": 70,
   "metadata": {
    "scrolled": true
   },
   "outputs": [
    {
     "data": {
      "text/plain": [
       "{'Join Date': ' 11-10-2011'}"
      ]
     },
     "execution_count": 70,
     "metadata": {},
     "output_type": "execute_result"
    }
   ],
   "source": [
    "data = {}\n",
    "data[key] = value\n",
    "data"
   ]
  },
  {
   "cell_type": "code",
   "execution_count": 71,
   "metadata": {},
   "outputs": [
    {
     "ename": "IndexError",
     "evalue": "list index out of range",
     "output_type": "error",
     "traceback": [
      "\u001b[0;31m---------------------------------------------------------------------------\u001b[0m",
      "\u001b[0;31mIndexError\u001b[0m                                Traceback (most recent call last)",
      "\u001b[0;32m<ipython-input-71-71f0576b226f>\u001b[0m in \u001b[0;36m<module>\u001b[0;34m()\u001b[0m\n\u001b[0;32m----> 1\u001b[0;31m \u001b[0msoup3\u001b[0m\u001b[0;34m.\u001b[0m\u001b[0mselect\u001b[0m\u001b[0;34m(\u001b[0m\u001b[0;34m'dl.stats'\u001b[0m\u001b[0;34m)\u001b[0m\u001b[0;34m[\u001b[0m\u001b[0;36m20\u001b[0m\u001b[0;34m]\u001b[0m\u001b[0;34m\u001b[0m\u001b[0m\n\u001b[0m",
      "\u001b[0;31mIndexError\u001b[0m: list index out of range"
     ]
    }
   ],
   "source": [
    "soup3.select('dl.stats')[20]"
   ]
  },
  {
   "cell_type": "code",
   "execution_count": 72,
   "metadata": {
    "scrolled": true
   },
   "outputs": [
    {
     "data": {
      "text/plain": [
       "{'Age': '33',\n",
       " 'Avatar': '',\n",
       " 'Join Date': ' 11-10-2011',\n",
       " 'Last Activity': ' 08-01-2017 03:27 PM',\n",
       " 'Location': 'Hudson Valley, NY',\n",
       " 'Most Recent Message': ' 04-24-2015 05:42 PM',\n",
       " 'Posts Per Day': ' 5.31',\n",
       " 'Referrals': ' 0',\n",
       " 'Total Messages': ' 3',\n",
       " 'Total Posts': ' 12,179'}"
      ]
     },
     "execution_count": 72,
     "metadata": {},
     "output_type": "execute_result"
    }
   ],
   "source": [
    "data1 = {}\n",
    "\n",
    "for i in range(0,20):\n",
    "    try:\n",
    "        key = soup3.select('dl.stats')[i].select_one('dt').text\n",
    "        value = soup3.select('dl.stats')[i].select_one('dd').text\n",
    "        data1[key] = value\n",
    "    except IndexError:\n",
    "        break\n",
    "\n",
    "data1"
   ]
  },
  {
   "cell_type": "code",
   "execution_count": 73,
   "metadata": {},
   "outputs": [
    {
     "data": {
      "text/plain": [
       "{'Age': '33',\n",
       " 'Avatar': '',\n",
       " 'Join Date': ' 11-10-2011',\n",
       " 'Last Activity': ' 08-01-2017 03:27 PM',\n",
       " 'Location': 'Hudson Valley, NY',\n",
       " 'Most Recent Message': ' 04-24-2015 05:42 PM',\n",
       " 'Posts Per Day': ' 5.31',\n",
       " 'Referrals': ' 0',\n",
       " 'Total Messages': ' 3',\n",
       " 'Total Posts': ' 12,179',\n",
       " 'signiture': 'Watson - GCh. Truepenny Olympic Triumph RN CGC | Welsh Springer Spaniel | DOB 8.2.12Hazel - Truepenny Bright Side of Life | Welsh Springer Spaniel | DOB 4.2.15'}"
      ]
     },
     "execution_count": 73,
     "metadata": {},
     "output_type": "execute_result"
    }
   ],
   "source": [
    "data1['signiture'] = soup3.select('div.subsection')[1].text.strip()\n",
    "data1"
   ]
  }
 ],
 "metadata": {
  "kernelspec": {
   "display_name": "Python 3",
   "language": "python",
   "name": "python3"
  },
  "language_info": {
   "codemirror_mode": {
    "name": "ipython",
    "version": 3
   },
   "file_extension": ".py",
   "mimetype": "text/x-python",
   "name": "python",
   "nbconvert_exporter": "python",
   "pygments_lexer": "ipython3",
   "version": "3.6.4"
  }
 },
 "nbformat": 4,
 "nbformat_minor": 2
}
