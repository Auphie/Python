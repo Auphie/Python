{
 "cells": [
  {
   "cell_type": "code",
   "execution_count": 13,
   "metadata": {},
   "outputs": [],
   "source": [
    "import requests\n",
    "import json\n",
    "\n",
    "url = \"https://www.yes123.com.tw/admin/job_refer_list.asp\"\n",
    "data = json.loads(r'''{\n",
    "    \"find_key1\": \"java\",\n",
    "    \"search_work\": \"職務\",\n",
    "    \"search_multi_loc\": \"地區\",\n",
    "    \"find_key2\": \"\",\n",
    "    \"search_multi_loc2\": \"請選擇地區\",\n",
    "    \"search_work2\": \"請選擇職務\",\n",
    "    \"search_job2\": \"請選擇行業\",\n",
    "    \"find_key3\": \"\",\n",
    "    \"search_multi_loc3\": \"請選擇地區\",\n",
    "    \"search_work3\": \"請選擇職務\",\n",
    "    \"search_subj\": \"請選擇你的科系\",\n",
    "    \"search_work4\": \"\",\n",
    "    \"search_multi_loc4\": \"請選擇地區\",\n",
    "    \"search_multi_loc5\": \"請選擇地區\",\n",
    "    \"search_work6\": \"\",\n",
    "    \"search_work7\": \"\",\n",
    "    \"search_multi_loc6\": \"\",\n",
    "    \"search_work8\": \"\",\n",
    "    \"search_multi_loc7\": \"\",\n",
    "    \"search_work9\": \"請選擇職務\",\n",
    "    \"find_sf_subj_mode1\": \"\",\n",
    "    \"s_find_sf_subj_mode1\": \"\",\n",
    "    \"find_se_work_mode1\": \"\",\n",
    "    \"s_find_se_work_mode1\": \"\",\n",
    "    \"find_ss_work_mode1\": \"\",\n",
    "    \"s_find_ss_work_mode1\": \"\",\n",
    "    \"find_us_map_mode1\": \"\",\n",
    "    \"find_us_map_mode2\": \"\",\n",
    "    \"find_us_map_mode3\": \"\",\n",
    "    \"find_us_map_mode4\": \"\",\n",
    "    \"strrec\": \"0\",\n",
    "    \"search_key_word\": \"java\",\n",
    "    \"search_type\": \"job\",\n",
    "    \"us_menu\": \"\",\n",
    "    \"search_item\": \"1\",\n",
    "    \"search_from\": \"index\"\n",
    "}''')\n",
    "headers = json.loads(r'''{\n",
    "    \"Accept\": \"text/html,application/xhtml+xml,application/xml;q=0.9,image/webp,image/apng,*/*;q=0.8\",\n",
    "    \"Accept-Encoding\": \"gzip, deflate, br\",\n",
    "    \"Accept-Language\": \"en-US,en;q=0.9\",\n",
    "    \"Cache-Control\": \"max-age=0\",\n",
    "    \"Connection\": \"keep-alive\",\n",
    "    \"Content-Length\": \"6078\",\n",
    "    \"Content-Type\": \"application/x-www-form-urlencoded\",\n",
    "    \"Cookie\": \"_sh_c_1=search_type%3Ajob%7Csearch_item%3A1%7Csearch_key_word%3Ajava%7C_mu_ckb_21%3Acheckbox%7C_mu_ckb_22%3Acheckbox%7C_mu_ckb_23%3Acheckbox%7C_mu_ckb_24%3Acheckbox%7C_mu_ckb_25%3Acheckbox; _sh_c_2=search_type%3Ajob%7Csearch_item%3A1%7Csearch_key_word%3Ajava%7C_mu_ckb_21%3Acheckbox%7C_mu_ckb_22%3Acheckbox%7C_mu_ckb_23%3Acheckbox%7C_mu_ckb_24%3Acheckbox%7C_mu_ckb_25%3Acheckbox; _sh_c_3=search_type%3Ajob%7Csearch_item%3A1%7Csearch_key_word%3Ajava%7C_mu_ckb_21%3Acheckbox%7C_mu_ckb_22%3Acheckbox%7C_mu_ckb_23%3Acheckbox%7C_mu_ckb_24%3Acheckbox%7C_mu_ckb_25%3Acheckbox; _sh_c_4=search_type%3Ajob%7Csearch_item%3A1%7Csearch_key_word%3Ajava%7C_mu_ckb_21%3Acheckbox%7C_mu_ckb_22%3Acheckbox%7C_mu_ckb_23%3Acheckbox%7C_mu_ckb_24%3Acheckbox%7C_mu_ckb_25%3Acheckbox; _sh_c_5=search_type%3Ajob%7Csearch_item%3A1%7Csearch_key_word%3Ajava%7C_mu_ckb_21%3Acheckbox%7C_mu_ckb_22%3Acheckbox%7C_mu_ckb_23%3Acheckbox%7C_mu_ckb_24%3Acheckbox%7C_mu_ckb_25%3Acheckbox; __auc=9b3990ed160de388f0fbe417dbf; _ga=GA1.3.2064806402.1515556737; _gid=GA1.3.818539509.1516792749; ASPSESSIONIDQQDDBSSB=OKBDCJMAIBPNBCDPEFCOEPBO; ClientIP=61.231.154.120; __asc=250a8ca81612d2740f80e7a5edd; yes123_make_cookie=d24146109896c1e633d3337a1d7b942c; ASPSESSIONIDCABQQRST=AKLFGJDAOIIIHOKAMPMOKLMB; ASPSESSIONIDSSBCATSB=IHLBEFOADKJBOHEBBEJEHIFN; citrix_ns_id=PnNogiQiFA1dct7k19GAtJPh1eIA000; ASP.NET_SessionId=240393075; StepCookie_id=240393075; _gat_UA-4824195-2=1; step=10\",\n",
    "    \"Host\": \"www.yes123.com.tw\",\n",
    "    \"Origin\": \"https://www.yes123.com.tw\",\n",
    "    \"Referer\": \"https://www.yes123.com.tw/admin/index.asp\",\n",
    "    \"Upgrade-Insecure-Requests\": \"1\",\n",
    "    \"User-Agent\": \"Mozilla/5.0 (X11; Linux x86_64) AppleWebKit/537.36 (KHTML, like Gecko) Chrome/63.0.3239.132 Safari/537.36\"\n",
    "}''')\n",
    "\n",
    "resp = requests.post(url, data=data, headers=headers)\n",
    "resp.encoding = 'utf-8'\n",
    "job_html = resp.text\n",
    "soup = BeautifulSoup(job_html, 'html5lib')"
   ]
  },
  {
   "cell_type": "code",
   "execution_count": 26,
   "metadata": {
    "scrolled": true
   },
   "outputs": [
    {
     "ename": "AttributeError",
     "evalue": "'list' object has no attribute 'get'",
     "output_type": "error",
     "traceback": [
      "\u001b[0;31m---------------------------------------------------------------------------\u001b[0m",
      "\u001b[0;31mAttributeError\u001b[0m                            Traceback (most recent call last)",
      "\u001b[0;32m<ipython-input-26-20ac8488fe99>\u001b[0m in \u001b[0;36m<module>\u001b[0;34m()\u001b[0m\n\u001b[0;32m----> 1\u001b[0;31m \u001b[0msoup\u001b[0m\u001b[0;34m.\u001b[0m\u001b[0mselect\u001b[0m\u001b[0;34m(\u001b[0m\u001b[0;34m'a.jobname'\u001b[0m\u001b[0;34m)\u001b[0m\u001b[0;34m.\u001b[0m\u001b[0mget\u001b[0m\u001b[0;34m(\u001b[0m\u001b[0;34m'href'\u001b[0m\u001b[0;34m)\u001b[0m\u001b[0;34m\u001b[0m\u001b[0m\n\u001b[0m",
      "\u001b[0;31mAttributeError\u001b[0m: 'list' object has no attribute 'get'"
     ]
    }
   ],
   "source": [
    "soup.select('a.jobname')"
   ]
  },
  {
   "cell_type": "code",
   "execution_count": 18,
   "metadata": {},
   "outputs": [
    {
     "ename": "TypeError",
     "evalue": "expected string or bytes-like object",
     "output_type": "error",
     "traceback": [
      "\u001b[0;31m---------------------------------------------------------------------------\u001b[0m",
      "\u001b[0;31mTypeError\u001b[0m                                 Traceback (most recent call last)",
      "\u001b[0;32m<ipython-input-18-01755d4e66db>\u001b[0m in \u001b[0;36m<module>\u001b[0;34m()\u001b[0m\n\u001b[1;32m      1\u001b[0m \u001b[0;32mimport\u001b[0m \u001b[0mre\u001b[0m\u001b[0;34m\u001b[0m\u001b[0m\n\u001b[1;32m      2\u001b[0m \u001b[0;34m\u001b[0m\u001b[0m\n\u001b[0;32m----> 3\u001b[0;31m \u001b[0mp_id\u001b[0m \u001b[0;34m=\u001b[0m \u001b[0mre\u001b[0m\u001b[0;34m.\u001b[0m\u001b[0mfindall\u001b[0m\u001b[0;34m(\u001b[0m\u001b[0;34m'p_id=(.+)&'\u001b[0m\u001b[0;34m,\u001b[0m \u001b[0msoup\u001b[0m\u001b[0;34m.\u001b[0m\u001b[0mselect\u001b[0m\u001b[0;34m(\u001b[0m\u001b[0;34m'a.jobname'\u001b[0m\u001b[0;34m)\u001b[0m\u001b[0;34m)\u001b[0m\u001b[0;34m\u001b[0m\u001b[0m\n\u001b[0m\u001b[1;32m      4\u001b[0m \u001b[0mp_id\u001b[0m\u001b[0;34m\u001b[0m\u001b[0m\n",
      "\u001b[0;32m~/.pyenv/versions/3.6.1/lib/python3.6/re.py\u001b[0m in \u001b[0;36mfindall\u001b[0;34m(pattern, string, flags)\u001b[0m\n\u001b[1;32m    220\u001b[0m \u001b[0;34m\u001b[0m\u001b[0m\n\u001b[1;32m    221\u001b[0m     Empty matches are included in the result.\"\"\"\n\u001b[0;32m--> 222\u001b[0;31m     \u001b[0;32mreturn\u001b[0m \u001b[0m_compile\u001b[0m\u001b[0;34m(\u001b[0m\u001b[0mpattern\u001b[0m\u001b[0;34m,\u001b[0m \u001b[0mflags\u001b[0m\u001b[0;34m)\u001b[0m\u001b[0;34m.\u001b[0m\u001b[0mfindall\u001b[0m\u001b[0;34m(\u001b[0m\u001b[0mstring\u001b[0m\u001b[0;34m)\u001b[0m\u001b[0;34m\u001b[0m\u001b[0m\n\u001b[0m\u001b[1;32m    223\u001b[0m \u001b[0;34m\u001b[0m\u001b[0m\n\u001b[1;32m    224\u001b[0m \u001b[0;32mdef\u001b[0m \u001b[0mfinditer\u001b[0m\u001b[0;34m(\u001b[0m\u001b[0mpattern\u001b[0m\u001b[0;34m,\u001b[0m \u001b[0mstring\u001b[0m\u001b[0;34m,\u001b[0m \u001b[0mflags\u001b[0m\u001b[0;34m=\u001b[0m\u001b[0;36m0\u001b[0m\u001b[0;34m)\u001b[0m\u001b[0;34m:\u001b[0m\u001b[0;34m\u001b[0m\u001b[0m\n",
      "\u001b[0;31mTypeError\u001b[0m: expected string or bytes-like object"
     ]
    }
   ],
   "source": [
    "import re\n",
    "\n",
    "p_id = re.findall('p_id=(.+)&', soup.select('a.jobname'))\n",
    "p_id"
   ]
  }
 ],
 "metadata": {
  "kernelspec": {
   "display_name": "Python 3",
   "language": "python",
   "name": "python3"
  },
  "language_info": {
   "codemirror_mode": {
    "name": "ipython",
    "version": 3
   },
   "file_extension": ".py",
   "mimetype": "text/x-python",
   "name": "python",
   "nbconvert_exporter": "python",
   "pygments_lexer": "ipython3",
   "version": "3.6.1"
  }
 },
 "nbformat": 4,
 "nbformat_minor": 2
}
