{
 "cells": [
  {
   "cell_type": "code",
   "execution_count": 1,
   "metadata": {
    "collapsed": true
   },
   "outputs": [],
   "source": [
    "!mkdir -p /tmp/yes123"
   ]
  },
  {
   "cell_type": "code",
   "execution_count": 2,
   "metadata": {
    "collapsed": true
   },
   "outputs": [],
   "source": [
    "import re\n",
    "import time\n",
    "\n",
    "import requests\n",
    "\n",
    "url = \"https://www.yes123.com.tw/admin/job_refer_list.asp\""
   ]
  },
  {
   "cell_type": "code",
   "execution_count": 3,
   "metadata": {
    "collapsed": true
   },
   "outputs": [],
   "source": [
    "import requests\n",
    "import json\n",
    "\n",
    "url = \"https://www.yes123.com.tw/admin/job_refer_list.asp\"\n",
    "data = json.loads(r'''{\n",
    "    \"find_key1\": \"java\",\n",
    "    \"search_feature\": \"\",\n",
    "    \"search_work\": \"請選擇職務\",\n",
    "    \"search_multi_loc\": \"請選擇地區\",\n",
    "    \"find_key2\": \"\",\n",
    "    \"search_multi_loc2\": \"請選擇地區\",\n",
    "    \"search_work2\": \"請選擇職務\",\n",
    "    \"search_job2\": \"請選擇行業\",\n",
    "    \"find_key3\": \"\",\n",
    "    \"search_multi_loc3\": \"請選擇地區\",\n",
    "    \"search_work3\": \"請選擇職務\",\n",
    "    \"_rdo_1\": \"1\",\n",
    "    \"search_subj\": \"\",\n",
    "    \"search_work4\": \"請選擇職務\",\n",
    "    \"search_multi_loc4\": \"請選擇地區\",\n",
    "    \"search_multi_loc5\": \"請選擇地區\",\n",
    "    \"_rdo_2\": \"1\",\n",
    "    \"search_work6\": \"\",\n",
    "    \"search_work7\": \"請選擇職務\",\n",
    "    \"search_multi_loc6\": \"請選擇地區\",\n",
    "    \"search_work8\": \"請選擇職務\",\n",
    "    \"search_multi_loc7\": \"請選擇地區\",\n",
    "    \"find_sf_subj_mode1\": \"\",\n",
    "    \"s_find_sf_subj_mode1\": \"\",\n",
    "    \"find_se_work_mode1\": \"\",\n",
    "    \"s_find_se_work_mode1\": \"\",\n",
    "    \"find_zone_mode1\": \"\",\n",
    "    \"find_zone_mode2\": \"\",\n",
    "    \"find_zone_mode3\": \"\",\n",
    "    \"find_zone_mode4\": \"\",\n",
    "    \"find_zone_mode5\": \"\",\n",
    "    \"find_zone_mode6\": \"\",\n",
    "    \"find_zone_mode7\": \"\",\n",
    "    \"find_zone_mode8\": \"\",\n",
    "    \"find_zone_mode9\": \"\",\n",
    "    \"find_zone_mode10\": \"\",\n",
    "    \"s_find_zone_mode1\": \"\",\n",
    "    \"s_find_zone_mode2\": \"\",\n",
    "    \"s_find_zone_mode3\": \"\",\n",
    "    \"s_find_zone_mode4\": \"\",\n",
    "    \"s_find_zone_mode5\": \"\",\n",
    "    \"s_find_zone_mode6\": \"\",\n",
    "    \"s_find_zone_mode7\": \"\",\n",
    "    \"s_find_zone_mode8\": \"\",\n",
    "    \"s_find_zone_mode9\": \"\",\n",
    "    \"s_find_zone_mode10\": \"\",\n",
    "    \"find_metro_mode1\": \"\",\n",
    "    \"find_metro_mode2\": \"\",\n",
    "    \"find_metro_mode3\": \"\",\n",
    "    \"find_metro_mode4\": \"\",\n",
    "    \"find_metro_mode5\": \"\",\n",
    "    \"find_metro_mode6\": \"\",\n",
    "    \"find_metro_mode7\": \"\",\n",
    "    \"find_metro_mode8\": \"\",\n",
    "    \"find_metro_mode9\": \"\",\n",
    "    \"find_metro_mode10\": \"\",\n",
    "    \"s_find_metro_mode1\": \"\",\n",
    "    \"s_find_metro_mode2\": \"\",\n",
    "    \"s_find_metro_mode3\": \"\",\n",
    "    \"s_find_metro_mode4\": \"\",\n",
    "    \"s_find_metro_mode5\": \"\",\n",
    "    \"s_find_metro_mode6\": \"\",\n",
    "    \"s_find_metro_mode7\": \"\",\n",
    "    \"s_find_metro_mode8\": \"\",\n",
    "    \"s_find_metro_mode9\": \"\",\n",
    "    \"s_find_metro_mode10\": \"\",\n",
    "    \"find_map_mode1\": \"\",\n",
    "    \"find_map_mode2\": \"\",\n",
    "    \"find_map_mode3\": \"\",\n",
    "    \"find_map_mode4\": \"\",\n",
    "    \"find_indy_mode1\": \"\",\n",
    "    \"find_indy_mode2\": \"\",\n",
    "    \"find_indy_mode3\": \"\",\n",
    "    \"find_indy_mode4\": \"\",\n",
    "    \"find_indy_mode5\": \"\",\n",
    "    \"find_indy_mode6\": \"\",\n",
    "    \"find_indy_mode7\": \"\",\n",
    "    \"find_indy_mode8\": \"\",\n",
    "    \"find_indy_mode9\": \"\",\n",
    "    \"find_indy_mode10\": \"\",\n",
    "    \"s_find_indy_mode1\": \"\",\n",
    "    \"s_find_indy_mode2\": \"\",\n",
    "    \"s_find_indy_mode3\": \"\",\n",
    "    \"s_find_indy_mode4\": \"\",\n",
    "    \"s_find_indy_mode5\": \"\",\n",
    "    \"s_find_indy_mode6\": \"\",\n",
    "    \"s_find_indy_mode7\": \"\",\n",
    "    \"s_find_indy_mode8\": \"\",\n",
    "    \"s_find_indy_mode9\": \"\",\n",
    "    \"s_find_indy_mode10\": \"\",\n",
    "    \"find_scl_mode1\": \"\",\n",
    "    \"find_scl_mode2\": \"\",\n",
    "    \"find_scl_mode3\": \"\",\n",
    "    \"find_scl_mode4\": \"\",\n",
    "    \"find_scl_mode5\": \"\",\n",
    "    \"find_scl_mode6\": \"\",\n",
    "    \"find_scl_mode7\": \"\",\n",
    "    \"find_scl_mode8\": \"\",\n",
    "    \"find_scl_mode9\": \"\",\n",
    "    \"find_scl_mode10\": \"\",\n",
    "    \"s_find_scl_mode1\": \"\",\n",
    "    \"s_find_scl_mode2\": \"\",\n",
    "    \"s_find_scl_mode3\": \"\",\n",
    "    \"s_find_scl_mode4\": \"\",\n",
    "    \"s_find_scl_mode5\": \"\",\n",
    "    \"s_find_scl_mode6\": \"\",\n",
    "    \"s_find_scl_mode7\": \"\",\n",
    "    \"s_find_scl_mode8\": \"\",\n",
    "    \"s_find_scl_mode9\": \"\",\n",
    "    \"s_find_scl_mode10\": \"\",\n",
    "    \"find_work_mode1\": \"\",\n",
    "    \"find_work_mode2\": \"\",\n",
    "    \"find_work_mode3\": \"\",\n",
    "    \"find_work_mode4\": \"\",\n",
    "    \"find_work_mode5\": \"\",\n",
    "    \"find_work_mode6\": \"\",\n",
    "    \"find_work_mode7\": \"\",\n",
    "    \"find_work_mode8\": \"\",\n",
    "    \"find_work_mode9\": \"\",\n",
    "    \"find_work_mode10\": \"\",\n",
    "    \"s_find_work_mode1\": \"\",\n",
    "    \"s_find_work_mode2\": \"\",\n",
    "    \"s_find_work_mode3\": \"\",\n",
    "    \"s_find_work_mode4\": \"\",\n",
    "    \"s_find_work_mode5\": \"\",\n",
    "    \"s_find_work_mode6\": \"\",\n",
    "    \"s_find_work_mode7\": \"\",\n",
    "    \"s_find_work_mode8\": \"\",\n",
    "    \"s_find_work_mode9\": \"\",\n",
    "    \"s_find_work_mode10\": \"\",\n",
    "    \"find_job_mode1\": \"\",\n",
    "    \"find_job_mode2\": \"\",\n",
    "    \"find_job_mode3\": \"\",\n",
    "    \"find_job_mode4\": \"\",\n",
    "    \"find_job_mode5\": \"\",\n",
    "    \"find_job_mode6\": \"\",\n",
    "    \"find_job_mode7\": \"\",\n",
    "    \"find_job_mode8\": \"\",\n",
    "    \"find_job_mode9\": \"\",\n",
    "    \"find_job_mode10\": \"\",\n",
    "    \"s_find_job_mode1\": \"\",\n",
    "    \"s_find_job_mode2\": \"\",\n",
    "    \"s_find_job_mode3\": \"\",\n",
    "    \"s_find_job_mode4\": \"\",\n",
    "    \"s_find_job_mode5\": \"\",\n",
    "    \"s_find_job_mode6\": \"\",\n",
    "    \"s_find_job_mode7\": \"\",\n",
    "    \"s_find_job_mode8\": \"\",\n",
    "    \"s_find_job_mode9\": \"\",\n",
    "    \"s_find_job_mode10\": \"\",\n",
    "    \"find_sche_mode1\": \"\",\n",
    "    \"find_sche_mode2\": \"\",\n",
    "    \"find_sche_mode3\": \"\",\n",
    "    \"find_sche_mode4\": \"\",\n",
    "    \"find_sche_mode5\": \"\",\n",
    "    \"s_find_sche_mode1\": \"\",\n",
    "    \"s_find_sche_mode2\": \"\",\n",
    "    \"s_find_sche_mode3\": \"\",\n",
    "    \"s_find_sche_mode4\": \"\",\n",
    "    \"s_find_sche_mode5\": \"\",\n",
    "    \"_mu_sf_1\": \"\",\n",
    "    \"_mu_se_1\": \"\",\n",
    "    \"_mu_chkbox_2\": \"\",\n",
    "    \"_mu_chkbox_3\": \"\",\n",
    "    \"_mu_wk_1\": \"\",\n",
    "    \"_mu_wk_2\": \"\",\n",
    "    \"_mu_wk_3\": \"\",\n",
    "    \"_mu_wk_4\": \"\",\n",
    "    \"_mu_wk_5\": \"\",\n",
    "    \"_mu_job_1\": \"\",\n",
    "    \"_mu_edu_1\": \"\",\n",
    "    \"_mu_edu_2\": \"\",\n",
    "    \"_mu_edu_3\": \"\",\n",
    "    \"_mu_edu_4\": \"\",\n",
    "    \"_mu_edu_5\": \"\",\n",
    "    \"_mu_edu_6\": \"\",\n",
    "    \"_mu_edu_7\": \"\",\n",
    "    \"_mu_year_1\": \"\",\n",
    "    \"_mu_year_2\": \"\",\n",
    "    \"_mu_lang_1\": \"\",\n",
    "    \"_mu_lang_2\": \"\",\n",
    "    \"_mu_lang_3\": \"\",\n",
    "    \"_mu_psn_1\": \"\",\n",
    "    \"_mu_vc_1\": \"\",\n",
    "    \"_mu_vc_2\": \"\",\n",
    "    \"_mu_vc_3\": \"\",\n",
    "    \"_mu_vc_4\": \"\",\n",
    "    \"_mu_sc_1\": \"\",\n",
    "    \"_mu_sc_2\": \"\",\n",
    "    \"find_subj_mode1\": \"\",\n",
    "    \"find_subj_mode2\": \"\",\n",
    "    \"find_subj_mode3\": \"\",\n",
    "    \"s_find_subj_mode1\": \"\",\n",
    "    \"s_find_subj_mode2\": \"\",\n",
    "    \"s_find_subj_mode3\": \"\",\n",
    "    \"find_sw_mode1\": \"\",\n",
    "    \"find_sw_mode2\": \"\",\n",
    "    \"find_sw_mode3\": \"\",\n",
    "    \"find_sw_mode4\": \"\",\n",
    "    \"find_sw_mode5\": \"\",\n",
    "    \"s_find_sw_mode1\": \"\",\n",
    "    \"s_find_sw_mode2\": \"\",\n",
    "    \"s_find_sw_mode3\": \"\",\n",
    "    \"s_find_sw_mode4\": \"\",\n",
    "    \"s_find_sw_mode5\": \"\",\n",
    "    \"find_cert_mode1\": \"\",\n",
    "    \"find_cert_mode2\": \"\",\n",
    "    \"find_cert_mode3\": \"\",\n",
    "    \"find_cert_mode4\": \"\",\n",
    "    \"find_cert_mode5\": \"\",\n",
    "    \"s_find_cert_mode1\": \"\",\n",
    "    \"s_find_cert_mode2\": \"\",\n",
    "    \"s_find_cert_mode3\": \"\",\n",
    "    \"s_find_cert_mode4\": \"\",\n",
    "    \"s_find_cert_mode5\": \"\",\n",
    "    \"order_by\": \"neworder\",\n",
    "    \"order_ascend\": \"desc\",\n",
    "    \"strrec\": \"20\",\n",
    "    \"search_key_word\": \"java\",\n",
    "    \"search_type\": \"job\",\n",
    "    \"us_menu\": \"\",\n",
    "    \"search_item\": \"1\",\n",
    "    \"search_from\": \"joblist\",\n",
    "    \"job_show_type\": \"B\"\n",
    "}''')\n",
    "headers = json.loads(r'''{\n",
    "    \"Accept\": \"text/html,application/xhtml+xml,application/xml;q=0.9,image/webp,image/apng,*/*;q=0.8\",\n",
    "    \"Accept-Encoding\": \"gzip, deflate, br\",\n",
    "    \"Accept-Language\": \"en-US,en;q=0.9\",\n",
    "    \"Cache-Control\": \"no-cache\",\n",
    "    \"Connection\": \"keep-alive\",\n",
    "    \"Content-Length\": \"4341\",\n",
    "    \"Content-Type\": \"application/x-www-form-urlencoded\",\n",
    "    \"Cookie\": \"_sh_c_1=search_type%3Ajob%7Csearch_item%3A1%7Csearch_key_word%3Ajava%7C_mu_ckb_21%3Acheckbox%7C_mu_ckb_22%3Acheckbox%7C_mu_ckb_23%3Acheckbox%7C_mu_ckb_24%3Acheckbox%7C_mu_ckb_25%3Acheckbox; _sh_c_2=search_type%3Ajob%7Csearch_item%3A1%7Csearch_key_word%3Ajava%7C_mu_ckb_21%3Acheckbox%7C_mu_ckb_22%3Acheckbox%7C_mu_ckb_23%3Acheckbox%7C_mu_ckb_24%3Acheckbox%7C_mu_ckb_25%3Acheckbox; _sh_c_3=search_type%3Ajob%7Csearch_item%3A1%7Csearch_key_word%3Ajava%7C_mu_ckb_21%3Acheckbox%7C_mu_ckb_22%3Acheckbox%7C_mu_ckb_23%3Acheckbox%7C_mu_ckb_24%3Acheckbox%7C_mu_ckb_25%3Acheckbox; _sh_c_4=search_type%3Ajob%7Csearch_item%3A1%7Csearch_key_word%3Ajava%7C_mu_ckb_21%3Acheckbox%7C_mu_ckb_22%3Acheckbox%7C_mu_ckb_23%3Acheckbox%7C_mu_ckb_24%3Acheckbox%7C_mu_ckb_25%3Acheckbox; _sh_c_5=search_type%3Ajob%7Csearch_item%3A1%7Csearch_key_word%3Ajava%7C_mu_ckb_21%3Acheckbox%7C_mu_ckb_22%3Acheckbox%7C_mu_ckb_23%3Acheckbox%7C_mu_ckb_24%3Acheckbox%7C_mu_ckb_25%3Acheckbox; ASPSESSIONIDSSBTSQRQ=EEDOBPLCADDPFDGFCIBLEGED; __asc=9b3990ed160de388f0fbe417dbf; __auc=9b3990ed160de388f0fbe417dbf; ClientIP=111.248.71.118; _ga=GA1.3.2064806402.1515556737; _gid=GA1.3.25806277.1515556737; yes123_make_cookie=418e272f0d40445d91db71bcc4bdba26; view%5Fjob%5Fid%5Fstr=20140103100924%5F27365925%40%21%4020170202181648%5F8100619%40%21%40D4000+%E5%A4%A7%E6%95%B8%E6%93%9A%E5%B9%B3%E5%8F%B0%E5%B7%A5%E7%A8%8B%E5%B8%AB%28Java%29%24%21%2420111125115316%5F84703052%40%21%4020140704190856%5F1610362%40%21%40JAVA%E8%B3%87%E6%B7%B1%E7%A8%8B%E5%BC%8F%E8%A8%AD%E8%A8%88%E5%B8%AB%24%21%2420110520143447%5F80472760%40%21%4020171026144907%5F38837863%40%21%40JAVA%E7%A8%8B%E5%BC%8F%E8%A8%AD%E8%A8%88%E5%B8%AB; ASPSESSIONIDQQACCRSA=GABBAALCHHPFFHJDHBBKCOND; ASP.NET_SessionId=721424589; StepCookie_id=721424589; step=19; ASPSESSIONIDAABRSTRT=IBAPCAACKJCAJONDPACBOHCB; citrix_ns_id=yXslN8/u40/byvXXfovfuGPjMC8A000\",\n",
    "    \"Host\": \"www.yes123.com.tw\",\n",
    "    \"Origin\": \"https://www.yes123.com.tw\",\n",
    "    \"Pragma\": \"no-cache\",\n",
    "    \"Referer\": \"https://www.yes123.com.tw/admin/job_refer_list.asp\",\n",
    "    \"Upgrade-Insecure-Requests\": \"1\",\n",
    "    \"User-Agent\": \"Mozilla/5.0 (X11; Linux x86_64) AppleWebKit/537.36 (KHTML, like Gecko) Chrome/63.0.3239.132 Safari/537.36\"\n",
    "}''')\n",
    "\n",
    "resp = requests.post(url, data=data, headers=headers)"
   ]
  },
  {
   "cell_type": "code",
   "execution_count": 4,
   "metadata": {},
   "outputs": [
    {
     "data": {
      "text/plain": [
       "200"
      ]
     },
     "execution_count": 4,
     "metadata": {},
     "output_type": "execute_result"
    }
   ],
   "source": [
    "resp.status_code"
   ]
  },
  {
   "cell_type": "code",
   "execution_count": 5,
   "metadata": {},
   "outputs": [
    {
     "data": {
      "text/plain": [
       "b'\\r\\n<!DOCTYPE html PUBLIC \"-//W3C//DTD XHTML 1.0 Transitional//EN\" \"http://www.w3.org/TR/xhtml1/DTD/xhtml1-transitional.dtd\">\\r\\n<html xmlns=\"http://www.w3.org/1999/xhtml\">\\r\\n<head>\\r\\n    <meta http-equiv=\"Content-Type\" content=\"text/html; charset=utf-8\" />\\r\\n    <meta name=\"description\" content=\"yes123\\xe4\\xba\\xba\\xe5\\x8a\\x9b\\xe9\\x8a\\x80\\xe8\\xa1\\x8c\\xe5\\xb7\\xa5\\xe4\\xbd\\x9c\\xe6\\x90\\x9c\\xe5\\xb0\\x8b\\xe5\\x8a\\x9f\\xe8\\x83\\xbd\\xef\\xbc\\x8c\\xe7\\xb2\\xbe\\xe6\\xba\\x96\\xe6\\xaf\\x94\\xe5\\xb0\\x8d\\xef\\xbc\\x8c\\xe8\\xae\\x93\\xe4\\xbd\\xa0\\xe5\\xbf\\xab\\xe9\\x80\\x9f\\xe6\\x89\\xbe\\xe5\\x88\\xb0\\xe5\\xb7\\xa5\\xe4\\xbd\\x9c!\\xe7\\x9f\\xa5\\xe5\\x90\\x8d\\xe5\\xa4\\x96\\xe5\\x95\\x86\\xe3\\x80\\x81\\xe5\\x8d\\x83\\xe5\\xa4\\xa7\\xe8\\xa3\\xbd\\xe9\\x80\\xa0\\xe6\\xa5\\xad\\xe3\\x80\\x81\\xe7\\x99\\xbe\\xe5\\xa4\\xa7\\xe6\\x9c\\x8d\\xe5\\x8b\\x99\\xe6\\xa5\\xad\\xef\\xbc\\x8c\\xe8\\xb7\\xb3\\xe6\\xa7\\xbd\\xe3\\x80\\x81\\xe8\\xbd\\x89\\xe8\\xa1\\x8c\\xe6\\x88\\x96\\xe6\\x8f\\x9b\\xe5\\xb7\\xa5\\xe4\\xbd\\x9c\\xef\\xbc\\x8c\\xe5\\xbf\\xab\\xe4\\xb8\\x8ayes123 \\xe6\\x87\\x89\\xe5\\xbe\\xb5\\xe5\\x8d\\xa1\\xe4\\xbd\\x8d!\" />\\r\\n    <meta name=\"k'"
      ]
     },
     "execution_count": 5,
     "metadata": {},
     "output_type": "execute_result"
    }
   ],
   "source": [
    "# 發現內文頁都是亂碼\n",
    "resp.content[:500]"
   ]
  },
  {
   "cell_type": "code",
   "execution_count": 6,
   "metadata": {
    "scrolled": true
   },
   "outputs": [
    {
     "data": {
      "text/plain": [
       "'\\r\\n<!DOCTYPE html PUBLIC \"-//W3C//DTD XHTML 1.0 Transitional//EN\" \"http://www.w3.org/TR/xhtml1/DTD/xhtml1-transitional.dtd\">\\r\\n<html xmlns=\"http://www.w3.org/1999/xhtml\">\\r\\n<head>\\r\\n    <meta http-equiv=\"Content-Type\" content=\"text/html; charset=utf-8\" />\\r\\n    <meta name=\"description\" content=\"yes123人力銀行工作搜尋功能，精準比對，讓你快速找到工作!知名外商、千大製造業、百大服務業，跳槽、轉行或換工作，快上yes123 應徵卡位!\" />\\r\\n    <meta name=\"keywords\" content=\"123,找工作,求職,人力銀行,工作機會,職缺,應徵,24h必回覆,yes123,全職,兼職,兼差,派遣,工讀,打工,高階,免經驗,待遇,薪資,面議,找打工,換工作,跳槽,轉行,年後找工作,工'"
      ]
     },
     "execution_count": 6,
     "metadata": {},
     "output_type": "execute_result"
    }
   ],
   "source": [
    "# → 需要轉換成utf-8\n",
    "resp.content.decode('utf-8')[:500]"
   ]
  },
  {
   "cell_type": "code",
   "execution_count": 7,
   "metadata": {
    "collapsed": true
   },
   "outputs": [],
   "source": [
    "with open('/tmp/yes123/JAVA.html', 'w') as f:\n",
    "    f.write(resp.text)"
   ]
  },
  {
   "cell_type": "code",
   "execution_count": 8,
   "metadata": {
    "scrolled": true
   },
   "outputs": [
    {
     "data": {
      "text/plain": [
       "'  發現只有一頁！萬一有100頁就要做100次，所以需要用迴圈的方式來解決   '"
      ]
     },
     "execution_count": 8,
     "metadata": {},
     "output_type": "execute_result"
    }
   ],
   "source": [
    "\"\"\"  發現只有一頁！萬一有100頁就要做100次，所以需要用迴圈的方式來解決   \"\"\" \n",
    "# <a href=\"javascript:goto_strrec('0')\">1</a>\n",
    "# <a href=\"javascript:goto_strrec('20')\">1</a>\n",
    "# <a href=\"javascript:goto_strrec('40')\">1</a>\n",
    "\n",
    "# 在data的條件中可以填寫"
   ]
  },
  {
   "cell_type": "code",
   "execution_count": 9,
   "metadata": {
    "scrolled": true
   },
   "outputs": [
    {
     "name": "stdout",
     "output_type": "stream",
     "text": [
      "[INFO] crawling strrec 0\n",
      "[INFO] crawling strrec 20\n",
      "[INFO] crawling strrec 40\n",
      "[INFO] crawling strrec 60\n",
      "[INFO] crawling strrec 80\n",
      "[INFO] crawling strrec 100\n"
     ]
    }
   ],
   "source": [
    "# 未知頁碼的話，可以用 While Loop 來跑\n",
    "\n",
    "import requests\n",
    "import json\n",
    "\n",
    "url = \"https://www.yes123.com.tw/admin/job_refer_list.asp\"\n",
    "data = json.loads(r'''{\n",
    "    \"find_key1\": \"java\",\n",
    "    \"search_feature\": \"\",\n",
    "    \"search_work\": \"請選擇職務\",\n",
    "    \"search_multi_loc\": \"請選擇地區\",\n",
    "    \"find_key2\": \"\",\n",
    "    \"search_multi_loc2\": \"請選擇地區\",\n",
    "    \"search_work2\": \"請選擇職務\",\n",
    "    \"search_job2\": \"請選擇行業\",\n",
    "    \"find_key3\": \"\",\n",
    "    \"search_multi_loc3\": \"請選擇地區\",\n",
    "    \"search_work3\": \"請選擇職務\",\n",
    "    \"_rdo_1\": \"1\",\n",
    "    \"search_subj\": \"\",\n",
    "    \"search_work4\": \"請選擇職務\",\n",
    "    \"search_multi_loc4\": \"請選擇地區\",\n",
    "    \"search_multi_loc5\": \"請選擇地區\",\n",
    "    \"_rdo_2\": \"1\",\n",
    "    \"search_work6\": \"\",\n",
    "    \"search_work7\": \"請選擇職務\",\n",
    "    \"search_multi_loc6\": \"請選擇地區\",\n",
    "    \"search_work8\": \"請選擇職務\",\n",
    "    \"search_multi_loc7\": \"請選擇地區\",\n",
    "    \"find_sf_subj_mode1\": \"\",\n",
    "    \"s_find_sf_subj_mode1\": \"\",\n",
    "    \"find_se_work_mode1\": \"\",\n",
    "    \"s_find_se_work_mode1\": \"\",\n",
    "    \"find_zone_mode1\": \"\",\n",
    "    \"find_zone_mode2\": \"\",\n",
    "    \"find_zone_mode3\": \"\",\n",
    "    \"find_zone_mode4\": \"\",\n",
    "    \"find_zone_mode5\": \"\",\n",
    "    \"find_zone_mode6\": \"\",\n",
    "    \"find_zone_mode7\": \"\",\n",
    "    \"find_zone_mode8\": \"\",\n",
    "    \"find_zone_mode9\": \"\",\n",
    "    \"find_zone_mode10\": \"\",\n",
    "    \"s_find_zone_mode1\": \"\",\n",
    "    \"s_find_zone_mode2\": \"\",\n",
    "    \"s_find_zone_mode3\": \"\",\n",
    "    \"s_find_zone_mode4\": \"\",\n",
    "    \"s_find_zone_mode5\": \"\",\n",
    "    \"s_find_zone_mode6\": \"\",\n",
    "    \"s_find_zone_mode7\": \"\",\n",
    "    \"s_find_zone_mode8\": \"\",\n",
    "    \"s_find_zone_mode9\": \"\",\n",
    "    \"s_find_zone_mode10\": \"\",\n",
    "    \"find_metro_mode1\": \"\",\n",
    "    \"find_metro_mode2\": \"\",\n",
    "    \"find_metro_mode3\": \"\",\n",
    "    \"find_metro_mode4\": \"\",\n",
    "    \"find_metro_mode5\": \"\",\n",
    "    \"find_metro_mode6\": \"\",\n",
    "    \"find_metro_mode7\": \"\",\n",
    "    \"find_metro_mode8\": \"\",\n",
    "    \"find_metro_mode9\": \"\",\n",
    "    \"find_metro_mode10\": \"\",\n",
    "    \"s_find_metro_mode1\": \"\",\n",
    "    \"s_find_metro_mode2\": \"\",\n",
    "    \"s_find_metro_mode3\": \"\",\n",
    "    \"s_find_metro_mode4\": \"\",\n",
    "    \"s_find_metro_mode5\": \"\",\n",
    "    \"s_find_metro_mode6\": \"\",\n",
    "    \"s_find_metro_mode7\": \"\",\n",
    "    \"s_find_metro_mode8\": \"\",\n",
    "    \"s_find_metro_mode9\": \"\",\n",
    "    \"s_find_metro_mode10\": \"\",\n",
    "    \"find_map_mode1\": \"\",\n",
    "    \"find_map_mode2\": \"\",\n",
    "    \"find_map_mode3\": \"\",\n",
    "    \"find_map_mode4\": \"\",\n",
    "    \"find_indy_mode1\": \"\",\n",
    "    \"find_indy_mode2\": \"\",\n",
    "    \"find_indy_mode3\": \"\",\n",
    "    \"find_indy_mode4\": \"\",\n",
    "    \"find_indy_mode5\": \"\",\n",
    "    \"find_indy_mode6\": \"\",\n",
    "    \"find_indy_mode7\": \"\",\n",
    "    \"find_indy_mode8\": \"\",\n",
    "    \"find_indy_mode9\": \"\",\n",
    "    \"find_indy_mode10\": \"\",\n",
    "    \"s_find_indy_mode1\": \"\",\n",
    "    \"s_find_indy_mode2\": \"\",\n",
    "    \"s_find_indy_mode3\": \"\",\n",
    "    \"s_find_indy_mode4\": \"\",\n",
    "    \"s_find_indy_mode5\": \"\",\n",
    "    \"s_find_indy_mode6\": \"\",\n",
    "    \"s_find_indy_mode7\": \"\",\n",
    "    \"s_find_indy_mode8\": \"\",\n",
    "    \"s_find_indy_mode9\": \"\",\n",
    "    \"s_find_indy_mode10\": \"\",\n",
    "    \"find_scl_mode1\": \"\",\n",
    "    \"find_scl_mode2\": \"\",\n",
    "    \"find_scl_mode3\": \"\",\n",
    "    \"find_scl_mode4\": \"\",\n",
    "    \"find_scl_mode5\": \"\",\n",
    "    \"find_scl_mode6\": \"\",\n",
    "    \"find_scl_mode7\": \"\",\n",
    "    \"find_scl_mode8\": \"\",\n",
    "    \"find_scl_mode9\": \"\",\n",
    "    \"find_scl_mode10\": \"\",\n",
    "    \"s_find_scl_mode1\": \"\",\n",
    "    \"s_find_scl_mode2\": \"\",\n",
    "    \"s_find_scl_mode3\": \"\",\n",
    "    \"s_find_scl_mode4\": \"\",\n",
    "    \"s_find_scl_mode5\": \"\",\n",
    "    \"s_find_scl_mode6\": \"\",\n",
    "    \"s_find_scl_mode7\": \"\",\n",
    "    \"s_find_scl_mode8\": \"\",\n",
    "    \"s_find_scl_mode9\": \"\",\n",
    "    \"s_find_scl_mode10\": \"\",\n",
    "    \"find_work_mode1\": \"\",\n",
    "    \"find_work_mode2\": \"\",\n",
    "    \"find_work_mode3\": \"\",\n",
    "    \"find_work_mode4\": \"\",\n",
    "    \"find_work_mode5\": \"\",\n",
    "    \"find_work_mode6\": \"\",\n",
    "    \"find_work_mode7\": \"\",\n",
    "    \"find_work_mode8\": \"\",\n",
    "    \"find_work_mode9\": \"\",\n",
    "    \"find_work_mode10\": \"\",\n",
    "    \"s_find_work_mode1\": \"\",\n",
    "    \"s_find_work_mode2\": \"\",\n",
    "    \"s_find_work_mode3\": \"\",\n",
    "    \"s_find_work_mode4\": \"\",\n",
    "    \"s_find_work_mode5\": \"\",\n",
    "    \"s_find_work_mode6\": \"\",\n",
    "    \"s_find_work_mode7\": \"\",\n",
    "    \"s_find_work_mode8\": \"\",\n",
    "    \"s_find_work_mode9\": \"\",\n",
    "    \"s_find_work_mode10\": \"\",\n",
    "    \"find_job_mode1\": \"\",\n",
    "    \"find_job_mode2\": \"\",\n",
    "    \"find_job_mode3\": \"\",\n",
    "    \"find_job_mode4\": \"\",\n",
    "    \"find_job_mode5\": \"\",\n",
    "    \"find_job_mode6\": \"\",\n",
    "    \"find_job_mode7\": \"\",\n",
    "    \"find_job_mode8\": \"\",\n",
    "    \"find_job_mode9\": \"\",\n",
    "    \"find_job_mode10\": \"\",\n",
    "    \"s_find_job_mode1\": \"\",\n",
    "    \"s_find_job_mode2\": \"\",\n",
    "    \"s_find_job_mode3\": \"\",\n",
    "    \"s_find_job_mode4\": \"\",\n",
    "    \"s_find_job_mode5\": \"\",\n",
    "    \"s_find_job_mode6\": \"\",\n",
    "    \"s_find_job_mode7\": \"\",\n",
    "    \"s_find_job_mode8\": \"\",\n",
    "    \"s_find_job_mode9\": \"\",\n",
    "    \"s_find_job_mode10\": \"\",\n",
    "    \"find_sche_mode1\": \"\",\n",
    "    \"find_sche_mode2\": \"\",\n",
    "    \"find_sche_mode3\": \"\",\n",
    "    \"find_sche_mode4\": \"\",\n",
    "    \"find_sche_mode5\": \"\",\n",
    "    \"s_find_sche_mode1\": \"\",\n",
    "    \"s_find_sche_mode2\": \"\",\n",
    "    \"s_find_sche_mode3\": \"\",\n",
    "    \"s_find_sche_mode4\": \"\",\n",
    "    \"s_find_sche_mode5\": \"\",\n",
    "    \"_mu_sf_1\": \"\",\n",
    "    \"_mu_se_1\": \"\",\n",
    "    \"_mu_chkbox_2\": \"\",\n",
    "    \"_mu_chkbox_3\": \"\",\n",
    "    \"_mu_wk_1\": \"\",\n",
    "    \"_mu_wk_2\": \"\",\n",
    "    \"_mu_wk_3\": \"\",\n",
    "    \"_mu_wk_4\": \"\",\n",
    "    \"_mu_wk_5\": \"\",\n",
    "    \"_mu_job_1\": \"\",\n",
    "    \"_mu_edu_1\": \"\",\n",
    "    \"_mu_edu_2\": \"\",\n",
    "    \"_mu_edu_3\": \"\",\n",
    "    \"_mu_edu_4\": \"\",\n",
    "    \"_mu_edu_5\": \"\",\n",
    "    \"_mu_edu_6\": \"\",\n",
    "    \"_mu_edu_7\": \"\",\n",
    "    \"_mu_year_1\": \"\",\n",
    "    \"_mu_year_2\": \"\",\n",
    "    \"_mu_lang_1\": \"\",\n",
    "    \"_mu_lang_2\": \"\",\n",
    "    \"_mu_lang_3\": \"\",\n",
    "    \"_mu_psn_1\": \"\",\n",
    "    \"_mu_vc_1\": \"\",\n",
    "    \"_mu_vc_2\": \"\",\n",
    "    \"_mu_vc_3\": \"\",\n",
    "    \"_mu_vc_4\": \"\",\n",
    "    \"_mu_sc_1\": \"\",\n",
    "    \"_mu_sc_2\": \"\",\n",
    "    \"find_subj_mode1\": \"\",\n",
    "    \"find_subj_mode2\": \"\",\n",
    "    \"find_subj_mode3\": \"\",\n",
    "    \"s_find_subj_mode1\": \"\",\n",
    "    \"s_find_subj_mode2\": \"\",\n",
    "    \"s_find_subj_mode3\": \"\",\n",
    "    \"find_sw_mode1\": \"\",\n",
    "    \"find_sw_mode2\": \"\",\n",
    "    \"find_sw_mode3\": \"\",\n",
    "    \"find_sw_mode4\": \"\",\n",
    "    \"find_sw_mode5\": \"\",\n",
    "    \"s_find_sw_mode1\": \"\",\n",
    "    \"s_find_sw_mode2\": \"\",\n",
    "    \"s_find_sw_mode3\": \"\",\n",
    "    \"s_find_sw_mode4\": \"\",\n",
    "    \"s_find_sw_mode5\": \"\",\n",
    "    \"find_cert_mode1\": \"\",\n",
    "    \"find_cert_mode2\": \"\",\n",
    "    \"find_cert_mode3\": \"\",\n",
    "    \"find_cert_mode4\": \"\",\n",
    "    \"find_cert_mode5\": \"\",\n",
    "    \"s_find_cert_mode1\": \"\",\n",
    "    \"s_find_cert_mode2\": \"\",\n",
    "    \"s_find_cert_mode3\": \"\",\n",
    "    \"s_find_cert_mode4\": \"\",\n",
    "    \"s_find_cert_mode5\": \"\",\n",
    "    \"order_by\": \"neworder\",\n",
    "    \"order_ascend\": \"desc\",\n",
    "    \"search_key_word\": \"java\",\n",
    "    \"search_type\": \"job\",\n",
    "    \"us_menu\": \"\",\n",
    "    \"search_item\": \"1\",\n",
    "    \"search_from\": \"joblist\",\n",
    "    \"job_show_type\": \"B\"\n",
    "}''')\n",
    "headers = json.loads(r'''{\n",
    "    \"Accept\": \"text/html,application/xhtml+xml,application/xml;q=0.9,image/webp,image/apng,*/*;q=0.8\",\n",
    "    \"Accept-Encoding\": \"gzip, deflate, br\",\n",
    "    \"Accept-Language\": \"en-US,en;q=0.9\",\n",
    "    \"Cache-Control\": \"no-cache\",\n",
    "    \"Connection\": \"keep-alive\",\n",
    "    \"Content-Length\": \"4341\",\n",
    "    \"Content-Type\": \"application/x-www-form-urlencoded\",\n",
    "    \"Cookie\": \"_sh_c_1=search_type%3Ajob%7Csearch_item%3A1%7Csearch_key_word%3Ajava%7C_mu_ckb_21%3Acheckbox%7C_mu_ckb_22%3Acheckbox%7C_mu_ckb_23%3Acheckbox%7C_mu_ckb_24%3Acheckbox%7C_mu_ckb_25%3Acheckbox; _sh_c_2=search_type%3Ajob%7Csearch_item%3A1%7Csearch_key_word%3Ajava%7C_mu_ckb_21%3Acheckbox%7C_mu_ckb_22%3Acheckbox%7C_mu_ckb_23%3Acheckbox%7C_mu_ckb_24%3Acheckbox%7C_mu_ckb_25%3Acheckbox; _sh_c_3=search_type%3Ajob%7Csearch_item%3A1%7Csearch_key_word%3Ajava%7C_mu_ckb_21%3Acheckbox%7C_mu_ckb_22%3Acheckbox%7C_mu_ckb_23%3Acheckbox%7C_mu_ckb_24%3Acheckbox%7C_mu_ckb_25%3Acheckbox; _sh_c_4=search_type%3Ajob%7Csearch_item%3A1%7Csearch_key_word%3Ajava%7C_mu_ckb_21%3Acheckbox%7C_mu_ckb_22%3Acheckbox%7C_mu_ckb_23%3Acheckbox%7C_mu_ckb_24%3Acheckbox%7C_mu_ckb_25%3Acheckbox; _sh_c_5=search_type%3Ajob%7Csearch_item%3A1%7Csearch_key_word%3Ajava%7C_mu_ckb_21%3Acheckbox%7C_mu_ckb_22%3Acheckbox%7C_mu_ckb_23%3Acheckbox%7C_mu_ckb_24%3Acheckbox%7C_mu_ckb_25%3Acheckbox; ASPSESSIONIDSSBTSQRQ=EEDOBPLCADDPFDGFCIBLEGED; __asc=9b3990ed160de388f0fbe417dbf; __auc=9b3990ed160de388f0fbe417dbf; ClientIP=111.248.71.118; _ga=GA1.3.2064806402.1515556737; _gid=GA1.3.25806277.1515556737; yes123_make_cookie=418e272f0d40445d91db71bcc4bdba26; view%5Fjob%5Fid%5Fstr=20140103100924%5F27365925%40%21%4020170202181648%5F8100619%40%21%40D4000+%E5%A4%A7%E6%95%B8%E6%93%9A%E5%B9%B3%E5%8F%B0%E5%B7%A5%E7%A8%8B%E5%B8%AB%28Java%29%24%21%2420111125115316%5F84703052%40%21%4020140704190856%5F1610362%40%21%40JAVA%E8%B3%87%E6%B7%B1%E7%A8%8B%E5%BC%8F%E8%A8%AD%E8%A8%88%E5%B8%AB%24%21%2420110520143447%5F80472760%40%21%4020171026144907%5F38837863%40%21%40JAVA%E7%A8%8B%E5%BC%8F%E8%A8%AD%E8%A8%88%E5%B8%AB; ASPSESSIONIDQQACCRSA=GABBAALCHHPFFHJDHBBKCOND; ASP.NET_SessionId=721424589; StepCookie_id=721424589; step=19; ASPSESSIONIDAABRSTRT=IBAPCAACKJCAJONDPACBOHCB; citrix_ns_id=yXslN8/u40/byvXXfovfuGPjMC8A000\",\n",
    "    \"Host\": \"www.yes123.com.tw\",\n",
    "    \"Origin\": \"https://www.yes123.com.tw\",\n",
    "    \"Pragma\": \"no-cache\",\n",
    "    \"Referer\": \"https://www.yes123.com.tw/admin/job_refer_list.asp\",\n",
    "    \"Upgrade-Insecure-Requests\": \"1\",\n",
    "    \"User-Agent\": \"Mozilla/5.0 (X11; Linux x86_64) AppleWebKit/537.36 (KHTML, like Gecko) Chrome/63.0.3239.132 Safari/537.36\"\n",
    "}''')\n",
    "\n",
    "\n",
    "strrec = 0\n",
    "\n",
    "while True:\n",
    "    print(\"[INFO] crawling strrec %s\"%strrec)\n",
    "    resp = requests.post(url, data=data, headers=headers)\n",
    "    resp.encoding = 'utf-8'\n",
    "    if '查無資料' in resp.text:\n",
    "        break\n",
    "    with open('/tmp/yes123/JAVA_{}.html'.format(strrec), 'w') as f:\n",
    "        f.write(resp.text)\n",
    "    strrec += 20\n",
    "    data['strrec'] = strrec"
   ]
  },
  {
   "cell_type": "markdown",
   "metadata": {},
   "source": [
    "# 成功了！！！"
   ]
  },
  {
   "cell_type": "code",
   "execution_count": 10,
   "metadata": {},
   "outputs": [
    {
     "name": "stdout",
     "output_type": "stream",
     "text": [
      "strrec 0 has input\n",
      "strrec 20 has input\n",
      "strrec 40 has input\n",
      "strrec 60 has input\n",
      "strrec 80 has input\n"
     ]
    }
   ],
   "source": [
    "# 已知頁碼的話，可以用for迴圈來跑\n",
    "\n",
    "import requests\n",
    "import json\n",
    "\n",
    "url = \"https://www.yes123.com.tw/admin/job_refer_list.asp\"\n",
    "data = json.loads(r'''{\n",
    "    \"find_key1\": \"java\",\n",
    "    \"search_feature\": \"\",\n",
    "    \"search_work\": \"請選擇職務\",\n",
    "    \"search_multi_loc\": \"請選擇地區\",\n",
    "    \"find_key2\": \"\",\n",
    "    \"search_multi_loc2\": \"請選擇地區\",\n",
    "    \"search_work2\": \"請選擇職務\",\n",
    "    \"search_job2\": \"請選擇行業\",\n",
    "    \"find_key3\": \"\",\n",
    "    \"search_multi_loc3\": \"請選擇地區\",\n",
    "    \"search_work3\": \"請選擇職務\",\n",
    "    \"_rdo_1\": \"1\",\n",
    "    \"search_subj\": \"\",\n",
    "    \"search_work4\": \"請選擇職務\",\n",
    "    \"search_multi_loc4\": \"請選擇地區\",\n",
    "    \"search_multi_loc5\": \"請選擇地區\",\n",
    "    \"_rdo_2\": \"1\",\n",
    "    \"search_work6\": \"\",\n",
    "    \"search_work7\": \"請選擇職務\",\n",
    "    \"search_multi_loc6\": \"請選擇地區\",\n",
    "    \"search_work8\": \"請選擇職務\",\n",
    "    \"search_multi_loc7\": \"請選擇地區\",\n",
    "    \"find_sf_subj_mode1\": \"\",\n",
    "    \"s_find_sf_subj_mode1\": \"\",\n",
    "    \"find_se_work_mode1\": \"\",\n",
    "    \"s_find_se_work_mode1\": \"\",\n",
    "    \"find_zone_mode1\": \"\",\n",
    "    \"find_zone_mode2\": \"\",\n",
    "    \"find_zone_mode3\": \"\",\n",
    "    \"find_zone_mode4\": \"\",\n",
    "    \"find_zone_mode5\": \"\",\n",
    "    \"find_zone_mode6\": \"\",\n",
    "    \"find_zone_mode7\": \"\",\n",
    "    \"find_zone_mode8\": \"\",\n",
    "    \"find_zone_mode9\": \"\",\n",
    "    \"find_zone_mode10\": \"\",\n",
    "    \"s_find_zone_mode1\": \"\",\n",
    "    \"s_find_zone_mode2\": \"\",\n",
    "    \"s_find_zone_mode3\": \"\",\n",
    "    \"s_find_zone_mode4\": \"\",\n",
    "    \"s_find_zone_mode5\": \"\",\n",
    "    \"s_find_zone_mode6\": \"\",\n",
    "    \"s_find_zone_mode7\": \"\",\n",
    "    \"s_find_zone_mode8\": \"\",\n",
    "    \"s_find_zone_mode9\": \"\",\n",
    "    \"s_find_zone_mode10\": \"\",\n",
    "    \"find_metro_mode1\": \"\",\n",
    "    \"find_metro_mode2\": \"\",\n",
    "    \"find_metro_mode3\": \"\",\n",
    "    \"find_metro_mode4\": \"\",\n",
    "    \"find_metro_mode5\": \"\",\n",
    "    \"find_metro_mode6\": \"\",\n",
    "    \"find_metro_mode7\": \"\",\n",
    "    \"find_metro_mode8\": \"\",\n",
    "    \"find_metro_mode9\": \"\",\n",
    "    \"find_metro_mode10\": \"\",\n",
    "    \"s_find_metro_mode1\": \"\",\n",
    "    \"s_find_metro_mode2\": \"\",\n",
    "    \"s_find_metro_mode3\": \"\",\n",
    "    \"s_find_metro_mode4\": \"\",\n",
    "    \"s_find_metro_mode5\": \"\",\n",
    "    \"s_find_metro_mode6\": \"\",\n",
    "    \"s_find_metro_mode7\": \"\",\n",
    "    \"s_find_metro_mode8\": \"\",\n",
    "    \"s_find_metro_mode9\": \"\",\n",
    "    \"s_find_metro_mode10\": \"\",\n",
    "    \"find_map_mode1\": \"\",\n",
    "    \"find_map_mode2\": \"\",\n",
    "    \"find_map_mode3\": \"\",\n",
    "    \"find_map_mode4\": \"\",\n",
    "    \"find_indy_mode1\": \"\",\n",
    "    \"find_indy_mode2\": \"\",\n",
    "    \"find_indy_mode3\": \"\",\n",
    "    \"find_indy_mode4\": \"\",\n",
    "    \"find_indy_mode5\": \"\",\n",
    "    \"find_indy_mode6\": \"\",\n",
    "    \"find_indy_mode7\": \"\",\n",
    "    \"find_indy_mode8\": \"\",\n",
    "    \"find_indy_mode9\": \"\",\n",
    "    \"find_indy_mode10\": \"\",\n",
    "    \"s_find_indy_mode1\": \"\",\n",
    "    \"s_find_indy_mode2\": \"\",\n",
    "    \"s_find_indy_mode3\": \"\",\n",
    "    \"s_find_indy_mode4\": \"\",\n",
    "    \"s_find_indy_mode5\": \"\",\n",
    "    \"s_find_indy_mode6\": \"\",\n",
    "    \"s_find_indy_mode7\": \"\",\n",
    "    \"s_find_indy_mode8\": \"\",\n",
    "    \"s_find_indy_mode9\": \"\",\n",
    "    \"s_find_indy_mode10\": \"\",\n",
    "    \"find_scl_mode1\": \"\",\n",
    "    \"find_scl_mode2\": \"\",\n",
    "    \"find_scl_mode3\": \"\",\n",
    "    \"find_scl_mode4\": \"\",\n",
    "    \"find_scl_mode5\": \"\",\n",
    "    \"find_scl_mode6\": \"\",\n",
    "    \"find_scl_mode7\": \"\",\n",
    "    \"find_scl_mode8\": \"\",\n",
    "    \"find_scl_mode9\": \"\",\n",
    "    \"find_scl_mode10\": \"\",\n",
    "    \"s_find_scl_mode1\": \"\",\n",
    "    \"s_find_scl_mode2\": \"\",\n",
    "    \"s_find_scl_mode3\": \"\",\n",
    "    \"s_find_scl_mode4\": \"\",\n",
    "    \"s_find_scl_mode5\": \"\",\n",
    "    \"s_find_scl_mode6\": \"\",\n",
    "    \"s_find_scl_mode7\": \"\",\n",
    "    \"s_find_scl_mode8\": \"\",\n",
    "    \"s_find_scl_mode9\": \"\",\n",
    "    \"s_find_scl_mode10\": \"\",\n",
    "    \"find_work_mode1\": \"\",\n",
    "    \"find_work_mode2\": \"\",\n",
    "    \"find_work_mode3\": \"\",\n",
    "    \"find_work_mode4\": \"\",\n",
    "    \"find_work_mode5\": \"\",\n",
    "    \"find_work_mode6\": \"\",\n",
    "    \"find_work_mode7\": \"\",\n",
    "    \"find_work_mode8\": \"\",\n",
    "    \"find_work_mode9\": \"\",\n",
    "    \"find_work_mode10\": \"\",\n",
    "    \"s_find_work_mode1\": \"\",\n",
    "    \"s_find_work_mode2\": \"\",\n",
    "    \"s_find_work_mode3\": \"\",\n",
    "    \"s_find_work_mode4\": \"\",\n",
    "    \"s_find_work_mode5\": \"\",\n",
    "    \"s_find_work_mode6\": \"\",\n",
    "    \"s_find_work_mode7\": \"\",\n",
    "    \"s_find_work_mode8\": \"\",\n",
    "    \"s_find_work_mode9\": \"\",\n",
    "    \"s_find_work_mode10\": \"\",\n",
    "    \"find_job_mode1\": \"\",\n",
    "    \"find_job_mode2\": \"\",\n",
    "    \"find_job_mode3\": \"\",\n",
    "    \"find_job_mode4\": \"\",\n",
    "    \"find_job_mode5\": \"\",\n",
    "    \"find_job_mode6\": \"\",\n",
    "    \"find_job_mode7\": \"\",\n",
    "    \"find_job_mode8\": \"\",\n",
    "    \"find_job_mode9\": \"\",\n",
    "    \"find_job_mode10\": \"\",\n",
    "    \"s_find_job_mode1\": \"\",\n",
    "    \"s_find_job_mode2\": \"\",\n",
    "    \"s_find_job_mode3\": \"\",\n",
    "    \"s_find_job_mode4\": \"\",\n",
    "    \"s_find_job_mode5\": \"\",\n",
    "    \"s_find_job_mode6\": \"\",\n",
    "    \"s_find_job_mode7\": \"\",\n",
    "    \"s_find_job_mode8\": \"\",\n",
    "    \"s_find_job_mode9\": \"\",\n",
    "    \"s_find_job_mode10\": \"\",\n",
    "    \"find_sche_mode1\": \"\",\n",
    "    \"find_sche_mode2\": \"\",\n",
    "    \"find_sche_mode3\": \"\",\n",
    "    \"find_sche_mode4\": \"\",\n",
    "    \"find_sche_mode5\": \"\",\n",
    "    \"s_find_sche_mode1\": \"\",\n",
    "    \"s_find_sche_mode2\": \"\",\n",
    "    \"s_find_sche_mode3\": \"\",\n",
    "    \"s_find_sche_mode4\": \"\",\n",
    "    \"s_find_sche_mode5\": \"\",\n",
    "    \"_mu_sf_1\": \"\",\n",
    "    \"_mu_se_1\": \"\",\n",
    "    \"_mu_chkbox_2\": \"\",\n",
    "    \"_mu_chkbox_3\": \"\",\n",
    "    \"_mu_wk_1\": \"\",\n",
    "    \"_mu_wk_2\": \"\",\n",
    "    \"_mu_wk_3\": \"\",\n",
    "    \"_mu_wk_4\": \"\",\n",
    "    \"_mu_wk_5\": \"\",\n",
    "    \"_mu_job_1\": \"\",\n",
    "    \"_mu_edu_1\": \"\",\n",
    "    \"_mu_edu_2\": \"\",\n",
    "    \"_mu_edu_3\": \"\",\n",
    "    \"_mu_edu_4\": \"\",\n",
    "    \"_mu_edu_5\": \"\",\n",
    "    \"_mu_edu_6\": \"\",\n",
    "    \"_mu_edu_7\": \"\",\n",
    "    \"_mu_year_1\": \"\",\n",
    "    \"_mu_year_2\": \"\",\n",
    "    \"_mu_lang_1\": \"\",\n",
    "    \"_mu_lang_2\": \"\",\n",
    "    \"_mu_lang_3\": \"\",\n",
    "    \"_mu_psn_1\": \"\",\n",
    "    \"_mu_vc_1\": \"\",\n",
    "    \"_mu_vc_2\": \"\",\n",
    "    \"_mu_vc_3\": \"\",\n",
    "    \"_mu_vc_4\": \"\",\n",
    "    \"_mu_sc_1\": \"\",\n",
    "    \"_mu_sc_2\": \"\",\n",
    "    \"find_subj_mode1\": \"\",\n",
    "    \"find_subj_mode2\": \"\",\n",
    "    \"find_subj_mode3\": \"\",\n",
    "    \"s_find_subj_mode1\": \"\",\n",
    "    \"s_find_subj_mode2\": \"\",\n",
    "    \"s_find_subj_mode3\": \"\",\n",
    "    \"find_sw_mode1\": \"\",\n",
    "    \"find_sw_mode2\": \"\",\n",
    "    \"find_sw_mode3\": \"\",\n",
    "    \"find_sw_mode4\": \"\",\n",
    "    \"find_sw_mode5\": \"\",\n",
    "    \"s_find_sw_mode1\": \"\",\n",
    "    \"s_find_sw_mode2\": \"\",\n",
    "    \"s_find_sw_mode3\": \"\",\n",
    "    \"s_find_sw_mode4\": \"\",\n",
    "    \"s_find_sw_mode5\": \"\",\n",
    "    \"find_cert_mode1\": \"\",\n",
    "    \"find_cert_mode2\": \"\",\n",
    "    \"find_cert_mode3\": \"\",\n",
    "    \"find_cert_mode4\": \"\",\n",
    "    \"find_cert_mode5\": \"\",\n",
    "    \"s_find_cert_mode1\": \"\",\n",
    "    \"s_find_cert_mode2\": \"\",\n",
    "    \"s_find_cert_mode3\": \"\",\n",
    "    \"s_find_cert_mode4\": \"\",\n",
    "    \"s_find_cert_mode5\": \"\",\n",
    "    \"order_by\": \"neworder\",\n",
    "    \"order_ascend\": \"desc\",\n",
    "    \"search_key_word\": \"java\",\n",
    "    \"search_type\": \"job\",\n",
    "    \"us_menu\": \"\",\n",
    "    \"search_item\": \"1\",\n",
    "    \"search_from\": \"joblist\",\n",
    "    \"job_show_type\": \"B\"\n",
    "}''')\n",
    "headers = json.loads(r'''{\n",
    "    \"Accept\": \"text/html,application/xhtml+xml,application/xml;q=0.9,image/webp,image/apng,*/*;q=0.8\",\n",
    "    \"Accept-Encoding\": \"gzip, deflate, br\",\n",
    "    \"Accept-Language\": \"en-US,en;q=0.9\",\n",
    "    \"Cache-Control\": \"no-cache\",\n",
    "    \"Connection\": \"keep-alive\",\n",
    "    \"Content-Length\": \"4341\",\n",
    "    \"Content-Type\": \"application/x-www-form-urlencoded\",\n",
    "    \"Cookie\": \"_sh_c_1=search_type%3Ajob%7Csearch_item%3A1%7Csearch_key_word%3Ajava%7C_mu_ckb_21%3Acheckbox%7C_mu_ckb_22%3Acheckbox%7C_mu_ckb_23%3Acheckbox%7C_mu_ckb_24%3Acheckbox%7C_mu_ckb_25%3Acheckbox; _sh_c_2=search_type%3Ajob%7Csearch_item%3A1%7Csearch_key_word%3Ajava%7C_mu_ckb_21%3Acheckbox%7C_mu_ckb_22%3Acheckbox%7C_mu_ckb_23%3Acheckbox%7C_mu_ckb_24%3Acheckbox%7C_mu_ckb_25%3Acheckbox; _sh_c_3=search_type%3Ajob%7Csearch_item%3A1%7Csearch_key_word%3Ajava%7C_mu_ckb_21%3Acheckbox%7C_mu_ckb_22%3Acheckbox%7C_mu_ckb_23%3Acheckbox%7C_mu_ckb_24%3Acheckbox%7C_mu_ckb_25%3Acheckbox; _sh_c_4=search_type%3Ajob%7Csearch_item%3A1%7Csearch_key_word%3Ajava%7C_mu_ckb_21%3Acheckbox%7C_mu_ckb_22%3Acheckbox%7C_mu_ckb_23%3Acheckbox%7C_mu_ckb_24%3Acheckbox%7C_mu_ckb_25%3Acheckbox; _sh_c_5=search_type%3Ajob%7Csearch_item%3A1%7Csearch_key_word%3Ajava%7C_mu_ckb_21%3Acheckbox%7C_mu_ckb_22%3Acheckbox%7C_mu_ckb_23%3Acheckbox%7C_mu_ckb_24%3Acheckbox%7C_mu_ckb_25%3Acheckbox; ASPSESSIONIDSSBTSQRQ=EEDOBPLCADDPFDGFCIBLEGED; __asc=9b3990ed160de388f0fbe417dbf; __auc=9b3990ed160de388f0fbe417dbf; ClientIP=111.248.71.118; _ga=GA1.3.2064806402.1515556737; _gid=GA1.3.25806277.1515556737; yes123_make_cookie=418e272f0d40445d91db71bcc4bdba26; view%5Fjob%5Fid%5Fstr=20140103100924%5F27365925%40%21%4020170202181648%5F8100619%40%21%40D4000+%E5%A4%A7%E6%95%B8%E6%93%9A%E5%B9%B3%E5%8F%B0%E5%B7%A5%E7%A8%8B%E5%B8%AB%28Java%29%24%21%2420111125115316%5F84703052%40%21%4020140704190856%5F1610362%40%21%40JAVA%E8%B3%87%E6%B7%B1%E7%A8%8B%E5%BC%8F%E8%A8%AD%E8%A8%88%E5%B8%AB%24%21%2420110520143447%5F80472760%40%21%4020171026144907%5F38837863%40%21%40JAVA%E7%A8%8B%E5%BC%8F%E8%A8%AD%E8%A8%88%E5%B8%AB; ASPSESSIONIDQQACCRSA=GABBAALCHHPFFHJDHBBKCOND; ASP.NET_SessionId=721424589; StepCookie_id=721424589; step=19; ASPSESSIONIDAABRSTRT=IBAPCAACKJCAJONDPACBOHCB; citrix_ns_id=yXslN8/u40/byvXXfovfuGPjMC8A000\",\n",
    "    \"Host\": \"www.yes123.com.tw\",\n",
    "    \"Origin\": \"https://www.yes123.com.tw\",\n",
    "    \"Pragma\": \"no-cache\",\n",
    "    \"Referer\": \"https://www.yes123.com.tw/admin/job_refer_list.asp\",\n",
    "    \"Upgrade-Insecure-Requests\": \"1\",\n",
    "    \"User-Agent\": \"Mozilla/5.0 (X11; Linux x86_64) AppleWebKit/537.36 (KHTML, like Gecko) Chrome/63.0.3239.132 Safari/537.36\"\n",
    "}''')\n",
    "\n",
    "\n",
    "for strrec in range(0,81,20):\n",
    "    print(\"strrec %s has input\"%strrec)\n",
    "    resp = requests.post(url, data=data, headers=headers)\n",
    "    resp.encoding = 'utf-8'\n",
    "    with open('/tmp/yes123/JAVA_{}.html'.format(strrec), 'w') as f:\n",
    "        f.write(resp.text)\n",
    "    data['strrec'] = strrec"
   ]
  },
  {
   "cell_type": "code",
   "execution_count": 11,
   "metadata": {},
   "outputs": [
    {
     "name": "stdout",
     "output_type": "stream",
     "text": [
      "strrec 0 has input\n",
      "strrec 20 has input\n",
      "strrec 40 has input\n",
      "strrec 60 has input\n",
      "strrec 80 has input\n"
     ]
    }
   ],
   "source": [
    "# 如果不想要分開除存網頁，要一次性分析的話，open('位置','a')即可append\n",
    "\n",
    "for strrec in range(0,81,20):\n",
    "    data['strrec'] = strrec\n",
    "    print(\"strrec %s has input\"%strrec)\n",
    "    resp = requests.post(url, data=data, headers=headers)\n",
    "    resp.encoding = 'utf-8'\n",
    "    with open('/tmp/yes123/JAVA_All.html', 'a') as f:\n",
    "        f.write(resp.text)"
   ]
  },
  {
   "cell_type": "markdown",
   "metadata": {},
   "source": [
    "# 開始抓取內文資料！（使用BeautifulSoup）"
   ]
  },
  {
   "cell_type": "code",
   "execution_count": 12,
   "metadata": {
    "scrolled": true
   },
   "outputs": [
    {
     "name": "stdout",
     "output_type": "stream",
     "text": [
      "Requirement already satisfied: beautifulsoup4 in /home/auphie/.pyenv/versions/anaconda3-5.0.1/lib/python3.6/site-packages\r\n",
      "Requirement already satisfied: lxml in /home/auphie/.pyenv/versions/anaconda3-5.0.1/lib/python3.6/site-packages\r\n"
     ]
    }
   ],
   "source": [
    "!pip install beautifulsoup4 lxml"
   ]
  },
  {
   "cell_type": "code",
   "execution_count": 13,
   "metadata": {
    "collapsed": true
   },
   "outputs": [],
   "source": [
    "with open('/tmp/yes123/JAVA_0.html') as f:\n",
    "    job_html = f.read()"
   ]
  },
  {
   "cell_type": "code",
   "execution_count": 14,
   "metadata": {
    "collapsed": true
   },
   "outputs": [],
   "source": [
    "from bs4 import BeautifulSoup\n",
    "\n",
    "soup = BeautifulSoup(job_html, 'lxml') # Beautifulsoup Object"
   ]
  },
  {
   "cell_type": "code",
   "execution_count": 15,
   "metadata": {},
   "outputs": [
    {
     "data": {
      "text/plain": [
       "'\\n<ul>\\n  <li class=\\'date2\\'>01.11</li>\\n  <li class=\\'jobs2\\'><span class=\\'t0\\'><a href=\\'/admin/job_refer_comp_job_detail2.asp?p_id=4761883_97179430&job_id=20170810095318_4774073\\' title=\\'C3811 電子錢包 Java(資深)開發工程師\\' target=\\'_blank\\' ><span style=\\'font-size: 16px;font-weight: bold;padding-right:5px\\' >C3811 電子錢包 Java(資深)開發工程師</span></a></span>\\n  <span class=\\'t1\\'><a href=\\'/admin/job_refer_comp_info.asp?p_id=4761883_97179430\\' title=\\'遠傳電信股份有限公司\\' target=_blank>遠傳電信股份有限公司</a>         <img style=\\'padding-top:3px;\\' src=\"/admin/images_2014/500.gif\" title=\"500大服務業\" /></span>\\n  <span>\\n  <div class=\\'t2_1_2\\'>待遇面議</div>\\n  <div class=\\'t2\\'>\\n   │ 工作經驗5年以上，學歷大學以上</div></span>\\n  <span class=\\'t3\\'>主要負責friDAY電子錢包系統相關事宜:\\n\\n1.配合加值服務產品的上線計劃，支援開發工作與維護服務中的應用程式\\n2.系統設計、開發及維護\\n3.進行軟體之測試與修改</span>\\n  <span class=\\'t2\\'><font style=\\'color:#e40077;\\'>＊</font>位於內湖科技園區</span></li>\\n  <li class=\\'kind2\\'>全職</li>\\n  <li class=\\'area2\\'>台北市內湖區</li>\\n  <li ><a href=\"javascript:openfancybox(\\'/admin/sel_job_to_mail0.asp?todo=mail&sel_id=20170810095318_4774073&fancy=yes&redirect=4&act_type=add&keepThis=true&TB_iframe=true&height=230&width=480&amp\\',280,220);\" class=\\'btn_y_72x30\\'>我要應徵</a>\\n  <span class=\\'btn_did_72x30\\'></span></a></li>\\n</ul>\\n'"
      ]
     },
     "execution_count": 15,
     "metadata": {},
     "output_type": "execute_result"
    }
   ],
   "source": [
    "# 工作內容的網頁節錄如下:\n",
    "\"\"\"\n",
    "<ul>\n",
    "  <li class='date2'>01.11</li>\n",
    "  <li class='jobs2'><span class='t0'><a href='/admin/job_refer_comp_job_detail2.asp?p_id=4761883_97179430&job_id=20170810095318_4774073' title='C3811 電子錢包 Java(資深)開發工程師' target='_blank' ><span style='font-size: 16px;font-weight: bold;padding-right:5px' >C3811 電子錢包 Java(資深)開發工程師</span></a></span>\n",
    "  <span class='t1'><a href='/admin/job_refer_comp_info.asp?p_id=4761883_97179430' title='遠傳電信股份有限公司' target=_blank>遠傳電信股份有限公司</a>         <img style='padding-top:3px;' src=\"/admin/images_2014/500.gif\" title=\"500大服務業\" /></span>\n",
    "  <span>\n",
    "  <div class='t2_1_2'>待遇面議</div>\n",
    "  <div class='t2'>\n",
    "   │ 工作經驗5年以上，學歷大學以上</div></span>\n",
    "  <span class='t3'>主要負責friDAY電子錢包系統相關事宜:\n",
    "\n",
    "1.配合加值服務產品的上線計劃，支援開發工作與維護服務中的應用程式\n",
    "2.系統設計、開發及維護\n",
    "3.進行軟體之測試與修改</span>\n",
    "  <span class='t2'><font style='color:#e40077;'>＊</font>位於內湖科技園區</span></li>\n",
    "  <li class='kind2'>全職</li>\n",
    "  <li class='area2'>台北市內湖區</li>\n",
    "  <li ><a href=\"javascript:openfancybox('/admin/sel_job_to_mail0.asp?todo=mail&sel_id=20170810095318_4774073&fancy=yes&redirect=4&act_type=add&keepThis=true&TB_iframe=true&height=230&width=480&amp',280,220);\" class='btn_y_72x30'>我要應徵</a>\n",
    "  <span class='btn_did_72x30'></span></a></li>\n",
    "</ul>\n",
    "\"\"\""
   ]
  },
  {
   "cell_type": "code",
   "execution_count": 16,
   "metadata": {
    "scrolled": false
   },
   "outputs": [
    {
     "data": {
      "text/plain": [
       "list"
      ]
     },
     "execution_count": 16,
     "metadata": {},
     "output_type": "execute_result"
    }
   ],
   "source": [
    "# 刊登日期， 此時格式為object，尚無法修改\n",
    "\n",
    "type(soup.select('li.date2'))"
   ]
  },
  {
   "cell_type": "code",
   "execution_count": 17,
   "metadata": {
    "collapsed": true
   },
   "outputs": [],
   "source": [
    "a = soup.select('li.date2')[:5]"
   ]
  },
  {
   "cell_type": "code",
   "execution_count": 18,
   "metadata": {},
   "outputs": [
    {
     "data": {
      "text/plain": [
       "'\\nbody > div.SLV_Wrapper > div.all > div.content2 > div.job_list2 > div.job_list_con > div:nth-child(2) > ul\\nbody > div.SLV_Wrapper > div.all > div.content2 > div.job_list2 > div.job_list_con > div:nth-child(3) > ul\\nbody > div.SLV_Wrapper > div.all > div.content2 > div.job_list2 > div.job_list_con > div:nth-child(4) > ul\\n'"
      ]
     },
     "execution_count": 18,
     "metadata": {},
     "output_type": "execute_result"
    }
   ],
   "source": [
    "# 因為每個區塊的條件都一樣， 可以用css selector去抄出在網頁上的相對位置表示法。 之後即可用for loop去抓取\n",
    "# 如下： nth-child不行的話，改成nth-of-type即可\n",
    "\"\"\"\n",
    "body > div.SLV_Wrapper > div.all > div.content2 > div.job_list2 > div.job_list_con > div:nth-child(2) > ul\n",
    "body > div.SLV_Wrapper > div.all > div.content2 > div.job_list2 > div.job_list_con > div:nth-child(3) > ul\n",
    "body > div.SLV_Wrapper > div.all > div.content2 > div.job_list2 > div.job_list_con > div:nth-child(4) > ul\n",
    "\"\"\""
   ]
  },
  {
   "cell_type": "code",
   "execution_count": 19,
   "metadata": {},
   "outputs": [
    {
     "data": {
      "text/plain": [
       "[<div class=\"job_list_det2 jbd\">\n",
       " <ul>\n",
       " <li class=\"date2\">01.22</li>\n",
       " <li class=\"jobs2\"><span class=\"t0\"><a href=\"/admin/job_refer_comp_job_detail2.asp?p_id=20090828152422_84218848&amp;job_id=20140811103200_8514317\" target=\"_blank\" title=\"資深Java/J2EE程式設計師 (台北)【BU68-電信整合資訊技術開發處】\"><span style=\"font-size: 16px;font-weight: bold;padding-right:5px\">資深Java/J2EE程式設計師 (台北)【BU68-電信整合資訊技術開發處】</span></a></span>\n",
       " <span class=\"t1\"><a href=\"/admin/job_refer_comp_info.asp?p_id=20090828152422_84218848\" target=\"_blank\" title=\"敦陽科技股份有限公司\">敦陽科技股份有限公司</a></span>\n",
       " <span>\n",
       " <div class=\"t2_1_2\">待遇面議</div>\n",
       " <div class=\"t2\">\n",
       "    │ 工作經驗4年以上，學歷大學以上</div></span>\n",
       " <span class=\"t3\">大型電子商務平台/Portal平台/O2O平台/Big Data平台專案系統程式開發:\n",
       " \n",
       " 工作條件:\n",
       " \n",
       " 1. 熟悉JSP/Servlet/JDBC/XML/Web Service\n",
       " \n",
       " 2. 使用過任何一種Application Server: WebLogic...</span>\n",
       " <span class=\"t2\"><font style=\"color:#e40077;\">＊</font>位於內湖科技園區</span></li>\n",
       " <li class=\"kind2\">全職</li>\n",
       " <li class=\"area2\">台北市內湖區</li>\n",
       " <li><a class=\"btn_y_72x30\" href=\"javascript:openfancybox('/admin/sel_job_to_mail0.asp?todo=mail&amp;sel_id=20140811103200_8514317&amp;fancy=yes&amp;redirect=4&amp;act_type=add&amp;keepThis=true&amp;TB_iframe=true&amp;height=230&amp;width=480&amp;amp',280,220);\">我要應徵</a>\n",
       " <span class=\"btn_did_72x30\"></span></li>\n",
       " </ul>\n",
       " </div>]"
      ]
     },
     "execution_count": 19,
     "metadata": {},
     "output_type": "execute_result"
    }
   ],
   "source": [
    "soup.select('body > div.SLV_Wrapper > div.all > div.content2 > div.job_list2 > div.job_list_con > div:nth-of-type(4)')"
   ]
  },
  {
   "cell_type": "code",
   "execution_count": 20,
   "metadata": {},
   "outputs": [
    {
     "data": {
      "text/plain": [
       "[<li class=\"date2\"><a href=\"javascript:change_order('m_date','job')\"><!--<input type=\"checkbox\" name=\"sel_all_check\" id=\"sel_all_check\" onclick=\"sel_cancel_all();\" />-->日期</a></li>,\n",
       " <li class=\"date2\">01.22</li>,\n",
       " <li class=\"date2\">01.22</li>,\n",
       " <li class=\"date2\">01.22</li>,\n",
       " <li class=\"date2\">01.22</li>,\n",
       " <li class=\"date2\">01.18</li>,\n",
       " <li class=\"date2\">01.18</li>,\n",
       " <li class=\"date2\">01.18</li>,\n",
       " <li class=\"date2\">01.18</li>,\n",
       " <li class=\"date2\">01.18</li>,\n",
       " <li class=\"date2\">01.18</li>,\n",
       " <li class=\"date2\">01.17</li>,\n",
       " <li class=\"date2\">01.17</li>,\n",
       " <li class=\"date2\">01.17</li>,\n",
       " <li class=\"date2\">01.17</li>,\n",
       " <li class=\"date2\">01.17</li>,\n",
       " <li class=\"date2\">01.16</li>,\n",
       " <li class=\"date2\">01.16</li>,\n",
       " <li class=\"date2\">01.16</li>,\n",
       " <li class=\"date2\">01.16</li>,\n",
       " <li class=\"date2\">01.16</li>]"
      ]
     },
     "execution_count": 20,
     "metadata": {},
     "output_type": "execute_result"
    }
   ],
   "source": [
    "# 另一種找法\n",
    "\n",
    "soup.find_all('li', 'date2')"
   ]
  },
  {
   "cell_type": "code",
   "execution_count": 21,
   "metadata": {},
   "outputs": [
    {
     "data": {
      "text/plain": [
       "[<li class=\"date2\"><a href=\"javascript:change_order('m_date','job')\"><!--<input type=\"checkbox\" name=\"sel_all_check\" id=\"sel_all_check\" onclick=\"sel_cancel_all();\" />-->日期</a></li>,\n",
       " <li class=\"date2\">01.22</li>,\n",
       " <li class=\"date2\">01.22</li>,\n",
       " <li class=\"date2\">01.22</li>,\n",
       " <li class=\"date2\">01.22</li>,\n",
       " <li class=\"date2\">01.18</li>,\n",
       " <li class=\"date2\">01.18</li>,\n",
       " <li class=\"date2\">01.18</li>,\n",
       " <li class=\"date2\">01.18</li>,\n",
       " <li class=\"date2\">01.18</li>,\n",
       " <li class=\"date2\">01.18</li>,\n",
       " <li class=\"date2\">01.17</li>,\n",
       " <li class=\"date2\">01.17</li>,\n",
       " <li class=\"date2\">01.17</li>,\n",
       " <li class=\"date2\">01.17</li>,\n",
       " <li class=\"date2\">01.17</li>,\n",
       " <li class=\"date2\">01.16</li>,\n",
       " <li class=\"date2\">01.16</li>,\n",
       " <li class=\"date2\">01.16</li>,\n",
       " <li class=\"date2\">01.16</li>,\n",
       " <li class=\"date2\">01.16</li>]"
      ]
     },
     "execution_count": 21,
     "metadata": {},
     "output_type": "execute_result"
    }
   ],
   "source": [
    "soup.select('li.date2')"
   ]
  },
  {
   "cell_type": "code",
   "execution_count": 22,
   "metadata": {},
   "outputs": [
    {
     "data": {
      "text/plain": [
       "<a href=\"/admin/job_refer_comp_job_detail2.asp?p_id=13690_11395000&amp;job_id=20120614144726_9324965\" target=\"_blank\" title=\"Java工程師\"><span style=\"font-size: 16px;font-weight: bold;padding-right:5px\">Java工程師</span></a>"
      ]
     },
     "execution_count": 22,
     "metadata": {},
     "output_type": "execute_result"
    }
   ],
   "source": [
    "soup.select('span.t0 > a')[0]"
   ]
  },
  {
   "cell_type": "code",
   "execution_count": 23,
   "metadata": {},
   "outputs": [
    {
     "data": {
      "text/plain": [
       "[]"
      ]
     },
     "execution_count": 23,
     "metadata": {},
     "output_type": "execute_result"
    }
   ],
   "source": [
    "soup.select('div > box_detail')"
   ]
  },
  {
   "cell_type": "code",
   "execution_count": 24,
   "metadata": {},
   "outputs": [
    {
     "data": {
      "text/plain": [
       "[]"
      ]
     },
     "execution_count": 24,
     "metadata": {},
     "output_type": "execute_result"
    }
   ],
   "source": [
    "soup.select('body > div:nth-of-type(11) > div.content2')"
   ]
  },
  {
   "cell_type": "code",
   "execution_count": 25,
   "metadata": {},
   "outputs": [
    {
     "data": {
      "text/plain": [
       "bs4.element.Tag"
      ]
     },
     "execution_count": 25,
     "metadata": {},
     "output_type": "execute_result"
    }
   ],
   "source": [
    "type(soup.select('span.t0 > a')[0])"
   ]
  },
  {
   "cell_type": "code",
   "execution_count": 26,
   "metadata": {
    "scrolled": true
   },
   "outputs": [
    {
     "data": {
      "text/plain": [
       "str"
      ]
     },
     "execution_count": 26,
     "metadata": {},
     "output_type": "execute_result"
    }
   ],
   "source": [
    "type(soup.select('span.t0 > a')[0]['title'])"
   ]
  },
  {
   "cell_type": "code",
   "execution_count": 27,
   "metadata": {},
   "outputs": [
    {
     "data": {
      "text/plain": [
       "'萬海航運股份有限公司'"
      ]
     },
     "execution_count": 27,
     "metadata": {},
     "output_type": "execute_result"
    }
   ],
   "source": [
    "soup.select('span.t1 > a')[0]['title']"
   ]
  },
  {
   "cell_type": "code",
   "execution_count": 28,
   "metadata": {},
   "outputs": [
    {
     "data": {
      "text/plain": [
       "'待遇依公司規定'"
      ]
     },
     "execution_count": 28,
     "metadata": {},
     "output_type": "execute_result"
    }
   ],
   "source": [
    "soup.select('div.t2_1_2')[0].string"
   ]
  },
  {
   "cell_type": "code",
   "execution_count": 29,
   "metadata": {
    "scrolled": true
   },
   "outputs": [
    {
     "data": {
      "text/plain": [
       "<span class=\"t3\">1. 負責Java/app程式設計、編碼、測試、實施及維護\n",
       "2. 網站相關產品及資料維護</span>"
      ]
     },
     "execution_count": 29,
     "metadata": {},
     "output_type": "execute_result"
    }
   ],
   "source": [
    "soup.select('span.t3')[0]"
   ]
  },
  {
   "cell_type": "code",
   "execution_count": 30,
   "metadata": {
    "scrolled": false
   },
   "outputs": [
    {
     "name": "stdout",
     "output_type": "stream",
     "text": [
      "1. 負責Java/app程式設計、編碼、測試、實施及維護\n",
      "2. 網站相關產品及資料維護\n"
     ]
    }
   ],
   "source": [
    "print(soup.select('span.t3')[0].string)"
   ]
  },
  {
   "cell_type": "code",
   "execution_count": 31,
   "metadata": {
    "scrolled": false
   },
   "outputs": [
    {
     "data": {
      "text/plain": [
       "['Java工程師',\n",
       " '工程類(台北)-Java IOT工程師',\n",
       " '資深Java/J2EE程式設計師 (台北)【BU68-電信整合資訊技術開發處】',\n",
       " '約聘 軟體工程師 (Java or C#) (新竹)【BU2-BTB】【敦陽資訊】',\n",
       " 'C3811 電子錢包 Java(資深)開發工程師',\n",
       " 'I3101 應收管理系統工程師 (板橋,熟Java)',\n",
       " 'C3811 Java開發 工程師(內湖)_電子金流平台',\n",
       " 'C3811 Java開發 (資深)工程師(內湖)_電子金流平台',\n",
       " 'C3111 Java開發 資深工程師',\n",
       " 'C3811 Java開發 技術副理(內湖)',\n",
       " 'D4000 系統開發架構師(JAVA)',\n",
       " 'D4000 網站開發工程師(Java)-台中',\n",
       " 'D4000 網站開發工程師(Java)',\n",
       " 'D4000 大數據平台工程師(Java)',\n",
       " 'D4000 MIS程式開發工程師(JAVA)',\n",
       " 'JAVA程式設計師',\n",
       " 'JAVA資深程式設計師',\n",
       " '資訊-Java程式設計師(網銀/電子支付)',\n",
       " '資訊-Java資深程式設計師(影像系統)',\n",
       " '資訊-Java程式設計師']"
      ]
     },
     "execution_count": 31,
     "metadata": {},
     "output_type": "execute_result"
    }
   ],
   "source": [
    "titles = [job['title'] for job in soup.select('span.t0 > a')]\n",
    "titles"
   ]
  },
  {
   "cell_type": "code",
   "execution_count": 32,
   "metadata": {
    "scrolled": true
   },
   "outputs": [
    {
     "data": {
      "text/plain": [
       "['萬海航運股份有限公司',\n",
       " '可成科技股份有限公司',\n",
       " '敦陽科技股份有限公司',\n",
       " '敦陽科技股份有限公司',\n",
       " '遠傳電信股份有限公司',\n",
       " '遠傳電信股份有限公司',\n",
       " '遠傳電信股份有限公司',\n",
       " '遠傳電信股份有限公司',\n",
       " '遠傳電信股份有限公司',\n",
       " '遠傳電信股份有限公司',\n",
       " '富邦媒體科技股份有限公司',\n",
       " '富邦媒體科技股份有限公司',\n",
       " '富邦媒體科技股份有限公司',\n",
       " '富邦媒體科技股份有限公司',\n",
       " '富邦媒體科技股份有限公司',\n",
       " '捕夢網數位科技有限公司',\n",
       " '遠雄人壽保險事業股份有限公司',\n",
       " '(台新金控)台新國際商業銀行股份有限公司',\n",
       " '(台新金控)台新國際商業銀行股份有限公司',\n",
       " '(台新金控)台新國際商業銀行股份有限公司']"
      ]
     },
     "execution_count": 32,
     "metadata": {},
     "output_type": "execute_result"
    }
   ],
   "source": [
    "companies = [job['title'] for job in soup.select('span.t1 > a')]\n",
    "companies"
   ]
  },
  {
   "cell_type": "code",
   "execution_count": 33,
   "metadata": {},
   "outputs": [
    {
     "data": {
      "text/plain": [
       "'萬海航運股份有限公司'"
      ]
     },
     "execution_count": 33,
     "metadata": {},
     "output_type": "execute_result"
    }
   ],
   "source": [
    "soup.select('span.t1 > a')[0]['title']"
   ]
  }
 ],
 "metadata": {
  "kernelspec": {
   "display_name": "Python 3",
   "language": "python",
   "name": "python3"
  },
  "language_info": {
   "codemirror_mode": {
    "name": "ipython",
    "version": 3
   },
   "file_extension": ".py",
   "mimetype": "text/x-python",
   "name": "python",
   "nbconvert_exporter": "python",
   "pygments_lexer": "ipython3",
   "version": "3.6.1"
  }
 },
 "nbformat": 4,
 "nbformat_minor": 2
}
