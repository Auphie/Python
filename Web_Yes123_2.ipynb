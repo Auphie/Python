{
 "cells": [
  {
   "cell_type": "code",
   "execution_count": 1,
   "metadata": {},
   "outputs": [],
   "source": [
    "!mkdir -p /tmp/yes123"
   ]
  },
  {
   "cell_type": "code",
   "execution_count": 2,
   "metadata": {},
   "outputs": [
    {
     "name": "stdout",
     "output_type": "stream",
     "text": [
      "strrec 20 has input\n",
      "strrec 40 has input\n",
      "strrec 60 has input\n",
      "strrec 80 has input\n",
      "strrec 100 has input\n"
     ]
    }
   ],
   "source": [
    "import requests\n",
    "import json\n",
    "\n",
    "url = \"https://www.yes123.com.tw/admin/job_refer_list.asp\"\n",
    "data = json.loads(r'''{\n",
    "    \"find_key1\": \"java\",\n",
    "    \"order_by\": \"neworder\",\n",
    "    \"order_ascend\": \"desc\",\n",
    "    \"search_key_word\": \"java\",\n",
    "    \"search_type\": \"job\",\n",
    "    \"us_menu\": \"\",\n",
    "    \"search_item\": \"1\",\n",
    "    \"search_from\": \"joblist\",\n",
    "    \"job_show_type\": \"B\"\n",
    "}''')\n",
    "headers = json.loads(r'''{\n",
    "    \"Accept\": \"text/html,application/xhtml+xml,application/xml;q=0.9,image/webp,image/apng,*/*;q=0.8\",\n",
    "    \"Accept-Encoding\": \"gzip, deflate, br\",\n",
    "    \"Accept-Language\": \"en-US,en;q=0.9\",\n",
    "    \"Cache-Control\": \"no-cache\",\n",
    "    \"Connection\": \"keep-alive\",\n",
    "    \"Content-Length\": \"4341\",\n",
    "    \"Content-Type\": \"application/x-www-form-urlencoded\",\n",
    "    \"Cookie\": \"_sh_c_1=search_type%3Ajob%7Csearch_item%3A1%7Csearch_key_word%3Ajava%7C_mu_ckb_21%3Acheckbox%7C_mu_ckb_22%3Acheckbox%7C_mu_ckb_23%3Acheckbox%7C_mu_ckb_24%3Acheckbox%7C_mu_ckb_25%3Acheckbox; _sh_c_2=search_type%3Ajob%7Csearch_item%3A1%7Csearch_key_word%3Ajava%7C_mu_ckb_21%3Acheckbox%7C_mu_ckb_22%3Acheckbox%7C_mu_ckb_23%3Acheckbox%7C_mu_ckb_24%3Acheckbox%7C_mu_ckb_25%3Acheckbox; _sh_c_3=search_type%3Ajob%7Csearch_item%3A1%7Csearch_key_word%3Ajava%7C_mu_ckb_21%3Acheckbox%7C_mu_ckb_22%3Acheckbox%7C_mu_ckb_23%3Acheckbox%7C_mu_ckb_24%3Acheckbox%7C_mu_ckb_25%3Acheckbox; _sh_c_4=search_type%3Ajob%7Csearch_item%3A1%7Csearch_key_word%3Ajava%7C_mu_ckb_21%3Acheckbox%7C_mu_ckb_22%3Acheckbox%7C_mu_ckb_23%3Acheckbox%7C_mu_ckb_24%3Acheckbox%7C_mu_ckb_25%3Acheckbox; _sh_c_5=search_type%3Ajob%7Csearch_item%3A1%7Csearch_key_word%3Ajava%7C_mu_ckb_21%3Acheckbox%7C_mu_ckb_22%3Acheckbox%7C_mu_ckb_23%3Acheckbox%7C_mu_ckb_24%3Acheckbox%7C_mu_ckb_25%3Acheckbox; ASPSESSIONIDSSBTSQRQ=EEDOBPLCADDPFDGFCIBLEGED; __asc=9b3990ed160de388f0fbe417dbf; __auc=9b3990ed160de388f0fbe417dbf; ClientIP=111.248.71.118; _ga=GA1.3.2064806402.1515556737; _gid=GA1.3.25806277.1515556737; yes123_make_cookie=418e272f0d40445d91db71bcc4bdba26; view%5Fjob%5Fid%5Fstr=20140103100924%5F27365925%40%21%4020170202181648%5F8100619%40%21%40D4000+%E5%A4%A7%E6%95%B8%E6%93%9A%E5%B9%B3%E5%8F%B0%E5%B7%A5%E7%A8%8B%E5%B8%AB%28Java%29%24%21%2420111125115316%5F84703052%40%21%4020140704190856%5F1610362%40%21%40JAVA%E8%B3%87%E6%B7%B1%E7%A8%8B%E5%BC%8F%E8%A8%AD%E8%A8%88%E5%B8%AB%24%21%2420110520143447%5F80472760%40%21%4020171026144907%5F38837863%40%21%40JAVA%E7%A8%8B%E5%BC%8F%E8%A8%AD%E8%A8%88%E5%B8%AB; ASPSESSIONIDQQACCRSA=GABBAALCHHPFFHJDHBBKCOND; ASP.NET_SessionId=721424589; StepCookie_id=721424589; step=19; ASPSESSIONIDAABRSTRT=IBAPCAACKJCAJONDPACBOHCB; citrix_ns_id=yXslN8/u40/byvXXfovfuGPjMC8A000\",\n",
    "    \"Host\": \"www.yes123.com.tw\",\n",
    "    \"Origin\": \"https://www.yes123.com.tw\",\n",
    "    \"Pragma\": \"no-cache\",\n",
    "    \"Referer\": \"https://www.yes123.com.tw/admin/job_refer_list.asp\",\n",
    "    \"Upgrade-Insecure-Requests\": \"1\",\n",
    "    \"User-Agent\": \"Mozilla/5.0 (X11; Linux x86_64) AppleWebKit/537.36 (KHTML, like Gecko) Chrome/63.0.3239.132 Safari/537.36\"\n",
    "}''')\n",
    "\n",
    "\n",
    "for strrec in range(20,101,20):\n",
    "    print(\"strrec %s has input\"%strrec)\n",
    "    resp = requests.post(url, data=data, headers=headers)\n",
    "    resp.encoding = 'utf-8'\n",
    "    with open('/tmp/yes123/JAVA_{}.html'.format(strrec), 'w') as f:\n",
    "        f.write(resp.text)\n",
    "    data['strrec'] = strrec"
   ]
  },
  {
   "cell_type": "code",
   "execution_count": 3,
   "metadata": {},
   "outputs": [
    {
     "name": "stdout",
     "output_type": "stream",
     "text": [
      "Requirement already satisfied: beautifulsoup4 in /home/ubuntu/.pyenv/versions/3.6.1/lib/python3.6/site-packages\r\n",
      "Requirement already satisfied: lxml in /home/ubuntu/.pyenv/versions/3.6.1/lib/python3.6/site-packages\r\n"
     ]
    }
   ],
   "source": [
    "!pip install beautifulsoup4 lxml"
   ]
  },
  {
   "cell_type": "code",
   "execution_count": 4,
   "metadata": {},
   "outputs": [],
   "source": [
    "with open('/tmp/yes123/JAVA_20.html') as f:\n",
    "    job_html = f.read()"
   ]
  },
  {
   "cell_type": "code",
   "execution_count": 68,
   "metadata": {},
   "outputs": [],
   "source": [
    "from bs4 import BeautifulSoup\n",
    "\n",
    "soup = BeautifulSoup(job_html, 'html5lib') # Beautifulsoup Object"
   ]
  },
  {
   "cell_type": "code",
   "execution_count": null,
   "metadata": {},
   "outputs": [],
   "source": [
    "# nth-of-type的神奇功效：當css selector的條件會選出一大堆時，可用此法依照排列順序抓取\n",
    "\n",
    "job = soup.select('body > div.SLV_Wrapper > div.all > div.content2 > div.job_list2 > div.job_list_con > div:nth-of-type(2)')\n",
    "job"
   ]
  },
  {
   "cell_type": "markdown",
   "metadata": {},
   "source": [
    "# 然後就無法再細分下去了，另尋它路"
   ]
  },
  {
   "cell_type": "code",
   "execution_count": null,
   "metadata": {},
   "outputs": [],
   "source": [
    "# 工作內容的網頁節錄如下:\n",
    "\"\"\"\n",
    "<ul>\n",
    "  <li class='date2'>01.11</li>\n",
    "  <li class='jobs2'><span class='t0'><a href='/admin/job_refer_comp_job_detail2.asp?p_id=4761883_97179430&job_id=20170810095318_4774073' title='C3811 電子錢包 Java(資深)開發工程師' target='_blank' ><span style='font-size: 16px;font-weight: bold;padding-right:5px' >C3811 電子錢包 Java(資深)開發工程師</span></a></span>\n",
    "  <span class='t1'><a href='/admin/job_refer_comp_info.asp?p_id=4761883_97179430' title='遠傳電信股份有限公司' target=_blank>遠傳電信股份有限公司</a>         <img style='padding-top:3px;' src=\"/admin/images_2014/500.gif\" title=\"500大服務業\" /></span>\n",
    "  <span>\n",
    "  <div class='t2_1_2'>待遇面議</div>\n",
    "  <div class='t2'>\n",
    "   │ 工作經驗5年以上，學歷大學以上</div></span>\n",
    "  <span class='t3'>主要負責friDAY電子錢包系統相關事宜:\n",
    "\n",
    "1.配合加值服務產品的上線計劃，支援開發工作與維護服務中的應用程式\n",
    "2.系統設計、開發及維護\n",
    "3.進行軟體之測試與修改</span>\n",
    "  <span class='t2'><font style='color:#e40077;'>＊</font>位於內湖科技園區</span></li>\n",
    "  <li class='kind2'>全職</li>\n",
    "  <li class='area2'>台北市內湖區</li>\n",
    "  <li ><a href=\"javascript:openfancybox('/admin/sel_job_to_mail0.asp?todo=mail&sel_id=20170810095318_4774073&fancy=yes&redirect=4&act_type=add&keepThis=true&TB_iframe=true&height=230&width=480&amp',280,220);\" class='btn_y_72x30'>我要應徵</a>\n",
    "  <span class='btn_did_72x30'></span></a></li>\n",
    "</ul>\n",
    "\"\"\""
   ]
  },
  {
   "cell_type": "code",
   "execution_count": 10,
   "metadata": {
    "scrolled": true
   },
   "outputs": [
    {
     "data": {
      "text/plain": [
       "'01.25'"
      ]
     },
     "execution_count": 10,
     "metadata": {},
     "output_type": "execute_result"
    }
   ],
   "source": [
    "soup.select('li.date2')[2].get_text()"
   ]
  },
  {
   "cell_type": "code",
   "execution_count": 35,
   "metadata": {},
   "outputs": [
    {
     "data": {
      "text/plain": [
       "<a href=\"/admin/job_refer_comp_job_detail2.asp?p_id=4761883_97179430&amp;job_id=20171005092013_42164\" target=\"_blank\" title=\"C3811 Java開發 工程師(內湖)_電子金流平台\"><span style=\"font-size: 16px;font-weight: bold;padding-right:5px\">C3811 Java開發 工程師(內湖)_電子金流平台</span></a>"
      ]
     },
     "execution_count": 35,
     "metadata": {},
     "output_type": "execute_result"
    }
   ],
   "source": [
    "soup.select('span.t0 > a')[0]"
   ]
  },
  {
   "cell_type": "code",
   "execution_count": 73,
   "metadata": {
    "scrolled": true
   },
   "outputs": [
    {
     "data": {
      "text/plain": [
       "<a href=\"/admin/job_refer_comp_info.asp?p_id=4761883_97179430\" target=\"_blank\" title=\"遠傳電信股份有限公司\">遠傳電信股份有限公司</a>"
      ]
     },
     "execution_count": 73,
     "metadata": {},
     "output_type": "execute_result"
    }
   ],
   "source": [
    "soup.select('a')[40]"
   ]
  },
  {
   "cell_type": "code",
   "execution_count": 58,
   "metadata": {
    "scrolled": false
   },
   "outputs": [
    {
     "data": {
      "text/plain": [
       "'/admin/job_refer_comp_job_detail2.asp?p_id=4761883_97179430&job_id=20171005092013_42164'"
      ]
     },
     "execution_count": 58,
     "metadata": {},
     "output_type": "execute_result"
    }
   ],
   "source": [
    "soup.select('span.t0 > a')[0].get('href')"
   ]
  },
  {
   "cell_type": "code",
   "execution_count": 63,
   "metadata": {},
   "outputs": [
    {
     "ename": "AttributeError",
     "evalue": "'list' object has no attribute 'get'",
     "output_type": "error",
     "traceback": [
      "\u001b[0;31m---------------------------------------------------------------------------\u001b[0m",
      "\u001b[0;31mAttributeError\u001b[0m                            Traceback (most recent call last)",
      "\u001b[0;32m<ipython-input-63-f907b5737237>\u001b[0m in \u001b[0;36m<module>\u001b[0;34m()\u001b[0m\n\u001b[0;32m----> 1\u001b[0;31m \u001b[0msoup\u001b[0m\u001b[0;34m.\u001b[0m\u001b[0mselect\u001b[0m\u001b[0;34m(\u001b[0m\u001b[0;34m'span.t0 > a'\u001b[0m\u001b[0;34m)\u001b[0m\u001b[0;34m.\u001b[0m\u001b[0mget\u001b[0m\u001b[0;34m(\u001b[0m\u001b[0;34m'href'\u001b[0m\u001b[0;34m)\u001b[0m\u001b[0;34m\u001b[0m\u001b[0m\n\u001b[0m",
      "\u001b[0;31mAttributeError\u001b[0m: 'list' object has no attribute 'get'"
     ]
    }
   ],
   "source": [
    "soup.select('span.t0 > a').get('href')"
   ]
  },
  {
   "cell_type": "code",
   "execution_count": 54,
   "metadata": {},
   "outputs": [
    {
     "ename": "AttributeError",
     "evalue": "'list' object has no attribute 'get'",
     "output_type": "error",
     "traceback": [
      "\u001b[0;31m---------------------------------------------------------------------------\u001b[0m",
      "\u001b[0;31mAttributeError\u001b[0m                            Traceback (most recent call last)",
      "\u001b[0;32m<ipython-input-54-3a4201ad6587>\u001b[0m in \u001b[0;36m<module>\u001b[0;34m()\u001b[0m\n\u001b[1;32m      1\u001b[0m \u001b[0;32mimport\u001b[0m \u001b[0mre\u001b[0m\u001b[0;34m\u001b[0m\u001b[0m\n\u001b[1;32m      2\u001b[0m \u001b[0;34m\u001b[0m\u001b[0m\n\u001b[0;32m----> 3\u001b[0;31m \u001b[0mp_id\u001b[0m \u001b[0;34m=\u001b[0m \u001b[0mre\u001b[0m\u001b[0;34m.\u001b[0m\u001b[0mfindall\u001b[0m\u001b[0;34m(\u001b[0m\u001b[0;34m'p_id=(.+)&'\u001b[0m\u001b[0;34m,\u001b[0m \u001b[0msoup\u001b[0m\u001b[0;34m.\u001b[0m\u001b[0mselect\u001b[0m\u001b[0;34m(\u001b[0m\u001b[0;34m'span.t0 > a'\u001b[0m\u001b[0;34m)\u001b[0m\u001b[0;34m.\u001b[0m\u001b[0mget\u001b[0m\u001b[0;34m(\u001b[0m\u001b[0;34m'href'\u001b[0m\u001b[0;34m)\u001b[0m\u001b[0;34m)\u001b[0m\u001b[0;34m\u001b[0m\u001b[0m\n\u001b[0m\u001b[1;32m      4\u001b[0m \u001b[0mp_id\u001b[0m\u001b[0;34m\u001b[0m\u001b[0m\n",
      "\u001b[0;31mAttributeError\u001b[0m: 'list' object has no attribute 'get'"
     ]
    }
   ],
   "source": [
    "import re\n",
    "\n",
    "p_id = re.findall('p_id=(.+)&', soup.select('span.t0 > a')[0].get('href'))\n",
    "p_id"
   ]
  },
  {
   "cell_type": "code",
   "execution_count": 53,
   "metadata": {},
   "outputs": [
    {
     "data": {
      "text/plain": [
       "['20171005092013_42164']"
      ]
     },
     "execution_count": 53,
     "metadata": {},
     "output_type": "execute_result"
    }
   ],
   "source": [
    "job_id = re.findall('&job_id=(.+)', soup.select('span.t0 > a')[0].get('href'))\n",
    "job_id"
   ]
  },
  {
   "cell_type": "code",
   "execution_count": 19,
   "metadata": {},
   "outputs": [
    {
     "data": {
      "text/plain": [
       "[]"
      ]
     },
     "execution_count": 19,
     "metadata": {},
     "output_type": "execute_result"
    }
   ],
   "source": [
    "soup.select('li.place')"
   ]
  },
  {
   "cell_type": "code",
   "execution_count": 17,
   "metadata": {},
   "outputs": [
    {
     "data": {
      "text/plain": [
       "'https://www.yes123.com.tw/admin/job_refer_comp_job_detail2.asp?p_id=4761883_97179430&job_id=20171005092013_42164'"
      ]
     },
     "execution_count": 17,
     "metadata": {},
     "output_type": "execute_result"
    }
   ],
   "source": [
    "# 法1\n",
    "host = 'https://www.yes123.com.tw'\n",
    "link = soup.select('span.t0 > a')[0].get('href')\n",
    "detail_url = host + link\n",
    "detail_url"
   ]
  },
  {
   "cell_type": "code",
   "execution_count": null,
   "metadata": {},
   "outputs": [],
   "source": [
    "# 法2\n",
    "\n",
    "link = soup.select('span.t0 > a')[0].get('href')\n",
    "'https://www.yes123.com.tw{}'.format(link)"
   ]
  },
  {
   "cell_type": "code",
   "execution_count": 12,
   "metadata": {},
   "outputs": [
    {
     "data": {
      "text/plain": [
       "'C3811 Java開發 技術副理(內湖)'"
      ]
     },
     "execution_count": 12,
     "metadata": {},
     "output_type": "execute_result"
    }
   ],
   "source": [
    "# soup.select('span.t0 > a')[2]['title']\n",
    "soup.select('span.t0 > a')[2].get_text()"
   ]
  },
  {
   "cell_type": "code",
   "execution_count": 13,
   "metadata": {},
   "outputs": [
    {
     "data": {
      "text/plain": [
       "'遠傳電信股份有限公司'"
      ]
     },
     "execution_count": 13,
     "metadata": {},
     "output_type": "execute_result"
    }
   ],
   "source": [
    "# soup.select('span.t1 > a')[2]['title']\n",
    "soup.select('span.t1 > a')[2].get_text()"
   ]
  },
  {
   "cell_type": "code",
   "execution_count": null,
   "metadata": {},
   "outputs": [],
   "source": [
    "soup.select('div.t2_1_2')[2].get_text()"
   ]
  },
  {
   "cell_type": "code",
   "execution_count": null,
   "metadata": {},
   "outputs": [],
   "source": [
    "# .string.replace('\\n',\"  \")\n",
    "str(soup.select('span.t3')[0].get_text()).replace('\\n',\"  \")"
   ]
  },
  {
   "cell_type": "code",
   "execution_count": null,
   "metadata": {},
   "outputs": [],
   "source": [
    "no = 2"
   ]
  },
  {
   "cell_type": "code",
   "execution_count": null,
   "metadata": {
    "scrolled": true
   },
   "outputs": [],
   "source": [
    "# 另法：if int → '%d'%(值) ; if string → '%s'%(值)\n",
    "soup.select('span.t0 > a')[int('%d'%(no))].string"
   ]
  },
  {
   "cell_type": "code",
   "execution_count": null,
   "metadata": {},
   "outputs": [],
   "source": [
    "soup.select('div.t2_1_2')[int('{0}'.format(no))].string"
   ]
  },
  {
   "cell_type": "code",
   "execution_count": null,
   "metadata": {
    "scrolled": true
   },
   "outputs": [],
   "source": [
    "data = {}\n",
    "data['date'] = soup.select('li.date2')[1].get_text()\n",
    "data['JobTitle'] = soup.select('span.t0 > a')[0].get_text()\n",
    "data['company'] = soup.select('span.t1 > a')[0].get_text()\n",
    "data['salary'] = soup.select('div.t2_1_2')[0].get_text()\n",
    "data['description'] = soup.select('span.t3')[0].get_text().replace('\\n',\"  \")\n",
    "\n",
    "data"
   ]
  },
  {
   "cell_type": "markdown",
   "metadata": {},
   "source": [
    "## Dictionary{} 轉 Tuple()"
   ]
  },
  {
   "cell_type": "code",
   "execution_count": null,
   "metadata": {},
   "outputs": [],
   "source": [
    "desc = soup.select('span.t3')[int('{0}'.format(0))].string.replace('\\n',\"  \")\n",
    "[desc]"
   ]
  },
  {
   "cell_type": "code",
   "execution_count": null,
   "metadata": {
    "scrolled": true
   },
   "outputs": [],
   "source": [
    "datas = []\n",
    "for no in range(0,20):\n",
    "    data = {}\n",
    "    data['date'] = soup.select('li.date2')[int('{0}'.format(no+1))].string\n",
    "    data['JobTitle'] = soup.select('span.t0 > a')[int('{0}'.format(no))]['title']\n",
    "    data['company'] = soup.select('span.t1 > a')[int('{0}'.format(no))]['title']\n",
    "    try:\n",
    "        data['salary'] = soup.select('div.t2_1_2')[int('{0}'.format(no))].string\n",
    "    except IndexError:\n",
    "        data['salary'] = '未填寫'\n",
    "    data['description'] = soup.select('span.t3')[int('{0}'.format(0))].string.replace('\\n',\"  \")\n",
    "    datas.append(data)"
   ]
  },
  {
   "cell_type": "code",
   "execution_count": null,
   "metadata": {},
   "outputs": [],
   "source": [
    "def dict2tuple(source):\n",
    "    return (data['date'], data['JobTitle'], data['company'], data['salary'], data['description'])\n",
    "\n",
    "job1 = dict2tuple(data)\n",
    "job1"
   ]
  },
  {
   "cell_type": "markdown",
   "metadata": {},
   "source": [
    "### 開始試抓整頁"
   ]
  },
  {
   "cell_type": "code",
   "execution_count": null,
   "metadata": {},
   "outputs": [],
   "source": [
    "datas = []\n",
    "for no in range(0,20):\n",
    "    data = {}\n",
    "    data['date'] = soup.select('li.date2')[int('{0}'.format(no+1))].string\n",
    "    data['JobTitle'] = soup.select('span.t0 > a')[int('{0}'.format(no))]['title']\n",
    "    data['company'] = soup.select('span.t1 > a')[int('{0}'.format(no))]['title']\n",
    "    try:\n",
    "        data['salary'] = soup.select('div.t2_1_2')[int('{0}'.format(no))].string\n",
    "    except IndexError:\n",
    "        data['salary'] = '未填寫'\n",
    "    data['description'] = soup.select('span.t3')[int('{0}'.format(0))].string.replace('\\n',\"  \")\n",
    "    datas.append(data)"
   ]
  },
  {
   "cell_type": "code",
   "execution_count": null,
   "metadata": {
    "scrolled": true
   },
   "outputs": [],
   "source": [
    "datas"
   ]
  },
  {
   "cell_type": "code",
   "execution_count": null,
   "metadata": {},
   "outputs": [],
   "source": [
    "def dict2tuple(source):\n",
    "    return (data['date'], data['JobTitle'], data['company'], data['salary'], data['description'])\n",
    "\n",
    "job_tuples = []\n",
    "for jobs in datas:\n",
    "    job_tuples.append(dict2tuple(jobs))\n",
    "job_tuples"
   ]
  },
  {
   "cell_type": "markdown",
   "metadata": {},
   "source": [
    "### 如果要抓內頁的話，可以用以下的方法"
   ]
  },
  {
   "cell_type": "code",
   "execution_count": null,
   "metadata": {
    "scrolled": true
   },
   "outputs": [],
   "source": [
    "for link in soup.select('span.t0 > a'):\n",
    "    print(link.get('href'))"
   ]
  },
  {
   "cell_type": "markdown",
   "metadata": {},
   "source": [
    "# 將資料轉入Data Frame in Panda"
   ]
  },
  {
   "cell_type": "code",
   "execution_count": null,
   "metadata": {
    "scrolled": true
   },
   "outputs": [],
   "source": [
    "!pip install pandas"
   ]
  },
  {
   "cell_type": "code",
   "execution_count": null,
   "metadata": {},
   "outputs": [],
   "source": [
    "import pandas as pd"
   ]
  },
  {
   "cell_type": "code",
   "execution_count": null,
   "metadata": {
    "scrolled": true
   },
   "outputs": [],
   "source": [
    "df = pd.DataFrame(datas)\n",
    "df"
   ]
  },
  {
   "cell_type": "code",
   "execution_count": null,
   "metadata": {},
   "outputs": [],
   "source": [
    "df = pd.DataFrame(job_tuples)\n",
    "df"
   ]
  },
  {
   "cell_type": "markdown",
   "metadata": {},
   "source": [
    "# 將資料灌入RDB (MySQL)"
   ]
  },
  {
   "cell_type": "code",
   "execution_count": null,
   "metadata": {
    "scrolled": true
   },
   "outputs": [],
   "source": [
    "!pip install PyMySQL"
   ]
  },
  {
   "cell_type": "code",
   "execution_count": null,
   "metadata": {},
   "outputs": [],
   "source": [
    "import sqlite3\n",
    "import pymysql"
   ]
  },
  {
   "cell_type": "code",
   "execution_count": null,
   "metadata": {},
   "outputs": [],
   "source": [
    "# , charset=\"utf8\"\n",
    "conn = pymysql.connect(host='localhost', port=3306, user='root', password='1234', db='yes123', use_unicode=True, charset=\"utf8\")"
   ]
  },
  {
   "cell_type": "code",
   "execution_count": null,
   "metadata": {},
   "outputs": [],
   "source": [
    "cur = conn.cursor()"
   ]
  },
  {
   "cell_type": "code",
   "execution_count": null,
   "metadata": {},
   "outputs": [],
   "source": [
    "cur.execute(\"\"\"DROP TABLE JAVA\"\"\")\n",
    "conn.commit()"
   ]
  },
  {
   "cell_type": "code",
   "execution_count": null,
   "metadata": {},
   "outputs": [],
   "source": [
    "cur.execute(\"\"\"CREATE TABLE JAVA (\n",
    "date VARCHAR(255),\n",
    "JobTitle VARCHAR(255),\n",
    "company VARCHAR(255),\n",
    "salary VARCHAR(255),\n",
    "description VARCHAR(1255)\n",
    ")\"\"\")\n",
    "conn.commit()"
   ]
  },
  {
   "cell_type": "code",
   "execution_count": null,
   "metadata": {},
   "outputs": [],
   "source": [
    "data"
   ]
  },
  {
   "cell_type": "code",
   "execution_count": null,
   "metadata": {},
   "outputs": [],
   "source": [
    "for row in data:\n",
    "    #print(row)\n",
    "    #cur.execute(\"\"\"INSERT INTO tablename VALUES (?, ?, ?, ?, ?)\"\"\", (val1, val2, val3, val4, val5))\n",
    "    cur.execute(\"\"\"INSERT INTO JAVA VALUES (%s, %s, %s, %s, %s)\"\"\",\n",
    "                         (row['date'],\n",
    "                          row['JobTitle'],\n",
    "                          row['company'],\n",
    "                          row['salary'],\n",
    "                          row['description'])\n",
    "                        )\n",
    "conn.commit()"
   ]
  },
  {
   "cell_type": "code",
   "execution_count": null,
   "metadata": {},
   "outputs": [],
   "source": [
    "job1[4]"
   ]
  },
  {
   "cell_type": "code",
   "execution_count": null,
   "metadata": {},
   "outputs": [],
   "source": [
    "conn.close()"
   ]
  },
  {
   "cell_type": "markdown",
   "metadata": {},
   "source": [
    "# 開始抓整個網站"
   ]
  },
  {
   "cell_type": "code",
   "execution_count": null,
   "metadata": {},
   "outputs": [],
   "source": []
  }
 ],
 "metadata": {
  "kernelspec": {
   "display_name": "Python 3",
   "language": "python",
   "name": "python3"
  },
  "language_info": {
   "codemirror_mode": {
    "name": "ipython",
    "version": 3
   },
   "file_extension": ".py",
   "mimetype": "text/x-python",
   "name": "python",
   "nbconvert_exporter": "python",
   "pygments_lexer": "ipython3",
   "version": "3.6.1"
  }
 },
 "nbformat": 4,
 "nbformat_minor": 2
}
