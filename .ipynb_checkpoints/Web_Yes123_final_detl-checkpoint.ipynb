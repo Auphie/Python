{
 "cells": [
  {
   "cell_type": "code",
   "execution_count": 12,
   "metadata": {
    "collapsed": true
   },
   "outputs": [],
   "source": [
    "def get_detl_lists():\n",
    "    import requests\n",
    "    import json\n",
    "    from bs4 import BeautifulSoup\n",
    "\n",
    "    url = \"https://www.yes123.com.tw/admin/job_refer_list.asp\"\n",
    "    data = json.loads(r'''{\n",
    "        \"find_key1\": \"java\",\n",
    "        \"search_work\": \"職務\",\n",
    "        \"search_multi_loc\": \"地區\",\n",
    "        \"find_key2\": \"\",\n",
    "        \"search_multi_loc2\": \"請選擇地區\",\n",
    "        \"search_work2\": \"請選擇職務\",\n",
    "        \"search_job2\": \"請選擇行業\",\n",
    "        \"find_key3\": \"\",\n",
    "        \"search_multi_loc3\": \"請選擇地區\",\n",
    "        \"search_work3\": \"請選擇職務\",\n",
    "        \"search_subj\": \"請選擇你的科系\",\n",
    "        \"search_work4\": \"\",\n",
    "        \"search_multi_loc4\": \"請選擇地區\",\n",
    "        \"search_multi_loc5\": \"請選擇地區\",\n",
    "        \"search_work6\": \"\",\n",
    "        \"search_work7\": \"\",\n",
    "        \"search_multi_loc6\": \"\",\n",
    "        \"search_work8\": \"\",\n",
    "        \"search_multi_loc7\": \"\",\n",
    "        \"search_work9\": \"請選擇職務\",\n",
    "        \"find_sf_subj_mode1\": \"\",\n",
    "        \"s_find_sf_subj_mode1\": \"\",\n",
    "        \"find_se_work_mode1\": \"\",\n",
    "        \"s_find_se_work_mode1\": \"\",\n",
    "        \"find_ss_work_mode1\": \"\",\n",
    "        \"s_find_ss_work_mode1\": \"\",\n",
    "        \"find_us_map_mode1\": \"\",\n",
    "        \"find_us_map_mode2\": \"\",\n",
    "        \"find_us_map_mode3\": \"\",\n",
    "        \"find_us_map_mode4\": \"\",\n",
    "        \"search_key_word\": \"java\",\n",
    "        \"search_type\": \"job\",\n",
    "        \"us_menu\": \"\",\n",
    "        \"search_item\": \"1\",\n",
    "        \"search_from\": \"index\"\n",
    "    }''')\n",
    "    headers = json.loads(r'''{\n",
    "        \"Accept\": \"text/html,application/xhtml+xml,application/xml;q=0.9,image/webp,image/apng,*/*;q=0.8\",\n",
    "        \"Accept-Encoding\": \"gzip, deflate, br\",\n",
    "        \"Accept-Language\": \"en-US,en;q=0.9\",\n",
    "        \"Cache-Control\": \"max-age=0\",\n",
    "        \"Connection\": \"keep-alive\",\n",
    "        \"Content-Length\": \"6078\",\n",
    "        \"Content-Type\": \"application/x-www-form-urlencoded\",\n",
    "        \"Cookie\": \"_sh_c_1=search_type%3Ajob%7Csearch_item%3A1%7Csearch_key_word%3Ajava%7C_mu_ckb_21%3Acheckbox%7C_mu_ckb_22%3Acheckbox%7C_mu_ckb_23%3Acheckbox%7C_mu_ckb_24%3Acheckbox%7C_mu_ckb_25%3Acheckbox; _sh_c_2=search_type%3Ajob%7Csearch_item%3A1%7Csearch_key_word%3Ajava%7C_mu_ckb_21%3Acheckbox%7C_mu_ckb_22%3Acheckbox%7C_mu_ckb_23%3Acheckbox%7C_mu_ckb_24%3Acheckbox%7C_mu_ckb_25%3Acheckbox; _sh_c_3=search_type%3Ajob%7Csearch_item%3A1%7Csearch_key_word%3Ajava%7C_mu_ckb_21%3Acheckbox%7C_mu_ckb_22%3Acheckbox%7C_mu_ckb_23%3Acheckbox%7C_mu_ckb_24%3Acheckbox%7C_mu_ckb_25%3Acheckbox; _sh_c_4=search_type%3Ajob%7Csearch_item%3A1%7Csearch_key_word%3Ajava%7C_mu_ckb_21%3Acheckbox%7C_mu_ckb_22%3Acheckbox%7C_mu_ckb_23%3Acheckbox%7C_mu_ckb_24%3Acheckbox%7C_mu_ckb_25%3Acheckbox; _sh_c_5=search_type%3Ajob%7Csearch_item%3A1%7Csearch_key_word%3Ajava%7C_mu_ckb_21%3Acheckbox%7C_mu_ckb_22%3Acheckbox%7C_mu_ckb_23%3Acheckbox%7C_mu_ckb_24%3Acheckbox%7C_mu_ckb_25%3Acheckbox; __auc=9b3990ed160de388f0fbe417dbf; _ga=GA1.3.2064806402.1515556737; _gid=GA1.3.818539509.1516792749; ASPSESSIONIDQQDDBSSB=OKBDCJMAIBPNBCDPEFCOEPBO; ClientIP=61.231.154.120; __asc=250a8ca81612d2740f80e7a5edd; yes123_make_cookie=d24146109896c1e633d3337a1d7b942c; ASPSESSIONIDCABQQRST=AKLFGJDAOIIIHOKAMPMOKLMB; ASPSESSIONIDSSBCATSB=IHLBEFOADKJBOHEBBEJEHIFN; citrix_ns_id=PnNogiQiFA1dct7k19GAtJPh1eIA000; ASP.NET_SessionId=240393075; StepCookie_id=240393075; _gat_UA-4824195-2=1; step=10\",\n",
    "        \"Host\": \"www.yes123.com.tw\",\n",
    "        \"Origin\": \"https://www.yes123.com.tw\",\n",
    "        \"Referer\": \"https://www.yes123.com.tw/admin/index.asp\",\n",
    "        \"Upgrade-Insecure-Requests\": \"1\",\n",
    "        \"User-Agent\": \"Mozilla/5.0 (X11; Linux x86_64) AppleWebKit/537.36 (KHTML, like Gecko) Chrome/63.0.3239.132 Safari/537.36\"\n",
    "    }''')\n",
    "\n",
    "    links = []\n",
    "\n",
    "    for strrec in range(20,101,20):\n",
    "        resp = requests.post(url, data=data, headers=headers)\n",
    "        resp.encoding = 'utf-8'\n",
    "        data['strrec'] = strrec\n",
    "        job_html = resp.text\n",
    "        soup = BeautifulSoup(job_html, 'lxml')\n",
    "        for link in  soup.select('a.jobname'):\n",
    "            try:\n",
    "                links.append(link['href'])\n",
    "            except KeyError:\n",
    "                continue\n",
    "    return links"
   ]
  },
  {
   "cell_type": "code",
   "execution_count": 13,
   "metadata": {
    "collapsed": true
   },
   "outputs": [],
   "source": [
    "def get_id(link):\n",
    "    import re\n",
    "    row_with_id = {}\n",
    "    row_with_id['p_id'] = re.findall('p_id=(.+)&', link)\n",
    "    row_with_id['job_id'] = re.findall('job_id=(.+)', link)\n",
    "    return row_with_id"
   ]
  },
  {
   "cell_type": "code",
   "execution_count": 14,
   "metadata": {
    "collapsed": true
   },
   "outputs": [],
   "source": [
    "def get_detl_soups(p_id,job_id):\n",
    "    import requests\n",
    "    import json\n",
    "    from bs4 import BeautifulSoup\n",
    "    \n",
    "    url = \"https://www.yes123.com.tw/admin/job_refer_list_showRight_2017.asp\"\n",
    "    data = json.loads(r'''{\n",
    "        \"show_type\": \"1\",\n",
    "        \"search_keyword\": \"java+\"\n",
    "        }''')\n",
    "    headers = json.loads(r'''{\n",
    "        \"Accept\": \"text/html, */*; q=0.01\",\n",
    "        \"Accept-Encoding\": \"gzip, deflate, br\",\n",
    "        \"Accept-Language\": \"en-US,en;q=0.9\",\n",
    "        \"Connection\": \"keep-alive\",\n",
    "        \"Content-Length\": \"91\",\n",
    "        \"Content-Type\": \"application/x-www-form-urlencoded\",\n",
    "        \"Cookie\": \"_sh_c_1=search_type%3Ajob%7Csearch_item%3A1%7Csearch_key_word%3Ajava%7C_mu_ckb_21%3Acheckbox%7C_mu_ckb_22%3Acheckbox%7C_mu_ckb_23%3Acheckbox%7C_mu_ckb_24%3Acheckbox%7C_mu_ckb_25%3Acheckbox; _sh_c_2=search_type%3Ajob%7Csearch_item%3A1%7Csearch_key_word%3Ajava%7C_mu_ckb_21%3Acheckbox%7C_mu_ckb_22%3Acheckbox%7C_mu_ckb_23%3Acheckbox%7C_mu_ckb_24%3Acheckbox%7C_mu_ckb_25%3Acheckbox; __auc=85787841161378664d32a44a05a; _ga=GA1.3.706162762.1517055010; ASPSESSIONIDQSABDTTA=PPFHGBGDPNDNALCFFLPCDMIB; ClientIP=36.230.46.183; __asc=d55aeef216140abe31da723cf8c; _gid=GA1.3.1391408048.1517208463; yes123_make_cookie=9c112cd67175cf1a6d9a5f2eba6b5ee0; view%5Fjob%5Fid%5Fstr=20090828152422%5F84218848%40%21%4020140811103200%5F8514317%40%21%40%E8%B3%87%E6%B7%B1Java%2FJ2EE%E7%A8%8B%E5%BC%8F%E8%A8%AD%E8%A8%88%E5%B8%AB+%28%E5%8F%B0%E5%8C%97%29%E3%80%90BU68%2D%E9%9B%BB%E4%BF%A1%E6%95%B4%E5%90%88%E8%B3%87%E8%A8%8A%E6%8A%80%E8%A1%93%E9%96%8B%E7%99%BC%E8%99%95%E3%80%91%24%21%2420170412141000%5F86714857%40%21%4020180129115052%5F9505124%40%21%40R%2DJava+%E6%8A%80%E8%A1%93%E8%AC%9B%E5%B8%AB%24%21%244761883%5F97179430%40%21%4020171005092013%5F42164%40%21%40C3811+Java%E9%96%8B%E7%99%BC+%E5%B7%A5%E7%A8%8B%E5%B8%AB%28%E5%85%A7%E6%B9%96%29%5F%E9%9B%BB%E5%AD%90%E9%87%91%E6%B5%81%E5%B9%B3%E5%8F%B0%24%21%2420170412141000%5F86714857%40%21%4020170626095751%5F2595896%40%21%40R%2DJava+Full+Stack+Dev+Lead; ASPSESSIONIDQSCRRRQS=BOICDMNCHGCDLNDJAPBKEPPF; citrix_ns_id=WYPzqhUXUw6W4n6ouUpPLvnbjiIA000; ASP.NET_SessionId=767764303; StepCookie_id=767764303; _gat_UA-4824195-2=1; step=9\",\n",
    "        \"Host\": \"www.yes123.com.tw\",\n",
    "        \"Origin\": \"https://www.yes123.com.tw\",\n",
    "        \"Referer\": \"https://www.yes123.com.tw/admin/job_refer_list.asp\",\n",
    "        \"User-Agent\": \"Mozilla/5.0 (X11; Linux x86_64) AppleWebKit/537.36 (KHTML, like Gecko) Chrome/64.0.3282.119 Safari/537.36\",\n",
    "        \"X-Requested-With\": \"XMLHttpRequest\"\n",
    "    }''')\n",
    "\n",
    "    data['p_id'] = p_id\n",
    "    data['job_id'] = job_id\n",
    "    resp = requests.post(url, data=data, headers=headers)\n",
    "    resp.encoding = 'utf-8'\n",
    "    soup = BeautifulSoup(resp.text, 'html5lib')\n",
    "    return soup"
   ]
  },
  {
   "cell_type": "code",
   "execution_count": 15,
   "metadata": {
    "collapsed": true
   },
   "outputs": [],
   "source": [
    "def get_detl_desc(detl_soup):\n",
    "    row = {}\n",
    "\n",
    "    row['JobTitle'] = detl_soup.select('h3')[0].text\n",
    "    row['Company'] = detl_soup.select('h4')[0].text\n",
    "    row['Category'] = detl_soup.select('td.border_d-b')[0].text.split()\n",
    "    row['Description'] = detl_soup.select('td.border_d-b')[2].text\n",
    "    row['Area'] = detl_soup.select('td.border_d-b')[4].text.strip()\n",
    "    try:\n",
    "        row['Salary'] = detl_soup.select('td.border_d-b')[6].select('span.text_king')[0].text\n",
    "    except IndexError:\n",
    "        row['Salary'] = '未填寫'\n",
    "\n",
    "    return row"
   ]
  },
  {
   "cell_type": "code",
   "execution_count": 16,
   "metadata": {
    "collapsed": true
   },
   "outputs": [],
   "source": [
    "links = get_detl_lists()"
   ]
  },
  {
   "cell_type": "code",
   "execution_count": 23,
   "metadata": {},
   "outputs": [
    {
     "data": {
      "text/plain": [
       "['job_refer_comp_job_detail2.asp?p_id=13690_11395000&job_id=20120614144726_9324965',\n",
       " 'job_refer_comp_job_detail2.asp?p_id=24449_69905810&job_id=20180102155549_7990091',\n",
       " 'job_refer_comp_job_detail2.asp?p_id=20170412141000_86714857&job_id=20170626095751_2595896',\n",
       " 'job_refer_comp_job_detail2.asp?p_id=20170412141000_86714857&job_id=20170414164953_7592976',\n",
       " 'job_refer_comp_job_detail2.asp?p_id=20140103100924_27365925&job_id=20160826153242_56497817',\n",
       " 'job_refer_comp_job_detail2.asp?p_id=20170412141000_86714857&job_id=20180129115052_9505124',\n",
       " 'job_refer_comp_job_detail2.asp?p_id=20090828152422_84218848&job_id=20150209114206_441079',\n",
       " 'job_refer_comp_job_detail2.asp?p_id=20090828152422_84218848&job_id=20140811103200_8514317',\n",
       " 'job_refer_comp_job_detail2.asp?p_id=4761883_97179430&job_id=20171005092013_42164',\n",
       " 'job_refer_comp_job_detail2.asp?p_id=4761883_97179430&job_id=20170309095743_1536526',\n",
       " 'job_refer_comp_job_detail2.asp?p_id=4761883_97179430&job_id=20170406093856_5123821',\n",
       " 'job_refer_comp_job_detail2.asp?p_id=4761883_97179430&job_id=20170406093857_8705495',\n",
       " 'job_refer_comp_job_detail2.asp?p_id=4761883_97179430&job_id=20170810095318_4774073',\n",
       " 'job_refer_comp_job_detail2.asp?p_id=4761883_97179430&job_id=20171116092542_6510184',\n",
       " 'job_refer_comp_job_detail2.asp?p_id=20140103100924_27365925&job_id=20140103142303_7184215',\n",
       " 'job_refer_comp_job_detail2.asp?p_id=20140103100924_27365925&job_id=20170202181648_8100619',\n",
       " 'job_refer_comp_job_detail2.asp?p_id=20140103100924_27365925&job_id=20170906174431_99079054',\n",
       " 'job_refer_comp_job_detail2.asp?p_id=20140103100924_27365925&job_id=20171018132119_9867548',\n",
       " 'job_refer_comp_job_detail2.asp?p_id=20140103100924_27365925&job_id=20160426135248_2023322',\n",
       " 'job_refer_comp_job_detail2.asp?p_id=20110520143447_80472760&job_id=20171026144907_38837863',\n",
       " 'job_refer_comp_job_detail2.asp?p_id=20111125115316_84703052&job_id=20140704190856_1610362',\n",
       " 'job_refer_comp_job_detail2.asp?p_id=16606102002&job_id=20141106150244_3751977',\n",
       " 'job_refer_comp_job_detail2.asp?p_id=16606102002&job_id=20150615104319_4510488',\n",
       " 'job_refer_comp_job_detail2.asp?p_id=16606102002&job_id=20150316111524_2802048',\n",
       " 'job_refer_comp_job_detail2.asp?p_id=6620098_86519539&job_id=20180109105623_2852716',\n",
       " 'job_refer_comp_job_detail2.asp?p_id=6620098_86519539&job_id=20170410120931_9436536',\n",
       " 'job_refer_comp_job_detail2.asp?p_id=6620098_86519539&job_id=20170410120933_6387899',\n",
       " 'job_refer_comp_job_detail2.asp?p_id=16606102002&job_id=20141106150209_1022045',\n",
       " 'job_refer_comp_job_detail2.asp?p_id=7840496_28806392&job_id=20170306105106_5183721',\n",
       " 'job_refer_comp_job_detail2.asp?p_id=24449_69905810&job_id=20131121150435_3238617',\n",
       " 'job_refer_comp_job_detail2.asp?p_id=20120720161532_24442955&job_id=20120724174748_9193',\n",
       " 'job_refer_comp_job_detail2.asp?p_id=24449_69905810&job_id=20180102155548_9470506',\n",
       " 'job_refer_comp_job_detail2.asp?p_id=06114_28180236&job_id=20171117152158_27284621',\n",
       " 'job_refer_comp_job_detail2.asp?p_id=20170930140812_98770235&job_id=20171002152027_6083233',\n",
       " 'job_refer_comp_job_detail2.asp?p_id=20170930140812_98770235&job_id=20171002152019_3322718',\n",
       " 'job_refer_comp_job_detail2.asp?p_id=20170412141000_86714857&job_id=20170612121323_3822486',\n",
       " 'job_refer_comp_job_detail2.asp?p_id=9280010_14053007&job_id=20170417085051_1154857',\n",
       " 'job_refer_comp_job_detail2.asp?p_id=20170412141000_86714857&job_id=20170414164959_5862351',\n",
       " 'job_refer_comp_job_detail2.asp?p_id=20170412141000_86714857&job_id=20171106150330_6062128',\n",
       " 'job_refer_comp_job_detail2.asp?p_id=20170412141000_86714857&job_id=20171211115631_4843429',\n",
       " 'job_refer_comp_job_detail2.asp?p_id=20170412141000_86714857&job_id=20171120112933_3847620',\n",
       " 'job_refer_comp_job_detail2.asp?p_id=20090828152422_84218848&job_id=20140610092648_4181451',\n",
       " 'job_refer_comp_job_detail2.asp?p_id=20090828152422_84218848&job_id=20150119101528_5029873',\n",
       " 'job_refer_comp_job_detail2.asp?p_id=20090828152422_84218848&job_id=20140610092643_6118830',\n",
       " 'job_refer_comp_job_detail2.asp?p_id=7447277_16594892&job_id=20150416160841_8328824',\n",
       " 'job_refer_comp_job_detail2.asp?p_id=20090828152422_84218848&job_id=20170731102159_9154734',\n",
       " 'job_refer_comp_job_detail2.asp?p_id=28755_05637971&job_id=20080822022116_6746790_4890512',\n",
       " 'job_refer_comp_job_detail2.asp?p_id=20090828152422_84218848&job_id=20160620104139_297970',\n",
       " 'job_refer_comp_job_detail2.asp?p_id=20091021135833_80296379&job_id=20130820093447_8178980',\n",
       " 'job_refer_comp_job_detail2.asp?p_id=06114_28180236&job_id=20171121113128_8427705',\n",
       " 'job_refer_comp_job_detail2.asp?p_id=20091021135833_80296379&job_id=20091021230658_13642183',\n",
       " 'job_refer_comp_job_detail2.asp?p_id=20110331093741_45485578&job_id=20141110165809_10098679',\n",
       " 'job_refer_comp_job_detail2.asp?p_id=20110331093741_45485578&job_id=20160629230057_62428604',\n",
       " 'job_refer_comp_job_detail2.asp?p_id=20180123165914_63923018&job_id=20180126135815_21796789',\n",
       " 'job_refer_comp_job_detail2.asp?p_id=20160226173729_54150103&job_id=20160902221129_52563405',\n",
       " 'job_refer_comp_job_detail2.asp?p_id=20170217190637_01517124&job_id=20170220112655_2601861',\n",
       " 'job_refer_comp_job_detail2.asp?p_id=20170217190637_01517124&job_id=20170220112706_5889480',\n",
       " 'job_refer_comp_job_detail2.asp?p_id=20170217190637_01517124&job_id=20170220112657_9473610',\n",
       " 'job_refer_comp_job_detail2.asp?p_id=20170407152814_26978496&job_id=20170407180246_15139516',\n",
       " 'job_refer_comp_job_detail2.asp?p_id=20090903161014_29045012&job_id=20171120155903_71373696',\n",
       " 'job_refer_comp_job_detail2.asp?p_id=2394787_22822281&job_id=20170330093731_7459724',\n",
       " 'job_refer_comp_job_detail2.asp?p_id=2394787_22822281&job_id=20101028113341_4591711',\n",
       " 'job_refer_comp_job_detail2.asp?p_id=9176403_12341051&job_id=20160602094126_3299480',\n",
       " 'job_refer_comp_job_detail2.asp?p_id=10205_16803238&job_id=20170314175240_5845958',\n",
       " 'job_refer_comp_job_detail2.asp?p_id=20180123145112_59344924&job_id=20180124231009_9627446',\n",
       " 'job_refer_comp_job_detail2.asp?p_id=20180123145112_59344924&job_id=20180124231009_95462',\n",
       " 'job_refer_comp_job_detail2.asp?p_id=20170830145927_24984249&job_id=20170904152652_55955543',\n",
       " 'job_refer_comp_job_detail2.asp?p_id=20170915150516_16638110&job_id=20180103170423_3751620',\n",
       " 'job_refer_comp_job_detail2.asp?p_id=20180124133623_61756008&job_id=20180124140227_14277564',\n",
       " 'job_refer_comp_job_detail2.asp?p_id=98526_16432742&job_id=20180124120437_17719610',\n",
       " 'job_refer_comp_job_detail2.asp?p_id=20140103100924_27365925&job_id=20140103142307_1463769',\n",
       " 'job_refer_comp_job_detail2.asp?p_id=20170922094722_28682266&job_id=20180124113603_6106229',\n",
       " 'job_refer_comp_job_detail2.asp?p_id=20130121173217_26897641&job_id=20171228154958_9294851',\n",
       " 'job_refer_comp_job_detail2.asp?p_id=20110520143447_80472760&job_id=20171026145736_4821443',\n",
       " 'job_refer_comp_job_detail2.asp?p_id=20110520143447_80472760&job_id=20171027100748_45249581',\n",
       " 'job_refer_comp_job_detail2.asp?p_id=86357_70747852&job_id=20160104110959_7848271',\n",
       " 'job_refer_comp_job_detail2.asp?p_id=4630199_22817999&job_id=20170911115019_7207889',\n",
       " 'job_refer_comp_job_detail2.asp?p_id=4630199_22817999&job_id=20170911115021_3668807',\n",
       " 'job_refer_comp_job_detail2.asp?p_id=83151_04322046&job_id=20170509090641_1020106',\n",
       " 'job_refer_comp_job_detail2.asp?p_id=83151_04322046&job_id=20170725140656_2207358',\n",
       " 'job_refer_comp_job_detail2.asp?p_id=6620098_86519539&job_id=20170410120833_5573011',\n",
       " 'job_refer_comp_job_detail2.asp?p_id=20170410113427_52629278&job_id=20171109173650_87698736',\n",
       " 'job_refer_comp_job_detail2.asp?p_id=8926311_84149358&job_id=20140826094739_5214185',\n",
       " 'job_refer_comp_job_detail2.asp?p_id=8926311_84149358&job_id=20110331154512_2622578',\n",
       " 'job_refer_comp_job_detail2.asp?p_id=4630199_22817999&job_id=20170911115023_6185618',\n",
       " 'job_refer_comp_job_detail2.asp?p_id=20151104135134_27790392&job_id=20151104151827_6335275',\n",
       " 'job_refer_comp_job_detail2.asp?p_id=25530_68919301&job_id=20171020092039_7848866',\n",
       " 'job_refer_comp_job_detail2.asp?p_id=20090713095742_29059991&job_id=20150128211706_581005',\n",
       " 'job_refer_comp_job_detail2.asp?p_id=20090713095742_29059991&job_id=20090716171555_40859765',\n",
       " 'job_refer_comp_job_detail2.asp?p_id=20110520171307_12215548&job_id=20170606160230_1393967',\n",
       " 'job_refer_comp_job_detail2.asp?p_id=20110520171307_12215548&job_id=20170606160229_5809847',\n",
       " 'job_refer_comp_job_detail2.asp?p_id=20090713095742_29059991&job_id=20140930183553_1202809',\n",
       " 'job_refer_comp_job_detail2.asp?p_id=20121205121126_53893872&job_id=20170213153953_62721',\n",
       " 'job_refer_comp_job_detail2.asp?p_id=20170606153705_24369238&job_id=20171113090724_18845',\n",
       " 'job_refer_comp_job_detail2.asp?p_id=20170606153705_24369238&job_id=20170607015201_23280305',\n",
       " 'job_refer_comp_job_detail2.asp?p_id=20090219093446_12956129&job_id=20110113184736_549576',\n",
       " 'job_refer_comp_job_detail2.asp?p_id=20170419144203_22579547&job_id=20170427175550_53333979',\n",
       " 'job_refer_comp_job_detail2.asp?p_id=20100303140900_24468434&job_id=20140220093358_1790']"
      ]
     },
     "execution_count": 23,
     "metadata": {},
     "output_type": "execute_result"
    }
   ],
   "source": [
    "links"
   ]
  },
  {
   "cell_type": "code",
   "execution_count": 22,
   "metadata": {
    "scrolled": true
   },
   "outputs": [
    {
     "data": {
      "text/plain": [
       "[{'job_id': ['20120614144726_9324965'], 'p_id': ['13690_11395000']},\n",
       " {'job_id': ['20180102155549_7990091'], 'p_id': ['24449_69905810']},\n",
       " {'job_id': ['20170626095751_2595896'], 'p_id': ['20170412141000_86714857']},\n",
       " {'job_id': ['20170414164953_7592976'], 'p_id': ['20170412141000_86714857']},\n",
       " {'job_id': ['20160826153242_56497817'], 'p_id': ['20140103100924_27365925']},\n",
       " {'job_id': ['20180129115052_9505124'], 'p_id': ['20170412141000_86714857']},\n",
       " {'job_id': ['20150209114206_441079'], 'p_id': ['20090828152422_84218848']},\n",
       " {'job_id': ['20140811103200_8514317'], 'p_id': ['20090828152422_84218848']},\n",
       " {'job_id': ['20171005092013_42164'], 'p_id': ['4761883_97179430']},\n",
       " {'job_id': ['20170309095743_1536526'], 'p_id': ['4761883_97179430']},\n",
       " {'job_id': ['20170406093856_5123821'], 'p_id': ['4761883_97179430']},\n",
       " {'job_id': ['20170406093857_8705495'], 'p_id': ['4761883_97179430']}]"
      ]
     },
     "execution_count": 22,
     "metadata": {},
     "output_type": "execute_result"
    }
   ],
   "source": [
    "id_lists"
   ]
  },
  {
   "cell_type": "code",
   "execution_count": 27,
   "metadata": {},
   "outputs": [],
   "source": [
    "job_rows = []\n",
    "\n",
    "for link in links:\n",
    "    id_list = get_id(link)\n",
    "    detl_soup = get_detl_soups(id_list['p_id'],id_list['job_id'])\n",
    "    job_row = get_detl_desc(detl_soup)\n",
    "    job_rows.append(job_row)"
   ]
  },
  {
   "cell_type": "code",
   "execution_count": 30,
   "metadata": {},
   "outputs": [
    {
     "data": {
      "text/plain": [
       "{'Area': '台北市內湖區新湖二路236號3樓',\n",
       " 'Category': ['MIS程式設計師', '網路程式設計師', '軟體工程師'],\n",
       " 'Company': '精技電腦股份有限公司',\n",
       " 'Description': '[工作內容]\\n負責PHP 網頁應用程式之開發與維護\\n\\n[技能]\\n1.有學習過PHP網頁語言、資料庫及 SQL 語法、HTML及CSS 語法\\n2.有JavaScript 應用經驗更佳',\n",
       " 'JobTitle': 'PHP 程式設計師─71101',\n",
       " 'Salary': '依公司規定'}"
      ]
     },
     "execution_count": 30,
     "metadata": {},
     "output_type": "execute_result"
    }
   ],
   "source": [
    "job_rows[90]"
   ]
  }
 ],
 "metadata": {
  "kernelspec": {
   "display_name": "Python 3",
   "language": "python",
   "name": "python3"
  },
  "language_info": {
   "codemirror_mode": {
    "name": "ipython",
    "version": 3
   },
   "file_extension": ".py",
   "mimetype": "text/x-python",
   "name": "python",
   "nbconvert_exporter": "python",
   "pygments_lexer": "ipython3",
   "version": "3.6.3"
  }
 },
 "nbformat": 4,
 "nbformat_minor": 2
}
