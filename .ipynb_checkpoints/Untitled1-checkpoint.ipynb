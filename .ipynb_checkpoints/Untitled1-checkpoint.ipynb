{
 "cells": [
  {
   "cell_type": "code",
   "execution_count": 22,
   "metadata": {
    "collapsed": true
   },
   "outputs": [],
   "source": [
    "import requests\n",
    "import json\n",
    "from bs4 import BeautifulSoup\n",
    "import re"
   ]
  },
  {
   "cell_type": "code",
   "execution_count": null,
   "metadata": {},
   "outputs": [],
   "source": [
    "def get_detl_lists():\n",
    "    import requests\n",
    "    import json\n",
    "    from bs4 import BeautifulSoup\n",
    "\n",
    "    url = \"https://www.yes123.com.tw/admin/job_refer_list.asp\"\n",
    "    data = json.loads(r'''{\n",
    "        \"find_key1\": \"java\",\n",
    "        \"search_work\": \"職務\",\n",
    "        \"search_multi_loc\": \"地區\",\n",
    "        \"find_key2\": \"\",\n",
    "        \"search_multi_loc2\": \"請選擇地區\",\n",
    "        \"search_work2\": \"請選擇職務\",\n",
    "        \"search_job2\": \"請選擇行業\",\n",
    "        \"find_key3\": \"\",\n",
    "        \"search_multi_loc3\": \"請選擇地區\",\n",
    "        \"search_work3\": \"請選擇職務\",\n",
    "        \"search_subj\": \"請選擇你的科系\",\n",
    "        \"search_work4\": \"\",\n",
    "        \"search_multi_loc4\": \"請選擇地區\",\n",
    "        \"search_multi_loc5\": \"請選擇地區\",\n",
    "        \"search_work6\": \"\",\n",
    "        \"search_work7\": \"\",\n",
    "        \"search_multi_loc6\": \"\",\n",
    "        \"search_work8\": \"\",\n",
    "        \"search_multi_loc7\": \"\",\n",
    "        \"search_work9\": \"請選擇職務\",\n",
    "        \"find_sf_subj_mode1\": \"\",\n",
    "        \"s_find_sf_subj_mode1\": \"\",\n",
    "        \"find_se_work_mode1\": \"\",\n",
    "        \"s_find_se_work_mode1\": \"\",\n",
    "        \"find_ss_work_mode1\": \"\",\n",
    "        \"s_find_ss_work_mode1\": \"\",\n",
    "        \"find_us_map_mode1\": \"\",\n",
    "        \"find_us_map_mode2\": \"\",\n",
    "        \"find_us_map_mode3\": \"\",\n",
    "        \"find_us_map_mode4\": \"\",\n",
    "        \"search_key_word\": \"java\",\n",
    "        \"search_type\": \"job\",\n",
    "        \"us_menu\": \"\",\n",
    "        \"search_item\": \"1\",\n",
    "        \"search_from\": \"index\"\n",
    "    }''')\n",
    "    headers = json.loads(r'''{\n",
    "        \"Accept\": \"text/html,application/xhtml+xml,application/xml;q=0.9,image/webp,image/apng,*/*;q=0.8\",\n",
    "        \"Accept-Encoding\": \"gzip, deflate, br\",\n",
    "        \"Accept-Language\": \"en-US,en;q=0.9\",\n",
    "        \"Cache-Control\": \"max-age=0\",\n",
    "        \"Connection\": \"keep-alive\",\n",
    "        \"Content-Length\": \"6078\",\n",
    "        \"Content-Type\": \"application/x-www-form-urlencoded\",\n",
    "        \"Cookie\": \"_sh_c_1=search_type%3Ajob%7Csearch_item%3A1%7Csearch_key_word%3Ajava%7C_mu_ckb_21%3Acheckbox%7C_mu_ckb_22%3Acheckbox%7C_mu_ckb_23%3Acheckbox%7C_mu_ckb_24%3Acheckbox%7C_mu_ckb_25%3Acheckbox; _sh_c_2=search_type%3Ajob%7Csearch_item%3A1%7Csearch_key_word%3Ajava%7C_mu_ckb_21%3Acheckbox%7C_mu_ckb_22%3Acheckbox%7C_mu_ckb_23%3Acheckbox%7C_mu_ckb_24%3Acheckbox%7C_mu_ckb_25%3Acheckbox; _sh_c_3=search_type%3Ajob%7Csearch_item%3A1%7Csearch_key_word%3Ajava%7C_mu_ckb_21%3Acheckbox%7C_mu_ckb_22%3Acheckbox%7C_mu_ckb_23%3Acheckbox%7C_mu_ckb_24%3Acheckbox%7C_mu_ckb_25%3Acheckbox; _sh_c_4=search_type%3Ajob%7Csearch_item%3A1%7Csearch_key_word%3Ajava%7C_mu_ckb_21%3Acheckbox%7C_mu_ckb_22%3Acheckbox%7C_mu_ckb_23%3Acheckbox%7C_mu_ckb_24%3Acheckbox%7C_mu_ckb_25%3Acheckbox; _sh_c_5=search_type%3Ajob%7Csearch_item%3A1%7Csearch_key_word%3Ajava%7C_mu_ckb_21%3Acheckbox%7C_mu_ckb_22%3Acheckbox%7C_mu_ckb_23%3Acheckbox%7C_mu_ckb_24%3Acheckbox%7C_mu_ckb_25%3Acheckbox; __auc=9b3990ed160de388f0fbe417dbf; _ga=GA1.3.2064806402.1515556737; _gid=GA1.3.818539509.1516792749; ASPSESSIONIDQQDDBSSB=OKBDCJMAIBPNBCDPEFCOEPBO; ClientIP=61.231.154.120; __asc=250a8ca81612d2740f80e7a5edd; yes123_make_cookie=d24146109896c1e633d3337a1d7b942c; ASPSESSIONIDCABQQRST=AKLFGJDAOIIIHOKAMPMOKLMB; ASPSESSIONIDSSBCATSB=IHLBEFOADKJBOHEBBEJEHIFN; citrix_ns_id=PnNogiQiFA1dct7k19GAtJPh1eIA000; ASP.NET_SessionId=240393075; StepCookie_id=240393075; _gat_UA-4824195-2=1; step=10\",\n",
    "        \"Host\": \"www.yes123.com.tw\",\n",
    "        \"Origin\": \"https://www.yes123.com.tw\",\n",
    "        \"Referer\": \"https://www.yes123.com.tw/admin/index.asp\",\n",
    "        \"Upgrade-Insecure-Requests\": \"1\",\n",
    "        \"User-Agent\": \"Mozilla/5.0 (X11; Linux x86_64) AppleWebKit/537.36 (KHTML, like Gecko) Chrome/63.0.3239.132 Safari/537.36\"\n",
    "    }''')\n",
    "\n",
    "    links = []\n",
    "\n",
    "    for strrec in range(20,101,20):\n",
    "        resp = requests.post(url, data=data, headers=headers)\n",
    "        resp.encoding = 'utf-8'\n",
    "        data['strrec'] = strrec\n",
    "        job_html = resp.text\n",
    "        soup = BeautifulSoup(job_html, 'lxml')\n",
    "        for link in  soup.select('a.jobname'):\n",
    "            try:\n",
    "                links.append(link['href'])\n",
    "            except KeyError:\n",
    "                continue\n",
    "    return links"
   ]
  },
  {
   "cell_type": "code",
   "execution_count": 23,
   "metadata": {},
   "outputs": [],
   "source": [
    "import requests\n",
    "import json\n",
    "from bs4 import BeautifulSoup\n",
    "\n",
    "url = \"https://www.yes123.com.tw/admin/job_refer_list.asp\"\n",
    "data = json.loads(r'''{\n",
    "        \"find_key1\": \"java\",\n",
    "        \"search_work\": \"職務\",\n",
    "        \"search_multi_loc\": \"地區\",\n",
    "        \"find_key2\": \"\",\n",
    "        \"search_multi_loc2\": \"請選擇地區\",\n",
    "        \"search_work2\": \"請選擇職務\",\n",
    "        \"search_job2\": \"請選擇行業\",\n",
    "        \"find_key3\": \"\",\n",
    "        \"search_multi_loc3\": \"請選擇地區\",\n",
    "        \"search_work3\": \"請選擇職務\",\n",
    "        \"search_subj\": \"請選擇你的科系\",\n",
    "        \"search_work4\": \"\",\n",
    "        \"search_multi_loc4\": \"請選擇地區\",\n",
    "        \"search_multi_loc5\": \"請選擇地區\",\n",
    "        \"search_work6\": \"\",\n",
    "        \"search_work7\": \"\",\n",
    "        \"search_multi_loc6\": \"\",\n",
    "        \"search_work8\": \"\",\n",
    "        \"search_multi_loc7\": \"\",\n",
    "        \"search_work9\": \"請選擇職務\",\n",
    "        \"find_sf_subj_mode1\": \"\",\n",
    "        \"s_find_sf_subj_mode1\": \"\",\n",
    "        \"find_se_work_mode1\": \"\",\n",
    "        \"s_find_se_work_mode1\": \"\",\n",
    "        \"find_ss_work_mode1\": \"\",\n",
    "        \"s_find_ss_work_mode1\": \"\",\n",
    "        \"find_us_map_mode1\": \"\",\n",
    "        \"find_us_map_mode2\": \"\",\n",
    "        \"find_us_map_mode3\": \"\",\n",
    "        \"find_us_map_mode4\": \"\",\n",
    "        \"search_key_word\": \"java\",\n",
    "        \"search_type\": \"job\",\n",
    "        \"us_menu\": \"\",\n",
    "        \"search_item\": \"1\",\n",
    "        \"search_from\": \"index\"\n",
    "    }''')\n",
    "headers = json.loads(r'''{\n",
    "        \"Accept\": \"text/html,application/xhtml+xml,application/xml;q=0.9,image/webp,image/apng,*/*;q=0.8\",\n",
    "        \"Accept-Encoding\": \"gzip, deflate, br\",\n",
    "        \"Accept-Language\": \"en-US,en;q=0.9\",\n",
    "        \"Cache-Control\": \"max-age=0\",\n",
    "        \"Connection\": \"keep-alive\",\n",
    "        \"Content-Length\": \"6078\",\n",
    "        \"Content-Type\": \"application/x-www-form-urlencoded\",\n",
    "        \"Cookie\": \"_sh_c_1=search_type%3Ajob%7Csearch_item%3A1%7Csearch_key_word%3Ajava%7C_mu_ckb_21%3Acheckbox%7C_mu_ckb_22%3Acheckbox%7C_mu_ckb_23%3Acheckbox%7C_mu_ckb_24%3Acheckbox%7C_mu_ckb_25%3Acheckbox; _sh_c_2=search_type%3Ajob%7Csearch_item%3A1%7Csearch_key_word%3Ajava%7C_mu_ckb_21%3Acheckbox%7C_mu_ckb_22%3Acheckbox%7C_mu_ckb_23%3Acheckbox%7C_mu_ckb_24%3Acheckbox%7C_mu_ckb_25%3Acheckbox; _sh_c_3=search_type%3Ajob%7Csearch_item%3A1%7Csearch_key_word%3Ajava%7C_mu_ckb_21%3Acheckbox%7C_mu_ckb_22%3Acheckbox%7C_mu_ckb_23%3Acheckbox%7C_mu_ckb_24%3Acheckbox%7C_mu_ckb_25%3Acheckbox; _sh_c_4=search_type%3Ajob%7Csearch_item%3A1%7Csearch_key_word%3Ajava%7C_mu_ckb_21%3Acheckbox%7C_mu_ckb_22%3Acheckbox%7C_mu_ckb_23%3Acheckbox%7C_mu_ckb_24%3Acheckbox%7C_mu_ckb_25%3Acheckbox; _sh_c_5=search_type%3Ajob%7Csearch_item%3A1%7Csearch_key_word%3Ajava%7C_mu_ckb_21%3Acheckbox%7C_mu_ckb_22%3Acheckbox%7C_mu_ckb_23%3Acheckbox%7C_mu_ckb_24%3Acheckbox%7C_mu_ckb_25%3Acheckbox; __auc=9b3990ed160de388f0fbe417dbf; _ga=GA1.3.2064806402.1515556737; _gid=GA1.3.818539509.1516792749; ASPSESSIONIDQQDDBSSB=OKBDCJMAIBPNBCDPEFCOEPBO; ClientIP=61.231.154.120; __asc=250a8ca81612d2740f80e7a5edd; yes123_make_cookie=d24146109896c1e633d3337a1d7b942c; ASPSESSIONIDCABQQRST=AKLFGJDAOIIIHOKAMPMOKLMB; ASPSESSIONIDSSBCATSB=IHLBEFOADKJBOHEBBEJEHIFN; citrix_ns_id=PnNogiQiFA1dct7k19GAtJPh1eIA000; ASP.NET_SessionId=240393075; StepCookie_id=240393075; _gat_UA-4824195-2=1; step=10\",\n",
    "        \"Host\": \"www.yes123.com.tw\",\n",
    "        \"Origin\": \"https://www.yes123.com.tw\",\n",
    "        \"Referer\": \"https://www.yes123.com.tw/admin/index.asp\",\n",
    "        \"Upgrade-Insecure-Requests\": \"1\",\n",
    "        \"User-Agent\": \"Mozilla/5.0 (X11; Linux x86_64) AppleWebKit/537.36 (KHTML, like Gecko) Chrome/63.0.3239.132 Safari/537.36\"\n",
    "    }''')\n",
    "\n",
    "links = []\n",
    "\n",
    "for strrec in range(20,101,20):\n",
    "    resp = requests.post(url, data=data, headers=headers)\n",
    "    resp.encoding = 'utf-8'\n",
    "    data['strrec'] = strrec\n",
    "    job_html = resp.text\n",
    "    soup = BeautifulSoup(job_html, 'lxml')\n",
    "    for link in  soup.select('a.jobname'):\n",
    "        try:\n",
    "            links.append(link['href'])\n",
    "        except KeyError:\n",
    "            continue"
   ]
  },
  {
   "cell_type": "code",
   "execution_count": 24,
   "metadata": {
    "scrolled": true
   },
   "outputs": [
    {
     "data": {
      "text/plain": [
       "'job_refer_comp_job_detail2.asp?p_id=4761883_97179430&job_id=20171005092013_42164'"
      ]
     },
     "execution_count": 24,
     "metadata": {},
     "output_type": "execute_result"
    }
   ],
   "source": [
    "links[0]"
   ]
  },
  {
   "cell_type": "code",
   "execution_count": 56,
   "metadata": {},
   "outputs": [
    {
     "data": {
      "text/plain": [
       "{'p_id': ['4761883_97179430']}"
      ]
     },
     "execution_count": 56,
     "metadata": {},
     "output_type": "execute_result"
    }
   ],
   "source": [
    "row = {}\n",
    "row['p_id'] = re.findall('p_id=(.+)&', links[0])\n",
    "row"
   ]
  },
  {
   "cell_type": "code",
   "execution_count": 63,
   "metadata": {},
   "outputs": [],
   "source": [
    "y = links[2]\n",
    "\n",
    "def get_id(y):\n",
    "    import re\n",
    "    row = {}\n",
    "    row['p_id'] = re.findall('p_id=(.+)&', y)\n",
    "    row['job_id'] = re.findall('job_id=(.+)', y)\n",
    "    return row"
   ]
  },
  {
   "cell_type": "code",
   "execution_count": 64,
   "metadata": {},
   "outputs": [
    {
     "data": {
      "text/plain": [
       "{'job_id': ['20170406093856_5123821'], 'p_id': ['4761883_97179430']}"
      ]
     },
     "execution_count": 64,
     "metadata": {},
     "output_type": "execute_result"
    }
   ],
   "source": [
    "id = get_id(y)\n",
    "id"
   ]
  },
  {
   "cell_type": "markdown",
   "metadata": {},
   "source": [
    "### 若需要轉形成字串，可以用以下方法："
   ]
  },
  {
   "cell_type": "code",
   "execution_count": 60,
   "metadata": {
    "scrolled": true
   },
   "outputs": [
    {
     "data": {
      "text/plain": [
       "'4761883_97179430'"
      ]
     },
     "execution_count": 60,
     "metadata": {},
     "output_type": "execute_result"
    }
   ],
   "source": [
    "str = \"\".join(re.findall('p_id=(.+)&', links[0]))\n",
    "str"
   ]
  },
  {
   "cell_type": "markdown",
   "metadata": {},
   "source": [
    "### -------------------------------------------"
   ]
  },
  {
   "cell_type": "code",
   "execution_count": 49,
   "metadata": {},
   "outputs": [
    {
     "data": {
      "text/plain": [
       "['20170406093856_5123821']"
      ]
     },
     "execution_count": 49,
     "metadata": {},
     "output_type": "execute_result"
    }
   ],
   "source": [
    "id = get_id(y)\n",
    "id['job_id']"
   ]
  },
  {
   "cell_type": "code",
   "execution_count": null,
   "metadata": {
    "collapsed": true
   },
   "outputs": [],
   "source": [
    "def get_detl_soups(p_id,job_id):\n",
    "    import requests\n",
    "    import json\n",
    "    \n",
    "    url = \"https://www.yes123.com.tw/admin/job_refer_list_showRight_2017.asp\"\n",
    "    data = json.loads(r'''{\n",
    "        \"show_type\": \"1\",\n",
    "        \"search_keyword\": \"java+\"\n",
    "        }''')\n",
    "    headers = json.loads(r'''{\n",
    "        \"Accept\": \"text/html, */*; q=0.01\",\n",
    "        \"Accept-Encoding\": \"gzip, deflate, br\",\n",
    "        \"Accept-Language\": \"en-US,en;q=0.9\",\n",
    "        \"Connection\": \"keep-alive\",\n",
    "        \"Content-Length\": \"84\",\n",
    "        \"Content-Type\": \"application/x-www-form-urlencoded\",\n",
    "        \"Cookie\": \"_sh_c_1=search_type%3Ajob%7Csearch_item%3A1%7Csearch_key_word%3Ajava%7C_mu_ckb_21%3Acheckbox%7C_mu_ckb_22%3Acheckbox%7C_mu_ckb_23%3Acheckbox%7C_mu_ckb_24%3Acheckbox%7C_mu_ckb_25%3Acheckbox; ASPSESSIONIDCCBRSTQS=KLCPCBNBINFLKPPLGLIFDGIO; citrix_ns_id=gxsIasgXl/KC/UsUdtEpjklv5qsA000; ASP.NET_SessionId=487781027; StepCookie_id=487781027; ClientIP=118.167.194.73; __asc=85787841161378664d32a44a05a; __auc=85787841161378664d32a44a05a; _ga=GA1.3.706162762.1517055010; _gid=GA1.3.1699534873.1517055010; _gat_UA-4824195-2=1; yes123_make_cookie=d005dd1a241fa6b83f58ad71a2b34f78; step=2\",\n",
    "        \"Host\": \"www.yes123.com.tw\",\n",
    "        \"Origin\": \"https://www.yes123.com.tw\",\n",
    "        \"Referer\": \"https://www.yes123.com.tw/admin/job_refer_list.asp\",\n",
    "        \"User-Agent\": \"Mozilla/5.0 (X11; Linux x86_64) AppleWebKit/537.36 (KHTML, like Gecko) Chrome/64.0.3282.119 Safari/537.36\",\n",
    "        \"X-Requested-With\": \"XMLHttpRequest\"\n",
    "    }''')\n",
    "\n",
    "    data['p_id'] = p_id\n",
    "    data['job_id'] = job_id\n",
    "    resp = requests.post(url, data=data, headers=headers)\n",
    "    resp.encoding = 'utf-8'\n",
    "    job_html = resp.text\n",
    "    soup = BeautifulSoup(job_html, 'lxml')\n",
    "    return soup"
   ]
  },
  {
   "cell_type": "code",
   "execution_count": null,
   "metadata": {},
   "outputs": [],
   "source": [
    "soup_d = get_detl_soups(p_id = '4761883_97179430',job_id='20170406093857_8705495')"
   ]
  },
  {
   "cell_type": "code",
   "execution_count": null,
   "metadata": {},
   "outputs": [],
   "source": [
    "soup_d"
   ]
  }
 ],
 "metadata": {
  "kernelspec": {
   "display_name": "Python 3",
   "language": "python",
   "name": "python3"
  },
  "language_info": {
   "codemirror_mode": {
    "name": "ipython",
    "version": 3
   },
   "file_extension": ".py",
   "mimetype": "text/x-python",
   "name": "python",
   "nbconvert_exporter": "python",
   "pygments_lexer": "ipython3",
   "version": "3.6.3"
  }
 },
 "nbformat": 4,
 "nbformat_minor": 2
}
