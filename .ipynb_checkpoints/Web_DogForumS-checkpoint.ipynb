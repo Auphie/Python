{
 "cells": [
  {
   "cell_type": "code",
   "execution_count": 13,
   "metadata": {
    "collapsed": true
   },
   "outputs": [],
   "source": [
    "def get_header(url):\n",
    "    import requests\n",
    "    import json\n",
    "    from bs4 import BeautifulSoup\n",
    "\n",
    "    custom_headers = json.loads(r'''{\n",
    "    \"Cookie\":\"trctestcookie=ok; bb_sessionhash=b94e3be6625814799942c9b1b1531485; bb_lastvisit=1517315818; bb_lastactivity=0; __utma=35414334.739693991.1517315820.1517315820.1517315820.1; __utmc=35414334; __utmz=35414334.1517315820.1.1.utmcsr=(direct)|utmccn=(direct)|utmcmd=(none); __utmt=1; __gads=ID=25c408c519cdba54:T=1517315820:S=ALNI_MY0NqJY1t862NnxeIexu648Tu-jhQ; bb_forum_view=723e91efa9356f6ee94f01eba06127c2ac4c9a19a-1-%7Bi-3_i-1517315862_%7D; trc_cookie_storage=taboola%2520global%253Auser-id%3D9fb09c65-d038-47cc-aca3-9186c0df7852-tuct1686a87; __utmb=35414334.80.4.1517316250219\",\n",
    "    \"Host\":\"www.dogforums.com\",\n",
    "    \"Pragma\":\"no-cache\",\n",
    "    \"Referer\":\"http://www.dogforums.com/\",\n",
    "    \"Upgrade-Insecure-Requests\":\"1\",\n",
    "    \"User-Agent\":\"Mozilla/5.0 (X11; Linux x86_64) AppleWebKit/537.36 (KHTML, like Gecko) Chrome/64.0.3282.119 Safari/537.36\"\n",
    "    }''')\n",
    "\n",
    "    resp = requests.get(url, headers=custom_headers)\n",
    "    resp.encoding = 'utf-8'\n",
    "    soup = BeautifulSoup(resp.text, 'html5lib')\n",
    "    return soup"
   ]
  },
  {
   "cell_type": "code",
   "execution_count": 14,
   "metadata": {
    "collapsed": true
   },
   "outputs": [],
   "source": [
    "url = 'http://www.dogforums.com/dog-training-forum/'"
   ]
  },
  {
   "cell_type": "code",
   "execution_count": 24,
   "metadata": {
    "collapsed": true,
    "scrolled": false
   },
   "outputs": [],
   "source": [
    "soup = get_header(url)"
   ]
  },
  {
   "cell_type": "code",
   "execution_count": 26,
   "metadata": {},
   "outputs": [
    {
     "data": {
      "text/plain": [
       "[<a class=\"title\" href=\"http://www.dogforums.com/dog-training-forum/191506-links-books-blogs-etc.html\" id=\"thread_title_191506\">Links, books, blogs etc for reactive / leash aggressive dogs and similar</a>,\n",
       " <a class=\"title\" href=\"http://www.dogforums.com/dog-training-forum/83538-thyroid-can-alter-behavior.html\" id=\"thread_title_83538\">Thyroid can alter behavior</a>,\n",
       " <a class=\"title\" href=\"http://www.dogforums.com/dog-training-forum/72111-reccomended-reading.html\" id=\"thread_title_72111\">Reccomended reading...</a>,\n",
       " <a class=\"title\" href=\"http://www.dogforums.com/dog-training-forum/10583-useful-training-links.html\" id=\"thread_title_10583\">Useful Training Links</a>,\n",
       " <a class=\"title\" href=\"http://www.dogforums.com/dog-training-forum/40425-training-tactics.html\" id=\"thread_title_40425\">Training Tactics</a>,\n",
       " <a class=\"title\" href=\"http://www.dogforums.com/dog-training-forum/60390-separation-anxiety-whats-whys.html\" id=\"thread_title_60390\">Separation Anxiety The What's, Why's and How's</a>,\n",
       " <a class=\"title\" href=\"http://www.dogforums.com/dog-training-forum/36897-recommend-dog-trainers.html\" id=\"thread_title_36897\">Recommend Dog Trainers</a>,\n",
       " <a class=\"title\" href=\"http://www.dogforums.com/dog-training-forum/17429-dogs-who-push-other.html\" id=\"thread_title_17429\">Dogs Who Push Other Dogs Away To Get Attention, Treats, etc.</a>,\n",
       " <a class=\"title\" href=\"http://www.dogforums.com/dog-training-forum/17428-desensitizing-dog-inanimate-objects.html\" id=\"thread_title_17428\">Desensitizing A Dog To Inanimate Objects Or Noises</a>,\n",
       " <a class=\"title\" href=\"http://www.dogforums.com/dog-training-forum/495682-controversial-subject-use-electronic.html\" id=\"thread_title_495682\">Controversial subject:  Use of Electronic Collars</a>]"
      ]
     },
     "execution_count": 26,
     "metadata": {},
     "output_type": "execute_result"
    }
   ],
   "source": [
    "soup.select('a.title')[:10]"
   ]
  },
  {
   "cell_type": "code",
   "execution_count": 27,
   "metadata": {},
   "outputs": [
    {
     "data": {
      "text/plain": [
       "'http://www.dogforums.com/dog-training-forum/495834-engagement-video.html'"
      ]
     },
     "execution_count": 27,
     "metadata": {},
     "output_type": "execute_result"
    }
   ],
   "source": [
    "soup.select('a.title')[10].get('href')"
   ]
  }
 ],
 "metadata": {
  "kernelspec": {
   "display_name": "Python 3",
   "language": "python",
   "name": "python3"
  },
  "language_info": {
   "codemirror_mode": {
    "name": "ipython",
    "version": 3
   },
   "file_extension": ".py",
   "mimetype": "text/x-python",
   "name": "python",
   "nbconvert_exporter": "python",
   "pygments_lexer": "ipython3",
   "version": "3.6.3"
  }
 },
 "nbformat": 4,
 "nbformat_minor": 2
}
