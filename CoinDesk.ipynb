{
 "cells": [
  {
   "cell_type": "code",
   "execution_count": 69,
   "metadata": {},
   "outputs": [],
   "source": [
    "import re\n",
    "import datetime\n",
    "\n",
    "import requests\n",
    "from bs4 import BeautifulSoup\n",
    "import bs4\n",
    "\n",
    "URL = \"https://www.coindesk.com/category/markets-news/page/{}/\"\n",
    "HOST = \"https://www.coindesk.com\"\n",
    "UTC = datetime.timezone(datetime.timedelta(hours=0))"
   ]
  },
  {
   "cell_type": "code",
   "execution_count": null,
   "metadata": {},
   "outputs": [],
   "source": [
    "# 先理解每個目錄頁裡面的內容頁超連結規則\n",
    "\"\"\"\n",
    "<h3>\n",
    "    <a class=\"fade\" href=\"https://www.coindesk.com/as-bitcoins-slide-continues-prices-look-towards-8k/\"\n",
    "       title=\"As Bitcoin's Slide Continues, Prices Look Towards $8K\">As Bitcoin's Slide Continues, Prices\n",
    "       Look Towards $8K</a>\n",
    "<h3>\n",
    "    <a class=\"fade\" href=\"https://www.coindesk.com/most-of-the-worlds-biggest-cryptocurrencies-are-down-today/\"\n",
    "       title=\"Most of the World's Biggest Cryptocurrencies Are Down Today\">Most of the World's Biggest\n",
    "       Cryptocurrencies Are Down Today</a>\n",
    "\"\"\""
   ]
  },
  {
   "cell_type": "code",
   "execution_count": 70,
   "metadata": {},
   "outputs": [],
   "source": [
    "# 試抓1頁\n",
    "\n",
    "soup = BeautifulSoup(requests.get(\"https://www.coindesk.com/category/markets-news/page/2/\").text, 'lxml')"
   ]
  },
  {
   "cell_type": "code",
   "execution_count": 71,
   "metadata": {},
   "outputs": [
    {
     "data": {
      "text/plain": [
       "[<a class=\"fade\" href=\"https://www.coindesk.com/okcoin-to-launch-cryptocurrency-exchange-service-in-south-korea/\" title=\"OKCoin Eyes Cryptocurrency Exchange Launch in South Korea\">OKCoin Eyes Cryptocurrency Exchange Launch in South Korea</a>,\n",
       " <a class=\"fade\" href=\"https://www.coindesk.com/stuck-at-12k-bitcoin-price-needs-quick-progress-to-avert-further-losses/\" title=\"Stuck at $12K: Bitcoin Price Needs Quick Progress to Avert Further Losses\">Stuck at $12K: Bitcoin Price Needs Quick Progress to Avert Further Losses</a>,\n",
       " <a class=\"fade\" href=\"https://www.coindesk.com/global-securities-watchdog-warns-investors-on-ico-risks/\" title=\"Global Securities Watchdog Warns Investors on ICO Risks\">Global Securities Watchdog Warns Investors on ICO Risks</a>,\n",
       " <a class=\"fade\" href=\"https://www.coindesk.com/whered-get-token-7-platforms-managing-icos/\" title=\"Where'd You Get That Token? 7 Platforms Managing ICOs\">Where'd You Get That Token? 7 Platforms Managing ICOs</a>,\n",
       " <a class=\"fade\" href=\"https://www.coindesk.com/nyse-parent-company-launches-crypto-trading-data-stream-for-exchanges/\" title=\"NYSE Parent Company Launches Cryptocurrency Data Feed\">NYSE Parent Company Launches Cryptocurrency Data Feed</a>,\n",
       " <a class=\"fade\" href=\"https://www.coindesk.com/ledger-to-ledger-hardware-wallet-integrates-with-decentralized-exchange/\" title=\"Ledger-to-Ledger? Hardware Wallet Integrates with Decentralized Exchange\">Ledger-to-Ledger? Hardware Wallet Integrates with Decentralized Exchange</a>,\n",
       " <a class=\"fade\" href=\"https://www.coindesk.com/ripple-and-stellar-lead-the-way-as-crypto-market-shakes-off-rout/\" title=\"Ripple and Stellar Lead the Way as Crypto Market Shakes Off Rout\">Ripple and Stellar Lead the Way as Crypto Market Shakes Off Rout</a>,\n",
       " <a class=\"fade\" href=\"https://www.coindesk.com/bitcoin-is-back-above-11500-but-bulls-not-out-of-the-woods-yet/\" title=\"Bitcoin Is Back Above $11,500, But Bulls Not Out of the Woods Yet\">Bitcoin Is Back Above $11,500, But Bulls Not Out of the Woods Yet</a>,\n",
       " <a class=\"fade\" href=\"https://www.coindesk.com/hardware-wallet-maker-ledger-nets-75-million-in-series-b-funding/\" title=\"Hardware Wallet Maker Ledger Nets $75 Million in Series B Funding\">Hardware Wallet Maker Ledger Nets $75 Million in Series B Funding</a>,\n",
       " <a class=\"fade\" href=\"https://www.coindesk.com/report-south-korea-to-decide-thursday-on-crypto-exchange-regulation/\" title=\"Report: South Korea Could Decide This Week on Crypto Exchange Regulation\">Report: South Korea Could Decide This Week on Crypto Exchange Regulation</a>]"
      ]
     },
     "execution_count": 71,
     "metadata": {},
     "output_type": "execute_result"
    }
   ],
   "source": [
    "soup.select(\"h3 > a.fade\")"
   ]
  },
  {
   "cell_type": "code",
   "execution_count": 72,
   "metadata": {},
   "outputs": [
    {
     "data": {
      "text/plain": [
       "list"
      ]
     },
     "execution_count": 72,
     "metadata": {},
     "output_type": "execute_result"
    }
   ],
   "source": [
    "# 此時的超連結們的儲存型態為List，所以可以\n",
    "type(soup.select(\"h3 > a.fade\"))"
   ]
  },
  {
   "cell_type": "code",
   "execution_count": 75,
   "metadata": {},
   "outputs": [
    {
     "data": {
      "text/plain": [
       "'https://www.coindesk.com/stuck-at-12k-bitcoin-price-needs-quick-progress-to-avert-further-losses/'"
      ]
     },
     "execution_count": 75,
     "metadata": {},
     "output_type": "execute_result"
    }
   ],
   "source": [
    "soup.select(\"h3 > a.fade\")[1]['href']"
   ]
  },
  {
   "cell_type": "code",
   "execution_count": null,
   "metadata": {
    "scrolled": true
   },
   "outputs": [],
   "source": [
    "\"\"\"  也可用find()語法來抓取，此時可以用get()指令  \"\"\"\n",
    "\n",
    "soup.find('a','fade').get('href')"
   ]
  },
  {
   "cell_type": "code",
   "execution_count": null,
   "metadata": {},
   "outputs": [],
   "source": [
    "hrefs = soup.select(\"h3 > a.fade\")\n",
    "print(hrefs[1]['href'])"
   ]
  },
  {
   "cell_type": "code",
   "execution_count": null,
   "metadata": {
    "scrolled": true
   },
   "outputs": [],
   "source": [
    "for tag in hrefs:\n",
    "    print(tag['href'])"
   ]
  },
  {
   "cell_type": "code",
   "execution_count": null,
   "metadata": {
    "scrolled": false
   },
   "outputs": [],
   "source": [
    "for tag in hrefs:\n",
    "    tags = tag['href']\n",
    "    print(tags)"
   ]
  },
  {
   "cell_type": "code",
   "execution_count": null,
   "metadata": {},
   "outputs": [],
   "source": [
    "# 有了以上的概念後，就能寫成function，並利用def()來快速的抓取每一頁內文的詳細資訊\n",
    "\n",
    "def get_list(url):\n",
    "    soup = make_request(url)\n",
    "    return [row['href'] for row in soup.select(\"h3 > a.fade\")]"
   ]
  },
  {
   "cell_type": "code",
   "execution_count": null,
   "metadata": {},
   "outputs": [],
   "source": [
    "\"\"\" 開始抓細節網站： https://www.coindesk.com/bitcoins-price-drops-below-10000/  \"\"\"\n",
    "soup = BeautifulSoup(requests.get('https://www.coindesk.com/bitcoins-price-drops-below-10000/').text, 'lxml')"
   ]
  },
  {
   "cell_type": "code",
   "execution_count": null,
   "metadata": {},
   "outputs": [],
   "source": [
    "data = {}\n",
    "data['title'] = soup.select_one(\"h3.article-top-title\").text.strip()\n",
    "data['author'] = soup.select_one(\"a.article-container-lab-name\").text.strip()\n",
    "t_str = soup.select_one(\"span.article-container-left-timestamp\").text.strip()\n",
    "data['tstamp'] = datetime.datetime.strptime(t_str, \"%b %d, %Y at %H:%M UTC\").replace(tzinfo=UTC)\n",
    "content = soup.select_one('div.article-content-container')"
   ]
  },
  {
   "cell_type": "code",
   "execution_count": null,
   "metadata": {},
   "outputs": [],
   "source": [
    "soup.select_one(\"h3.article-top-title\").text.strip()"
   ]
  },
  {
   "cell_type": "code",
   "execution_count": null,
   "metadata": {},
   "outputs": [],
   "source": [
    "data = {}\n",
    "data['title'] = soup.select_one(\"h3.article-top-title\").text.strip()\n",
    "data['author'] = soup.select_one(\"a.article-container-lab-name\").text.strip()\n",
    "t_str = soup.select_one(\"span.article-container-left-timestamp\").text.strip()\n",
    "data['tstamp'] = datetime.datetime.strptime(t_str, \"%b %d, %Y at %H:%M UTC\").replace(tzinfo=UTC)"
   ]
  },
  {
   "cell_type": "code",
   "execution_count": null,
   "metadata": {
    "scrolled": true
   },
   "outputs": [],
   "source": [
    "content = soup.select_one('div.article-content-container')\n",
    "type(content)"
   ]
  },
  {
   "cell_type": "code",
   "execution_count": null,
   "metadata": {},
   "outputs": [],
   "source": [
    "# 去除tag, script，將剃除後的文字寫入res[]內\n",
    "\n",
    "res = []\n",
    "for ch in content.children:\n",
    "    if isinstance(ch, bs4.element.NavigableString):\n",
    "        continue\n",
    "    elif ch.name == 'script':\n",
    "        continue\n",
    "    else:\n",
    "        res.append(ch.text)\n",
    "type(res)"
   ]
  },
  {
   "cell_type": "code",
   "execution_count": null,
   "metadata": {
    "scrolled": true
   },
   "outputs": [],
   "source": [
    "res"
   ]
  },
  {
   "cell_type": "code",
   "execution_count": null,
   "metadata": {
    "scrolled": true
   },
   "outputs": [],
   "source": [
    "data['content'] = ''.join(res).strip().replace('\\xa0', ' ')\n",
    "data['content']"
   ]
  },
  {
   "cell_type": "code",
   "execution_count": null,
   "metadata": {},
   "outputs": [],
   "source": [
    "data"
   ]
  },
  {
   "cell_type": "code",
   "execution_count": null,
   "metadata": {},
   "outputs": [],
   "source": [
    "(data['title'], data['author'], data['tstamp'])"
   ]
  }
 ],
 "metadata": {
  "kernelspec": {
   "display_name": "Python 3",
   "language": "python",
   "name": "python3"
  },
  "language_info": {
   "codemirror_mode": {
    "name": "ipython",
    "version": 3
   },
   "file_extension": ".py",
   "mimetype": "text/x-python",
   "name": "python",
   "nbconvert_exporter": "python",
   "pygments_lexer": "ipython3",
   "version": "3.6.1"
  }
 },
 "nbformat": 4,
 "nbformat_minor": 2
}
