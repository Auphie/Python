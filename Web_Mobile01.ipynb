{
 "cells": [
  {
   "cell_type": "markdown",
   "metadata": {},
   "source": [
    "# 抓Mobile 01 （以Iphone板為例）"
   ]
  },
  {
   "cell_type": "code",
   "execution_count": null,
   "metadata": {},
   "outputs": [],
   "source": [
    "\"\"\"   目 錄 頁 規 則   \"\"\"\n",
    "# 進入主頁   ： https://www.mobile01.com/topiclist.php?f=383\n",
    "# 第2頁     ： https://www.mobile01.com/topiclist.php?f=383&p=2\n",
    "# 第3頁     ： https://www.mobile01.com/topiclist.php?f=383&p=3\n",
    "# 再回到第1頁： https://www.mobile01.com/topiclist.php?f=383&p=1"
   ]
  },
  {
   "cell_type": "code",
   "execution_count": null,
   "metadata": {},
   "outputs": [],
   "source": [
    "# 建立存放位置\n",
    "!mkdir -p /tmp/mobile01_data"
   ]
  },
  {
   "cell_type": "code",
   "execution_count": null,
   "metadata": {},
   "outputs": [],
   "source": [
    "import re\n",
    "import time\n",
    "\n",
    "import requests\n",
    "\n",
    "DATA_PATH = '/tmp/mobile01_data'\n",
    "URL_TEMPLATE = \"https://www.mobile01.com/topiclist.php?f=383&p={}\"\n",
    "HOST = \"https://www.mobile01.com\""
   ]
  },
  {
   "cell_type": "code",
   "execution_count": null,
   "metadata": {},
   "outputs": [],
   "source": [
    "\"\"\"   由目錄頁的html file中觀察導向內容頁的url規則 (inspect後的 edit attribute 來copy url)   \"\"\"\n",
    "# topicdetail.php?f=383&t=5363464\n",
    "# topicdetail.php?f=383&t=5348939\n",
    "# topicdetail.php?f=383&t=5307721"
   ]
  },
  {
   "cell_type": "code",
   "execution_count": null,
   "metadata": {},
   "outputs": [],
   "source": [
    "# 測試regular expression的結果   註：『 \\d 』 等同於傳統的[0-9], python 3之後可以簡寫成 \\d\n",
    "url = \"https://www.mobile01.com/topiclist.php?f=383&p=1\"\n",
    "resp = requests.get(url)\n",
    "links = re.findall('href=\"(topicdetail.php\\?f=383&t=\\d+)\"', resp.text)\n",
    "detail_page_links = [\"%s/%s\"%(HOST, link) for link in links]\n",
    "print(links)"
   ]
  },
  {
   "cell_type": "code",
   "execution_count": null,
   "metadata": {},
   "outputs": [],
   "source": [
    "# 目錄頁為url，丟進去get_list_page() 後取得內文頁的連結們\n",
    "\n",
    "def get_list_page(url):\n",
    "    resp = requests.get(url)\n",
    "    links = re.findall('<a href=\"(topicdetail.php\\?f=383&t=\\d+)\">', resp.text)\n",
    "    detail_page_links = [\"%s/%s\"%(HOST, link) for link in links]\n",
    "    return detail_page_links"
   ]
  },
  {
   "cell_type": "code",
   "execution_count": null,
   "metadata": {},
   "outputs": [],
   "source": [
    "def dump_page(url):\n",
    "    filename = \"_\".join(re.findall('f=(\\d+)&t=(\\d+)&p=(\\d+)', url)[0]) + '.html'\n",
    "    resp = requests.get(url)\n",
    "\n",
    "    with open(DATA_PATH + '/' + filename, 'w') as f:\n",
    "        f.write(resp.text)\n",
    "    return resp"
   ]
  },
  {
   "cell_type": "code",
   "execution_count": null,
   "metadata": {},
   "outputs": [],
   "source": [
    "\"\"\" 每個內文頁是個個別主頁， 若回文數超過一頁會變成第2頁, 第3頁... 去inspect如何去連結的關聯  \"\"\"\n",
    "# 首頁的url為 → https://www.mobile01.com/topicdetail.php?f=383&t=5313803\n",
    "#                             <a href=\"topicdetail.php?f=383&amp;t=5313803&amp;p=2\">2</a>\n",
    "#                             <a href=\"topicdetail.php?f=383&amp;t=5313803&amp;p=3\">3</a>\n",
    "#                             <a href=\"topicdetail.php?f=383&amp;t=5313803&amp;p=4\">4</a>\n",
    "\n",
    "\"\"\" 若先到第2頁，再回頭連第1頁的網址是： \"\"\"\n",
    "#                             <a href=\"topicdetail.php?f=383&amp;t=5313803&amp;p=1\">1</a>"
   ]
  },
  {
   "cell_type": "code",
   "execution_count": null,
   "metadata": {},
   "outputs": [],
   "source": [
    "\"\"\" 機車的一點是Mobile01的網頁即使該主題只有1頁， 可是輸入p=2, p=3...系統還是可以執行，只是同樣顯示第1頁的資訊，\n",
    "    因此用爬蟲爬的話就會無限loop抓取同樣的頁面，存檔成p=2, p=3...直到塞爆硬碟為止！ \"\"\"\n",
    "# canonical address + while True來解決"
   ]
  },
  {
   "cell_type": "code",
   "execution_count": null,
   "metadata": {},
   "outputs": [],
   "source": [
    "\"\"\" 若網站有限制抓網的速度的話(執行中但沒有新產出時)， 引用time.sleep(秒速)來降低速度  \"\"\""
   ]
  },
  {
   "cell_type": "code",
   "execution_count": null,
   "metadata": {},
   "outputs": [],
   "source": [
    "for page in range(1,2):\n",
    "    url = URL_TEMPLATE.format(page)\n",
    "    for link in get_list_page(url):\n",
    "        link_pg = 1\n",
    "        while True:\n",
    "            \"\"\"\n",
    "            內文頁換頁邏輯\n",
    "            \"\"\"\n",
    "            link_url = link + \"&p=%s\"%link_pg\n",
    "            print(link_url)\n",
    "            resp = dump_page(link_url)\n",
    "            time.sleep(0.2)\n",
    "            \n",
    "            \"\"\"\n",
    "            用canonical address來做判斷是否爬到最後一頁\n",
    "            \"\"\"\n",
    "            canonical = re.findall('<link rel=\"canonical\" href=\"(.+)\" />', resp.text)[0]\n",
    "            if link_pg == 1: #第一頁的特別處理，拿掉p=1\n",
    "                link_url = link_url[:-4]\n",
    "            if canonical != link_url:\n",
    "                break\n",
    "            link_pg += 1"
   ]
  }
 ],
 "metadata": {
  "kernelspec": {
   "display_name": "Python 3",
   "language": "python",
   "name": "python3"
  },
  "language_info": {
   "codemirror_mode": {
    "name": "ipython",
    "version": 3
   },
   "file_extension": ".py",
   "mimetype": "text/x-python",
   "name": "python",
   "nbconvert_exporter": "python",
   "pygments_lexer": "ipython3",
   "version": "3.6.1"
  }
 },
 "nbformat": 4,
 "nbformat_minor": 2
}
