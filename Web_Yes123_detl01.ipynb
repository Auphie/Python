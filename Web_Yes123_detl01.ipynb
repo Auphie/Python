{
 "cells": [
  {
   "cell_type": "code",
   "execution_count": 2,
   "metadata": {
    "collapsed": true
   },
   "outputs": [],
   "source": [
    "import requests\n",
    "import json\n",
    "from bs4 import BeautifulSoup\n",
    "\n",
    "url = \"https://www.yes123.com.tw/admin/job_refer_list.asp\"\n",
    "data = json.loads(r'''{\n",
    "    \"find_key1\": \"java\",\n",
    "    \"search_work\": \"職務\",\n",
    "    \"search_multi_loc\": \"地區\",\n",
    "    \"find_key2\": \"\",\n",
    "    \"search_multi_loc2\": \"請選擇地區\",\n",
    "    \"search_work2\": \"請選擇職務\",\n",
    "    \"search_job2\": \"請選擇行業\",\n",
    "    \"find_key3\": \"\",\n",
    "    \"search_multi_loc3\": \"請選擇地區\",\n",
    "    \"search_work3\": \"請選擇職務\",\n",
    "    \"search_subj\": \"請選擇你的科系\",\n",
    "    \"search_work4\": \"\",\n",
    "    \"search_multi_loc4\": \"請選擇地區\",\n",
    "    \"search_multi_loc5\": \"請選擇地區\",\n",
    "    \"search_work6\": \"\",\n",
    "    \"search_work7\": \"\",\n",
    "    \"search_multi_loc6\": \"\",\n",
    "    \"search_work8\": \"\",\n",
    "    \"search_multi_loc7\": \"\",\n",
    "    \"search_work9\": \"請選擇職務\",\n",
    "    \"find_sf_subj_mode1\": \"\",\n",
    "    \"s_find_sf_subj_mode1\": \"\",\n",
    "    \"find_se_work_mode1\": \"\",\n",
    "    \"s_find_se_work_mode1\": \"\",\n",
    "    \"find_ss_work_mode1\": \"\",\n",
    "    \"s_find_ss_work_mode1\": \"\",\n",
    "    \"find_us_map_mode1\": \"\",\n",
    "    \"find_us_map_mode2\": \"\",\n",
    "    \"find_us_map_mode3\": \"\",\n",
    "    \"find_us_map_mode4\": \"\",\n",
    "    \"strrec\": \"0\",\n",
    "    \"search_key_word\": \"java\",\n",
    "    \"search_type\": \"job\",\n",
    "    \"us_menu\": \"\",\n",
    "    \"search_item\": \"1\",\n",
    "    \"search_from\": \"index\"\n",
    "}''')\n",
    "headers = json.loads(r'''{\n",
    "    \"Accept\": \"text/html,application/xhtml+xml,application/xml;q=0.9,image/webp,image/apng,*/*;q=0.8\",\n",
    "    \"Accept-Encoding\": \"gzip, deflate, br\",\n",
    "    \"Accept-Language\": \"en-US,en;q=0.9\",\n",
    "    \"Cache-Control\": \"max-age=0\",\n",
    "    \"Connection\": \"keep-alive\",\n",
    "    \"Content-Length\": \"6078\",\n",
    "    \"Content-Type\": \"application/x-www-form-urlencoded\",\n",
    "    \"Cookie\": \"_sh_c_1=search_type%3Ajob%7Csearch_item%3A1%7Csearch_key_word%3Ajava%7C_mu_ckb_21%3Acheckbox%7C_mu_ckb_22%3Acheckbox%7C_mu_ckb_23%3Acheckbox%7C_mu_ckb_24%3Acheckbox%7C_mu_ckb_25%3Acheckbox; _sh_c_2=search_type%3Ajob%7Csearch_item%3A1%7Csearch_key_word%3Ajava%7C_mu_ckb_21%3Acheckbox%7C_mu_ckb_22%3Acheckbox%7C_mu_ckb_23%3Acheckbox%7C_mu_ckb_24%3Acheckbox%7C_mu_ckb_25%3Acheckbox; _sh_c_3=search_type%3Ajob%7Csearch_item%3A1%7Csearch_key_word%3Ajava%7C_mu_ckb_21%3Acheckbox%7C_mu_ckb_22%3Acheckbox%7C_mu_ckb_23%3Acheckbox%7C_mu_ckb_24%3Acheckbox%7C_mu_ckb_25%3Acheckbox; _sh_c_4=search_type%3Ajob%7Csearch_item%3A1%7Csearch_key_word%3Ajava%7C_mu_ckb_21%3Acheckbox%7C_mu_ckb_22%3Acheckbox%7C_mu_ckb_23%3Acheckbox%7C_mu_ckb_24%3Acheckbox%7C_mu_ckb_25%3Acheckbox; _sh_c_5=search_type%3Ajob%7Csearch_item%3A1%7Csearch_key_word%3Ajava%7C_mu_ckb_21%3Acheckbox%7C_mu_ckb_22%3Acheckbox%7C_mu_ckb_23%3Acheckbox%7C_mu_ckb_24%3Acheckbox%7C_mu_ckb_25%3Acheckbox; __auc=9b3990ed160de388f0fbe417dbf; _ga=GA1.3.2064806402.1515556737; _gid=GA1.3.818539509.1516792749; ASPSESSIONIDQQDDBSSB=OKBDCJMAIBPNBCDPEFCOEPBO; ClientIP=61.231.154.120; __asc=250a8ca81612d2740f80e7a5edd; yes123_make_cookie=d24146109896c1e633d3337a1d7b942c; ASPSESSIONIDCABQQRST=AKLFGJDAOIIIHOKAMPMOKLMB; ASPSESSIONIDSSBCATSB=IHLBEFOADKJBOHEBBEJEHIFN; citrix_ns_id=PnNogiQiFA1dct7k19GAtJPh1eIA000; ASP.NET_SessionId=240393075; StepCookie_id=240393075; _gat_UA-4824195-2=1; step=10\",\n",
    "    \"Host\": \"www.yes123.com.tw\",\n",
    "    \"Origin\": \"https://www.yes123.com.tw\",\n",
    "    \"Referer\": \"https://www.yes123.com.tw/admin/index.asp\",\n",
    "    \"Upgrade-Insecure-Requests\": \"1\",\n",
    "    \"User-Agent\": \"Mozilla/5.0 (X11; Linux x86_64) AppleWebKit/537.36 (KHTML, like Gecko) Chrome/63.0.3239.132 Safari/537.36\"\n",
    "}''')\n",
    "\n",
    "resp = requests.post(url, data=data, headers=headers)\n",
    "resp.encoding = 'utf-8'\n",
    "job_html = resp.text\n",
    "soup = BeautifulSoup(job_html, 'html5lib')"
   ]
  },
  {
   "cell_type": "code",
   "execution_count": 4,
   "metadata": {
    "scrolled": true
   },
   "outputs": [
    {
     "data": {
      "text/plain": [
       "[<a class=\"jobname\" href=\"job_refer_comp_job_detail2.asp?p_id=4761883_97179430&amp;job_id=20171116092542_6510184\" target=\"_blank\" title=\"I3101 應收管理系統工程師 (板橋,熟Java)\">I3101 應收管理系統工程師 (板橋,熟...</a>,\n",
       " <a class=\"jobname\" style=\"color:#00b900;\">求職最新工具，你加LINE了嗎？</a>,\n",
       " <a class=\"jobname\" href=\"job_refer_comp_job_detail2.asp?p_id=20140103100924_27365925&amp;job_id=20140103142303_7184215\" target=\"_blank\" title=\"D4000 網站開發工程師(Java)\">D4000 網站開發工程師(Java)</a>]"
      ]
     },
     "execution_count": 4,
     "metadata": {},
     "output_type": "execute_result"
    }
   ],
   "source": [
    "soup.select('a.jobname')[5:8]"
   ]
  },
  {
   "cell_type": "code",
   "execution_count": 5,
   "metadata": {},
   "outputs": [
    {
     "data": {
      "text/plain": [
       "'job_refer_comp_job_detail2.asp?p_id=4761883_97179430&job_id=20171005092013_42164'"
      ]
     },
     "execution_count": 5,
     "metadata": {},
     "output_type": "execute_result"
    }
   ],
   "source": [
    "soup.select('a.jobname')[0]['href']"
   ]
  },
  {
   "cell_type": "code",
   "execution_count": 7,
   "metadata": {
    "scrolled": true
   },
   "outputs": [
    {
     "ename": "SyntaxError",
     "evalue": "invalid syntax (<ipython-input-7-67dd79cfad68>, line 1)",
     "output_type": "error",
     "traceback": [
      "\u001b[0;36m  File \u001b[0;32m\"<ipython-input-7-67dd79cfad68>\"\u001b[0;36m, line \u001b[0;32m1\u001b[0m\n\u001b[0;31m    links for [link['href'] in soup.select('a.jobname')]\u001b[0m\n\u001b[0m            ^\u001b[0m\n\u001b[0;31mSyntaxError\u001b[0m\u001b[0;31m:\u001b[0m invalid syntax\n"
     ]
    }
   ],
   "source": [
    "links for [link['href'] in soup.select('a.jobname')]"
   ]
  },
  {
   "cell_type": "code",
   "execution_count": 9,
   "metadata": {
    "scrolled": true
   },
   "outputs": [
    {
     "name": "stdout",
     "output_type": "stream",
     "text": [
      "job_refer_comp_job_detail2.asp?p_id=4761883_97179430&job_id=20171005092013_42164\n",
      "job_refer_comp_job_detail2.asp?p_id=4761883_97179430&job_id=20170309095743_1536526\n",
      "job_refer_comp_job_detail2.asp?p_id=4761883_97179430&job_id=20170406093856_5123821\n",
      "job_refer_comp_job_detail2.asp?p_id=4761883_97179430&job_id=20170406093857_8705495\n",
      "job_refer_comp_job_detail2.asp?p_id=4761883_97179430&job_id=20170810095318_4774073\n",
      "job_refer_comp_job_detail2.asp?p_id=4761883_97179430&job_id=20171116092542_6510184\n"
     ]
    },
    {
     "ename": "KeyError",
     "evalue": "'href'",
     "output_type": "error",
     "traceback": [
      "\u001b[0;31m---------------------------------------------------------------------------\u001b[0m",
      "\u001b[0;31mKeyError\u001b[0m                                  Traceback (most recent call last)",
      "\u001b[0;32m<ipython-input-9-52b2a52f9d4f>\u001b[0m in \u001b[0;36m<module>\u001b[0;34m()\u001b[0m\n\u001b[1;32m      2\u001b[0m \u001b[0;34m\u001b[0m\u001b[0m\n\u001b[1;32m      3\u001b[0m \u001b[0;32mfor\u001b[0m \u001b[0mlink\u001b[0m \u001b[0;32min\u001b[0m  \u001b[0msoup\u001b[0m\u001b[0;34m.\u001b[0m\u001b[0mselect\u001b[0m\u001b[0;34m(\u001b[0m\u001b[0;34m'a.jobname'\u001b[0m\u001b[0;34m)\u001b[0m\u001b[0;34m:\u001b[0m\u001b[0;34m\u001b[0m\u001b[0m\n\u001b[0;32m----> 4\u001b[0;31m     \u001b[0mprint\u001b[0m\u001b[0;34m(\u001b[0m\u001b[0mlink\u001b[0m\u001b[0;34m[\u001b[0m\u001b[0;34m'href'\u001b[0m\u001b[0;34m]\u001b[0m\u001b[0;34m)\u001b[0m\u001b[0;34m\u001b[0m\u001b[0m\n\u001b[0m",
      "\u001b[0;32m~/.pyenv/versions/anaconda3-5.0.1/lib/python3.6/site-packages/bs4/element.py\u001b[0m in \u001b[0;36m__getitem__\u001b[0;34m(self, key)\u001b[0m\n\u001b[1;32m   1009\u001b[0m         \"\"\"tag[key] returns the value of the 'key' attribute for the tag,\n\u001b[1;32m   1010\u001b[0m         and throws an exception if it's not there.\"\"\"\n\u001b[0;32m-> 1011\u001b[0;31m         \u001b[0;32mreturn\u001b[0m \u001b[0mself\u001b[0m\u001b[0;34m.\u001b[0m\u001b[0mattrs\u001b[0m\u001b[0;34m[\u001b[0m\u001b[0mkey\u001b[0m\u001b[0;34m]\u001b[0m\u001b[0;34m\u001b[0m\u001b[0m\n\u001b[0m\u001b[1;32m   1012\u001b[0m \u001b[0;34m\u001b[0m\u001b[0m\n\u001b[1;32m   1013\u001b[0m     \u001b[0;32mdef\u001b[0m \u001b[0m__iter__\u001b[0m\u001b[0;34m(\u001b[0m\u001b[0mself\u001b[0m\u001b[0;34m)\u001b[0m\u001b[0;34m:\u001b[0m\u001b[0;34m\u001b[0m\u001b[0m\n",
      "\u001b[0;31mKeyError\u001b[0m: 'href'"
     ]
    }
   ],
   "source": [
    "# 拆解for loop找錯誤原因，發現到keyError，原因是因為中間夾雜廣告，沒有'href'可以抓\n",
    "for link in  soup.select('a.jobname'):\n",
    "    print(link['href'])"
   ]
  },
  {
   "cell_type": "code",
   "execution_count": 1,
   "metadata": {
    "scrolled": false
   },
   "outputs": [
    {
     "ename": "NameError",
     "evalue": "name 'soup' is not defined",
     "output_type": "error",
     "traceback": [
      "\u001b[0;31m---------------------------------------------------------------------------\u001b[0m",
      "\u001b[0;31mNameError\u001b[0m                                 Traceback (most recent call last)",
      "\u001b[0;32m<ipython-input-1-9a3327a4a861>\u001b[0m in \u001b[0;36m<module>\u001b[0;34m()\u001b[0m\n\u001b[0;32m----> 1\u001b[0;31m \u001b[0;32mfor\u001b[0m \u001b[0mlink\u001b[0m \u001b[0;32min\u001b[0m  \u001b[0msoup\u001b[0m\u001b[0;34m.\u001b[0m\u001b[0mselect\u001b[0m\u001b[0;34m(\u001b[0m\u001b[0;34m'a.jobname'\u001b[0m\u001b[0;34m)\u001b[0m\u001b[0;34m:\u001b[0m\u001b[0;34m\u001b[0m\u001b[0m\n\u001b[0m\u001b[1;32m      2\u001b[0m     \u001b[0;32mtry\u001b[0m\u001b[0;34m:\u001b[0m\u001b[0;34m\u001b[0m\u001b[0m\n\u001b[1;32m      3\u001b[0m         \u001b[0mprint\u001b[0m\u001b[0;34m(\u001b[0m\u001b[0mlink\u001b[0m\u001b[0;34m[\u001b[0m\u001b[0;34m'href'\u001b[0m\u001b[0;34m]\u001b[0m\u001b[0;34m)\u001b[0m\u001b[0;34m\u001b[0m\u001b[0m\n\u001b[1;32m      4\u001b[0m     \u001b[0;32mexcept\u001b[0m \u001b[0mKeyError\u001b[0m\u001b[0;34m:\u001b[0m\u001b[0;34m\u001b[0m\u001b[0m\n\u001b[1;32m      5\u001b[0m         \u001b[0;32mcontinue\u001b[0m\u001b[0;34m\u001b[0m\u001b[0m\n",
      "\u001b[0;31mNameError\u001b[0m: name 'soup' is not defined"
     ]
    }
   ],
   "source": [
    "for link in  soup.select('a.jobname'):\n",
    "    try:\n",
    "        print(link['href'])\n",
    "    except KeyError:\n",
    "        continue"
   ]
  },
  {
   "cell_type": "code",
   "execution_count": 20,
   "metadata": {},
   "outputs": [
    {
     "data": {
      "text/plain": [
       "'job_refer_comp_job_detail2.asp?p_id=4761883_97179430&job_id=20170309095743_1536526'"
      ]
     },
     "execution_count": 20,
     "metadata": {},
     "output_type": "execute_result"
    }
   ],
   "source": [
    "links = []\n",
    "for link in  soup.select('a.jobname'):\n",
    "    try:\n",
    "        links.append(link['href'])\n",
    "    except KeyError:\n",
    "        continue\n",
    "links[1]"
   ]
  },
  {
   "cell_type": "code",
   "execution_count": 26,
   "metadata": {},
   "outputs": [
    {
     "data": {
      "text/plain": [
       "['4761883_97179430']"
      ]
     },
     "execution_count": 26,
     "metadata": {},
     "output_type": "execute_result"
    }
   ],
   "source": [
    "import re\n",
    "\n",
    "p_id = re.findall('p_id=(\\d+)&', links[1])\n",
    "p_id"
   ]
  },
  {
   "cell_type": "code",
   "execution_count": 27,
   "metadata": {},
   "outputs": [
    {
     "data": {
      "text/plain": [
       "['20170309095743']"
      ]
     },
     "execution_count": 27,
     "metadata": {},
     "output_type": "execute_result"
    }
   ],
   "source": [
    "job_id = re.findall('job_id=(\\d+)', links[1])\n",
    "job_id"
   ]
  },
  {
   "cell_type": "markdown",
   "metadata": {
    "collapsed": true
   },
   "source": [
    "# 所以說，將所有p_id & job_id的list儲存起來即可"
   ]
  },
  {
   "cell_type": "code",
   "execution_count": 8,
   "metadata": {},
   "outputs": [],
   "source": [
    "import requests\n",
    "import json\n",
    "from bs4 import BeautifulSoup\n",
    "\n",
    "url = \"https://www.yes123.com.tw/admin/job_refer_list.asp\"\n",
    "data = json.loads(r'''{\n",
    "    \"find_key1\": \"java\",\n",
    "    \"search_work\": \"職務\",\n",
    "    \"search_multi_loc\": \"地區\",\n",
    "    \"find_key2\": \"\",\n",
    "    \"search_multi_loc2\": \"請選擇地區\",\n",
    "    \"search_work2\": \"請選擇職務\",\n",
    "    \"search_job2\": \"請選擇行業\",\n",
    "    \"find_key3\": \"\",\n",
    "    \"search_multi_loc3\": \"請選擇地區\",\n",
    "    \"search_work3\": \"請選擇職務\",\n",
    "    \"search_subj\": \"請選擇你的科系\",\n",
    "    \"search_work4\": \"\",\n",
    "    \"search_multi_loc4\": \"請選擇地區\",\n",
    "    \"search_multi_loc5\": \"請選擇地區\",\n",
    "    \"search_work6\": \"\",\n",
    "    \"search_work7\": \"\",\n",
    "    \"search_multi_loc6\": \"\",\n",
    "    \"search_work8\": \"\",\n",
    "    \"search_multi_loc7\": \"\",\n",
    "    \"search_work9\": \"請選擇職務\",\n",
    "    \"find_sf_subj_mode1\": \"\",\n",
    "    \"s_find_sf_subj_mode1\": \"\",\n",
    "    \"find_se_work_mode1\": \"\",\n",
    "    \"s_find_se_work_mode1\": \"\",\n",
    "    \"find_ss_work_mode1\": \"\",\n",
    "    \"s_find_ss_work_mode1\": \"\",\n",
    "    \"find_us_map_mode1\": \"\",\n",
    "    \"find_us_map_mode2\": \"\",\n",
    "    \"find_us_map_mode3\": \"\",\n",
    "    \"find_us_map_mode4\": \"\",\n",
    "    \"search_key_word\": \"java\",\n",
    "    \"search_type\": \"job\",\n",
    "    \"us_menu\": \"\",\n",
    "    \"search_item\": \"1\",\n",
    "    \"search_from\": \"index\"\n",
    "}''')\n",
    "headers = json.loads(r'''{\n",
    "    \"Accept\": \"text/html,application/xhtml+xml,application/xml;q=0.9,image/webp,image/apng,*/*;q=0.8\",\n",
    "    \"Accept-Encoding\": \"gzip, deflate, br\",\n",
    "    \"Accept-Language\": \"en-US,en;q=0.9\",\n",
    "    \"Cache-Control\": \"max-age=0\",\n",
    "    \"Connection\": \"keep-alive\",\n",
    "    \"Content-Length\": \"6078\",\n",
    "    \"Content-Type\": \"application/x-www-form-urlencoded\",\n",
    "    \"Cookie\": \"_sh_c_1=search_type%3Ajob%7Csearch_item%3A1%7Csearch_key_word%3Ajava%7C_mu_ckb_21%3Acheckbox%7C_mu_ckb_22%3Acheckbox%7C_mu_ckb_23%3Acheckbox%7C_mu_ckb_24%3Acheckbox%7C_mu_ckb_25%3Acheckbox; _sh_c_2=search_type%3Ajob%7Csearch_item%3A1%7Csearch_key_word%3Ajava%7C_mu_ckb_21%3Acheckbox%7C_mu_ckb_22%3Acheckbox%7C_mu_ckb_23%3Acheckbox%7C_mu_ckb_24%3Acheckbox%7C_mu_ckb_25%3Acheckbox; _sh_c_3=search_type%3Ajob%7Csearch_item%3A1%7Csearch_key_word%3Ajava%7C_mu_ckb_21%3Acheckbox%7C_mu_ckb_22%3Acheckbox%7C_mu_ckb_23%3Acheckbox%7C_mu_ckb_24%3Acheckbox%7C_mu_ckb_25%3Acheckbox; _sh_c_4=search_type%3Ajob%7Csearch_item%3A1%7Csearch_key_word%3Ajava%7C_mu_ckb_21%3Acheckbox%7C_mu_ckb_22%3Acheckbox%7C_mu_ckb_23%3Acheckbox%7C_mu_ckb_24%3Acheckbox%7C_mu_ckb_25%3Acheckbox; _sh_c_5=search_type%3Ajob%7Csearch_item%3A1%7Csearch_key_word%3Ajava%7C_mu_ckb_21%3Acheckbox%7C_mu_ckb_22%3Acheckbox%7C_mu_ckb_23%3Acheckbox%7C_mu_ckb_24%3Acheckbox%7C_mu_ckb_25%3Acheckbox; __auc=9b3990ed160de388f0fbe417dbf; _ga=GA1.3.2064806402.1515556737; _gid=GA1.3.818539509.1516792749; ASPSESSIONIDQQDDBSSB=OKBDCJMAIBPNBCDPEFCOEPBO; ClientIP=61.231.154.120; __asc=250a8ca81612d2740f80e7a5edd; yes123_make_cookie=d24146109896c1e633d3337a1d7b942c; ASPSESSIONIDCABQQRST=AKLFGJDAOIIIHOKAMPMOKLMB; ASPSESSIONIDSSBCATSB=IHLBEFOADKJBOHEBBEJEHIFN; citrix_ns_id=PnNogiQiFA1dct7k19GAtJPh1eIA000; ASP.NET_SessionId=240393075; StepCookie_id=240393075; _gat_UA-4824195-2=1; step=10\",\n",
    "    \"Host\": \"www.yes123.com.tw\",\n",
    "    \"Origin\": \"https://www.yes123.com.tw\",\n",
    "    \"Referer\": \"https://www.yes123.com.tw/admin/index.asp\",\n",
    "    \"Upgrade-Insecure-Requests\": \"1\",\n",
    "    \"User-Agent\": \"Mozilla/5.0 (X11; Linux x86_64) AppleWebKit/537.36 (KHTML, like Gecko) Chrome/63.0.3239.132 Safari/537.36\"\n",
    "}''')\n",
    "\n",
    "links = []\n",
    "\n",
    "for strrec in range(20,101,20):\n",
    "    resp = requests.post(url, data=data, headers=headers)\n",
    "    resp.encoding = 'utf-8'\n",
    "    data['strrec'] = strrec\n",
    "    job_html = resp.text\n",
    "    soup = BeautifulSoup(job_html, 'lxml')\n",
    "    for link in  soup.select('a.jobname'):\n",
    "        try:\n",
    "            links.append(link['href'])\n",
    "        except KeyError:\n",
    "            continue"
   ]
  },
  {
   "cell_type": "code",
   "execution_count": 11,
   "metadata": {},
   "outputs": [
    {
     "data": {
      "text/plain": [
       "96"
      ]
     },
     "execution_count": 11,
     "metadata": {},
     "output_type": "execute_result"
    }
   ],
   "source": [
    "len(links)"
   ]
  }
 ],
 "metadata": {
  "kernelspec": {
   "display_name": "Python 3",
   "language": "python",
   "name": "python3"
  },
  "language_info": {
   "codemirror_mode": {
    "name": "ipython",
    "version": 3
   },
   "file_extension": ".py",
   "mimetype": "text/x-python",
   "name": "python",
   "nbconvert_exporter": "python",
   "pygments_lexer": "ipython3",
   "version": "3.6.3"
  }
 },
 "nbformat": 4,
 "nbformat_minor": 2
}
