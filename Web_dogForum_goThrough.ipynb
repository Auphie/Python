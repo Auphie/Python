{
 "cells": [
  {
   "cell_type": "code",
   "execution_count": 1,
   "metadata": {},
   "outputs": [],
   "source": [
    "import requests\n",
    "import json\n",
    "import re\n",
    "from bs4 import BeautifulSoup\n",
    "\n",
    "custom_headers = json.loads(r'''{\n",
    "\"Cookie\":\"trctestcookie=ok; bb_sessionhash=b94e3be6625814799942c9b1b1531485; bb_lastvisit=1517315818; bb_lastactivity=0; __utma=35414334.739693991.1517315820.1517315820.1517315820.1; __utmc=35414334; __utmz=35414334.1517315820.1.1.utmcsr=(direct)|utmccn=(direct)|utmcmd=(none); __utmt=1; __gads=ID=25c408c519cdba54:T=1517315820:S=ALNI_MY0NqJY1t862NnxeIexu648Tu-jhQ; bb_forum_view=723e91efa9356f6ee94f01eba06127c2ac4c9a19a-1-%7Bi-3_i-1517315862_%7D; trc_cookie_storage=taboola%2520global%253Auser-id%3D9fb09c65-d038-47cc-aca3-9186c0df7852-tuct1686a87; __utmb=35414334.80.4.1517316250219\",\n",
    "\"Host\":\"www.dogforums.com\",\n",
    "\"Pragma\":\"no-cache\",\n",
    "\"Referer\":\"http://www.dogforums.com/\",\n",
    "\"Upgrade-Insecure-Requests\":\"1\",\n",
    "\"User-Agent\":\"Mozilla/5.0 (X11; Linux x86_64) AppleWebKit/537.36 (KHTML, like Gecko) Chrome/64.0.3282.119 Safari/537.36\"\n",
    "}''')"
   ]
  },
  {
   "cell_type": "code",
   "execution_count": 16,
   "metadata": {},
   "outputs": [],
   "source": [
    "profile = {}"
   ]
  },
  {
   "cell_type": "code",
   "execution_count": 45,
   "metadata": {},
   "outputs": [
    {
     "data": {
      "text/plain": [
       "'2704'"
      ]
     },
     "execution_count": 45,
     "metadata": {},
     "output_type": "execute_result"
    }
   ],
   "source": [
    "def get_tt_pages():\n",
    "    url = 'http://www.dogforums.com/members/list/'\n",
    "    resp = requests.get(url, headers=custom_headers)\n",
    "    resp.encoding = 'utf-8'\n",
    "    last = re.findall(\"Page 1 of (\\d*)\", resp.text)[0]\n",
    "    return last"
   ]
  },
  {
   "cell_type": "code",
   "execution_count": 46,
   "metadata": {},
   "outputs": [],
   "source": [
    "def get_member_list(num):\n",
    "    url = 'http://www.dogforums.com/members/list/index{}.html'\n",
    "    resp = requests.get(url.format(num), headers=custom_headers)\n",
    "    resp.encoding = 'utf-8'\n",
    "\n",
    "    hrefs = [href for href in re.findall(\"\"\"<a href=\"(.*)\" class=\"username\">\"\"\", resp.text)]\n",
    "    return hrefs"
   ]
  },
  {
   "cell_type": "code",
   "execution_count": 47,
   "metadata": {},
   "outputs": [],
   "source": [
    "def get_member_detl(url):\n",
    "    resp = requests.get(url, headers=custom_headers)\n",
    "    resp.encoding = 'utf-8'\n",
    "    soup = BeautifulSoup(resp.text, 'html5lib')\n",
    "\n",
    "    def get_signiture():\n",
    "        if 'Signature' in soup.text.split():\n",
    "            signature = soup.select('div.subsection')[1].text.strip()\n",
    "        else:\n",
    "            signature = \"\"\n",
    "        return signature\n",
    "    \n",
    "    data = {}\n",
    "    data['member_name'] = soup.select_one('span.subsectiontitle').text.replace('About ','')\n",
    "    data['url'] = url\n",
    "    data['signiture'] = get_signiture()\n",
    "    for i in range(0,20):\n",
    "        try:\n",
    "            key = soup.select('dl.stats')[i].select_one('dt').text\n",
    "            value = soup.select('dl.stats')[i].select_one('dd').text\n",
    "            data[key] = value\n",
    "        except IndexError:\n",
    "            break\n",
    "            \n",
    "    return data"
   ]
  },
  {
   "cell_type": "code",
   "execution_count": 48,
   "metadata": {},
   "outputs": [
    {
     "name": "stdout",
     "output_type": "stream",
     "text": [
      "{'member_name': '! ! Asterix2', 'url': 'http://www.dogforums.com/members/-asterix2.html', 'signiture': '', 'Join Date': ' 04-05-2013', 'Last Activity': ' 11-16-2014 10:07 AM', 'This Page': ' http://www.dogforums.com/members/-asterix2.html', 'Total Posts': ' 0', 'Posts Per Day': ' 0', 'Referrals': ' 0'}\n",
      "{'member_name': '! aashingtonruby', 'url': 'http://www.dogforums.com/members/-aashingtonruby.html', 'signiture': '', 'Join Date': ' 12-15-2011', 'Last Activity': ' 12-26-2011 08:44 AM', 'Total Posts': ' 0', 'Posts Per Day': ' 0', 'Total Messages': ' 2', 'Most Recent Message': ' 12-25-2012 09:42 AM', 'Referrals': ' 0'}\n",
      "{'member_name': '! acollinadane', 'url': 'http://www.dogforums.com/members/-acollinadane.html', 'signiture': '', 'Join Date': ' 01-12-2012', 'Last Activity': ' 01-24-2012 09:29 AM', 'Total Posts': ' 0', 'Posts Per Day': ' 0', 'Total Messages': ' 3', 'Most Recent Message': ' 12-25-2012 07:00 PM', 'Referrals': ' 0'}\n",
      "{'member_name': '! ahersonder', 'url': 'http://www.dogforums.com/members/-ahersonder.html', 'signiture': '', 'Join Date': ' 02-20-2012', 'Last Activity': ' 03-26-2012 10:12 AM', 'Total Posts': ' 0', 'Posts Per Day': ' 0', 'Total Messages': ' 1', 'Most Recent Message': ' 05-23-2012 02:43 AM', 'Referrals': ' 0'}\n",
      "{'member_name': '! asteralicses', 'url': 'http://www.dogforums.com/members/-asteralicses.html', 'signiture': '', 'Join Date': ' 01-23-2012', 'Last Activity': ' 02-13-2012 06:35 PM', 'Total Posts': ' 0', 'Posts Per Day': ' 0', 'Referrals': ' 0'}\n",
      "{'member_name': '!BOO!', 'url': 'http://www.dogforums.com/members/-boo-.html', 'signiture': '', 'Join Date': ' 07-09-2007', 'Last Activity': ' 04-15-2009 01:40 PM', 'Total Posts': ' 2', 'Posts Per Day': ' 0.00', 'Total Messages': ' 6', 'Most Recent Message': ' 06-30-2013 09:24 PM', 'Referrals': ' 2'}\n",
      "{'member_name': '!dogbreeds', 'url': 'http://www.dogforums.com/members/-dogbreeds.html', 'signiture': 'Read about signature rules and limits\\nThis is a spam-free site', 'Join Date': ' 02-05-2010', 'Last Activity': ' 02-21-2010 10:24 AM', 'This Page': ' http://www.dogforums.com/members/-dogbreeds.html', 'Total Posts': ' 70', 'Posts Per Day': ' 0.02', 'Total Messages': ' 5', 'Most Recent Message': ' 06-08-2013 09:10 PM', 'Referrals': ' 0'}\n",
      "{'member_name': '!~DoGs~!', 'url': 'http://www.dogforums.com/members/-dogs-.html', 'signiture': '', 'Join Date': ' 01-30-2011', 'Last Activity': ' 01-30-2011 07:30 PM', 'Total Posts': ' 0', 'Posts Per Day': ' 0', 'Referrals': ' 0'}\n",
      "{'member_name': '#117', 'url': 'http://www.dogforums.com/members/-117.html', 'signiture': '', 'Join Date': ' 05-07-2012', 'Last Activity': ' 05-07-2012 02:45 AM', 'Total Posts': ' 0', 'Posts Per Day': ' 0', 'Total Messages': ' 4', 'Most Recent Message': ' 08-05-2013 09:45 PM', 'Referrals': ' 0'}\n",
      "{'member_name': '#1carrera', 'url': 'http://www.dogforums.com/members/-1carrera.html', 'signiture': '', 'Join Date': ' 04-12-2011', 'Last Activity': ' 04-12-2011 09:32 AM', 'Location': 'USA', 'Interests': 'in technology', 'Occupation': 'Student', 'This Page': ' http://www.dogforums.com/members/-1carrera.html', 'Total Posts': ' 0', 'Posts Per Day': ' 0', 'Total Messages': ' 1', 'Most Recent Message': ' 06-08-2013 09:14 PM', 'Referrals': ' 0'}\n",
      "{'member_name': '#1doggy', 'url': 'http://www.dogforums.com/members/-1doggy.html', 'signiture': '', 'Join Date': ' 04-01-2007', 'Last Activity': ' 04-01-2007 12:26 AM', 'Total Posts': ' 0', 'Posts Per Day': ' 0', 'Referrals': ' 1'}\n",
      "{'member_name': '#1gurl', 'url': 'http://www.dogforums.com/members/-1gurl.html', 'signiture': '', 'Join Date': ' 09-17-2007', 'Last Activity': ' 09-17-2007 06:29 PM', 'Total Posts': ' 0', 'Posts Per Day': ' 0', 'Referrals': ' 0'}\n",
      "{'member_name': '#1PetOwner', 'url': 'http://www.dogforums.com/members/-1petowner.html', 'signiture': '', 'Join Date': ' 01-15-2010', 'Last Activity': ' 01-15-2010 02:58 PM', 'Total Posts': ' 2', 'Posts Per Day': ' 0.00', 'Total Messages': ' 3', 'Most Recent Message': ' 06-08-2013 09:18 PM', 'Referrals': ' 0'}\n",
      "{'member_name': '#4 pet owner', 'url': 'http://www.dogforums.com/members/-4-pet-owner.html', 'signiture': '', 'Join Date': ' 08-03-2008', 'Last Activity': ' 09-04-2008 06:34 AM', 'Total Posts': ' 3', 'Posts Per Day': ' 0.00', 'Total Messages': ' 2', 'Most Recent Message': ' 06-08-2013 09:18 PM', 'Referrals': ' 0'}\n",
      "{'member_name': '#doglover', 'url': 'http://www.dogforums.com/members/-doglover.html', 'signiture': '', 'Join Date': ' 03-01-2014', 'Last Activity': ' 03-11-2014 11:43 AM', 'Total Posts': ' 2', 'Posts Per Day': ' 0.00', 'Referrals': ' 0'}\n",
      "{'member_name': '#LabLover', 'url': 'http://www.dogforums.com/members/-lablover.html', 'signiture': '', 'Join Date': ' 11-21-2014', 'Last Activity': ' 11-21-2014 02:09 PM', 'Total Posts': ' 2', 'Posts Per Day': ' 0.00', 'Referrals': ' 0'}\n",
      "{'member_name': '$D.D$', 'url': 'http://www.dogforums.com/members/-d-d-.html', 'signiture': '', 'Join Date': ' 04-12-2008', 'Last Activity': ' 04-12-2008 01:32 PM', 'Total Posts': ' 0', 'Posts Per Day': ' 0', 'Total Messages': ' 1', 'Most Recent Message': ' 12-31-2012 02:17 PM', 'Referrals': ' 0'}\n",
      "{'member_name': '$Salunlawl', 'url': 'http://www.dogforums.com/members/-salunlawl.html', 'signiture': '', 'Join Date': ' 06-12-2010', 'Last Activity': ' 06-12-2010 04:56 AM', 'Total Posts': ' 0', 'Posts Per Day': ' 0', 'Total Messages': ' 2', 'Most Recent Message': ' 06-12-2013 12:25 PM', 'Referrals': ' 0'}\n",
      "{'member_name': '❤luvmy6ratties❤', 'url': 'http://www.dogforums.com/members/-luvmy6ratties-.html', 'signiture': '', 'Join Date': ' 10-03-2013', 'Last Activity': ' 10-03-2013 12:28 PM', 'Total Posts': ' 0', 'Posts Per Day': ' 0', 'Referrals': ' 0'}\n",
      "{'member_name': 'Čerkez5', 'url': 'http://www.dogforums.com/members/-erkez5.html', 'signiture': '', 'Join Date': ' 06-03-2014', 'Last Activity': ' 06-03-2014 02:37 AM', 'Total Posts': ' 0', 'Posts Per Day': ' 0', 'Referrals': ' 0'}\n",
      "{'member_name': 'ภ๏єl', 'url': 'http://www.dogforums.com/members/-l.html', 'signiture': '', 'Join Date': ' 12-23-2010', 'Last Activity': ' 12-23-2010 08:37 PM', 'Date of Birth': ' January 7 ', 'Total Posts': ' 0', 'Posts Per Day': ' 0', 'Total Messages': ' 4', 'Most Recent Message': ' 06-14-2013 10:03 AM', 'Referrals': ' 0'}\n",
      "{'member_name': '˚Alta˚', 'url': 'http://www.dogforums.com/members/-alta-.html', 'signiture': '', 'Join Date': ' 10-11-2011', 'Last Activity': ' 04-28-2013 12:44 PM', 'Total Posts': ' 9', 'Posts Per Day': ' 0.00', 'Total Messages': ' 2', 'Most Recent Message': ' 06-16-2013 09:06 AM', 'Referrals': ' 0'}\n",
      "{'member_name': '♥ Lilian-Canine ♥', 'url': 'http://www.dogforums.com/members/-lilian-canine-.html', 'signiture': \"Did you ever notice when you blow in a dog's face he gets mad at you? But when you take him in a car he sticks his head out the window!\", 'Join Date': ' 03-10-2009', 'Last Activity': ' 03-17-2009 09:10 AM', 'Avatar': '', 'Age': '29', 'Biography': 'My name is Lilian Jones and i live in the UK with my husband and dog!', 'Location': 'UK, dovercourt.', 'Interests': 'Animals, reading, writing, piano Etc...', 'Occupation': 'Unemployed, i leave the working to my hubby (poor guy)', 'Total Posts': ' 5', 'Posts Per Day': ' 0.00', 'Total Messages': ' 3', 'Most Recent Message': ' 06-19-2013 04:38 AM', 'Referrals': ' 0'}\n",
      "{'member_name': '♥Forest♥', 'url': 'http://www.dogforums.com/members/-forest-.html', 'signiture': \"I'd Die without My Dogs\", 'Join Date': ' 06-14-2007', 'Last Activity': ' 11-13-2007 10:01 PM', 'Avatar': '', 'Total Posts': ' 82', 'Posts Per Day': ' 0.02', 'Total Messages': ' 3', 'Most Recent Message': ' 08-20-2012 10:36 PM', 'Referrals': ' 0'}\n",
      "{'member_name': '♥Scout(:', 'url': 'http://www.dogforums.com/members/-scout-.html', 'signiture': '', 'Join Date': ' 01-06-2012', 'Last Activity': ' 01-06-2012 12:28 AM', 'Total Posts': ' 0', 'Posts Per Day': ' 0', 'Total Messages': ' 1', 'Most Recent Message': ' 12-25-2012 04:36 PM', 'Referrals': ' 0'}\n",
      "{'member_name': '♥tzudelight♥', 'url': 'http://www.dogforums.com/members/-tzudelight-.html', 'signiture': '', 'Join Date': ' 01-14-2011', 'Last Activity': ' 02-02-2012 10:52 AM', 'Name': 'Bonnie', 'Location': 'MS', 'Interests': 'love taking pics of all my babies! ♥', 'Total Posts': ' 1', 'Posts Per Day': ' 0.00', 'Referrals': ' 0'}\n"
     ]
    }
   ],
   "source": [
    "for num in range(1,2):\n",
    "    for url in get_member_list(num):\n",
    "        try:\n",
    "            profile = get_member_detl(url)\n",
    "            print(profile)\n",
    "        except AttributeError:\n",
    "            continue"
   ]
  }
 ],
 "metadata": {
  "kernelspec": {
   "display_name": "Python 3",
   "language": "python",
   "name": "python3"
  },
  "language_info": {
   "codemirror_mode": {
    "name": "ipython",
    "version": 3
   },
   "file_extension": ".py",
   "mimetype": "text/x-python",
   "name": "python",
   "nbconvert_exporter": "python",
   "pygments_lexer": "ipython3",
   "version": "3.6.4"
  }
 },
 "nbformat": 4,
 "nbformat_minor": 2
}
