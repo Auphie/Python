{
 "cells": [
  {
   "cell_type": "markdown",
   "metadata": {},
   "source": [
    "# 爬蟲1：爬PTT"
   ]
  },
  {
   "cell_type": "code",
   "execution_count": 1,
   "metadata": {},
   "outputs": [],
   "source": [
    "import requests"
   ]
  },
  {
   "cell_type": "code",
   "execution_count": 2,
   "metadata": {},
   "outputs": [],
   "source": [
    "# PTT home_sale的目錄頁面\n",
    "URL = \"https://www.ptt.cc/bbs/home-sale/index{}.html\""
   ]
  },
  {
   "cell_type": "code",
   "execution_count": 3,
   "metadata": {},
   "outputs": [],
   "source": [
    "# 3788是指查詢當時PTT的最後一頁的數字\n",
    "resp = requests.get(URL.format(3788))"
   ]
  },
  {
   "cell_type": "code",
   "execution_count": 4,
   "metadata": {},
   "outputs": [
    {
     "data": {
      "text/plain": [
       "{'Date': 'Tue, 09 Jan 2018 07:46:01 GMT', 'Content-Type': 'text/html; charset=utf-8', 'Transfer-Encoding': 'chunked', 'Connection': 'keep-alive', 'Set-Cookie': '__cfduid=dd51d1b68d0cafa04e780ff0745d264721515483961; expires=Wed, 09-Jan-19 07:46:01 GMT; path=/; domain=.ptt.cc; HttpOnly', 'Alternate-Protocol': '443:npn-spdy/3', 'Strict-Transport-Security': 'max-age=0', 'X-Content-Type-Options': 'nosniff', 'Server': 'cloudflare', 'CF-RAY': '3da5c7c8ab865414-LAX', 'Content-Encoding': 'gzip'}"
      ]
     },
     "execution_count": 4,
     "metadata": {},
     "output_type": "execute_result"
    }
   ],
   "source": [
    "# 列出index3788.html的表頭\n",
    "resp.headers"
   ]
  },
  {
   "cell_type": "code",
   "execution_count": 5,
   "metadata": {},
   "outputs": [
    {
     "data": {
      "text/plain": [
       "'<!DOCTYPE html>\\n<html>\\n\\t<head>\\n\\t\\t<meta charset=\"utf-8\">\\n\\t\\t\\n\\n<meta name=\"viewport\" content=\"width=device-width, initial-scale=1\">\\n\\n<title>看板 home-sale 文章列表 - 批踢踢實業坊</title>\\n\\n<link rel=\"stylesheet\" type'"
      ]
     },
     "execution_count": 5,
     "metadata": {},
     "output_type": "execute_result"
    }
   ],
   "source": [
    "# 列出該頁的content， 若沒有用utf-8的話會顯示成ascii code\n",
    "resp.content.decode('utf-8')[:200]"
   ]
  },
  {
   "cell_type": "code",
   "execution_count": 6,
   "metadata": {},
   "outputs": [],
   "source": [
    "!mkdir -p /tmp/ptt_data/home_sale/"
   ]
  },
  {
   "cell_type": "markdown",
   "metadata": {},
   "source": [
    "# 根據對象網站HTTP 的方法決定抓取方式，像是 get, post ...\n",
    "\n",
    "requests.get(): get(url,**kwargs)。 全頁面抓取則不設定參數，若只抓header則參數寫：headers=headers、 有許多參數可設定"
   ]
  },
  {
   "cell_type": "markdown",
   "metadata": {},
   "source": [
    "# with open（檔案存放or讀寫位置,'w' or 'r'） as f: 的使用方式"
   ]
  },
  {
   "cell_type": "code",
   "execution_count": 7,
   "metadata": {
    "scrolled": true
   },
   "outputs": [
    {
     "name": "stdout",
     "output_type": "stream",
     "text": [
      "3788\n",
      "3787\n",
      "3786\n",
      "3785\n",
      "3784\n"
     ]
    }
   ],
   "source": [
    "LAST_PAGE = 3788\n",
    "PAGE = 5\n",
    "DATA_DIR = '/tmp/ptt_data/home_sale/'\n",
    "\n",
    "# page_no最多可抓0 ~ 3782筆，利用for迴圈來存放預存的筆數\n",
    "for page_no in range(LAST_PAGE, LAST_PAGE - PAGE, -1):\n",
    "    print(page_no)\n",
    "\n",
    "# URL = \"https://www.ptt.cc/bbs/home-sale/index{}.html\"\n",
    "# 因為有多筆網頁， 所以創立resp變數來存放多筆網頁url\n",
    "    resp = requests.get(URL.format(page_no))\n",
    "    \n",
    "# 把爬下來的HTML文字檔儲存到資料夾，先指定檔案存放位置及檔案名稱\n",
    "    with open(DATA_DIR + 'index{}.html'.format(page_no), 'w') as f:\n",
    "# 將resp的內文（.text）寫入\n",
    "        f.write(resp.text)"
   ]
  },
  {
   "cell_type": "markdown",
   "metadata": {},
   "source": [
    "# 要注意此時的resp.text只存留最後一筆（3778）的內文資料！！！"
   ]
  },
  {
   "cell_type": "code",
   "execution_count": 8,
   "metadata": {},
   "outputs": [
    {
     "name": "stdout",
     "output_type": "stream",
     "text": [
      "bunch\t   index3784.html  index3786.html  index3788.html\r\n",
      "index3784  index3785.html  index3787.html\r\n"
     ]
    }
   ],
   "source": [
    "!ls /tmp/ptt_data/home_sale"
   ]
  },
  {
   "cell_type": "markdown",
   "metadata": {},
   "source": [
    "# 目錄頁面抓完後，發現內文頁面的頁碼規則不是連號 -> import re 來使用Regular Expression"
   ]
  },
  {
   "cell_type": "code",
   "execution_count": 9,
   "metadata": {},
   "outputs": [],
   "source": [
    " # 'http://ptt.cc/bbs/LCD/M.1514102861.A.55A.html',\n",
    " # 'http://ptt.cc/bbs/LCD/M.1514175646.A.53B.html',\n",
    " # 'http://ptt.cc/bbs/LCD/M.1514183175.A.B2F.html',\n",
    " # 'http://ptt.cc/bbs/LCD/M.1514183767.A.506.html',\n",
    " # 'http://ptt.cc/bbs/LCD/M.1514203342.A.0FB.html',"
   ]
  },
  {
   "cell_type": "code",
   "execution_count": 10,
   "metadata": {},
   "outputs": [],
   "source": [
    "import re"
   ]
  },
  {
   "cell_type": "markdown",
   "metadata": {},
   "source": [
    "#  re.findall(pattern, string, flags=0)\n",
    "\n",
    "Return all non-overlapping matches of pattern in string, as a list of strings. The string is scanned left-to-right, and matches are returned in the order found. If one or more groups are present in the pattern, return a list of groups; this will be a list of tuples if the pattern has more than one group.\n",
    "\n",
    "Note: Due to the limitation of the current implementation the character following an empty match is not included in a next match, so findall(r'^|\\w+', 'two words') returns ['', 'wo', 'words'] (note missed “t”). This is changed in Python 3.7. "
   ]
  },
  {
   "cell_type": "code",
   "execution_count": 11,
   "metadata": {},
   "outputs": [
    {
     "data": {
      "text/plain": [
       "['Hello', 'hm', 'this', 'is', 'Tom', 'speaking', 'who', 'are', 'you']"
      ]
     },
     "execution_count": 11,
     "metadata": {},
     "output_type": "execute_result"
    }
   ],
   "source": [
    "# 該函數可以以列表的形式返回所有匹配模式的項：\n",
    "\n",
    "pat = '[a-zA-Z]+'\n",
    "text = 'Hello, hm...this is Tom speaking, who are you?'\n",
    "re.findall(pat, text)\n",
    "# result ['Hello', 'hm', 'this', 'is', 'Tom', 'speaking', 'who', 'are', 'you']\n"
   ]
  },
  {
   "cell_type": "code",
   "execution_count": 12,
   "metadata": {},
   "outputs": [],
   "source": [
    "URL2 = 'https://www.ptt.cc/bbs/home-sale/M.1515{}.html'"
   ]
  },
  {
   "cell_type": "markdown",
   "metadata": {},
   "source": [
    "# 先來練習單頁爬蟲\n",
    "寫一個function， 可以將標題列的url內文（resp.txt）利用re的findall找出符合該規則的所有網址找出來， 再把所有的內文網址組合成符合網址url的格式後除存到detail_page_links"
   ]
  },
  {
   "cell_type": "code",
   "execution_count": 13,
   "metadata": {},
   "outputs": [],
   "source": [
    "import re\n",
    "\n",
    "import requests\n",
    "\n",
    "def get_list_page(url):\n",
    "\n",
    "    HOST = \"https://www.ptt.cc\"\n",
    "\n",
    "    resp = requests.get(url)\n",
    "    links = re.findall('<a href=\"(/bbs/home-sale/M.+\\.html)\">.+</a>', resp.text)\n",
    "    detail_page_links = [HOST + link for link in links]\n",
    "    return detail_page_links"
   ]
  },
  {
   "cell_type": "code",
   "execution_count": 14,
   "metadata": {
    "scrolled": true
   },
   "outputs": [
    {
     "data": {
      "text/plain": [
       "['https://www.ptt.cc/bbs/home-sale/M.1515216249.A.874.html',\n",
       " 'https://www.ptt.cc/bbs/home-sale/M.1515218808.A.29B.html',\n",
       " 'https://www.ptt.cc/bbs/home-sale/M.1515220517.A.4DB.html',\n",
       " 'https://www.ptt.cc/bbs/home-sale/M.1515222349.A.303.html',\n",
       " 'https://www.ptt.cc/bbs/home-sale/M.1515222778.A.3CE.html',\n",
       " 'https://www.ptt.cc/bbs/home-sale/M.1515223481.A.E9F.html',\n",
       " 'https://www.ptt.cc/bbs/home-sale/M.1515224309.A.221.html',\n",
       " 'https://www.ptt.cc/bbs/home-sale/M.1515224893.A.FC3.html',\n",
       " 'https://www.ptt.cc/bbs/home-sale/M.1515225219.A.1A2.html',\n",
       " 'https://www.ptt.cc/bbs/home-sale/M.1515226362.A.DA5.html',\n",
       " 'https://www.ptt.cc/bbs/home-sale/M.1515232091.A.075.html',\n",
       " 'https://www.ptt.cc/bbs/home-sale/M.1515232447.A.CA3.html',\n",
       " 'https://www.ptt.cc/bbs/home-sale/M.1515234326.A.657.html',\n",
       " 'https://www.ptt.cc/bbs/home-sale/M.1515237400.A.9B9.html',\n",
       " 'https://www.ptt.cc/bbs/home-sale/M.1515238322.A.851.html',\n",
       " 'https://www.ptt.cc/bbs/home-sale/M.1515238360.A.261.html',\n",
       " 'https://www.ptt.cc/bbs/home-sale/M.1515238373.A.E0F.html',\n",
       " 'https://www.ptt.cc/bbs/home-sale/M.1515239975.A.55D.html',\n",
       " 'https://www.ptt.cc/bbs/home-sale/M.1515241606.A.A85.html',\n",
       " 'https://www.ptt.cc/bbs/home-sale/M.1515244839.A.E74.html']"
      ]
     },
     "execution_count": 14,
     "metadata": {},
     "output_type": "execute_result"
    }
   ],
   "source": [
    "# 抓取index3784.html內所有的內文網址url\n",
    "get_list_page(\"https://www.ptt.cc/bbs/home-sale/index3784.html\")"
   ]
  },
  {
   "cell_type": "code",
   "execution_count": 15,
   "metadata": {},
   "outputs": [],
   "source": [
    "# 將以上的所有網址寫入3784的資料夾內\n",
    "!mkdir -p /tmp/ptt_data/home_sale/index3784"
   ]
  },
  {
   "cell_type": "code",
   "execution_count": 16,
   "metadata": {},
   "outputs": [],
   "source": [
    "list3784 = get_list_page(\"https://www.ptt.cc/bbs/home-sale/index3784.html\")"
   ]
  },
  {
   "cell_type": "code",
   "execution_count": 17,
   "metadata": {
    "scrolled": true
   },
   "outputs": [
    {
     "name": "stdout",
     "output_type": "stream",
     "text": [
      "https://www.ptt.cc/bbs/home-sale/M.1515216249.A.874.html\n",
      "https://www.ptt.cc/bbs/home-sale/M.1515218808.A.29B.html\n",
      "https://www.ptt.cc/bbs/home-sale/M.1515220517.A.4DB.html\n",
      "https://www.ptt.cc/bbs/home-sale/M.1515222349.A.303.html\n",
      "https://www.ptt.cc/bbs/home-sale/M.1515222778.A.3CE.html\n",
      "https://www.ptt.cc/bbs/home-sale/M.1515223481.A.E9F.html\n",
      "https://www.ptt.cc/bbs/home-sale/M.1515224309.A.221.html\n",
      "https://www.ptt.cc/bbs/home-sale/M.1515224893.A.FC3.html\n",
      "https://www.ptt.cc/bbs/home-sale/M.1515225219.A.1A2.html\n",
      "https://www.ptt.cc/bbs/home-sale/M.1515226362.A.DA5.html\n",
      "https://www.ptt.cc/bbs/home-sale/M.1515232091.A.075.html\n",
      "https://www.ptt.cc/bbs/home-sale/M.1515232447.A.CA3.html\n",
      "https://www.ptt.cc/bbs/home-sale/M.1515234326.A.657.html\n",
      "https://www.ptt.cc/bbs/home-sale/M.1515237400.A.9B9.html\n",
      "https://www.ptt.cc/bbs/home-sale/M.1515238322.A.851.html\n",
      "https://www.ptt.cc/bbs/home-sale/M.1515238360.A.261.html\n",
      "https://www.ptt.cc/bbs/home-sale/M.1515238373.A.E0F.html\n",
      "https://www.ptt.cc/bbs/home-sale/M.1515239975.A.55D.html\n",
      "https://www.ptt.cc/bbs/home-sale/M.1515241606.A.A85.html\n",
      "https://www.ptt.cc/bbs/home-sale/M.1515244839.A.E74.html\n"
     ]
    }
   ],
   "source": [
    "# 將資料寫入硬碟內\n",
    "\n",
    "DATA_PATH = '/tmp/ptt_data/home_sale/index3784'\n",
    "\n",
    "def dump_page(url):\n",
    "\n",
    "    filename = \"_\".join(url.split('/')[-1].split('.')[:-1]) + '.html'\n",
    "    resp = requests.get(url)\n",
    "\n",
    "    with open(DATA_PATH + '/' + filename, 'w') as f:\n",
    "        f.write(resp.text)\n",
    "    return filename\n",
    "\n",
    "if __name__ == \"__main__\":\n",
    "    for link in list3784:\n",
    "        print(link)\n",
    "        dump_page(link)"
   ]
  },
  {
   "cell_type": "markdown",
   "metadata": {},
   "source": [
    "# 爬PTT一整個區間的文章\n",
    "這時候get_list_page（）已經不是單一目錄頁了，所以需要改成變動性的寫法"
   ]
  },
  {
   "cell_type": "code",
   "execution_count": 21,
   "metadata": {},
   "outputs": [],
   "source": [
    "# 建立新資料夾\n",
    "!mkdir -p /tmp/ptt_data/home_sale/bunch"
   ]
  },
  {
   "cell_type": "code",
   "execution_count": 9,
   "metadata": {},
   "outputs": [],
   "source": [
    "import re\n",
    "import requests\n",
    "\n",
    "# 設定存檔位置\n",
    "DATA_PATH = '/tmp/ptt_data/home_sale/bunch'\n",
    "# 設定抓取目錄頁的區間數\n",
    "CRAWL_PAGE_CNT = 5\n",
    "# 目錄頁的url格式\n",
    "URL_TEMPLATE = \"https://www.ptt.cc/bbs/home-sale/index{}.html\"\n",
    "HOST = \"https://www.ptt.cc\""
   ]
  },
  {
   "cell_type": "code",
   "execution_count": 10,
   "metadata": {},
   "outputs": [],
   "source": [
    "\"\"\"\n",
    "1. 剛進home_sale板的時候為index.html, 無法得知實際最新頁面數， 可由\"上頁\"按鈕去inspect出\"上頁\"的實際url，再+1即為最新頁面\n",
    "2. href=\"/bbs/home-sale/index3789.html\">‹ 上頁 (note:不同瀏覽器看到的結果不一樣， 所以若抓不到資料要換板測試)\n",
    "3. 『‹』的符號在python無法被搜尋到,故須改成 『&lsaquo;』 （ ‹ = &lsaquo; ）\n",
    "\"\"\"\n",
    "# 取得現在PTT home_sale板塊的總頁數\n",
    "def get_total_page_cnt():\n",
    "    url = URL_TEMPLATE.format('')\n",
    "    resp = requests.get(url)\n",
    "\n",
    "    total_page_cnt = int(re.findall('href=\"/bbs/home-sale/index(\\d+).html\">&lsaquo; 上頁', resp.text)[0]) + 1\n",
    "    return total_page_cnt"
   ]
  },
  {
   "cell_type": "code",
   "execution_count": 14,
   "metadata": {},
   "outputs": [],
   "source": [
    "# GET function，將目錄頁url丟進去後可取得內文頁的連結們\n",
    "def get_list_page(url):\n",
    "    resp = requests.get(url)\n",
    "    links = re.findall('<a href=\"(/bbs/home-sale/M.+\\.html)\">.+</a>', resp.text)\n",
    "    detail_page_links = [HOST + link for link in links]\n",
    "    return detail_page_links"
   ]
  },
  {
   "cell_type": "code",
   "execution_count": 15,
   "metadata": {},
   "outputs": [
    {
     "name": "stdout",
     "output_type": "stream",
     "text": [
      "https://www.ptt.cc/bbs/home-sale/M.1515465418.A.666.html\n",
      "https://www.ptt.cc/bbs/home-sale/M.1515466560.A.60A.html\n",
      "https://www.ptt.cc/bbs/home-sale/M.1515468997.A.8B0.html\n",
      "https://www.ptt.cc/bbs/home-sale/M.1515469034.A.F8C.html\n",
      "https://www.ptt.cc/bbs/home-sale/M.1515469880.A.14B.html\n",
      "https://www.ptt.cc/bbs/home-sale/M.1515469948.A.0DA.html\n",
      "https://www.ptt.cc/bbs/home-sale/M.1515469986.A.ADD.html\n",
      "https://www.ptt.cc/bbs/home-sale/M.1515470741.A.0BF.html\n",
      "https://www.ptt.cc/bbs/home-sale/M.1515476772.A.318.html\n",
      "https://www.ptt.cc/bbs/home-sale/M.1515478603.A.2E4.html\n",
      "https://www.ptt.cc/bbs/home-sale/M.1515483103.A.C8F.html\n",
      "https://www.ptt.cc/bbs/home-sale/M.1515485471.A.6EA.html\n",
      "https://www.ptt.cc/bbs/home-sale/M.1515487938.A.0E9.html\n",
      "https://www.ptt.cc/bbs/home-sale/M.1493615587.A.2B3.html\n",
      "https://www.ptt.cc/bbs/home-sale/M.1502285316.A.D93.html\n",
      "https://www.ptt.cc/bbs/home-sale/M.1507295887.A.D3D.html\n",
      "https://www.ptt.cc/bbs/home-sale/M.1514756397.A.FAF.html\n",
      "https://www.ptt.cc/bbs/home-sale/M.1515487938.A.0E9.html\n",
      "https://www.ptt.cc/bbs/home-sale/M.1515396427.A.225.html\n",
      "https://www.ptt.cc/bbs/home-sale/M.1515400523.A.C3C.html\n",
      "https://www.ptt.cc/bbs/home-sale/M.1515404594.A.832.html\n",
      "https://www.ptt.cc/bbs/home-sale/M.1515406277.A.665.html\n",
      "https://www.ptt.cc/bbs/home-sale/M.1515406346.A.AEA.html\n",
      "https://www.ptt.cc/bbs/home-sale/M.1515407319.A.963.html\n",
      "https://www.ptt.cc/bbs/home-sale/M.1515408770.A.9C5.html\n",
      "https://www.ptt.cc/bbs/home-sale/M.1515411317.A.B59.html\n",
      "https://www.ptt.cc/bbs/home-sale/M.1515413170.A.B40.html\n",
      "https://www.ptt.cc/bbs/home-sale/M.1515413536.A.C1C.html\n",
      "https://www.ptt.cc/bbs/home-sale/M.1515415163.A.D1C.html\n",
      "https://www.ptt.cc/bbs/home-sale/M.1515417012.A.3B5.html\n",
      "https://www.ptt.cc/bbs/home-sale/M.1515419494.A.C68.html\n",
      "https://www.ptt.cc/bbs/home-sale/M.1515419690.A.79C.html\n",
      "https://www.ptt.cc/bbs/home-sale/M.1515420256.A.932.html\n",
      "https://www.ptt.cc/bbs/home-sale/M.1515427851.A.43E.html\n",
      "https://www.ptt.cc/bbs/home-sale/M.1515437417.A.3DE.html\n",
      "https://www.ptt.cc/bbs/home-sale/M.1515447118.A.25F.html\n",
      "https://www.ptt.cc/bbs/home-sale/M.1515347120.A.EFA.html\n",
      "https://www.ptt.cc/bbs/home-sale/M.1515348728.A.30A.html\n",
      "https://www.ptt.cc/bbs/home-sale/M.1515357741.A.F4D.html\n",
      "https://www.ptt.cc/bbs/home-sale/M.1515366592.A.A67.html\n",
      "https://www.ptt.cc/bbs/home-sale/M.1515367306.A.50F.html\n",
      "https://www.ptt.cc/bbs/home-sale/M.1515374432.A.9E1.html\n",
      "https://www.ptt.cc/bbs/home-sale/M.1515375287.A.196.html\n",
      "https://www.ptt.cc/bbs/home-sale/M.1515376272.A.CFC.html\n",
      "https://www.ptt.cc/bbs/home-sale/M.1515386897.A.9D8.html\n",
      "https://www.ptt.cc/bbs/home-sale/M.1515386971.A.861.html\n",
      "https://www.ptt.cc/bbs/home-sale/M.1515387449.A.BF8.html\n",
      "https://www.ptt.cc/bbs/home-sale/M.1515387604.A.3EA.html\n",
      "https://www.ptt.cc/bbs/home-sale/M.1515390580.A.5A2.html\n",
      "https://www.ptt.cc/bbs/home-sale/M.1515393098.A.6D3.html\n",
      "https://www.ptt.cc/bbs/home-sale/M.1515394144.A.F46.html\n",
      "https://www.ptt.cc/bbs/home-sale/M.1515394347.A.D8C.html\n",
      "https://www.ptt.cc/bbs/home-sale/M.1515394943.A.763.html\n",
      "https://www.ptt.cc/bbs/home-sale/M.1515395454.A.02E.html\n",
      "https://www.ptt.cc/bbs/home-sale/M.1515316566.A.BEB.html\n",
      "https://www.ptt.cc/bbs/home-sale/M.1515319185.A.13A.html\n",
      "https://www.ptt.cc/bbs/home-sale/M.1515324058.A.E6A.html\n",
      "https://www.ptt.cc/bbs/home-sale/M.1515324072.A.D0B.html\n",
      "https://www.ptt.cc/bbs/home-sale/M.1515324884.A.B21.html\n",
      "https://www.ptt.cc/bbs/home-sale/M.1515325844.A.D0D.html\n",
      "https://www.ptt.cc/bbs/home-sale/M.1515327725.A.D37.html\n",
      "https://www.ptt.cc/bbs/home-sale/M.1515328609.A.B71.html\n",
      "https://www.ptt.cc/bbs/home-sale/M.1515330112.A.82B.html\n",
      "https://www.ptt.cc/bbs/home-sale/M.1515330647.A.AD1.html\n",
      "https://www.ptt.cc/bbs/home-sale/M.1515336175.A.A62.html\n",
      "https://www.ptt.cc/bbs/home-sale/M.1515336634.A.D9A.html\n",
      "https://www.ptt.cc/bbs/home-sale/M.1515336679.A.1A5.html\n",
      "https://www.ptt.cc/bbs/home-sale/M.1515338461.A.54A.html\n",
      "https://www.ptt.cc/bbs/home-sale/M.1515341451.A.51D.html\n",
      "https://www.ptt.cc/bbs/home-sale/M.1515341993.A.E06.html\n",
      "https://www.ptt.cc/bbs/home-sale/M.1515344796.A.2FE.html\n",
      "https://www.ptt.cc/bbs/home-sale/M.1515345526.A.999.html\n",
      "https://www.ptt.cc/bbs/home-sale/M.1515245335.A.E65.html\n",
      "https://www.ptt.cc/bbs/home-sale/M.1515248463.A.EEB.html\n",
      "https://www.ptt.cc/bbs/home-sale/M.1515248871.A.0B2.html\n",
      "https://www.ptt.cc/bbs/home-sale/M.1515250799.A.7FB.html\n",
      "https://www.ptt.cc/bbs/home-sale/M.1515251778.A.7D0.html\n",
      "https://www.ptt.cc/bbs/home-sale/M.1515251995.A.4BF.html\n",
      "https://www.ptt.cc/bbs/home-sale/M.1515257802.A.D92.html\n",
      "https://www.ptt.cc/bbs/home-sale/M.1515280676.A.5F0.html\n",
      "https://www.ptt.cc/bbs/home-sale/M.1515281743.A.D69.html\n",
      "https://www.ptt.cc/bbs/home-sale/M.1515288076.A.62A.html\n",
      "https://www.ptt.cc/bbs/home-sale/M.1515289867.A.652.html\n",
      "https://www.ptt.cc/bbs/home-sale/M.1515296795.A.A73.html\n",
      "https://www.ptt.cc/bbs/home-sale/M.1515298244.A.46C.html\n",
      "https://www.ptt.cc/bbs/home-sale/M.1515304592.A.3A5.html\n",
      "https://www.ptt.cc/bbs/home-sale/M.1515306730.A.F7A.html\n",
      "https://www.ptt.cc/bbs/home-sale/M.1515307194.A.26C.html\n",
      "https://www.ptt.cc/bbs/home-sale/M.1515308057.A.073.html\n"
     ]
    }
   ],
   "source": [
    "def dump_page(url):\n",
    "\n",
    "    filename = \"_\".join(url.split('/')[-1].split('.')[:-1]) + '.html'\n",
    "    resp = requests.get(url)\n",
    "\n",
    "    with open(DATA_PATH + '/' + filename, 'w') as f:\n",
    "        f.write(resp.text)\n",
    "    return filename\n",
    "\n",
    "if __name__ == \"__main__\":\n",
    "    total_page_cnt = get_total_page_cnt()\n",
    "\n",
    "    for pg in range(total_page_cnt, total_page_cnt - CRAWL_PAGE_CNT, -1):\n",
    "        url = URL_TEMPLATE.format(pg)\n",
    "        for link in get_list_page(url):\n",
    "            print(link)\n",
    "            dump_page(link)"
   ]
  },
  {
   "cell_type": "markdown",
   "metadata": {},
   "source": [
    "# 8掛板要求18歲以上，需要被PTT確認後才能進入\n",
    "會先在index.html頁面被要求按下\"滿18歲\"按鈕。 進入inspect模式觀察network選項，after press \"submit\" buttom, notice the action that we send that to PTT. In Over 18 page, we can see \"set-cookie:over18=1; Path=/\" in Response Headers, so we need to send request header with the info of \"set-cookie:over18=1; Path=/\""
   ]
  },
  {
   "cell_type": "code",
   "execution_count": 16,
   "metadata": {},
   "outputs": [],
   "source": [
    "import re\n",
    "\n",
    "import requests\n",
    "\n",
    "DATA_PATH = '/tmp/ptt_data/Gossip'\n",
    "CRAWL_PAGE_CNT = 3\n",
    "URL_TEMPLATE = \"https://www.ptt.cc/bbs/Gossiping/index{}.html\"\n",
    "HOST = \"https://www.ptt.cc\""
   ]
  },
  {
   "cell_type": "code",
   "execution_count": 17,
   "metadata": {},
   "outputs": [],
   "source": [
    "# 建立存放位置\n",
    "!mkdir -p /tmp/ptt_data/Gossip"
   ]
  },
  {
   "cell_type": "code",
   "execution_count": 19,
   "metadata": {},
   "outputs": [],
   "source": [
    "# 設定手動header contents\n",
    "\n",
    "def get_w_cookie(url):\n",
    "    \"\"\"GET HTTP url with custom header containing cookie info for PTT Parameters\n",
    "    url : str\n",
    "        PTT八卦版需要驗證年齡的URL，\n",
    "        如：https://www.ptt.cc/bbs/Gossiping/index31063.html\n",
    "    \"\"\"\n",
    "    custom_headers = {\n",
    "        \"cookie\": \"over18=1;\"\n",
    "    }\n",
    "    resp = requests.get(url, headers=custom_headers)\n",
    "    return resp"
   ]
  },
  {
   "cell_type": "code",
   "execution_count": 20,
   "metadata": {},
   "outputs": [],
   "source": [
    "# 取得現在ptt板塊的總頁數, 由於第一次直接進入時都會被問要按滿18歲,所以 requests.get(url, headers=custom_headers)\n",
    "\n",
    "def get_total_page_cnt():\n",
    "    url = URL_TEMPLATE.format('')\n",
    "    resp = get_w_cookie(url)\n",
    "\n",
    "    total_page_cnt = int(re.findall('href=\"/bbs/Gossiping/index(\\d+).html\">&lsaquo; 上頁', resp.text)[0]) + 1\n",
    "    return total_page_cnt"
   ]
  },
  {
   "cell_type": "code",
   "execution_count": 22,
   "metadata": {},
   "outputs": [],
   "source": [
    "# GET列表頁，取得內文頁的連結們, 由於第一次直接進入時都會被問要按滿18歲,所以 requests.get(url, headers=custom_headers)\n",
    "\n",
    "def get_list_page(url):\n",
    "    resp = get_w_cookie(url)\n",
    "    links = re.findall('<a href=\"(/bbs/Gossiping/M.+\\.html)\">.+</a>', resp.text)\n",
    "    detail_page_links = [HOST + link for link in links]\n",
    "    return detail_page_links"
   ]
  },
  {
   "cell_type": "code",
   "execution_count": 23,
   "metadata": {},
   "outputs": [
    {
     "name": "stdout",
     "output_type": "stream",
     "text": [
      "https://www.ptt.cc/bbs/Gossiping/M.1515492930.A.847.html\n",
      "https://www.ptt.cc/bbs/Gossiping/M.1515492962.A.CAD.html\n",
      "https://www.ptt.cc/bbs/Gossiping/M.1510415718.A.D77.html\n",
      "https://www.ptt.cc/bbs/Gossiping/M.1515166066.A.4EF.html\n",
      "https://www.ptt.cc/bbs/Gossiping/M.1514738804.A.4A0.html\n",
      "https://www.ptt.cc/bbs/Gossiping/M.1515492559.A.9FE.html\n",
      "https://www.ptt.cc/bbs/Gossiping/M.1515492566.A.0CF.html\n",
      "https://www.ptt.cc/bbs/Gossiping/M.1515492571.A.846.html\n",
      "https://www.ptt.cc/bbs/Gossiping/M.1515492597.A.CDA.html\n",
      "https://www.ptt.cc/bbs/Gossiping/M.1515492605.A.8C9.html\n",
      "https://www.ptt.cc/bbs/Gossiping/M.1515492630.A.60A.html\n",
      "https://www.ptt.cc/bbs/Gossiping/M.1515492654.A.5B8.html\n",
      "https://www.ptt.cc/bbs/Gossiping/M.1515492667.A.A16.html\n",
      "https://www.ptt.cc/bbs/Gossiping/M.1515492670.A.A79.html\n",
      "https://www.ptt.cc/bbs/Gossiping/M.1515492743.A.861.html\n",
      "https://www.ptt.cc/bbs/Gossiping/M.1515492763.A.610.html\n",
      "https://www.ptt.cc/bbs/Gossiping/M.1515492763.A.380.html\n",
      "https://www.ptt.cc/bbs/Gossiping/M.1515492766.A.6FC.html\n",
      "https://www.ptt.cc/bbs/Gossiping/M.1515492833.A.E61.html\n",
      "https://www.ptt.cc/bbs/Gossiping/M.1515492855.A.FA2.html\n",
      "https://www.ptt.cc/bbs/Gossiping/M.1515492866.A.4BB.html\n",
      "https://www.ptt.cc/bbs/Gossiping/M.1515492901.A.A5B.html\n",
      "https://www.ptt.cc/bbs/Gossiping/M.1515492901.A.3BF.html\n",
      "https://www.ptt.cc/bbs/Gossiping/M.1515492926.A.C53.html\n",
      "https://www.ptt.cc/bbs/Gossiping/M.1515492107.A.C19.html\n",
      "https://www.ptt.cc/bbs/Gossiping/M.1515492129.A.D98.html\n",
      "https://www.ptt.cc/bbs/Gossiping/M.1515492166.A.CD0.html\n",
      "https://www.ptt.cc/bbs/Gossiping/M.1515492224.A.B67.html\n",
      "https://www.ptt.cc/bbs/Gossiping/M.1515492228.A.260.html\n",
      "https://www.ptt.cc/bbs/Gossiping/M.1515492228.A.CD9.html\n",
      "https://www.ptt.cc/bbs/Gossiping/M.1515492254.A.DBB.html\n",
      "https://www.ptt.cc/bbs/Gossiping/M.1515492255.A.7BF.html\n",
      "https://www.ptt.cc/bbs/Gossiping/M.1515492258.A.7ED.html\n",
      "https://www.ptt.cc/bbs/Gossiping/M.1515492335.A.5B7.html\n",
      "https://www.ptt.cc/bbs/Gossiping/M.1515492338.A.793.html\n",
      "https://www.ptt.cc/bbs/Gossiping/M.1515492395.A.89E.html\n",
      "https://www.ptt.cc/bbs/Gossiping/M.1515492398.A.7C0.html\n",
      "https://www.ptt.cc/bbs/Gossiping/M.1515492420.A.84B.html\n",
      "https://www.ptt.cc/bbs/Gossiping/M.1515492423.A.102.html\n",
      "https://www.ptt.cc/bbs/Gossiping/M.1515492436.A.A75.html\n",
      "https://www.ptt.cc/bbs/Gossiping/M.1515492468.A.B24.html\n",
      "https://www.ptt.cc/bbs/Gossiping/M.1515492474.A.AC1.html\n",
      "https://www.ptt.cc/bbs/Gossiping/M.1515492481.A.FC8.html\n",
      "https://www.ptt.cc/bbs/Gossiping/M.1515492493.A.457.html\n"
     ]
    }
   ],
   "source": [
    "# 寫入資料\n",
    "\n",
    "def dump_page(url):\n",
    "    filename = \"_\".join(url.split('/')[-1].split('.')[:-1]) + '.html'\n",
    "    resp = get_w_cookie(url)\n",
    "\n",
    "    with open(DATA_PATH + '/' + filename, 'w') as f:\n",
    "        f.write(resp.text)\n",
    "    return filename\n",
    "\n",
    "if __name__ == \"__main__\":\n",
    "    total_page_cnt = get_total_page_cnt()\n",
    "\n",
    "    for pg in range(total_page_cnt, total_page_cnt - CRAWL_PAGE_CNT, -1):\n",
    "        url = URL_TEMPLATE.format(pg)\n",
    "        for link in get_list_page(url):\n",
    "            print(link)\n",
    "            dump_page(link)"
   ]
  }
 ],
 "metadata": {
  "kernelspec": {
   "display_name": "Python 3",
   "language": "python",
   "name": "python3"
  },
  "language_info": {
   "codemirror_mode": {
    "name": "ipython",
    "version": 3
   },
   "file_extension": ".py",
   "mimetype": "text/x-python",
   "name": "python",
   "nbconvert_exporter": "python",
   "pygments_lexer": "ipython3",
   "version": "3.6.1"
  }
 },
 "nbformat": 4,
 "nbformat_minor": 2
}
