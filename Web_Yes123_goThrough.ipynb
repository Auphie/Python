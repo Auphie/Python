{
 "cells": [
  {
   "cell_type": "code",
   "execution_count": 1,
   "metadata": {
    "collapsed": true
   },
   "outputs": [],
   "source": [
    "import requests\n",
    "import json\n",
    "from bs4 import BeautifulSoup\n",
    "\n",
    "url = \"https://www.yes123.com.tw/admin/job_refer_list.asp\"\n",
    "data = json.loads(r'''{\n",
    "    \"find_key1\": \"java\",\n",
    "    \"search_work\": \"職務\",\n",
    "    \"search_multi_loc\": \"地區\",\n",
    "    \"find_key2\": \"\",\n",
    "    \"search_multi_loc2\": \"請選擇地區\",\n",
    "    \"search_work2\": \"請選擇職務\",\n",
    "    \"search_job2\": \"請選擇行業\",\n",
    "    \"find_key3\": \"\",\n",
    "    \"search_multi_loc3\": \"請選擇地區\",\n",
    "    \"search_work3\": \"請選擇職務\",\n",
    "    \"search_subj\": \"請選擇你的科系\",\n",
    "    \"search_work4\": \"\",\n",
    "    \"search_multi_loc4\": \"請選擇地區\",\n",
    "    \"search_multi_loc5\": \"請選擇地區\",\n",
    "    \"search_work6\": \"\",\n",
    "    \"search_work7\": \"\",\n",
    "    \"search_multi_loc6\": \"\",\n",
    "    \"search_work8\": \"\",\n",
    "    \"search_multi_loc7\": \"\",\n",
    "    \"search_work9\": \"請選擇職務\",\n",
    "    \"find_sf_subj_mode1\": \"\",\n",
    "    \"s_find_sf_subj_mode1\": \"\",\n",
    "    \"find_se_work_mode1\": \"\",\n",
    "    \"s_find_se_work_mode1\": \"\",\n",
    "    \"find_ss_work_mode1\": \"\",\n",
    "    \"s_find_ss_work_mode1\": \"\",\n",
    "    \"find_us_map_mode1\": \"\",\n",
    "    \"find_us_map_mode2\": \"\",\n",
    "    \"find_us_map_mode3\": \"\",\n",
    "    \"find_us_map_mode4\": \"\",\n",
    "    \"strrec\": \"0\",\n",
    "    \"search_key_word\": \"java\",\n",
    "    \"search_type\": \"job\",\n",
    "    \"us_menu\": \"\",\n",
    "    \"search_item\": \"1\",\n",
    "    \"search_from\": \"index\"\n",
    "}''')\n",
    "headers = json.loads(r'''{\n",
    "    \"Accept\": \"text/html,application/xhtml+xml,application/xml;q=0.9,image/webp,image/apng,*/*;q=0.8\",\n",
    "    \"Accept-Encoding\": \"gzip, deflate, br\",\n",
    "    \"Accept-Language\": \"en-US,en;q=0.9\",\n",
    "    \"Cache-Control\": \"max-age=0\",\n",
    "    \"Connection\": \"keep-alive\",\n",
    "    \"Content-Length\": \"6078\",\n",
    "    \"Content-Type\": \"application/x-www-form-urlencoded\",\n",
    "    \"Cookie\": \"_sh_c_1=search_type%3Ajob%7Csearch_item%3A1%7Csearch_key_word%3Ajava%7C_mu_ckb_21%3Acheckbox%7C_mu_ckb_22%3Acheckbox%7C_mu_ckb_23%3Acheckbox%7C_mu_ckb_24%3Acheckbox%7C_mu_ckb_25%3Acheckbox; _sh_c_2=search_type%3Ajob%7Csearch_item%3A1%7Csearch_key_word%3Ajava%7C_mu_ckb_21%3Acheckbox%7C_mu_ckb_22%3Acheckbox%7C_mu_ckb_23%3Acheckbox%7C_mu_ckb_24%3Acheckbox%7C_mu_ckb_25%3Acheckbox; _sh_c_3=search_type%3Ajob%7Csearch_item%3A1%7Csearch_key_word%3Ajava%7C_mu_ckb_21%3Acheckbox%7C_mu_ckb_22%3Acheckbox%7C_mu_ckb_23%3Acheckbox%7C_mu_ckb_24%3Acheckbox%7C_mu_ckb_25%3Acheckbox; _sh_c_4=search_type%3Ajob%7Csearch_item%3A1%7Csearch_key_word%3Ajava%7C_mu_ckb_21%3Acheckbox%7C_mu_ckb_22%3Acheckbox%7C_mu_ckb_23%3Acheckbox%7C_mu_ckb_24%3Acheckbox%7C_mu_ckb_25%3Acheckbox; _sh_c_5=search_type%3Ajob%7Csearch_item%3A1%7Csearch_key_word%3Ajava%7C_mu_ckb_21%3Acheckbox%7C_mu_ckb_22%3Acheckbox%7C_mu_ckb_23%3Acheckbox%7C_mu_ckb_24%3Acheckbox%7C_mu_ckb_25%3Acheckbox; __auc=9b3990ed160de388f0fbe417dbf; _ga=GA1.3.2064806402.1515556737; _gid=GA1.3.818539509.1516792749; ASPSESSIONIDQQDDBSSB=OKBDCJMAIBPNBCDPEFCOEPBO; ClientIP=61.231.154.120; __asc=250a8ca81612d2740f80e7a5edd; yes123_make_cookie=d24146109896c1e633d3337a1d7b942c; ASPSESSIONIDCABQQRST=AKLFGJDAOIIIHOKAMPMOKLMB; ASPSESSIONIDSSBCATSB=IHLBEFOADKJBOHEBBEJEHIFN; citrix_ns_id=PnNogiQiFA1dct7k19GAtJPh1eIA000; ASP.NET_SessionId=240393075; StepCookie_id=240393075; _gat_UA-4824195-2=1; step=10\",\n",
    "    \"Host\": \"www.yes123.com.tw\",\n",
    "    \"Origin\": \"https://www.yes123.com.tw\",\n",
    "    \"Referer\": \"https://www.yes123.com.tw/admin/index.asp\",\n",
    "    \"Upgrade-Insecure-Requests\": \"1\",\n",
    "    \"User-Agent\": \"Mozilla/5.0 (X11; Linux x86_64) AppleWebKit/537.36 (KHTML, like Gecko) Chrome/63.0.3239.132 Safari/537.36\"\n",
    "}''')\n",
    "\n",
    "resp = requests.post(url, data=data, headers=headers)\n",
    "resp.encoding = 'utf-8'\n",
    "job_html = resp.text\n",
    "soup = BeautifulSoup(job_html, 'html5lib')"
   ]
  },
  {
   "cell_type": "code",
   "execution_count": 2,
   "metadata": {
    "scrolled": true
   },
   "outputs": [
    {
     "data": {
      "text/plain": [
       "[<a class=\"jobname\" href=\"job_refer_comp_job_detail2.asp?p_id=20170412141000_86714857&amp;job_id=20180129115052_9505124\" target=\"_blank\" title=\"R-Java 技術講師\">R-Java 技術講師</a>,\n",
       " <a class=\"jobname\" style=\"color:#00b900;\">求職最新工具，你加LINE了嗎？</a>,\n",
       " <a class=\"jobname\" href=\"job_refer_comp_job_detail2.asp?p_id=20090828152422_84218848&amp;job_id=20150209114206_441079\" target=\"_blank\" title=\"約聘 軟體工程師 (Java or C#) (新竹)【BU2-BTB】【敦陽資訊】\">約聘 軟體工程師 (Java or C#) (新竹...</a>]"
      ]
     },
     "execution_count": 2,
     "metadata": {},
     "output_type": "execute_result"
    }
   ],
   "source": [
    "soup.select('a.jobname')[5:8]"
   ]
  },
  {
   "cell_type": "code",
   "execution_count": 3,
   "metadata": {},
   "outputs": [
    {
     "data": {
      "text/plain": [
       "'job_refer_comp_job_detail2.asp?p_id=13690_11395000&job_id=20120614144726_9324965'"
      ]
     },
     "execution_count": 3,
     "metadata": {},
     "output_type": "execute_result"
    }
   ],
   "source": [
    "soup.select('a.jobname')[0]['href']"
   ]
  },
  {
   "cell_type": "code",
   "execution_count": 4,
   "metadata": {
    "scrolled": true
   },
   "outputs": [
    {
     "ename": "SyntaxError",
     "evalue": "invalid syntax (<ipython-input-4-67dd79cfad68>, line 1)",
     "output_type": "error",
     "traceback": [
      "\u001b[0;36m  File \u001b[0;32m\"<ipython-input-4-67dd79cfad68>\"\u001b[0;36m, line \u001b[0;32m1\u001b[0m\n\u001b[0;31m    links for [link['href'] in soup.select('a.jobname')]\u001b[0m\n\u001b[0m            ^\u001b[0m\n\u001b[0;31mSyntaxError\u001b[0m\u001b[0;31m:\u001b[0m invalid syntax\n"
     ]
    }
   ],
   "source": [
    "links for [link['href'] in soup.select('a.jobname')]"
   ]
  },
  {
   "cell_type": "code",
   "execution_count": 5,
   "metadata": {
    "scrolled": true
   },
   "outputs": [
    {
     "name": "stdout",
     "output_type": "stream",
     "text": [
      "job_refer_comp_job_detail2.asp?p_id=13690_11395000&job_id=20120614144726_9324965\n",
      "job_refer_comp_job_detail2.asp?p_id=24449_69905810&job_id=20180102155549_7990091\n",
      "job_refer_comp_job_detail2.asp?p_id=20170412141000_86714857&job_id=20170626095751_2595896\n",
      "job_refer_comp_job_detail2.asp?p_id=20170412141000_86714857&job_id=20170414164953_7592976\n",
      "job_refer_comp_job_detail2.asp?p_id=20140103100924_27365925&job_id=20160826153242_56497817\n",
      "job_refer_comp_job_detail2.asp?p_id=20170412141000_86714857&job_id=20180129115052_9505124\n"
     ]
    },
    {
     "ename": "KeyError",
     "evalue": "'href'",
     "output_type": "error",
     "traceback": [
      "\u001b[0;31m---------------------------------------------------------------------------\u001b[0m",
      "\u001b[0;31mKeyError\u001b[0m                                  Traceback (most recent call last)",
      "\u001b[0;32m<ipython-input-5-5d0ad6e5cfa1>\u001b[0m in \u001b[0;36m<module>\u001b[0;34m()\u001b[0m\n\u001b[1;32m      1\u001b[0m \u001b[0;31m# 拆解for loop找錯誤原因，發現到keyError，原因是因為中間夾雜廣告，沒有'href'可以抓\u001b[0m\u001b[0;34m\u001b[0m\u001b[0;34m\u001b[0m\u001b[0m\n\u001b[1;32m      2\u001b[0m \u001b[0;32mfor\u001b[0m \u001b[0mlink\u001b[0m \u001b[0;32min\u001b[0m  \u001b[0msoup\u001b[0m\u001b[0;34m.\u001b[0m\u001b[0mselect\u001b[0m\u001b[0;34m(\u001b[0m\u001b[0;34m'a.jobname'\u001b[0m\u001b[0;34m)\u001b[0m\u001b[0;34m:\u001b[0m\u001b[0;34m\u001b[0m\u001b[0m\n\u001b[0;32m----> 3\u001b[0;31m     \u001b[0mprint\u001b[0m\u001b[0;34m(\u001b[0m\u001b[0mlink\u001b[0m\u001b[0;34m[\u001b[0m\u001b[0;34m'href'\u001b[0m\u001b[0;34m]\u001b[0m\u001b[0;34m)\u001b[0m\u001b[0;34m\u001b[0m\u001b[0m\n\u001b[0m",
      "\u001b[0;32m~/.pyenv/versions/anaconda3-5.0.1/lib/python3.6/site-packages/bs4/element.py\u001b[0m in \u001b[0;36m__getitem__\u001b[0;34m(self, key)\u001b[0m\n\u001b[1;32m   1009\u001b[0m         \"\"\"tag[key] returns the value of the 'key' attribute for the tag,\n\u001b[1;32m   1010\u001b[0m         and throws an exception if it's not there.\"\"\"\n\u001b[0;32m-> 1011\u001b[0;31m         \u001b[0;32mreturn\u001b[0m \u001b[0mself\u001b[0m\u001b[0;34m.\u001b[0m\u001b[0mattrs\u001b[0m\u001b[0;34m[\u001b[0m\u001b[0mkey\u001b[0m\u001b[0;34m]\u001b[0m\u001b[0;34m\u001b[0m\u001b[0m\n\u001b[0m\u001b[1;32m   1012\u001b[0m \u001b[0;34m\u001b[0m\u001b[0m\n\u001b[1;32m   1013\u001b[0m     \u001b[0;32mdef\u001b[0m \u001b[0m__iter__\u001b[0m\u001b[0;34m(\u001b[0m\u001b[0mself\u001b[0m\u001b[0;34m)\u001b[0m\u001b[0;34m:\u001b[0m\u001b[0;34m\u001b[0m\u001b[0m\n",
      "\u001b[0;31mKeyError\u001b[0m: 'href'"
     ]
    }
   ],
   "source": [
    "# 拆解for loop找錯誤原因，發現到keyError，原因是因為中間夾雜廣告，沒有'href'可以抓\n",
    "for link in  soup.select('a.jobname'):\n",
    "    print(link['href'])"
   ]
  },
  {
   "cell_type": "code",
   "execution_count": 8,
   "metadata": {},
   "outputs": [
    {
     "data": {
      "text/plain": [
       "['job_refer_comp_job_detail2.asp?p_id=13690_11395000&job_id=20120614144726_9324965',\n",
       " 'job_refer_comp_job_detail2.asp?p_id=24449_69905810&job_id=20180102155549_7990091',\n",
       " 'job_refer_comp_job_detail2.asp?p_id=20170412141000_86714857&job_id=20170626095751_2595896',\n",
       " 'job_refer_comp_job_detail2.asp?p_id=20170412141000_86714857&job_id=20170414164953_7592976',\n",
       " 'job_refer_comp_job_detail2.asp?p_id=20140103100924_27365925&job_id=20160826153242_56497817',\n",
       " 'job_refer_comp_job_detail2.asp?p_id=20170412141000_86714857&job_id=20180129115052_9505124',\n",
       " 'job_refer_comp_job_detail2.asp?p_id=20090828152422_84218848&job_id=20150209114206_441079',\n",
       " 'job_refer_comp_job_detail2.asp?p_id=20090828152422_84218848&job_id=20140811103200_8514317',\n",
       " 'job_refer_comp_job_detail2.asp?p_id=4761883_97179430&job_id=20171005092013_42164',\n",
       " 'job_refer_comp_job_detail2.asp?p_id=4761883_97179430&job_id=20170309095743_1536526']"
      ]
     },
     "execution_count": 8,
     "metadata": {},
     "output_type": "execute_result"
    }
   ],
   "source": [
    "links = []\n",
    "for link in  soup.select('a.jobname'):\n",
    "    try:\n",
    "        links.append(link['href'])\n",
    "    except KeyError:\n",
    "        continue\n",
    "links[:10]"
   ]
  },
  {
   "cell_type": "code",
   "execution_count": 9,
   "metadata": {},
   "outputs": [
    {
     "data": {
      "text/plain": [
       "[]"
      ]
     },
     "execution_count": 9,
     "metadata": {},
     "output_type": "execute_result"
    }
   ],
   "source": [
    "import re\n",
    "\n",
    "p_id = re.findall('p_id=(\\d+)&', links[1])\n",
    "p_id"
   ]
  },
  {
   "cell_type": "code",
   "execution_count": 10,
   "metadata": {},
   "outputs": [
    {
     "data": {
      "text/plain": [
       "['20180102155549']"
      ]
     },
     "execution_count": 10,
     "metadata": {},
     "output_type": "execute_result"
    }
   ],
   "source": [
    "job_id = re.findall('job_id=(\\d+)', links[1])\n",
    "job_id"
   ]
  },
  {
   "cell_type": "markdown",
   "metadata": {
    "collapsed": true
   },
   "source": [
    "# 所以說，將所有p_id & job_id的list儲存起來即可"
   ]
  },
  {
   "cell_type": "code",
   "execution_count": 11,
   "metadata": {
    "collapsed": true
   },
   "outputs": [],
   "source": [
    "import requests\n",
    "import json\n",
    "from bs4 import BeautifulSoup\n",
    "\n",
    "url = \"https://www.yes123.com.tw/admin/job_refer_list.asp\"\n",
    "data = json.loads(r'''{\n",
    "    \"find_key1\": \"java\",\n",
    "    \"search_work\": \"職務\",\n",
    "    \"search_multi_loc\": \"地區\",\n",
    "    \"find_key2\": \"\",\n",
    "    \"search_multi_loc2\": \"請選擇地區\",\n",
    "    \"search_work2\": \"請選擇職務\",\n",
    "    \"search_job2\": \"請選擇行業\",\n",
    "    \"find_key3\": \"\",\n",
    "    \"search_multi_loc3\": \"請選擇地區\",\n",
    "    \"search_work3\": \"請選擇職務\",\n",
    "    \"search_subj\": \"請選擇你的科系\",\n",
    "    \"search_work4\": \"\",\n",
    "    \"search_multi_loc4\": \"請選擇地區\",\n",
    "    \"search_multi_loc5\": \"請選擇地區\",\n",
    "    \"search_work6\": \"\",\n",
    "    \"search_work7\": \"\",\n",
    "    \"search_multi_loc6\": \"\",\n",
    "    \"search_work8\": \"\",\n",
    "    \"search_multi_loc7\": \"\",\n",
    "    \"search_work9\": \"請選擇職務\",\n",
    "    \"find_sf_subj_mode1\": \"\",\n",
    "    \"s_find_sf_subj_mode1\": \"\",\n",
    "    \"find_se_work_mode1\": \"\",\n",
    "    \"s_find_se_work_mode1\": \"\",\n",
    "    \"find_ss_work_mode1\": \"\",\n",
    "    \"s_find_ss_work_mode1\": \"\",\n",
    "    \"find_us_map_mode1\": \"\",\n",
    "    \"find_us_map_mode2\": \"\",\n",
    "    \"find_us_map_mode3\": \"\",\n",
    "    \"find_us_map_mode4\": \"\",\n",
    "    \"search_key_word\": \"java\",\n",
    "    \"search_type\": \"job\",\n",
    "    \"us_menu\": \"\",\n",
    "    \"search_item\": \"1\",\n",
    "    \"search_from\": \"index\"\n",
    "}''')\n",
    "headers = json.loads(r'''{\n",
    "    \"Accept\": \"text/html,application/xhtml+xml,application/xml;q=0.9,image/webp,image/apng,*/*;q=0.8\",\n",
    "    \"Accept-Encoding\": \"gzip, deflate, br\",\n",
    "    \"Accept-Language\": \"en-US,en;q=0.9\",\n",
    "    \"Cache-Control\": \"max-age=0\",\n",
    "    \"Connection\": \"keep-alive\",\n",
    "    \"Content-Length\": \"6078\",\n",
    "    \"Content-Type\": \"application/x-www-form-urlencoded\",\n",
    "    \"Cookie\": \"_sh_c_1=search_type%3Ajob%7Csearch_item%3A1%7Csearch_key_word%3Ajava%7C_mu_ckb_21%3Acheckbox%7C_mu_ckb_22%3Acheckbox%7C_mu_ckb_23%3Acheckbox%7C_mu_ckb_24%3Acheckbox%7C_mu_ckb_25%3Acheckbox; _sh_c_2=search_type%3Ajob%7Csearch_item%3A1%7Csearch_key_word%3Ajava%7C_mu_ckb_21%3Acheckbox%7C_mu_ckb_22%3Acheckbox%7C_mu_ckb_23%3Acheckbox%7C_mu_ckb_24%3Acheckbox%7C_mu_ckb_25%3Acheckbox; _sh_c_3=search_type%3Ajob%7Csearch_item%3A1%7Csearch_key_word%3Ajava%7C_mu_ckb_21%3Acheckbox%7C_mu_ckb_22%3Acheckbox%7C_mu_ckb_23%3Acheckbox%7C_mu_ckb_24%3Acheckbox%7C_mu_ckb_25%3Acheckbox; _sh_c_4=search_type%3Ajob%7Csearch_item%3A1%7Csearch_key_word%3Ajava%7C_mu_ckb_21%3Acheckbox%7C_mu_ckb_22%3Acheckbox%7C_mu_ckb_23%3Acheckbox%7C_mu_ckb_24%3Acheckbox%7C_mu_ckb_25%3Acheckbox; _sh_c_5=search_type%3Ajob%7Csearch_item%3A1%7Csearch_key_word%3Ajava%7C_mu_ckb_21%3Acheckbox%7C_mu_ckb_22%3Acheckbox%7C_mu_ckb_23%3Acheckbox%7C_mu_ckb_24%3Acheckbox%7C_mu_ckb_25%3Acheckbox; __auc=9b3990ed160de388f0fbe417dbf; _ga=GA1.3.2064806402.1515556737; _gid=GA1.3.818539509.1516792749; ASPSESSIONIDQQDDBSSB=OKBDCJMAIBPNBCDPEFCOEPBO; ClientIP=61.231.154.120; __asc=250a8ca81612d2740f80e7a5edd; yes123_make_cookie=d24146109896c1e633d3337a1d7b942c; ASPSESSIONIDCABQQRST=AKLFGJDAOIIIHOKAMPMOKLMB; ASPSESSIONIDSSBCATSB=IHLBEFOADKJBOHEBBEJEHIFN; citrix_ns_id=PnNogiQiFA1dct7k19GAtJPh1eIA000; ASP.NET_SessionId=240393075; StepCookie_id=240393075; _gat_UA-4824195-2=1; step=10\",\n",
    "    \"Host\": \"www.yes123.com.tw\",\n",
    "    \"Origin\": \"https://www.yes123.com.tw\",\n",
    "    \"Referer\": \"https://www.yes123.com.tw/admin/index.asp\",\n",
    "    \"Upgrade-Insecure-Requests\": \"1\",\n",
    "    \"User-Agent\": \"Mozilla/5.0 (X11; Linux x86_64) AppleWebKit/537.36 (KHTML, like Gecko) Chrome/63.0.3239.132 Safari/537.36\"\n",
    "}''')\n",
    "\n",
    "links = []\n",
    "\n",
    "for strrec in range(20,101,20):\n",
    "    resp = requests.post(url, data=data, headers=headers)\n",
    "    resp.encoding = 'utf-8'\n",
    "    data['strrec'] = strrec\n",
    "    job_html = resp.text\n",
    "    soup = BeautifulSoup(job_html, 'lxml')\n",
    "    for link in  soup.select('a.jobname'):\n",
    "        try:\n",
    "            links.append(link['href'])\n",
    "        except KeyError:\n",
    "            continue"
   ]
  },
  {
   "cell_type": "code",
   "execution_count": 12,
   "metadata": {},
   "outputs": [
    {
     "data": {
      "text/plain": [
       "98"
      ]
     },
     "execution_count": 12,
     "metadata": {},
     "output_type": "execute_result"
    }
   ],
   "source": [
    "len(links)"
   ]
  },
  {
   "cell_type": "markdown",
   "metadata": {},
   "source": [
    "### 也可將之寫成function()，方便日後引用"
   ]
  },
  {
   "cell_type": "code",
   "execution_count": 13,
   "metadata": {
    "collapsed": true
   },
   "outputs": [],
   "source": [
    "def get_detl_lists():\n",
    "    import requests\n",
    "    import json\n",
    "    from bs4 import BeautifulSoup\n",
    "\n",
    "    url = \"https://www.yes123.com.tw/admin/job_refer_list.asp\"\n",
    "    data = json.loads(r'''{\n",
    "        \"find_key1\": \"java\",\n",
    "        \"search_work\": \"職務\",\n",
    "        \"search_multi_loc\": \"地區\",\n",
    "        \"find_key2\": \"\",\n",
    "        \"search_multi_loc2\": \"請選擇地區\",\n",
    "        \"search_work2\": \"請選擇職務\",\n",
    "        \"search_job2\": \"請選擇行業\",\n",
    "        \"find_key3\": \"\",\n",
    "        \"search_multi_loc3\": \"請選擇地區\",\n",
    "        \"search_work3\": \"請選擇職務\",\n",
    "        \"search_subj\": \"請選擇你的科系\",\n",
    "        \"search_work4\": \"\",\n",
    "        \"search_multi_loc4\": \"請選擇地區\",\n",
    "        \"search_multi_loc5\": \"請選擇地區\",\n",
    "        \"search_work6\": \"\",\n",
    "        \"search_work7\": \"\",\n",
    "        \"search_multi_loc6\": \"\",\n",
    "        \"search_work8\": \"\",\n",
    "        \"search_multi_loc7\": \"\",\n",
    "        \"search_work9\": \"請選擇職務\",\n",
    "        \"find_sf_subj_mode1\": \"\",\n",
    "        \"s_find_sf_subj_mode1\": \"\",\n",
    "        \"find_se_work_mode1\": \"\",\n",
    "        \"s_find_se_work_mode1\": \"\",\n",
    "        \"find_ss_work_mode1\": \"\",\n",
    "        \"s_find_ss_work_mode1\": \"\",\n",
    "        \"find_us_map_mode1\": \"\",\n",
    "        \"find_us_map_mode2\": \"\",\n",
    "        \"find_us_map_mode3\": \"\",\n",
    "        \"find_us_map_mode4\": \"\",\n",
    "        \"search_key_word\": \"java\",\n",
    "        \"search_type\": \"job\",\n",
    "        \"us_menu\": \"\",\n",
    "        \"search_item\": \"1\",\n",
    "        \"search_from\": \"index\"\n",
    "    }''')\n",
    "    headers = json.loads(r'''{\n",
    "        \"Accept\": \"text/html,application/xhtml+xml,application/xml;q=0.9,image/webp,image/apng,*/*;q=0.8\",\n",
    "        \"Accept-Encoding\": \"gzip, deflate, br\",\n",
    "        \"Accept-Language\": \"en-US,en;q=0.9\",\n",
    "        \"Cache-Control\": \"max-age=0\",\n",
    "        \"Connection\": \"keep-alive\",\n",
    "        \"Content-Length\": \"6078\",\n",
    "        \"Content-Type\": \"application/x-www-form-urlencoded\",\n",
    "        \"Cookie\": \"_sh_c_1=search_type%3Ajob%7Csearch_item%3A1%7Csearch_key_word%3Ajava%7C_mu_ckb_21%3Acheckbox%7C_mu_ckb_22%3Acheckbox%7C_mu_ckb_23%3Acheckbox%7C_mu_ckb_24%3Acheckbox%7C_mu_ckb_25%3Acheckbox; _sh_c_2=search_type%3Ajob%7Csearch_item%3A1%7Csearch_key_word%3Ajava%7C_mu_ckb_21%3Acheckbox%7C_mu_ckb_22%3Acheckbox%7C_mu_ckb_23%3Acheckbox%7C_mu_ckb_24%3Acheckbox%7C_mu_ckb_25%3Acheckbox; _sh_c_3=search_type%3Ajob%7Csearch_item%3A1%7Csearch_key_word%3Ajava%7C_mu_ckb_21%3Acheckbox%7C_mu_ckb_22%3Acheckbox%7C_mu_ckb_23%3Acheckbox%7C_mu_ckb_24%3Acheckbox%7C_mu_ckb_25%3Acheckbox; _sh_c_4=search_type%3Ajob%7Csearch_item%3A1%7Csearch_key_word%3Ajava%7C_mu_ckb_21%3Acheckbox%7C_mu_ckb_22%3Acheckbox%7C_mu_ckb_23%3Acheckbox%7C_mu_ckb_24%3Acheckbox%7C_mu_ckb_25%3Acheckbox; _sh_c_5=search_type%3Ajob%7Csearch_item%3A1%7Csearch_key_word%3Ajava%7C_mu_ckb_21%3Acheckbox%7C_mu_ckb_22%3Acheckbox%7C_mu_ckb_23%3Acheckbox%7C_mu_ckb_24%3Acheckbox%7C_mu_ckb_25%3Acheckbox; __auc=9b3990ed160de388f0fbe417dbf; _ga=GA1.3.2064806402.1515556737; _gid=GA1.3.818539509.1516792749; ASPSESSIONIDQQDDBSSB=OKBDCJMAIBPNBCDPEFCOEPBO; ClientIP=61.231.154.120; __asc=250a8ca81612d2740f80e7a5edd; yes123_make_cookie=d24146109896c1e633d3337a1d7b942c; ASPSESSIONIDCABQQRST=AKLFGJDAOIIIHOKAMPMOKLMB; ASPSESSIONIDSSBCATSB=IHLBEFOADKJBOHEBBEJEHIFN; citrix_ns_id=PnNogiQiFA1dct7k19GAtJPh1eIA000; ASP.NET_SessionId=240393075; StepCookie_id=240393075; _gat_UA-4824195-2=1; step=10\",\n",
    "        \"Host\": \"www.yes123.com.tw\",\n",
    "        \"Origin\": \"https://www.yes123.com.tw\",\n",
    "        \"Referer\": \"https://www.yes123.com.tw/admin/index.asp\",\n",
    "        \"Upgrade-Insecure-Requests\": \"1\",\n",
    "        \"User-Agent\": \"Mozilla/5.0 (X11; Linux x86_64) AppleWebKit/537.36 (KHTML, like Gecko) Chrome/63.0.3239.132 Safari/537.36\"\n",
    "    }''')\n",
    "\n",
    "    links = []\n",
    "\n",
    "    for strrec in range(20,101,20):\n",
    "        resp = requests.post(url, data=data, headers=headers)\n",
    "        resp.encoding = 'utf-8'\n",
    "        data['strrec'] = strrec\n",
    "        job_html = resp.text\n",
    "        soup = BeautifulSoup(job_html, 'lxml')\n",
    "        for link in  soup.select('a.jobname'):\n",
    "            try:\n",
    "                links.append(link['href'])\n",
    "            except KeyError:\n",
    "                continue\n",
    "    return links"
   ]
  },
  {
   "cell_type": "code",
   "execution_count": 14,
   "metadata": {},
   "outputs": [
    {
     "data": {
      "text/plain": [
       "'job_refer_comp_job_detail2.asp?p_id=13690_11395000&job_id=20120614144726_9324965'"
      ]
     },
     "execution_count": 14,
     "metadata": {},
     "output_type": "execute_result"
    }
   ],
   "source": [
    "links = get_detl_lists()\n",
    "links[0]"
   ]
  },
  {
   "cell_type": "markdown",
   "metadata": {},
   "source": [
    "### 將p_id與job_id從超連結中解析出來 "
   ]
  },
  {
   "cell_type": "code",
   "execution_count": 15,
   "metadata": {
    "collapsed": true
   },
   "outputs": [],
   "source": [
    "def get_id(link):\n",
    "    import re\n",
    "    row_with_id = {}\n",
    "    row_with_id['p_id'] = re.findall('p_id=(.+)&', link)\n",
    "    row_with_id['job_id'] = re.findall('job_id=(.+)', link)\n",
    "    return row_with_id"
   ]
  },
  {
   "cell_type": "code",
   "execution_count": 16,
   "metadata": {},
   "outputs": [
    {
     "data": {
      "text/plain": [
       "[{'job_id': ['20120614144726_9324965'], 'p_id': ['13690_11395000']},\n",
       " {'job_id': ['20180102155549_7990091'], 'p_id': ['24449_69905810']},\n",
       " {'job_id': ['20170626095751_2595896'], 'p_id': ['20170412141000_86714857']},\n",
       " {'job_id': ['20170414164953_7592976'], 'p_id': ['20170412141000_86714857']},\n",
       " {'job_id': ['20160826153242_56497817'], 'p_id': ['20140103100924_27365925']}]"
      ]
     },
     "execution_count": 16,
     "metadata": {},
     "output_type": "execute_result"
    }
   ],
   "source": [
    "id_lists = []\n",
    "for link in links:\n",
    "    id_lists.append(get_id(link))\n",
    "\n",
    "id_lists[:5]"
   ]
  },
  {
   "cell_type": "code",
   "execution_count": 17,
   "metadata": {},
   "outputs": [
    {
     "data": {
      "text/plain": [
       "['20120614144726_9324965']"
      ]
     },
     "execution_count": 17,
     "metadata": {},
     "output_type": "execute_result"
    }
   ],
   "source": [
    "id_lists[0]['job_id']"
   ]
  },
  {
   "cell_type": "code",
   "execution_count": 18,
   "metadata": {
    "scrolled": true
   },
   "outputs": [
    {
     "data": {
      "text/plain": [
       "['13690_11395000']"
      ]
     },
     "execution_count": 18,
     "metadata": {},
     "output_type": "execute_result"
    }
   ],
   "source": [
    "id_lists[0]['p_id']"
   ]
  },
  {
   "cell_type": "markdown",
   "metadata": {},
   "source": [
    "### 若希望成為文字，可以用以下的方法來轉型\n",
    "str(), .string跟 .text都不行的時候"
   ]
  },
  {
   "cell_type": "code",
   "execution_count": 19,
   "metadata": {},
   "outputs": [
    {
     "data": {
      "text/plain": [
       "'13690_11395000'"
      ]
     },
     "execution_count": 19,
     "metadata": {},
     "output_type": "execute_result"
    }
   ],
   "source": [
    "str = \"\".join(re.findall('p_id=(.+)&', links[0]))\n",
    "str"
   ]
  },
  {
   "cell_type": "code",
   "execution_count": 23,
   "metadata": {},
   "outputs": [
    {
     "ename": "TypeError",
     "evalue": "'str' object is not callable",
     "output_type": "error",
     "traceback": [
      "\u001b[0;31m---------------------------------------------------------------------------\u001b[0m",
      "\u001b[0;31mTypeError\u001b[0m                                 Traceback (most recent call last)",
      "\u001b[0;32m<ipython-input-23-cd59c7834750>\u001b[0m in \u001b[0;36m<module>\u001b[0;34m()\u001b[0m\n\u001b[0;32m----> 1\u001b[0;31m \u001b[0mstr\u001b[0m\u001b[0;34m(\u001b[0m\u001b[0mid_lists\u001b[0m\u001b[0;34m[\u001b[0m\u001b[0;36m0\u001b[0m\u001b[0;34m]\u001b[0m\u001b[0;34m[\u001b[0m\u001b[0;34m'p_id'\u001b[0m\u001b[0;34m]\u001b[0m\u001b[0;34m)\u001b[0m\u001b[0;34m\u001b[0m\u001b[0m\n\u001b[0m",
      "\u001b[0;31mTypeError\u001b[0m: 'str' object is not callable"
     ]
    }
   ],
   "source": [
    "str(id_lists[0]['p_id'])"
   ]
  },
  {
   "cell_type": "markdown",
   "metadata": {},
   "source": [
    "### 建立function挑出每個工作的細節soups "
   ]
  },
  {
   "cell_type": "code",
   "execution_count": 24,
   "metadata": {
    "collapsed": true
   },
   "outputs": [],
   "source": [
    "def get_detl_soups(p_id,job_id):\n",
    "    import requests\n",
    "    import json\n",
    "    from bs4 import BeautifulSoup\n",
    "    \n",
    "    url = \"https://www.yes123.com.tw/admin/job_refer_list_showRight_2017.asp\"\n",
    "    data = json.loads(r'''{\n",
    "        \"show_type\": \"1\",\n",
    "        \"search_keyword\": \"java+\"\n",
    "        }''')\n",
    "    headers = json.loads(r'''{\n",
    "        \"Accept\": \"text/html, */*; q=0.01\",\n",
    "        \"Accept-Encoding\": \"gzip, deflate, br\",\n",
    "        \"Accept-Language\": \"en-US,en;q=0.9\",\n",
    "        \"Connection\": \"keep-alive\",\n",
    "        \"Content-Length\": \"91\",\n",
    "        \"Content-Type\": \"application/x-www-form-urlencoded\",\n",
    "        \"Cookie\": \"_sh_c_1=search_type%3Ajob%7Csearch_item%3A1%7Csearch_key_word%3Ajava%7C_mu_ckb_21%3Acheckbox%7C_mu_ckb_22%3Acheckbox%7C_mu_ckb_23%3Acheckbox%7C_mu_ckb_24%3Acheckbox%7C_mu_ckb_25%3Acheckbox; _sh_c_2=search_type%3Ajob%7Csearch_item%3A1%7Csearch_key_word%3Ajava%7C_mu_ckb_21%3Acheckbox%7C_mu_ckb_22%3Acheckbox%7C_mu_ckb_23%3Acheckbox%7C_mu_ckb_24%3Acheckbox%7C_mu_ckb_25%3Acheckbox; __auc=85787841161378664d32a44a05a; _ga=GA1.3.706162762.1517055010; ASPSESSIONIDQSABDTTA=PPFHGBGDPNDNALCFFLPCDMIB; ClientIP=36.230.46.183; __asc=d55aeef216140abe31da723cf8c; _gid=GA1.3.1391408048.1517208463; yes123_make_cookie=9c112cd67175cf1a6d9a5f2eba6b5ee0; view%5Fjob%5Fid%5Fstr=20090828152422%5F84218848%40%21%4020140811103200%5F8514317%40%21%40%E8%B3%87%E6%B7%B1Java%2FJ2EE%E7%A8%8B%E5%BC%8F%E8%A8%AD%E8%A8%88%E5%B8%AB+%28%E5%8F%B0%E5%8C%97%29%E3%80%90BU68%2D%E9%9B%BB%E4%BF%A1%E6%95%B4%E5%90%88%E8%B3%87%E8%A8%8A%E6%8A%80%E8%A1%93%E9%96%8B%E7%99%BC%E8%99%95%E3%80%91%24%21%2420170412141000%5F86714857%40%21%4020180129115052%5F9505124%40%21%40R%2DJava+%E6%8A%80%E8%A1%93%E8%AC%9B%E5%B8%AB%24%21%244761883%5F97179430%40%21%4020171005092013%5F42164%40%21%40C3811+Java%E9%96%8B%E7%99%BC+%E5%B7%A5%E7%A8%8B%E5%B8%AB%28%E5%85%A7%E6%B9%96%29%5F%E9%9B%BB%E5%AD%90%E9%87%91%E6%B5%81%E5%B9%B3%E5%8F%B0%24%21%2420170412141000%5F86714857%40%21%4020170626095751%5F2595896%40%21%40R%2DJava+Full+Stack+Dev+Lead; ASPSESSIONIDQSCRRRQS=BOICDMNCHGCDLNDJAPBKEPPF; citrix_ns_id=WYPzqhUXUw6W4n6ouUpPLvnbjiIA000; ASP.NET_SessionId=767764303; StepCookie_id=767764303; _gat_UA-4824195-2=1; step=9\",\n",
    "        \"Host\": \"www.yes123.com.tw\",\n",
    "        \"Origin\": \"https://www.yes123.com.tw\",\n",
    "        \"Referer\": \"https://www.yes123.com.tw/admin/job_refer_list.asp\",\n",
    "        \"User-Agent\": \"Mozilla/5.0 (X11; Linux x86_64) AppleWebKit/537.36 (KHTML, like Gecko) Chrome/64.0.3282.119 Safari/537.36\",\n",
    "        \"X-Requested-With\": \"XMLHttpRequest\"\n",
    "    }''')\n",
    "\n",
    "    data['p_id'] = p_id\n",
    "    data['job_id'] = job_id\n",
    "    resp = requests.post(url, data=data, headers=headers)\n",
    "    resp.encoding = 'utf-8'\n",
    "    soup = BeautifulSoup(resp.text, 'html5lib')\n",
    "    return soup"
   ]
  },
  {
   "cell_type": "code",
   "execution_count": 25,
   "metadata": {
    "scrolled": true
   },
   "outputs": [
    {
     "data": {
      "text/plain": [
       "'\\t\\t\\n        \\n          \\n          \\n            \\n              \\n\\t\\t\\t\\t\\n              \\n              \\n\\t\\t\\t    \\n\\t\\t\\t  \\n            \\n          \\n          \\n        \\n      \\n      \\n        \\n        \\n\\t\\t  \\n          \\n            徵才特色\\n            1.底薪4萬元以上\\n          \\n\\t\\t  \\n          \\n            職務類別\\n            網路管理工程師\\xa0\\xa0資料庫管理\\xa0\\xa0網路程式設計師\\n          \\n\\t\\t  \\n          \\n            工作性質\\n            全職\\n          \\n\\t\\t  \\n          \\n            工作內容\\n            1. 負責Java/app程式設計、編碼、測試、實施及維護\\n2. 網站相關產品及資料維護\\n          \\n\\t\\t  \\n          \\n            求才人數\\n            1至2人\\n          \\n\\t\\t  \\n          \\n            工作地點\\n            台北市中山區松江路136號5樓\\n\\t\\t\\t\\n\\t\\t\\t\\n\\t\\t\\t\\n          \\n\\t\\t  \\n          \\n            上班時段\\n            09:00~18:00／依公司規定\\n          \\n\\t\\t  \\n          \\n            薪資待遇\\n            依公司規定\\n\\t\\t\\t\\n\\t\\t\\t每月薪資行情表\\n\\t\\t\\t\\n\\t\\t\\t\\n          \\n\\t\\t  \\n          \\n            基本福利\\n            保險：勞保、健保、團保、職災保險、差旅險、新制退休金提撥。休假：週休二日、女性生理假、產假、男性陪產假、育嬰假、家庭照顧假。\\n          \\n\\t\\t  \\n          \\n            加碼福利\\n            獎金：生日禮金、年終獎金、加班費。補助津貼：旅遊補助、進修補助、油資補助、福委'"
      ]
     },
     "execution_count": 25,
     "metadata": {},
     "output_type": "execute_result"
    }
   ],
   "source": [
    "detl_soup = get_detl_soups(id_lists[0]['p_id'],id_lists[0]['job_id'])\n",
    "detl_soup.text[7000:8000]"
   ]
  },
  {
   "cell_type": "code",
   "execution_count": 59,
   "metadata": {},
   "outputs": [
    {
     "data": {
      "text/plain": [
       "[<td class=\"border_d-b\" valign=\"top\">1.底薪4萬元以上</td>,\n",
       " <td class=\"border_d-b\" valign=\"top\">網路管理工程師  資料庫管理  網路程式設計師</td>,\n",
       " <td class=\"border_d-b\" valign=\"top\">全職</td>,\n",
       " <td class=\"border_d-b\" valign=\"top\">1. 負責Java/app程式設計、編碼、測試、實施及維護\n",
       " 2. 網站相關產品及資料維護</td>,\n",
       " <td class=\"border_d-b\" valign=\"top\">1至2人</td>,\n",
       " <td class=\"border_d-b\" valign=\"top\">台北市中山區松江路136號5樓\n",
       " \t\t\t<a href=\"javascript:openfancybox('/admin/corp_job_map_big_navi.asp?p_id=13690_11395000&amp;sub_id=20120614144726_9324965&amp;act_type=add&amp;keepThis=true&amp;TB_iframe=true&amp;height=450&amp;width=625&amp;',625,450);\" title=\"萬海航運股份有限公司\"><img alt=\"\" height=\"15\" src=\"images_2014/icon_Positioning.png\" style=\"vertical-align:sub\" width=\"20\"/></a>\n",
       " \t\t\t\n",
       " \t\t\t</td>,\n",
       " <td class=\"border_d-b\" valign=\"top\">09:00~18:00／依公司規定<br/></td>,\n",
       " <td class=\"border_d-b\" valign=\"top\"><span class=\"text_king\">依公司規定</span>\n",
       " \t\t\t\n",
       " \t\t\t<br/><a class=\"pay_quotes\" href=\"javascript:create_pay('2_1011_0002_0004','網路管理工程師');\">每月薪資行情表</a>\n",
       " \t\t\t\n",
       " \t\t\t</td>,\n",
       " <td class=\"border_d-b\" valign=\"top\">保險：勞保、健保、團保、職災保險、差旅險、新制退休金提撥。<br/>休假：週休二日、女性生理假、產假、男性陪產假、育嬰假、家庭照顧假。<br/></td>,\n",
       " <td class=\"border_d-b\" valign=\"top\">獎金：生日禮金、年終獎金、加班費。<br/>補助津貼：旅遊補助、進修補助、油資補助、福委會/社團補助、婚喪喜慶津貼、生育津貼、伙食津貼、子女教育獎學金、員工教育獎學金。<br/>休閒娛樂：國內員工旅遊、每月慶生會、尾牙/不定期餐敘。<br/>其他福利：員工健康檢查、教育訓練、進修、社團活動、模範員工表揚、員工制服、哺乳室、員工休息室、員工圖書館。<br/></td>,\n",
       " <td class=\"border_d-b\" valign=\"top\">依公司規定<br/></td>,\n",
       " <td class=\"border_d-b\" valign=\"top\">大學以上</td>,\n",
       " <td class=\"border_d-b\" valign=\"top\">資訊管理學類、電算機一般學類、網路學類</td>,\n",
       " <td class=\"border_d-b\" valign=\"top\">2 年以上</td>,\n",
       " <td class=\"border_d-b\" valign=\"top\">英文→聽：普通　說：普通<br/>　　　讀：普通　寫：普通</td>,\n",
       " <td class=\"border_d-b\" valign=\"top\">1. 具備 Web 開發所需知識，如：css、html、xhtml、jQuery、javaScript、JSP等\n",
       " 2. 熟悉 Tomcat(web application)，Linux (or Unix系列)作業系統\n",
       " 3. 有二年以上系統開發經驗，可獨立負責app系統開發設計、編碼及維護工作者佳\n",
       " 4. 熟悉app編程語言者佳\n",
       " </td>,\n",
       " <td class=\"border_d-b\" valign=\"top\">不需負擔管理責任</td>,\n",
       " <td class=\"border_d-b\" valign=\"top\">不需出差</td>,\n",
       " <td align=\"left\" class=\"border_d-b\" valign=\"top\">運輸相關／海運</td>,\n",
       " <td align=\"left\" class=\"border_d-b\" valign=\"top\">海運</td>,\n",
       " <td align=\"left\" class=\"border_d-b\" valign=\"top\">220億元</td>,\n",
       " <td class=\"border_d-b\" valign=\"top\">900人</td>,\n",
       " <td align=\"left\" class=\"border_d-b\" valign=\"top\">02-25677961</td>,\n",
       " <td class=\"border_d-b\" valign=\"top\">\n",
       " \t\t\t台北市中山區松江路136號10樓 \n",
       " \t\t\t\t \n",
       " \t\t\t\t <a href='javascript:openfancybox(\"/admin/corp_job_map_big_navi.asp?p_id=13690_11395000&amp;sub_id=no&amp;act_type=add&amp;keepThis=true&amp;TB_iframe=true&amp;height=450&amp;width=625&amp;\",625,450);'><img alt=\"\" height=\"15\" src=\"images_2014/icon_Positioning.png\" style=\"vertical-align:sub\" title=\"萬海航運股份有限公司\" width=\"20\"/></a>\n",
       " \t             \n",
       "             </td>,\n",
       " <td class=\"border_d-b\" valign=\"top\"><a class=\"text_blue\" href=\"http://www.wanhai.com.tw\" style=\"word-break: break-all;\" target=\"_blank\">http://www.wanhai.com.tw</a></td>,\n",
       " <td class=\"border_d-b\" valign=\"top\">保險：勞保、健保、團保、職災保險、差旅險、新制退休金提撥。<br/>休假：週休二日、女性生理假、產假、男性陪產假、育嬰假、家庭照顧假。<br/></td>,\n",
       " <td class=\"border_d-b\" valign=\"top\">獎金：生日禮金、年終獎金、加班費。<br/>補助津貼：旅遊補助、進修補助、油資補助、福委會/社團補助、婚喪喜慶津貼、生育津貼、伙食津貼、子女教育獎學金、員工教育獎學金。<br/>休閒娛樂：國內員工旅遊、每月慶生會、尾牙/不定期餐敘。<br/>其他福利：員工健康檢查、教育訓練、進修、社團活動、模範員工表揚、員工制服、哺乳室、員工休息室、員工圖書館。<br/></td>,\n",
       " <td align=\"left\" class=\"border_d-b\" valign=\"top\">萬海航運創立於民國五十四年二月二十四日，初期以從事台灣、日本、東南亞間原木運輸為主要營業範圍。爾後鑒於國際海運有逐漸邁入貨櫃化服務之趨勢，乃於民國六十五年七月間購置全貨櫃輪，開始台灣至日本貨櫃運輸服務，而從此樹立了本公司貨櫃服務的里程碑。往後數年本公司陸續擴充船隊、船舶設備，並積極開闢新航線，進而成為遠東地區航次最密集、服務網路最完整之航運公司。 <br/>萬海航運本著「顧客至上、全員參與、環境保護、永續經營」之經營理念，致力提供高品質的服務。密集的航次、準確的船期、親切的服務，是本公司對顧客永久的承諾，在穩健、務實的經營下，深獲廣大廠商客戶的支持愛護與信賴，使得每年的營業額都呈現巨幅成長。本公司本著回饋社會、客戶之宗旨，汲汲充實完備的功能體系，並先後在高雄、基隆、台中成立分公司及辦事處，承租高雄港、台中港及東京大井五號專用碼頭，並於基隆港承租碼頭後線貨櫃儲運場，民國九十八年初由陽明、長榮及本公司共同投資的台北港亦完工啟用，使對貨櫃裝載能提供體系完整，一貫作業的服務。 <br/>本公司於民國七十二年六月首闢日本關東、關西分線川航，達到縮短航程，提高船期準確度，並奠定本公司於日本線市場領導者的地位，為傳統的台、日航線創造了新紀元。另為了擴大經營規模，服務至東南亞投資設廠的台商，七十八年起又陸續開闢了韓、星、馬、泰、印、越等航線，經營狀況穩定成長，達成維持高裝載率之目標。 <br/>由於本公司近洋航線經營績效卓著，除已躍居國內第三大航商，確立近洋航線領先地位外，並屢獲交通部頒發績優航商等殊榮。此外，本公司於八十五年五月份以第一類股掛牌上市，成為航運業績優上市公司。 <br/>萬海藉由亞洲市場之深耕與客戶群之支持，順應市場變化，逐步擴大航運版圖，以提供客戶更完整的服務。隨著近來新造船之交付，積極進行近中遠洋航線之艙位調整及最適配船調度，除亞洲區航線外，更拓展至印度、中東以及北中南美洲，強化營運、力求穩健經營。</td>,\n",
       " <td class=\"border_d-b\" valign=\"top\">船舶運輸業、船務代理、船舶及貨櫃買賣業務、港口貨櫃集散站經營、船舶及貨櫃出租業務</td>,\n",
       " <td class=\"border_d-b\" valign=\"top\">\n",
       " \t\t\t<a class=\"text_blue\" href=\"https://www.google.com/search?q=萬海航運股份有限公司\" target=\"_blank\">Google</a>、\n",
       " \t\t\t<a class=\"text_blue\" href=\"http://gcis.nat.gov.tw/pub/cmpy/cmpyInfoListAction.do\" target=\"_blank\">經濟部商業司</a>、\n",
       " \t\t\t<a class=\"text_blue\" href=\"http://www.etax.nat.gov.tw/etwmain/front/ETW113W1\" target=\"_blank\">財政部營業登記</a>\n",
       " \t\t\t</td>,\n",
       " <td align=\"left\" class=\"border_d-b\" colspan=\"2\" valign=\"top\">\n",
       "               <span style=\"font-weight:bold\">本企業其他工作機會</span> <a class=\"text blue\" href=\"/admin/job_refer_comp_job.asp?p_id=13690_11395000\" target=\"_blank\">(10)</a>：<br/>\n",
       "               <a class=\"text blue\" href=\"/admin/job_refer_comp_job_detail2.asp?p_id=13690_11395000&amp;job_id=20081014173112_5039004_9337447\" target=\"_blank\">船長</a><br/><a class=\"text blue\" href=\"/admin/job_refer_comp_job_detail2.asp?p_id=13690_11395000&amp;job_id=20081014173112_6680460_9431695\" target=\"_blank\">管輪</a><br/><a class=\"text blue\" href=\"/admin/job_refer_comp_job_detail2.asp?p_id=13690_11395000&amp;job_id=20161212174751_7564766\" target=\"_blank\">駐埠船長/駐埠輪機長/駐埠船副/駐埠管輪(船舶稽核)</a><br/><a class=\"text blue\" href=\"/admin/job_refer_comp_job_detail2.asp?p_id=13690_11395000&amp;job_id=20121220180247_29498923\" target=\"_blank\">物料管理師</a><br/><a class=\"text blue\" href=\"/admin/job_refer_comp_job_detail2.asp?p_id=13690_11395000&amp;job_id=20081014173111_1018407_8388526\" target=\"_blank\">大副</a><br/><a class=\"text blue\" href=\"/admin/job_refer_comp_job_detail2.asp?p_id=13690_11395000&amp;job_id=20180103151016_10206379\" target=\"_blank\">全球貨櫃管理師</a><br/>\n",
       "               <a class=\"bt_page s_mt10 left\" href=\"javascript:void(0);\" onclick=\"window.open('/admin/job_refer_comp_job.asp?p_id=13690_11395000')\" title=\"更多工作機會\">更多工作</a>\n",
       "             </td>]"
      ]
     },
     "execution_count": 59,
     "metadata": {},
     "output_type": "execute_result"
    }
   ],
   "source": [
    "detl_soup.select('td.border_d-b')"
   ]
  },
  {
   "cell_type": "markdown",
   "metadata": {},
   "source": [
    "### Function(取得欄位細節)：將soup丟進def中取得各別工作的欄位細節"
   ]
  },
  {
   "cell_type": "code",
   "execution_count": 28,
   "metadata": {
    "collapsed": true
   },
   "outputs": [],
   "source": [
    "def get_detl_desc(detl_soup):\n",
    "    row = {}\n",
    "\n",
    "    row['JobTitle'] = detl_soup.select('h3')[0].text\n",
    "    row['Company'] = detl_soup.select('h4')[0].text\n",
    "    row['Category'] = detl_soup.select('td.border_d-b')[0].text.split()\n",
    "    row['Description'] = detl_soup.select('td.border_d-b')[3].text\n",
    "    row['Area'] = detl_soup.select('td.border_d-b')[4].text.strip()\n",
    "    row['Salary'] = detl_soup.select('td.border_d-b')[6].select('span.text_king')[0].text\n",
    "\n",
    "    return row"
   ]
  },
  {
   "cell_type": "code",
   "execution_count": 29,
   "metadata": {
    "scrolled": true
   },
   "outputs": [
    {
     "ename": "IndexError",
     "evalue": "list index out of range",
     "output_type": "error",
     "traceback": [
      "\u001b[0;31m---------------------------------------------------------------------------\u001b[0m",
      "\u001b[0;31mIndexError\u001b[0m                                Traceback (most recent call last)",
      "\u001b[0;32m<ipython-input-29-68097c7ab550>\u001b[0m in \u001b[0;36m<module>\u001b[0;34m()\u001b[0m\n\u001b[0;32m----> 1\u001b[0;31m \u001b[0mjob_row\u001b[0m \u001b[0;34m=\u001b[0m \u001b[0mget_detl_desc\u001b[0m\u001b[0;34m(\u001b[0m\u001b[0mdetl_soup\u001b[0m\u001b[0;34m)\u001b[0m\u001b[0;34m\u001b[0m\u001b[0m\n\u001b[0m\u001b[1;32m      2\u001b[0m \u001b[0mjob_row\u001b[0m\u001b[0;34m\u001b[0m\u001b[0m\n",
      "\u001b[0;32m<ipython-input-28-73177c733914>\u001b[0m in \u001b[0;36mget_detl_desc\u001b[0;34m(detl_soup)\u001b[0m\n\u001b[1;32m      7\u001b[0m     \u001b[0mrow\u001b[0m\u001b[0;34m[\u001b[0m\u001b[0;34m'Description'\u001b[0m\u001b[0;34m]\u001b[0m \u001b[0;34m=\u001b[0m \u001b[0mdetl_soup\u001b[0m\u001b[0;34m.\u001b[0m\u001b[0mselect\u001b[0m\u001b[0;34m(\u001b[0m\u001b[0;34m'td.border_d-b'\u001b[0m\u001b[0;34m)\u001b[0m\u001b[0;34m[\u001b[0m\u001b[0;36m2\u001b[0m\u001b[0;34m]\u001b[0m\u001b[0;34m.\u001b[0m\u001b[0mtext\u001b[0m\u001b[0;34m\u001b[0m\u001b[0m\n\u001b[1;32m      8\u001b[0m     \u001b[0mrow\u001b[0m\u001b[0;34m[\u001b[0m\u001b[0;34m'Area'\u001b[0m\u001b[0;34m]\u001b[0m \u001b[0;34m=\u001b[0m \u001b[0mdetl_soup\u001b[0m\u001b[0;34m.\u001b[0m\u001b[0mselect\u001b[0m\u001b[0;34m(\u001b[0m\u001b[0;34m'td.border_d-b'\u001b[0m\u001b[0;34m)\u001b[0m\u001b[0;34m[\u001b[0m\u001b[0;36m4\u001b[0m\u001b[0;34m]\u001b[0m\u001b[0;34m.\u001b[0m\u001b[0mtext\u001b[0m\u001b[0;34m.\u001b[0m\u001b[0mstrip\u001b[0m\u001b[0;34m(\u001b[0m\u001b[0;34m)\u001b[0m\u001b[0;34m\u001b[0m\u001b[0m\n\u001b[0;32m----> 9\u001b[0;31m     \u001b[0mrow\u001b[0m\u001b[0;34m[\u001b[0m\u001b[0;34m'Salary'\u001b[0m\u001b[0;34m]\u001b[0m \u001b[0;34m=\u001b[0m \u001b[0mdetl_soup\u001b[0m\u001b[0;34m.\u001b[0m\u001b[0mselect\u001b[0m\u001b[0;34m(\u001b[0m\u001b[0;34m'td.border_d-b'\u001b[0m\u001b[0;34m)\u001b[0m\u001b[0;34m[\u001b[0m\u001b[0;36m6\u001b[0m\u001b[0;34m]\u001b[0m\u001b[0;34m.\u001b[0m\u001b[0mselect\u001b[0m\u001b[0;34m(\u001b[0m\u001b[0;34m'span.text_king'\u001b[0m\u001b[0;34m)\u001b[0m\u001b[0;34m[\u001b[0m\u001b[0;36m0\u001b[0m\u001b[0;34m]\u001b[0m\u001b[0;34m.\u001b[0m\u001b[0mtext\u001b[0m\u001b[0;34m\u001b[0m\u001b[0m\n\u001b[0m\u001b[1;32m     10\u001b[0m \u001b[0;34m\u001b[0m\u001b[0m\n\u001b[1;32m     11\u001b[0m     \u001b[0;32mreturn\u001b[0m \u001b[0mrow\u001b[0m\u001b[0;34m\u001b[0m\u001b[0m\n",
      "\u001b[0;31mIndexError\u001b[0m: list index out of range"
     ]
    }
   ],
   "source": [
    "job_row = get_detl_desc(detl_soup)\n",
    "job_row"
   ]
  },
  {
   "cell_type": "code",
   "execution_count": 32,
   "metadata": {
    "collapsed": true
   },
   "outputs": [],
   "source": [
    "# 原因是有的公司沒有填寫薪資欄位，所以造成list index out of range\n",
    "\n",
    "def get_detl_desc(detl_soup):\n",
    "    row = {}\n",
    "\n",
    "    row['JobTitle'] = detl_soup.select('h3')[0].text\n",
    "    row['Company'] = detl_soup.select('h4')[0].text\n",
    "    row['Category'] = detl_soup.select('td.border_d-b')[0].text.split()\n",
    "    row['Description'] = detl_soup.select('td.border_d-b')[2].text\n",
    "    row['Area'] = detl_soup.select('td.border_d-b')[4].text.strip()\n",
    "    try:\n",
    "        row['Salary'] = detl_soup.select('td.border_d-b')[6].select('span.text_king')[0].text\n",
    "    except IndexError:\n",
    "        row['Salary'] = '未填寫'\n",
    "\n",
    "    return row"
   ]
  },
  {
   "cell_type": "code",
   "execution_count": 33,
   "metadata": {},
   "outputs": [
    {
     "data": {
      "text/plain": [
       "{'Area': '1至2人',\n",
       " 'Category': ['1.底薪4萬元以上'],\n",
       " 'Company': '萬海航運股份有限公司',\n",
       " 'Description': '全職',\n",
       " 'JobTitle': 'Java工程師',\n",
       " 'Salary': '未填寫'}"
      ]
     },
     "execution_count": 33,
     "metadata": {},
     "output_type": "execute_result"
    }
   ],
   "source": [
    "job_row = get_detl_desc(detl_soup)\n",
    "job_row"
   ]
  }
 ],
 "metadata": {
  "kernelspec": {
   "display_name": "Python 3",
   "language": "python",
   "name": "python3"
  },
  "language_info": {
   "codemirror_mode": {
    "name": "ipython",
    "version": 3
   },
   "file_extension": ".py",
   "mimetype": "text/x-python",
   "name": "python",
   "nbconvert_exporter": "python",
   "pygments_lexer": "ipython3",
   "version": "3.6.3"
  }
 },
 "nbformat": 4,
 "nbformat_minor": 2
}
