{
 "cells": [
  {
   "cell_type": "code",
   "execution_count": 4,
   "metadata": {
    "collapsed": true
   },
   "outputs": [],
   "source": [
    "def get_detl_lists():\n",
    "    import requests\n",
    "    import json\n",
    "    from bs4 import BeautifulSoup\n",
    "\n",
    "    url = \"https://www.yes123.com.tw/admin/job_refer_list.asp\"\n",
    "    data = json.loads(r'''{\n",
    "        \"find_key1\": \"java\",\n",
    "        \"search_work\": \"職務\",\n",
    "        \"search_multi_loc\": \"地區\",\n",
    "        \"find_key2\": \"\",\n",
    "        \"search_multi_loc2\": \"請選擇地區\",\n",
    "        \"search_work2\": \"請選擇職務\",\n",
    "        \"search_job2\": \"請選擇行業\",\n",
    "        \"find_key3\": \"\",\n",
    "        \"search_multi_loc3\": \"請選擇地區\",\n",
    "        \"search_work3\": \"請選擇職務\",\n",
    "        \"search_subj\": \"請選擇你的科系\",\n",
    "        \"search_work4\": \"\",\n",
    "        \"search_multi_loc4\": \"請選擇地區\",\n",
    "        \"search_multi_loc5\": \"請選擇地區\",\n",
    "        \"search_work6\": \"\",\n",
    "        \"search_work7\": \"\",\n",
    "        \"search_multi_loc6\": \"\",\n",
    "        \"search_work8\": \"\",\n",
    "        \"search_multi_loc7\": \"\",\n",
    "        \"search_work9\": \"請選擇職務\",\n",
    "        \"find_sf_subj_mode1\": \"\",\n",
    "        \"s_find_sf_subj_mode1\": \"\",\n",
    "        \"find_se_work_mode1\": \"\",\n",
    "        \"s_find_se_work_mode1\": \"\",\n",
    "        \"find_ss_work_mode1\": \"\",\n",
    "        \"s_find_ss_work_mode1\": \"\",\n",
    "        \"find_us_map_mode1\": \"\",\n",
    "        \"find_us_map_mode2\": \"\",\n",
    "        \"find_us_map_mode3\": \"\",\n",
    "        \"find_us_map_mode4\": \"\",\n",
    "        \"search_key_word\": \"java\",\n",
    "        \"search_type\": \"job\",\n",
    "        \"us_menu\": \"\",\n",
    "        \"search_item\": \"1\",\n",
    "        \"search_from\": \"index\"\n",
    "    }''')\n",
    "    headers = json.loads(r'''{\n",
    "        \"Accept\": \"text/html,application/xhtml+xml,application/xml;q=0.9,image/webp,image/apng,*/*;q=0.8\",\n",
    "        \"Accept-Encoding\": \"gzip, deflate, br\",\n",
    "        \"Accept-Language\": \"en-US,en;q=0.9\",\n",
    "        \"Cache-Control\": \"max-age=0\",\n",
    "        \"Connection\": \"keep-alive\",\n",
    "        \"Content-Length\": \"6078\",\n",
    "        \"Content-Type\": \"application/x-www-form-urlencoded\",\n",
    "        \"Cookie\": \"_sh_c_1=search_type%3Ajob%7Csearch_item%3A1%7Csearch_key_word%3Ajava%7C_mu_ckb_21%3Acheckbox%7C_mu_ckb_22%3Acheckbox%7C_mu_ckb_23%3Acheckbox%7C_mu_ckb_24%3Acheckbox%7C_mu_ckb_25%3Acheckbox; _sh_c_2=search_type%3Ajob%7Csearch_item%3A1%7Csearch_key_word%3Ajava%7C_mu_ckb_21%3Acheckbox%7C_mu_ckb_22%3Acheckbox%7C_mu_ckb_23%3Acheckbox%7C_mu_ckb_24%3Acheckbox%7C_mu_ckb_25%3Acheckbox; _sh_c_3=search_type%3Ajob%7Csearch_item%3A1%7Csearch_key_word%3Ajava%7C_mu_ckb_21%3Acheckbox%7C_mu_ckb_22%3Acheckbox%7C_mu_ckb_23%3Acheckbox%7C_mu_ckb_24%3Acheckbox%7C_mu_ckb_25%3Acheckbox; _sh_c_4=search_type%3Ajob%7Csearch_item%3A1%7Csearch_key_word%3Ajava%7C_mu_ckb_21%3Acheckbox%7C_mu_ckb_22%3Acheckbox%7C_mu_ckb_23%3Acheckbox%7C_mu_ckb_24%3Acheckbox%7C_mu_ckb_25%3Acheckbox; _sh_c_5=search_type%3Ajob%7Csearch_item%3A1%7Csearch_key_word%3Ajava%7C_mu_ckb_21%3Acheckbox%7C_mu_ckb_22%3Acheckbox%7C_mu_ckb_23%3Acheckbox%7C_mu_ckb_24%3Acheckbox%7C_mu_ckb_25%3Acheckbox; __auc=9b3990ed160de388f0fbe417dbf; _ga=GA1.3.2064806402.1515556737; _gid=GA1.3.818539509.1516792749; ASPSESSIONIDQQDDBSSB=OKBDCJMAIBPNBCDPEFCOEPBO; ClientIP=61.231.154.120; __asc=250a8ca81612d2740f80e7a5edd; yes123_make_cookie=d24146109896c1e633d3337a1d7b942c; ASPSESSIONIDCABQQRST=AKLFGJDAOIIIHOKAMPMOKLMB; ASPSESSIONIDSSBCATSB=IHLBEFOADKJBOHEBBEJEHIFN; citrix_ns_id=PnNogiQiFA1dct7k19GAtJPh1eIA000; ASP.NET_SessionId=240393075; StepCookie_id=240393075; _gat_UA-4824195-2=1; step=10\",\n",
    "        \"Host\": \"www.yes123.com.tw\",\n",
    "        \"Origin\": \"https://www.yes123.com.tw\",\n",
    "        \"Referer\": \"https://www.yes123.com.tw/admin/index.asp\",\n",
    "        \"Upgrade-Insecure-Requests\": \"1\",\n",
    "        \"User-Agent\": \"Mozilla/5.0 (X11; Linux x86_64) AppleWebKit/537.36 (KHTML, like Gecko) Chrome/63.0.3239.132 Safari/537.36\"\n",
    "    }''')\n",
    "\n",
    "    links = []\n",
    "\n",
    "    for strrec in range(20,101,20):\n",
    "        resp = requests.post(url, data=data, headers=headers)\n",
    "        resp.encoding = 'utf-8'\n",
    "        data['strrec'] = strrec\n",
    "        job_html = resp.text\n",
    "        soup = BeautifulSoup(job_html, 'lxml')\n",
    "        for link in  soup.select('a.jobname'):\n",
    "            try:\n",
    "                links.append(link['href'])\n",
    "            except KeyError:\n",
    "                continue\n",
    "    return links"
   ]
  },
  {
   "cell_type": "code",
   "execution_count": 5,
   "metadata": {},
   "outputs": [
    {
     "data": {
      "text/plain": [
       "['job_refer_comp_job_detail2.asp?p_id=13690_11395000&job_id=20120614144726_9324965',\n",
       " 'job_refer_comp_job_detail2.asp?p_id=24449_69905810&job_id=20180102155549_7990091',\n",
       " 'job_refer_comp_job_detail2.asp?p_id=20170412141000_86714857&job_id=20170626095751_2595896',\n",
       " 'job_refer_comp_job_detail2.asp?p_id=20170412141000_86714857&job_id=20170414164953_7592976',\n",
       " 'job_refer_comp_job_detail2.asp?p_id=20140103100924_27365925&job_id=20160826153242_56497817',\n",
       " 'job_refer_comp_job_detail2.asp?p_id=20170412141000_86714857&job_id=20180129115052_9505124',\n",
       " 'job_refer_comp_job_detail2.asp?p_id=20090828152422_84218848&job_id=20150209114206_441079',\n",
       " 'job_refer_comp_job_detail2.asp?p_id=20090828152422_84218848&job_id=20140811103200_8514317',\n",
       " 'job_refer_comp_job_detail2.asp?p_id=4761883_97179430&job_id=20171005092013_42164',\n",
       " 'job_refer_comp_job_detail2.asp?p_id=4761883_97179430&job_id=20170309095743_1536526',\n",
       " 'job_refer_comp_job_detail2.asp?p_id=4761883_97179430&job_id=20170406093856_5123821',\n",
       " 'job_refer_comp_job_detail2.asp?p_id=4761883_97179430&job_id=20170406093857_8705495',\n",
       " 'job_refer_comp_job_detail2.asp?p_id=4761883_97179430&job_id=20170810095318_4774073',\n",
       " 'job_refer_comp_job_detail2.asp?p_id=4761883_97179430&job_id=20171116092542_6510184',\n",
       " 'job_refer_comp_job_detail2.asp?p_id=20140103100924_27365925&job_id=20140103142303_7184215',\n",
       " 'job_refer_comp_job_detail2.asp?p_id=20140103100924_27365925&job_id=20170202181648_8100619',\n",
       " 'job_refer_comp_job_detail2.asp?p_id=20140103100924_27365925&job_id=20170906174431_99079054',\n",
       " 'job_refer_comp_job_detail2.asp?p_id=20140103100924_27365925&job_id=20171018132119_9867548',\n",
       " 'job_refer_comp_job_detail2.asp?p_id=20140103100924_27365925&job_id=20160426135248_2023322',\n",
       " 'job_refer_comp_job_detail2.asp?p_id=20110520143447_80472760&job_id=20171026144907_38837863',\n",
       " 'job_refer_comp_job_detail2.asp?p_id=20111125115316_84703052&job_id=20140704190856_1610362',\n",
       " 'job_refer_comp_job_detail2.asp?p_id=16606102002&job_id=20141106150244_3751977',\n",
       " 'job_refer_comp_job_detail2.asp?p_id=16606102002&job_id=20150615104319_4510488',\n",
       " 'job_refer_comp_job_detail2.asp?p_id=16606102002&job_id=20150316111524_2802048',\n",
       " 'job_refer_comp_job_detail2.asp?p_id=6620098_86519539&job_id=20180109105623_2852716',\n",
       " 'job_refer_comp_job_detail2.asp?p_id=6620098_86519539&job_id=20170410120931_9436536',\n",
       " 'job_refer_comp_job_detail2.asp?p_id=6620098_86519539&job_id=20170410120933_6387899',\n",
       " 'job_refer_comp_job_detail2.asp?p_id=16606102002&job_id=20141106150209_1022045',\n",
       " 'job_refer_comp_job_detail2.asp?p_id=7840496_28806392&job_id=20170306105106_5183721',\n",
       " 'job_refer_comp_job_detail2.asp?p_id=24449_69905810&job_id=20131121150435_3238617',\n",
       " 'job_refer_comp_job_detail2.asp?p_id=20120720161532_24442955&job_id=20120724174748_9193',\n",
       " 'job_refer_comp_job_detail2.asp?p_id=24449_69905810&job_id=20180102155548_9470506',\n",
       " 'job_refer_comp_job_detail2.asp?p_id=06114_28180236&job_id=20171117152158_27284621',\n",
       " 'job_refer_comp_job_detail2.asp?p_id=20170930140812_98770235&job_id=20171002152027_6083233',\n",
       " 'job_refer_comp_job_detail2.asp?p_id=20170930140812_98770235&job_id=20171002152019_3322718',\n",
       " 'job_refer_comp_job_detail2.asp?p_id=20170412141000_86714857&job_id=20170612121323_3822486',\n",
       " 'job_refer_comp_job_detail2.asp?p_id=9280010_14053007&job_id=20170417085051_1154857',\n",
       " 'job_refer_comp_job_detail2.asp?p_id=20170412141000_86714857&job_id=20170414164959_5862351',\n",
       " 'job_refer_comp_job_detail2.asp?p_id=20170412141000_86714857&job_id=20171106150330_6062128',\n",
       " 'job_refer_comp_job_detail2.asp?p_id=20170412141000_86714857&job_id=20171211115631_4843429',\n",
       " 'job_refer_comp_job_detail2.asp?p_id=20170412141000_86714857&job_id=20171120112933_3847620',\n",
       " 'job_refer_comp_job_detail2.asp?p_id=20090828152422_84218848&job_id=20140610092648_4181451',\n",
       " 'job_refer_comp_job_detail2.asp?p_id=20090828152422_84218848&job_id=20150119101528_5029873',\n",
       " 'job_refer_comp_job_detail2.asp?p_id=20090828152422_84218848&job_id=20140610092643_6118830',\n",
       " 'job_refer_comp_job_detail2.asp?p_id=7447277_16594892&job_id=20150416160841_8328824',\n",
       " 'job_refer_comp_job_detail2.asp?p_id=20090828152422_84218848&job_id=20170731102159_9154734',\n",
       " 'job_refer_comp_job_detail2.asp?p_id=28755_05637971&job_id=20080822022116_6746790_4890512',\n",
       " 'job_refer_comp_job_detail2.asp?p_id=20090828152422_84218848&job_id=20160620104139_297970',\n",
       " 'job_refer_comp_job_detail2.asp?p_id=20091021135833_80296379&job_id=20130820093447_8178980',\n",
       " 'job_refer_comp_job_detail2.asp?p_id=06114_28180236&job_id=20171121113128_8427705',\n",
       " 'job_refer_comp_job_detail2.asp?p_id=20091021135833_80296379&job_id=20091021230658_13642183',\n",
       " 'job_refer_comp_job_detail2.asp?p_id=20110331093741_45485578&job_id=20141110165809_10098679',\n",
       " 'job_refer_comp_job_detail2.asp?p_id=20110331093741_45485578&job_id=20160629230057_62428604',\n",
       " 'job_refer_comp_job_detail2.asp?p_id=20180123165914_63923018&job_id=20180126135815_21796789',\n",
       " 'job_refer_comp_job_detail2.asp?p_id=20160226173729_54150103&job_id=20160902221129_52563405',\n",
       " 'job_refer_comp_job_detail2.asp?p_id=20170217190637_01517124&job_id=20170220112655_2601861',\n",
       " 'job_refer_comp_job_detail2.asp?p_id=20170217190637_01517124&job_id=20170220112706_5889480',\n",
       " 'job_refer_comp_job_detail2.asp?p_id=20170217190637_01517124&job_id=20170220112657_9473610',\n",
       " 'job_refer_comp_job_detail2.asp?p_id=20170407152814_26978496&job_id=20170407180246_15139516',\n",
       " 'job_refer_comp_job_detail2.asp?p_id=20090903161014_29045012&job_id=20171120155903_71373696',\n",
       " 'job_refer_comp_job_detail2.asp?p_id=2394787_22822281&job_id=20170330093731_7459724',\n",
       " 'job_refer_comp_job_detail2.asp?p_id=2394787_22822281&job_id=20101028113341_4591711',\n",
       " 'job_refer_comp_job_detail2.asp?p_id=9176403_12341051&job_id=20160602094126_3299480',\n",
       " 'job_refer_comp_job_detail2.asp?p_id=10205_16803238&job_id=20170314175240_5845958',\n",
       " 'job_refer_comp_job_detail2.asp?p_id=20180123145112_59344924&job_id=20180124231009_9627446',\n",
       " 'job_refer_comp_job_detail2.asp?p_id=20180123145112_59344924&job_id=20180124231009_95462',\n",
       " 'job_refer_comp_job_detail2.asp?p_id=20170830145927_24984249&job_id=20170904152652_55955543',\n",
       " 'job_refer_comp_job_detail2.asp?p_id=20170915150516_16638110&job_id=20180103170423_3751620',\n",
       " 'job_refer_comp_job_detail2.asp?p_id=20180124133623_61756008&job_id=20180124140227_14277564',\n",
       " 'job_refer_comp_job_detail2.asp?p_id=98526_16432742&job_id=20180124120437_17719610',\n",
       " 'job_refer_comp_job_detail2.asp?p_id=20140103100924_27365925&job_id=20140103142307_1463769',\n",
       " 'job_refer_comp_job_detail2.asp?p_id=20170922094722_28682266&job_id=20180124113603_6106229',\n",
       " 'job_refer_comp_job_detail2.asp?p_id=20130121173217_26897641&job_id=20171228154958_9294851',\n",
       " 'job_refer_comp_job_detail2.asp?p_id=20110520143447_80472760&job_id=20171026145736_4821443',\n",
       " 'job_refer_comp_job_detail2.asp?p_id=20110520143447_80472760&job_id=20171027100748_45249581',\n",
       " 'job_refer_comp_job_detail2.asp?p_id=86357_70747852&job_id=20160104110959_7848271',\n",
       " 'job_refer_comp_job_detail2.asp?p_id=4630199_22817999&job_id=20170911115019_7207889',\n",
       " 'job_refer_comp_job_detail2.asp?p_id=4630199_22817999&job_id=20170911115021_3668807',\n",
       " 'job_refer_comp_job_detail2.asp?p_id=83151_04322046&job_id=20170509090641_1020106',\n",
       " 'job_refer_comp_job_detail2.asp?p_id=83151_04322046&job_id=20170725140656_2207358',\n",
       " 'job_refer_comp_job_detail2.asp?p_id=6620098_86519539&job_id=20170410120833_5573011',\n",
       " 'job_refer_comp_job_detail2.asp?p_id=20170410113427_52629278&job_id=20171109173650_87698736',\n",
       " 'job_refer_comp_job_detail2.asp?p_id=8926311_84149358&job_id=20140826094739_5214185',\n",
       " 'job_refer_comp_job_detail2.asp?p_id=8926311_84149358&job_id=20110331154512_2622578',\n",
       " 'job_refer_comp_job_detail2.asp?p_id=4630199_22817999&job_id=20170911115023_6185618',\n",
       " 'job_refer_comp_job_detail2.asp?p_id=20151104135134_27790392&job_id=20151104151827_6335275',\n",
       " 'job_refer_comp_job_detail2.asp?p_id=25530_68919301&job_id=20171020092039_7848866',\n",
       " 'job_refer_comp_job_detail2.asp?p_id=20090713095742_29059991&job_id=20150128211706_581005',\n",
       " 'job_refer_comp_job_detail2.asp?p_id=20090713095742_29059991&job_id=20090716171555_40859765',\n",
       " 'job_refer_comp_job_detail2.asp?p_id=20110520171307_12215548&job_id=20170606160230_1393967',\n",
       " 'job_refer_comp_job_detail2.asp?p_id=20110520171307_12215548&job_id=20170606160229_5809847',\n",
       " 'job_refer_comp_job_detail2.asp?p_id=20090713095742_29059991&job_id=20140930183553_1202809',\n",
       " 'job_refer_comp_job_detail2.asp?p_id=20121205121126_53893872&job_id=20170213153953_62721',\n",
       " 'job_refer_comp_job_detail2.asp?p_id=20170606153705_24369238&job_id=20171113090724_18845',\n",
       " 'job_refer_comp_job_detail2.asp?p_id=20170606153705_24369238&job_id=20170607015201_23280305',\n",
       " 'job_refer_comp_job_detail2.asp?p_id=20090219093446_12956129&job_id=20110113184736_549576',\n",
       " 'job_refer_comp_job_detail2.asp?p_id=20170419144203_22579547&job_id=20170427175550_53333979',\n",
       " 'job_refer_comp_job_detail2.asp?p_id=20100303140900_24468434&job_id=20140220093358_1790']"
      ]
     },
     "execution_count": 5,
     "metadata": {},
     "output_type": "execute_result"
    }
   ],
   "source": [
    "t = get_detl_lists()\n",
    "t"
   ]
  },
  {
   "cell_type": "code",
   "execution_count": null,
   "metadata": {
    "collapsed": true
   },
   "outputs": [],
   "source": [
    "def get_id(link):\n",
    "    import re\n",
    "    row_with_id = {}\n",
    "    row_with_id['p_id'] = re.findall('p_id=(.+)&', link)\n",
    "    row_with_id['job_id'] = re.findall('job_id=(.+)', link)\n",
    "    return row_with_id"
   ]
  },
  {
   "cell_type": "code",
   "execution_count": null,
   "metadata": {
    "collapsed": true
   },
   "outputs": [],
   "source": [
    "def get_detl_soups(p_id,job_id):\n",
    "    import requests\n",
    "    import json\n",
    "    from bs4 import BeautifulSoup\n",
    "    \n",
    "    url = \"https://www.yes123.com.tw/admin/job_refer_list_showRight_2017.asp\"\n",
    "    data = json.loads(r'''{\n",
    "        \"show_type\": \"1\",\n",
    "        \"search_keyword\": \"java+\"\n",
    "        }''')\n",
    "    headers = json.loads(r'''{\n",
    "        \"Accept\": \"text/html, */*; q=0.01\",\n",
    "        \"Accept-Encoding\": \"gzip, deflate, br\",\n",
    "        \"Accept-Language\": \"en-US,en;q=0.9\",\n",
    "        \"Connection\": \"keep-alive\",\n",
    "        \"Content-Length\": \"91\",\n",
    "        \"Content-Type\": \"application/x-www-form-urlencoded\",\n",
    "        \"Cookie\": \"_sh_c_1=search_type%3Ajob%7Csearch_item%3A1%7Csearch_key_word%3Ajava%7C_mu_ckb_21%3Acheckbox%7C_mu_ckb_22%3Acheckbox%7C_mu_ckb_23%3Acheckbox%7C_mu_ckb_24%3Acheckbox%7C_mu_ckb_25%3Acheckbox; _sh_c_2=search_type%3Ajob%7Csearch_item%3A1%7Csearch_key_word%3Ajava%7C_mu_ckb_21%3Acheckbox%7C_mu_ckb_22%3Acheckbox%7C_mu_ckb_23%3Acheckbox%7C_mu_ckb_24%3Acheckbox%7C_mu_ckb_25%3Acheckbox; __auc=85787841161378664d32a44a05a; _ga=GA1.3.706162762.1517055010; ASPSESSIONIDQSABDTTA=PPFHGBGDPNDNALCFFLPCDMIB; ClientIP=36.230.46.183; __asc=d55aeef216140abe31da723cf8c; _gid=GA1.3.1391408048.1517208463; yes123_make_cookie=9c112cd67175cf1a6d9a5f2eba6b5ee0; view%5Fjob%5Fid%5Fstr=20090828152422%5F84218848%40%21%4020140811103200%5F8514317%40%21%40%E8%B3%87%E6%B7%B1Java%2FJ2EE%E7%A8%8B%E5%BC%8F%E8%A8%AD%E8%A8%88%E5%B8%AB+%28%E5%8F%B0%E5%8C%97%29%E3%80%90BU68%2D%E9%9B%BB%E4%BF%A1%E6%95%B4%E5%90%88%E8%B3%87%E8%A8%8A%E6%8A%80%E8%A1%93%E9%96%8B%E7%99%BC%E8%99%95%E3%80%91%24%21%2420170412141000%5F86714857%40%21%4020180129115052%5F9505124%40%21%40R%2DJava+%E6%8A%80%E8%A1%93%E8%AC%9B%E5%B8%AB%24%21%244761883%5F97179430%40%21%4020171005092013%5F42164%40%21%40C3811+Java%E9%96%8B%E7%99%BC+%E5%B7%A5%E7%A8%8B%E5%B8%AB%28%E5%85%A7%E6%B9%96%29%5F%E9%9B%BB%E5%AD%90%E9%87%91%E6%B5%81%E5%B9%B3%E5%8F%B0%24%21%2420170412141000%5F86714857%40%21%4020170626095751%5F2595896%40%21%40R%2DJava+Full+Stack+Dev+Lead; ASPSESSIONIDQSCRRRQS=BOICDMNCHGCDLNDJAPBKEPPF; citrix_ns_id=WYPzqhUXUw6W4n6ouUpPLvnbjiIA000; ASP.NET_SessionId=767764303; StepCookie_id=767764303; _gat_UA-4824195-2=1; step=9\",\n",
    "        \"Host\": \"www.yes123.com.tw\",\n",
    "        \"Origin\": \"https://www.yes123.com.tw\",\n",
    "        \"Referer\": \"https://www.yes123.com.tw/admin/job_refer_list.asp\",\n",
    "        \"User-Agent\": \"Mozilla/5.0 (X11; Linux x86_64) AppleWebKit/537.36 (KHTML, like Gecko) Chrome/64.0.3282.119 Safari/537.36\",\n",
    "        \"X-Requested-With\": \"XMLHttpRequest\"\n",
    "    }''')\n",
    "\n",
    "    data['p_id'] = p_id\n",
    "    data['job_id'] = job_id\n",
    "    resp = requests.post(url, data=data, headers=headers)\n",
    "    resp.encoding = 'utf-8'\n",
    "    soup = BeautifulSoup(resp.text, 'html5lib')\n",
    "    return soup"
   ]
  },
  {
   "cell_type": "code",
   "execution_count": null,
   "metadata": {
    "collapsed": true
   },
   "outputs": [],
   "source": [
    "def get_detl_desc(detl_soup):\n",
    "    row = {}\n",
    "\n",
    "    row['JobTitle'] = detl_soup.select('h3')[0].text\n",
    "    row['Company'] = detl_soup.select('h4')[0].text\n",
    "    row['Category'] = detl_soup.select('td.border_d-b')[0].text.split()\n",
    "    row['Description'] = detl_soup.select('td.border_d-b')[2].text\n",
    "    row['Area'] = detl_soup.select('td.border_d-b')[4].text.strip()\n",
    "    try:\n",
    "        row['Salary'] = detl_soup.select('td.border_d-b')[6].select('span.text_king')[0].text\n",
    "    except IndexError:\n",
    "        row['Salary'] = '未填寫'\n",
    "\n",
    "    return row"
   ]
  },
  {
   "cell_type": "code",
   "execution_count": null,
   "metadata": {
    "collapsed": true
   },
   "outputs": [],
   "source": [
    "links = get_detl_lists()"
   ]
  },
  {
   "cell_type": "code",
   "execution_count": null,
   "metadata": {
    "collapsed": true
   },
   "outputs": [],
   "source": [
    "links"
   ]
  },
  {
   "cell_type": "code",
   "execution_count": null,
   "metadata": {
    "collapsed": true,
    "scrolled": true
   },
   "outputs": [],
   "source": [
    "id_lists"
   ]
  },
  {
   "cell_type": "code",
   "execution_count": null,
   "metadata": {
    "collapsed": true
   },
   "outputs": [],
   "source": [
    "job_rows = []\n",
    "\n",
    "for link in links:\n",
    "    id_list = get_id(link)\n",
    "    detl_soup = get_detl_soups(id_list['p_id'],id_list['job_id'])\n",
    "    job_row = get_detl_desc(detl_soup)\n",
    "    job_rows.append(job_row)"
   ]
  },
  {
   "cell_type": "code",
   "execution_count": null,
   "metadata": {
    "collapsed": true
   },
   "outputs": [],
   "source": [
    "job_rows[90]"
   ]
  },
  {
   "cell_type": "code",
   "execution_count": 1,
   "metadata": {
    "collapsed": true
   },
   "outputs": [],
   "source": [
    "import requests"
   ]
  },
  {
   "cell_type": "code",
   "execution_count": 2,
   "metadata": {},
   "outputs": [
    {
     "ename": "ConnectionError",
     "evalue": "('Connection aborted.', OSError(\"(104, 'ECONNRESET')\",))",
     "output_type": "error",
     "traceback": [
      "\u001b[0;31m---------------------------------------------------------------------------\u001b[0m",
      "\u001b[0;31mOSError\u001b[0m                                   Traceback (most recent call last)",
      "\u001b[0;32m~/.pyenv/versions/anaconda3-5.0.1/lib/python3.6/site-packages/urllib3/connectionpool.py\u001b[0m in \u001b[0;36murlopen\u001b[0;34m(self, method, url, body, headers, retries, redirect, assert_same_host, timeout, pool_timeout, release_conn, chunked, body_pos, **response_kw)\u001b[0m\n\u001b[1;32m    600\u001b[0m                                                   \u001b[0mbody\u001b[0m\u001b[0;34m=\u001b[0m\u001b[0mbody\u001b[0m\u001b[0;34m,\u001b[0m \u001b[0mheaders\u001b[0m\u001b[0;34m=\u001b[0m\u001b[0mheaders\u001b[0m\u001b[0;34m,\u001b[0m\u001b[0;34m\u001b[0m\u001b[0m\n\u001b[0;32m--> 601\u001b[0;31m                                                   chunked=chunked)\n\u001b[0m\u001b[1;32m    602\u001b[0m \u001b[0;34m\u001b[0m\u001b[0m\n",
      "\u001b[0;32m~/.pyenv/versions/anaconda3-5.0.1/lib/python3.6/site-packages/urllib3/connectionpool.py\u001b[0m in \u001b[0;36m_make_request\u001b[0;34m(self, conn, method, url, timeout, chunked, **httplib_request_kw)\u001b[0m\n\u001b[1;32m    386\u001b[0m                     \u001b[0;31m# otherwise it looks like a programming error was the cause.\u001b[0m\u001b[0;34m\u001b[0m\u001b[0;34m\u001b[0m\u001b[0m\n\u001b[0;32m--> 387\u001b[0;31m                     \u001b[0msix\u001b[0m\u001b[0;34m.\u001b[0m\u001b[0mraise_from\u001b[0m\u001b[0;34m(\u001b[0m\u001b[0me\u001b[0m\u001b[0;34m,\u001b[0m \u001b[0;32mNone\u001b[0m\u001b[0;34m)\u001b[0m\u001b[0;34m\u001b[0m\u001b[0m\n\u001b[0m\u001b[1;32m    388\u001b[0m         \u001b[0;32mexcept\u001b[0m \u001b[0;34m(\u001b[0m\u001b[0mSocketTimeout\u001b[0m\u001b[0;34m,\u001b[0m \u001b[0mBaseSSLError\u001b[0m\u001b[0;34m,\u001b[0m \u001b[0mSocketError\u001b[0m\u001b[0;34m)\u001b[0m \u001b[0;32mas\u001b[0m \u001b[0me\u001b[0m\u001b[0;34m:\u001b[0m\u001b[0;34m\u001b[0m\u001b[0m\n",
      "\u001b[0;32m~/.pyenv/versions/anaconda3-5.0.1/lib/python3.6/site-packages/urllib3/packages/six.py\u001b[0m in \u001b[0;36mraise_from\u001b[0;34m(value, from_value)\u001b[0m\n",
      "\u001b[0;32m~/.pyenv/versions/anaconda3-5.0.1/lib/python3.6/site-packages/urllib3/connectionpool.py\u001b[0m in \u001b[0;36m_make_request\u001b[0;34m(self, conn, method, url, timeout, chunked, **httplib_request_kw)\u001b[0m\n\u001b[1;32m    382\u001b[0m                 \u001b[0;32mtry\u001b[0m\u001b[0;34m:\u001b[0m\u001b[0;34m\u001b[0m\u001b[0m\n\u001b[0;32m--> 383\u001b[0;31m                     \u001b[0mhttplib_response\u001b[0m \u001b[0;34m=\u001b[0m \u001b[0mconn\u001b[0m\u001b[0;34m.\u001b[0m\u001b[0mgetresponse\u001b[0m\u001b[0;34m(\u001b[0m\u001b[0;34m)\u001b[0m\u001b[0;34m\u001b[0m\u001b[0m\n\u001b[0m\u001b[1;32m    384\u001b[0m                 \u001b[0;32mexcept\u001b[0m \u001b[0mException\u001b[0m \u001b[0;32mas\u001b[0m \u001b[0me\u001b[0m\u001b[0;34m:\u001b[0m\u001b[0;34m\u001b[0m\u001b[0m\n",
      "\u001b[0;32m~/.pyenv/versions/anaconda3-5.0.1/lib/python3.6/http/client.py\u001b[0m in \u001b[0;36mgetresponse\u001b[0;34m(self)\u001b[0m\n\u001b[1;32m   1330\u001b[0m             \u001b[0;32mtry\u001b[0m\u001b[0;34m:\u001b[0m\u001b[0;34m\u001b[0m\u001b[0m\n\u001b[0;32m-> 1331\u001b[0;31m                 \u001b[0mresponse\u001b[0m\u001b[0;34m.\u001b[0m\u001b[0mbegin\u001b[0m\u001b[0;34m(\u001b[0m\u001b[0;34m)\u001b[0m\u001b[0;34m\u001b[0m\u001b[0m\n\u001b[0m\u001b[1;32m   1332\u001b[0m             \u001b[0;32mexcept\u001b[0m \u001b[0mConnectionError\u001b[0m\u001b[0;34m:\u001b[0m\u001b[0;34m\u001b[0m\u001b[0m\n",
      "\u001b[0;32m~/.pyenv/versions/anaconda3-5.0.1/lib/python3.6/http/client.py\u001b[0m in \u001b[0;36mbegin\u001b[0;34m(self)\u001b[0m\n\u001b[1;32m    296\u001b[0m         \u001b[0;32mwhile\u001b[0m \u001b[0;32mTrue\u001b[0m\u001b[0;34m:\u001b[0m\u001b[0;34m\u001b[0m\u001b[0m\n\u001b[0;32m--> 297\u001b[0;31m             \u001b[0mversion\u001b[0m\u001b[0;34m,\u001b[0m \u001b[0mstatus\u001b[0m\u001b[0;34m,\u001b[0m \u001b[0mreason\u001b[0m \u001b[0;34m=\u001b[0m \u001b[0mself\u001b[0m\u001b[0;34m.\u001b[0m\u001b[0m_read_status\u001b[0m\u001b[0;34m(\u001b[0m\u001b[0;34m)\u001b[0m\u001b[0;34m\u001b[0m\u001b[0m\n\u001b[0m\u001b[1;32m    298\u001b[0m             \u001b[0;32mif\u001b[0m \u001b[0mstatus\u001b[0m \u001b[0;34m!=\u001b[0m \u001b[0mCONTINUE\u001b[0m\u001b[0;34m:\u001b[0m\u001b[0;34m\u001b[0m\u001b[0m\n",
      "\u001b[0;32m~/.pyenv/versions/anaconda3-5.0.1/lib/python3.6/http/client.py\u001b[0m in \u001b[0;36m_read_status\u001b[0;34m(self)\u001b[0m\n\u001b[1;32m    257\u001b[0m     \u001b[0;32mdef\u001b[0m \u001b[0m_read_status\u001b[0m\u001b[0;34m(\u001b[0m\u001b[0mself\u001b[0m\u001b[0;34m)\u001b[0m\u001b[0;34m:\u001b[0m\u001b[0;34m\u001b[0m\u001b[0m\n\u001b[0;32m--> 258\u001b[0;31m         \u001b[0mline\u001b[0m \u001b[0;34m=\u001b[0m \u001b[0mstr\u001b[0m\u001b[0;34m(\u001b[0m\u001b[0mself\u001b[0m\u001b[0;34m.\u001b[0m\u001b[0mfp\u001b[0m\u001b[0;34m.\u001b[0m\u001b[0mreadline\u001b[0m\u001b[0;34m(\u001b[0m\u001b[0m_MAXLINE\u001b[0m \u001b[0;34m+\u001b[0m \u001b[0;36m1\u001b[0m\u001b[0;34m)\u001b[0m\u001b[0;34m,\u001b[0m \u001b[0;34m\"iso-8859-1\"\u001b[0m\u001b[0;34m)\u001b[0m\u001b[0;34m\u001b[0m\u001b[0m\n\u001b[0m\u001b[1;32m    259\u001b[0m         \u001b[0;32mif\u001b[0m \u001b[0mlen\u001b[0m\u001b[0;34m(\u001b[0m\u001b[0mline\u001b[0m\u001b[0;34m)\u001b[0m \u001b[0;34m>\u001b[0m \u001b[0m_MAXLINE\u001b[0m\u001b[0;34m:\u001b[0m\u001b[0;34m\u001b[0m\u001b[0m\n",
      "\u001b[0;32m~/.pyenv/versions/anaconda3-5.0.1/lib/python3.6/socket.py\u001b[0m in \u001b[0;36mreadinto\u001b[0;34m(self, b)\u001b[0m\n\u001b[1;32m    585\u001b[0m             \u001b[0;32mtry\u001b[0m\u001b[0;34m:\u001b[0m\u001b[0;34m\u001b[0m\u001b[0m\n\u001b[0;32m--> 586\u001b[0;31m                 \u001b[0;32mreturn\u001b[0m \u001b[0mself\u001b[0m\u001b[0;34m.\u001b[0m\u001b[0m_sock\u001b[0m\u001b[0;34m.\u001b[0m\u001b[0mrecv_into\u001b[0m\u001b[0;34m(\u001b[0m\u001b[0mb\u001b[0m\u001b[0;34m)\u001b[0m\u001b[0;34m\u001b[0m\u001b[0m\n\u001b[0m\u001b[1;32m    587\u001b[0m             \u001b[0;32mexcept\u001b[0m \u001b[0mtimeout\u001b[0m\u001b[0;34m:\u001b[0m\u001b[0;34m\u001b[0m\u001b[0m\n",
      "\u001b[0;32m~/.pyenv/versions/anaconda3-5.0.1/lib/python3.6/site-packages/urllib3/contrib/pyopenssl.py\u001b[0m in \u001b[0;36mrecv_into\u001b[0;34m(self, *args, **kwargs)\u001b[0m\n\u001b[1;32m    284\u001b[0m             \u001b[0;32melse\u001b[0m\u001b[0;34m:\u001b[0m\u001b[0;34m\u001b[0m\u001b[0m\n\u001b[0;32m--> 285\u001b[0;31m                 \u001b[0;32mraise\u001b[0m \u001b[0mSocketError\u001b[0m\u001b[0;34m(\u001b[0m\u001b[0mstr\u001b[0m\u001b[0;34m(\u001b[0m\u001b[0me\u001b[0m\u001b[0;34m)\u001b[0m\u001b[0;34m)\u001b[0m\u001b[0;34m\u001b[0m\u001b[0m\n\u001b[0m\u001b[1;32m    286\u001b[0m         \u001b[0;32mexcept\u001b[0m \u001b[0mOpenSSL\u001b[0m\u001b[0;34m.\u001b[0m\u001b[0mSSL\u001b[0m\u001b[0;34m.\u001b[0m\u001b[0mZeroReturnError\u001b[0m \u001b[0;32mas\u001b[0m \u001b[0me\u001b[0m\u001b[0;34m:\u001b[0m\u001b[0;34m\u001b[0m\u001b[0m\n",
      "\u001b[0;31mOSError\u001b[0m: (104, 'ECONNRESET')",
      "\nDuring handling of the above exception, another exception occurred:\n",
      "\u001b[0;31mProtocolError\u001b[0m                             Traceback (most recent call last)",
      "\u001b[0;32m~/.pyenv/versions/anaconda3-5.0.1/lib/python3.6/site-packages/requests/adapters.py\u001b[0m in \u001b[0;36msend\u001b[0;34m(self, request, stream, timeout, verify, cert, proxies)\u001b[0m\n\u001b[1;32m    439\u001b[0m                     \u001b[0mretries\u001b[0m\u001b[0;34m=\u001b[0m\u001b[0mself\u001b[0m\u001b[0;34m.\u001b[0m\u001b[0mmax_retries\u001b[0m\u001b[0;34m,\u001b[0m\u001b[0;34m\u001b[0m\u001b[0m\n\u001b[0;32m--> 440\u001b[0;31m                     \u001b[0mtimeout\u001b[0m\u001b[0;34m=\u001b[0m\u001b[0mtimeout\u001b[0m\u001b[0;34m\u001b[0m\u001b[0m\n\u001b[0m\u001b[1;32m    441\u001b[0m                 )\n",
      "\u001b[0;32m~/.pyenv/versions/anaconda3-5.0.1/lib/python3.6/site-packages/urllib3/connectionpool.py\u001b[0m in \u001b[0;36murlopen\u001b[0;34m(self, method, url, body, headers, retries, redirect, assert_same_host, timeout, pool_timeout, release_conn, chunked, body_pos, **response_kw)\u001b[0m\n\u001b[1;32m    638\u001b[0m             retries = retries.increment(method, url, error=e, _pool=self,\n\u001b[0;32m--> 639\u001b[0;31m                                         _stacktrace=sys.exc_info()[2])\n\u001b[0m\u001b[1;32m    640\u001b[0m             \u001b[0mretries\u001b[0m\u001b[0;34m.\u001b[0m\u001b[0msleep\u001b[0m\u001b[0;34m(\u001b[0m\u001b[0;34m)\u001b[0m\u001b[0;34m\u001b[0m\u001b[0m\n",
      "\u001b[0;32m~/.pyenv/versions/anaconda3-5.0.1/lib/python3.6/site-packages/urllib3/util/retry.py\u001b[0m in \u001b[0;36mincrement\u001b[0;34m(self, method, url, response, error, _pool, _stacktrace)\u001b[0m\n\u001b[1;32m    356\u001b[0m             \u001b[0;32mif\u001b[0m \u001b[0mread\u001b[0m \u001b[0;32mis\u001b[0m \u001b[0;32mFalse\u001b[0m \u001b[0;32mor\u001b[0m \u001b[0;32mnot\u001b[0m \u001b[0mself\u001b[0m\u001b[0;34m.\u001b[0m\u001b[0m_is_method_retryable\u001b[0m\u001b[0;34m(\u001b[0m\u001b[0mmethod\u001b[0m\u001b[0;34m)\u001b[0m\u001b[0;34m:\u001b[0m\u001b[0;34m\u001b[0m\u001b[0m\n\u001b[0;32m--> 357\u001b[0;31m                 \u001b[0;32mraise\u001b[0m \u001b[0msix\u001b[0m\u001b[0;34m.\u001b[0m\u001b[0mreraise\u001b[0m\u001b[0;34m(\u001b[0m\u001b[0mtype\u001b[0m\u001b[0;34m(\u001b[0m\u001b[0merror\u001b[0m\u001b[0;34m)\u001b[0m\u001b[0;34m,\u001b[0m \u001b[0merror\u001b[0m\u001b[0;34m,\u001b[0m \u001b[0m_stacktrace\u001b[0m\u001b[0;34m)\u001b[0m\u001b[0;34m\u001b[0m\u001b[0m\n\u001b[0m\u001b[1;32m    358\u001b[0m             \u001b[0;32melif\u001b[0m \u001b[0mread\u001b[0m \u001b[0;32mis\u001b[0m \u001b[0;32mnot\u001b[0m \u001b[0;32mNone\u001b[0m\u001b[0;34m:\u001b[0m\u001b[0;34m\u001b[0m\u001b[0m\n",
      "\u001b[0;32m~/.pyenv/versions/anaconda3-5.0.1/lib/python3.6/site-packages/urllib3/packages/six.py\u001b[0m in \u001b[0;36mreraise\u001b[0;34m(tp, value, tb)\u001b[0m\n\u001b[1;32m    684\u001b[0m         \u001b[0;32mif\u001b[0m \u001b[0mvalue\u001b[0m\u001b[0;34m.\u001b[0m\u001b[0m__traceback__\u001b[0m \u001b[0;32mis\u001b[0m \u001b[0;32mnot\u001b[0m \u001b[0mtb\u001b[0m\u001b[0;34m:\u001b[0m\u001b[0;34m\u001b[0m\u001b[0m\n\u001b[0;32m--> 685\u001b[0;31m             \u001b[0;32mraise\u001b[0m \u001b[0mvalue\u001b[0m\u001b[0;34m.\u001b[0m\u001b[0mwith_traceback\u001b[0m\u001b[0;34m(\u001b[0m\u001b[0mtb\u001b[0m\u001b[0;34m)\u001b[0m\u001b[0;34m\u001b[0m\u001b[0m\n\u001b[0m\u001b[1;32m    686\u001b[0m         \u001b[0;32mraise\u001b[0m \u001b[0mvalue\u001b[0m\u001b[0;34m\u001b[0m\u001b[0m\n",
      "\u001b[0;32m~/.pyenv/versions/anaconda3-5.0.1/lib/python3.6/site-packages/urllib3/connectionpool.py\u001b[0m in \u001b[0;36murlopen\u001b[0;34m(self, method, url, body, headers, retries, redirect, assert_same_host, timeout, pool_timeout, release_conn, chunked, body_pos, **response_kw)\u001b[0m\n\u001b[1;32m    600\u001b[0m                                                   \u001b[0mbody\u001b[0m\u001b[0;34m=\u001b[0m\u001b[0mbody\u001b[0m\u001b[0;34m,\u001b[0m \u001b[0mheaders\u001b[0m\u001b[0;34m=\u001b[0m\u001b[0mheaders\u001b[0m\u001b[0;34m,\u001b[0m\u001b[0;34m\u001b[0m\u001b[0m\n\u001b[0;32m--> 601\u001b[0;31m                                                   chunked=chunked)\n\u001b[0m\u001b[1;32m    602\u001b[0m \u001b[0;34m\u001b[0m\u001b[0m\n",
      "\u001b[0;32m~/.pyenv/versions/anaconda3-5.0.1/lib/python3.6/site-packages/urllib3/connectionpool.py\u001b[0m in \u001b[0;36m_make_request\u001b[0;34m(self, conn, method, url, timeout, chunked, **httplib_request_kw)\u001b[0m\n\u001b[1;32m    386\u001b[0m                     \u001b[0;31m# otherwise it looks like a programming error was the cause.\u001b[0m\u001b[0;34m\u001b[0m\u001b[0;34m\u001b[0m\u001b[0m\n\u001b[0;32m--> 387\u001b[0;31m                     \u001b[0msix\u001b[0m\u001b[0;34m.\u001b[0m\u001b[0mraise_from\u001b[0m\u001b[0;34m(\u001b[0m\u001b[0me\u001b[0m\u001b[0;34m,\u001b[0m \u001b[0;32mNone\u001b[0m\u001b[0;34m)\u001b[0m\u001b[0;34m\u001b[0m\u001b[0m\n\u001b[0m\u001b[1;32m    388\u001b[0m         \u001b[0;32mexcept\u001b[0m \u001b[0;34m(\u001b[0m\u001b[0mSocketTimeout\u001b[0m\u001b[0;34m,\u001b[0m \u001b[0mBaseSSLError\u001b[0m\u001b[0;34m,\u001b[0m \u001b[0mSocketError\u001b[0m\u001b[0;34m)\u001b[0m \u001b[0;32mas\u001b[0m \u001b[0me\u001b[0m\u001b[0;34m:\u001b[0m\u001b[0;34m\u001b[0m\u001b[0m\n",
      "\u001b[0;32m~/.pyenv/versions/anaconda3-5.0.1/lib/python3.6/site-packages/urllib3/packages/six.py\u001b[0m in \u001b[0;36mraise_from\u001b[0;34m(value, from_value)\u001b[0m\n",
      "\u001b[0;32m~/.pyenv/versions/anaconda3-5.0.1/lib/python3.6/site-packages/urllib3/connectionpool.py\u001b[0m in \u001b[0;36m_make_request\u001b[0;34m(self, conn, method, url, timeout, chunked, **httplib_request_kw)\u001b[0m\n\u001b[1;32m    382\u001b[0m                 \u001b[0;32mtry\u001b[0m\u001b[0;34m:\u001b[0m\u001b[0;34m\u001b[0m\u001b[0m\n\u001b[0;32m--> 383\u001b[0;31m                     \u001b[0mhttplib_response\u001b[0m \u001b[0;34m=\u001b[0m \u001b[0mconn\u001b[0m\u001b[0;34m.\u001b[0m\u001b[0mgetresponse\u001b[0m\u001b[0;34m(\u001b[0m\u001b[0;34m)\u001b[0m\u001b[0;34m\u001b[0m\u001b[0m\n\u001b[0m\u001b[1;32m    384\u001b[0m                 \u001b[0;32mexcept\u001b[0m \u001b[0mException\u001b[0m \u001b[0;32mas\u001b[0m \u001b[0me\u001b[0m\u001b[0;34m:\u001b[0m\u001b[0;34m\u001b[0m\u001b[0m\n",
      "\u001b[0;32m~/.pyenv/versions/anaconda3-5.0.1/lib/python3.6/http/client.py\u001b[0m in \u001b[0;36mgetresponse\u001b[0;34m(self)\u001b[0m\n\u001b[1;32m   1330\u001b[0m             \u001b[0;32mtry\u001b[0m\u001b[0;34m:\u001b[0m\u001b[0;34m\u001b[0m\u001b[0m\n\u001b[0;32m-> 1331\u001b[0;31m                 \u001b[0mresponse\u001b[0m\u001b[0;34m.\u001b[0m\u001b[0mbegin\u001b[0m\u001b[0;34m(\u001b[0m\u001b[0;34m)\u001b[0m\u001b[0;34m\u001b[0m\u001b[0m\n\u001b[0m\u001b[1;32m   1332\u001b[0m             \u001b[0;32mexcept\u001b[0m \u001b[0mConnectionError\u001b[0m\u001b[0;34m:\u001b[0m\u001b[0;34m\u001b[0m\u001b[0m\n",
      "\u001b[0;32m~/.pyenv/versions/anaconda3-5.0.1/lib/python3.6/http/client.py\u001b[0m in \u001b[0;36mbegin\u001b[0;34m(self)\u001b[0m\n\u001b[1;32m    296\u001b[0m         \u001b[0;32mwhile\u001b[0m \u001b[0;32mTrue\u001b[0m\u001b[0;34m:\u001b[0m\u001b[0;34m\u001b[0m\u001b[0m\n\u001b[0;32m--> 297\u001b[0;31m             \u001b[0mversion\u001b[0m\u001b[0;34m,\u001b[0m \u001b[0mstatus\u001b[0m\u001b[0;34m,\u001b[0m \u001b[0mreason\u001b[0m \u001b[0;34m=\u001b[0m \u001b[0mself\u001b[0m\u001b[0;34m.\u001b[0m\u001b[0m_read_status\u001b[0m\u001b[0;34m(\u001b[0m\u001b[0;34m)\u001b[0m\u001b[0;34m\u001b[0m\u001b[0m\n\u001b[0m\u001b[1;32m    298\u001b[0m             \u001b[0;32mif\u001b[0m \u001b[0mstatus\u001b[0m \u001b[0;34m!=\u001b[0m \u001b[0mCONTINUE\u001b[0m\u001b[0;34m:\u001b[0m\u001b[0;34m\u001b[0m\u001b[0m\n",
      "\u001b[0;32m~/.pyenv/versions/anaconda3-5.0.1/lib/python3.6/http/client.py\u001b[0m in \u001b[0;36m_read_status\u001b[0;34m(self)\u001b[0m\n\u001b[1;32m    257\u001b[0m     \u001b[0;32mdef\u001b[0m \u001b[0m_read_status\u001b[0m\u001b[0;34m(\u001b[0m\u001b[0mself\u001b[0m\u001b[0;34m)\u001b[0m\u001b[0;34m:\u001b[0m\u001b[0;34m\u001b[0m\u001b[0m\n\u001b[0;32m--> 258\u001b[0;31m         \u001b[0mline\u001b[0m \u001b[0;34m=\u001b[0m \u001b[0mstr\u001b[0m\u001b[0;34m(\u001b[0m\u001b[0mself\u001b[0m\u001b[0;34m.\u001b[0m\u001b[0mfp\u001b[0m\u001b[0;34m.\u001b[0m\u001b[0mreadline\u001b[0m\u001b[0;34m(\u001b[0m\u001b[0m_MAXLINE\u001b[0m \u001b[0;34m+\u001b[0m \u001b[0;36m1\u001b[0m\u001b[0;34m)\u001b[0m\u001b[0;34m,\u001b[0m \u001b[0;34m\"iso-8859-1\"\u001b[0m\u001b[0;34m)\u001b[0m\u001b[0;34m\u001b[0m\u001b[0m\n\u001b[0m\u001b[1;32m    259\u001b[0m         \u001b[0;32mif\u001b[0m \u001b[0mlen\u001b[0m\u001b[0;34m(\u001b[0m\u001b[0mline\u001b[0m\u001b[0;34m)\u001b[0m \u001b[0;34m>\u001b[0m \u001b[0m_MAXLINE\u001b[0m\u001b[0;34m:\u001b[0m\u001b[0;34m\u001b[0m\u001b[0m\n",
      "\u001b[0;32m~/.pyenv/versions/anaconda3-5.0.1/lib/python3.6/socket.py\u001b[0m in \u001b[0;36mreadinto\u001b[0;34m(self, b)\u001b[0m\n\u001b[1;32m    585\u001b[0m             \u001b[0;32mtry\u001b[0m\u001b[0;34m:\u001b[0m\u001b[0;34m\u001b[0m\u001b[0m\n\u001b[0;32m--> 586\u001b[0;31m                 \u001b[0;32mreturn\u001b[0m \u001b[0mself\u001b[0m\u001b[0;34m.\u001b[0m\u001b[0m_sock\u001b[0m\u001b[0;34m.\u001b[0m\u001b[0mrecv_into\u001b[0m\u001b[0;34m(\u001b[0m\u001b[0mb\u001b[0m\u001b[0;34m)\u001b[0m\u001b[0;34m\u001b[0m\u001b[0m\n\u001b[0m\u001b[1;32m    587\u001b[0m             \u001b[0;32mexcept\u001b[0m \u001b[0mtimeout\u001b[0m\u001b[0;34m:\u001b[0m\u001b[0;34m\u001b[0m\u001b[0m\n",
      "\u001b[0;32m~/.pyenv/versions/anaconda3-5.0.1/lib/python3.6/site-packages/urllib3/contrib/pyopenssl.py\u001b[0m in \u001b[0;36mrecv_into\u001b[0;34m(self, *args, **kwargs)\u001b[0m\n\u001b[1;32m    284\u001b[0m             \u001b[0;32melse\u001b[0m\u001b[0;34m:\u001b[0m\u001b[0;34m\u001b[0m\u001b[0m\n\u001b[0;32m--> 285\u001b[0;31m                 \u001b[0;32mraise\u001b[0m \u001b[0mSocketError\u001b[0m\u001b[0;34m(\u001b[0m\u001b[0mstr\u001b[0m\u001b[0;34m(\u001b[0m\u001b[0me\u001b[0m\u001b[0;34m)\u001b[0m\u001b[0;34m)\u001b[0m\u001b[0;34m\u001b[0m\u001b[0m\n\u001b[0m\u001b[1;32m    286\u001b[0m         \u001b[0;32mexcept\u001b[0m \u001b[0mOpenSSL\u001b[0m\u001b[0;34m.\u001b[0m\u001b[0mSSL\u001b[0m\u001b[0;34m.\u001b[0m\u001b[0mZeroReturnError\u001b[0m \u001b[0;32mas\u001b[0m \u001b[0me\u001b[0m\u001b[0;34m:\u001b[0m\u001b[0;34m\u001b[0m\u001b[0m\n",
      "\u001b[0;31mProtocolError\u001b[0m: ('Connection aborted.', OSError(\"(104, 'ECONNRESET')\",))",
      "\nDuring handling of the above exception, another exception occurred:\n",
      "\u001b[0;31mConnectionError\u001b[0m                           Traceback (most recent call last)",
      "\u001b[0;32m<ipython-input-2-822a3344b433>\u001b[0m in \u001b[0;36m<module>\u001b[0;34m()\u001b[0m\n\u001b[0;32m----> 1\u001b[0;31m \u001b[0mrequests\u001b[0m\u001b[0;34m.\u001b[0m\u001b[0mget\u001b[0m\u001b[0;34m(\u001b[0m\u001b[0;34m\"https://www.yes123.com.tw/admin/job_refer_comp_job_detail2.asp?p_id=6620098_86519539&job_id=20170410120933_6387899\"\u001b[0m\u001b[0;34m)\u001b[0m\u001b[0;34m\u001b[0m\u001b[0m\n\u001b[0m",
      "\u001b[0;32m~/.pyenv/versions/anaconda3-5.0.1/lib/python3.6/site-packages/requests/api.py\u001b[0m in \u001b[0;36mget\u001b[0;34m(url, params, **kwargs)\u001b[0m\n\u001b[1;32m     70\u001b[0m \u001b[0;34m\u001b[0m\u001b[0m\n\u001b[1;32m     71\u001b[0m     \u001b[0mkwargs\u001b[0m\u001b[0;34m.\u001b[0m\u001b[0msetdefault\u001b[0m\u001b[0;34m(\u001b[0m\u001b[0;34m'allow_redirects'\u001b[0m\u001b[0;34m,\u001b[0m \u001b[0;32mTrue\u001b[0m\u001b[0;34m)\u001b[0m\u001b[0;34m\u001b[0m\u001b[0m\n\u001b[0;32m---> 72\u001b[0;31m     \u001b[0;32mreturn\u001b[0m \u001b[0mrequest\u001b[0m\u001b[0;34m(\u001b[0m\u001b[0;34m'get'\u001b[0m\u001b[0;34m,\u001b[0m \u001b[0murl\u001b[0m\u001b[0;34m,\u001b[0m \u001b[0mparams\u001b[0m\u001b[0;34m=\u001b[0m\u001b[0mparams\u001b[0m\u001b[0;34m,\u001b[0m \u001b[0;34m**\u001b[0m\u001b[0mkwargs\u001b[0m\u001b[0;34m)\u001b[0m\u001b[0;34m\u001b[0m\u001b[0m\n\u001b[0m\u001b[1;32m     73\u001b[0m \u001b[0;34m\u001b[0m\u001b[0m\n\u001b[1;32m     74\u001b[0m \u001b[0;34m\u001b[0m\u001b[0m\n",
      "\u001b[0;32m~/.pyenv/versions/anaconda3-5.0.1/lib/python3.6/site-packages/requests/api.py\u001b[0m in \u001b[0;36mrequest\u001b[0;34m(method, url, **kwargs)\u001b[0m\n\u001b[1;32m     56\u001b[0m     \u001b[0;31m# cases, and look like a memory leak in others.\u001b[0m\u001b[0;34m\u001b[0m\u001b[0;34m\u001b[0m\u001b[0m\n\u001b[1;32m     57\u001b[0m     \u001b[0;32mwith\u001b[0m \u001b[0msessions\u001b[0m\u001b[0;34m.\u001b[0m\u001b[0mSession\u001b[0m\u001b[0;34m(\u001b[0m\u001b[0;34m)\u001b[0m \u001b[0;32mas\u001b[0m \u001b[0msession\u001b[0m\u001b[0;34m:\u001b[0m\u001b[0;34m\u001b[0m\u001b[0m\n\u001b[0;32m---> 58\u001b[0;31m         \u001b[0;32mreturn\u001b[0m \u001b[0msession\u001b[0m\u001b[0;34m.\u001b[0m\u001b[0mrequest\u001b[0m\u001b[0;34m(\u001b[0m\u001b[0mmethod\u001b[0m\u001b[0;34m=\u001b[0m\u001b[0mmethod\u001b[0m\u001b[0;34m,\u001b[0m \u001b[0murl\u001b[0m\u001b[0;34m=\u001b[0m\u001b[0murl\u001b[0m\u001b[0;34m,\u001b[0m \u001b[0;34m**\u001b[0m\u001b[0mkwargs\u001b[0m\u001b[0;34m)\u001b[0m\u001b[0;34m\u001b[0m\u001b[0m\n\u001b[0m\u001b[1;32m     59\u001b[0m \u001b[0;34m\u001b[0m\u001b[0m\n\u001b[1;32m     60\u001b[0m \u001b[0;34m\u001b[0m\u001b[0m\n",
      "\u001b[0;32m~/.pyenv/versions/anaconda3-5.0.1/lib/python3.6/site-packages/requests/sessions.py\u001b[0m in \u001b[0;36mrequest\u001b[0;34m(self, method, url, params, data, headers, cookies, files, auth, timeout, allow_redirects, proxies, hooks, stream, verify, cert, json)\u001b[0m\n\u001b[1;32m    506\u001b[0m         }\n\u001b[1;32m    507\u001b[0m         \u001b[0msend_kwargs\u001b[0m\u001b[0;34m.\u001b[0m\u001b[0mupdate\u001b[0m\u001b[0;34m(\u001b[0m\u001b[0msettings\u001b[0m\u001b[0;34m)\u001b[0m\u001b[0;34m\u001b[0m\u001b[0m\n\u001b[0;32m--> 508\u001b[0;31m         \u001b[0mresp\u001b[0m \u001b[0;34m=\u001b[0m \u001b[0mself\u001b[0m\u001b[0;34m.\u001b[0m\u001b[0msend\u001b[0m\u001b[0;34m(\u001b[0m\u001b[0mprep\u001b[0m\u001b[0;34m,\u001b[0m \u001b[0;34m**\u001b[0m\u001b[0msend_kwargs\u001b[0m\u001b[0;34m)\u001b[0m\u001b[0;34m\u001b[0m\u001b[0m\n\u001b[0m\u001b[1;32m    509\u001b[0m \u001b[0;34m\u001b[0m\u001b[0m\n\u001b[1;32m    510\u001b[0m         \u001b[0;32mreturn\u001b[0m \u001b[0mresp\u001b[0m\u001b[0;34m\u001b[0m\u001b[0m\n",
      "\u001b[0;32m~/.pyenv/versions/anaconda3-5.0.1/lib/python3.6/site-packages/requests/sessions.py\u001b[0m in \u001b[0;36msend\u001b[0;34m(self, request, **kwargs)\u001b[0m\n\u001b[1;32m    616\u001b[0m \u001b[0;34m\u001b[0m\u001b[0m\n\u001b[1;32m    617\u001b[0m         \u001b[0;31m# Send the request\u001b[0m\u001b[0;34m\u001b[0m\u001b[0;34m\u001b[0m\u001b[0m\n\u001b[0;32m--> 618\u001b[0;31m         \u001b[0mr\u001b[0m \u001b[0;34m=\u001b[0m \u001b[0madapter\u001b[0m\u001b[0;34m.\u001b[0m\u001b[0msend\u001b[0m\u001b[0;34m(\u001b[0m\u001b[0mrequest\u001b[0m\u001b[0;34m,\u001b[0m \u001b[0;34m**\u001b[0m\u001b[0mkwargs\u001b[0m\u001b[0;34m)\u001b[0m\u001b[0;34m\u001b[0m\u001b[0m\n\u001b[0m\u001b[1;32m    619\u001b[0m \u001b[0;34m\u001b[0m\u001b[0m\n\u001b[1;32m    620\u001b[0m         \u001b[0;31m# Total elapsed time of the request (approximately)\u001b[0m\u001b[0;34m\u001b[0m\u001b[0;34m\u001b[0m\u001b[0m\n",
      "\u001b[0;32m~/.pyenv/versions/anaconda3-5.0.1/lib/python3.6/site-packages/requests/adapters.py\u001b[0m in \u001b[0;36msend\u001b[0;34m(self, request, stream, timeout, verify, cert, proxies)\u001b[0m\n\u001b[1;32m    488\u001b[0m \u001b[0;34m\u001b[0m\u001b[0m\n\u001b[1;32m    489\u001b[0m         \u001b[0;32mexcept\u001b[0m \u001b[0;34m(\u001b[0m\u001b[0mProtocolError\u001b[0m\u001b[0;34m,\u001b[0m \u001b[0msocket\u001b[0m\u001b[0;34m.\u001b[0m\u001b[0merror\u001b[0m\u001b[0;34m)\u001b[0m \u001b[0;32mas\u001b[0m \u001b[0merr\u001b[0m\u001b[0;34m:\u001b[0m\u001b[0;34m\u001b[0m\u001b[0m\n\u001b[0;32m--> 490\u001b[0;31m             \u001b[0;32mraise\u001b[0m \u001b[0mConnectionError\u001b[0m\u001b[0;34m(\u001b[0m\u001b[0merr\u001b[0m\u001b[0;34m,\u001b[0m \u001b[0mrequest\u001b[0m\u001b[0;34m=\u001b[0m\u001b[0mrequest\u001b[0m\u001b[0;34m)\u001b[0m\u001b[0;34m\u001b[0m\u001b[0m\n\u001b[0m\u001b[1;32m    491\u001b[0m \u001b[0;34m\u001b[0m\u001b[0m\n\u001b[1;32m    492\u001b[0m         \u001b[0;32mexcept\u001b[0m \u001b[0mMaxRetryError\u001b[0m \u001b[0;32mas\u001b[0m \u001b[0me\u001b[0m\u001b[0;34m:\u001b[0m\u001b[0;34m\u001b[0m\u001b[0m\n",
      "\u001b[0;31mConnectionError\u001b[0m: ('Connection aborted.', OSError(\"(104, 'ECONNRESET')\",))"
     ]
    }
   ],
   "source": [
    "requests.get(\"https://www.yes123.com.tw/admin/job_refer_comp_job_detail2.asp?p_id=6620098_86519539&job_id=20170410120933_6387899\")"
   ]
  },
  {
   "cell_type": "code",
   "execution_count": null,
   "metadata": {
    "collapsed": true
   },
   "outputs": [],
   "source": []
  }
 ],
 "metadata": {
  "kernelspec": {
   "display_name": "Python 3",
   "language": "python",
   "name": "python3"
  },
  "language_info": {
   "codemirror_mode": {
    "name": "ipython",
    "version": 3
   },
   "file_extension": ".py",
   "mimetype": "text/x-python",
   "name": "python",
   "nbconvert_exporter": "python",
   "pygments_lexer": "ipython3",
   "version": "3.6.3"
  }
 },
 "nbformat": 4,
 "nbformat_minor": 2
}
